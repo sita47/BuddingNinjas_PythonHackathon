{
 "cells": [
  {
   "cell_type": "code",
   "execution_count": 24,
   "id": "768d69d2",
   "metadata": {},
   "outputs": [],
   "source": [
    "#import\n",
    "import numpy as np\n",
    "import pandas as pd\n",
    "import seaborn as sns\n",
    "import matplotlib.pyplot as plt "
   ]
  },
  {
   "cell_type": "markdown",
   "id": "50b482f2",
   "metadata": {},
   "source": [
    "df=Patients\n",
    "df1=Discharges\n",
    "df2=EDVisits\n",
    "df3=ReAdmissionRegistry"
   ]
  },
  {
   "cell_type": "markdown",
   "id": "617936ba",
   "metadata": {},
   "source": [
    "### 1.  Make a pair plot on Readmission Registry table & do u see any correlation between columns values"
   ]
  },
  {
   "cell_type": "code",
   "execution_count": 19,
   "id": "1970f1ae",
   "metadata": {},
   "outputs": [
    {
     "ename": "FileNotFoundError",
     "evalue": "[Errno 2] No such file or directory: 'HospitalDatabase.xlsx'",
     "output_type": "error",
     "traceback": [
      "\u001b[1;31m---------------------------------------------------------------------------\u001b[0m",
      "\u001b[1;31mFileNotFoundError\u001b[0m                         Traceback (most recent call last)",
      "\u001b[1;32m~\\AppData\\Local\\Temp/ipykernel_17840/1074241321.py\u001b[0m in \u001b[0;36m<module>\u001b[1;34m\u001b[0m\n\u001b[0;32m      1\u001b[0m \u001b[1;31m#Reading the data\u001b[0m\u001b[1;33m\u001b[0m\u001b[1;33m\u001b[0m\u001b[0m\n\u001b[1;32m----> 2\u001b[1;33m \u001b[0mdf3\u001b[0m\u001b[1;33m=\u001b[0m\u001b[0mpd\u001b[0m\u001b[1;33m.\u001b[0m\u001b[0mread_excel\u001b[0m\u001b[1;33m(\u001b[0m\u001b[1;34m\"HospitalDatabase.xlsx\"\u001b[0m\u001b[1;33m,\u001b[0m\u001b[1;34m\"ReAdmissionRegistry\"\u001b[0m\u001b[1;33m)\u001b[0m\u001b[1;33m\u001b[0m\u001b[1;33m\u001b[0m\u001b[0m\n\u001b[0m\u001b[0;32m      3\u001b[0m \u001b[0mdf3\u001b[0m\u001b[1;33m\u001b[0m\u001b[1;33m\u001b[0m\u001b[0m\n",
      "\u001b[1;32m~\\anaconda3\\lib\\site-packages\\pandas\\util\\_decorators.py\u001b[0m in \u001b[0;36mwrapper\u001b[1;34m(*args, **kwargs)\u001b[0m\n\u001b[0;32m    309\u001b[0m                     \u001b[0mstacklevel\u001b[0m\u001b[1;33m=\u001b[0m\u001b[0mstacklevel\u001b[0m\u001b[1;33m,\u001b[0m\u001b[1;33m\u001b[0m\u001b[1;33m\u001b[0m\u001b[0m\n\u001b[0;32m    310\u001b[0m                 )\n\u001b[1;32m--> 311\u001b[1;33m             \u001b[1;32mreturn\u001b[0m \u001b[0mfunc\u001b[0m\u001b[1;33m(\u001b[0m\u001b[1;33m*\u001b[0m\u001b[0margs\u001b[0m\u001b[1;33m,\u001b[0m \u001b[1;33m**\u001b[0m\u001b[0mkwargs\u001b[0m\u001b[1;33m)\u001b[0m\u001b[1;33m\u001b[0m\u001b[1;33m\u001b[0m\u001b[0m\n\u001b[0m\u001b[0;32m    312\u001b[0m \u001b[1;33m\u001b[0m\u001b[0m\n\u001b[0;32m    313\u001b[0m         \u001b[1;32mreturn\u001b[0m \u001b[0mwrapper\u001b[0m\u001b[1;33m\u001b[0m\u001b[1;33m\u001b[0m\u001b[0m\n",
      "\u001b[1;32m~\\anaconda3\\lib\\site-packages\\pandas\\io\\excel\\_base.py\u001b[0m in \u001b[0;36mread_excel\u001b[1;34m(io, sheet_name, header, names, index_col, usecols, squeeze, dtype, engine, converters, true_values, false_values, skiprows, nrows, na_values, keep_default_na, na_filter, verbose, parse_dates, date_parser, thousands, comment, skipfooter, convert_float, mangle_dupe_cols, storage_options)\u001b[0m\n\u001b[0;32m    362\u001b[0m     \u001b[1;32mif\u001b[0m \u001b[1;32mnot\u001b[0m \u001b[0misinstance\u001b[0m\u001b[1;33m(\u001b[0m\u001b[0mio\u001b[0m\u001b[1;33m,\u001b[0m \u001b[0mExcelFile\u001b[0m\u001b[1;33m)\u001b[0m\u001b[1;33m:\u001b[0m\u001b[1;33m\u001b[0m\u001b[1;33m\u001b[0m\u001b[0m\n\u001b[0;32m    363\u001b[0m         \u001b[0mshould_close\u001b[0m \u001b[1;33m=\u001b[0m \u001b[1;32mTrue\u001b[0m\u001b[1;33m\u001b[0m\u001b[1;33m\u001b[0m\u001b[0m\n\u001b[1;32m--> 364\u001b[1;33m         \u001b[0mio\u001b[0m \u001b[1;33m=\u001b[0m \u001b[0mExcelFile\u001b[0m\u001b[1;33m(\u001b[0m\u001b[0mio\u001b[0m\u001b[1;33m,\u001b[0m \u001b[0mstorage_options\u001b[0m\u001b[1;33m=\u001b[0m\u001b[0mstorage_options\u001b[0m\u001b[1;33m,\u001b[0m \u001b[0mengine\u001b[0m\u001b[1;33m=\u001b[0m\u001b[0mengine\u001b[0m\u001b[1;33m)\u001b[0m\u001b[1;33m\u001b[0m\u001b[1;33m\u001b[0m\u001b[0m\n\u001b[0m\u001b[0;32m    365\u001b[0m     \u001b[1;32melif\u001b[0m \u001b[0mengine\u001b[0m \u001b[1;32mand\u001b[0m \u001b[0mengine\u001b[0m \u001b[1;33m!=\u001b[0m \u001b[0mio\u001b[0m\u001b[1;33m.\u001b[0m\u001b[0mengine\u001b[0m\u001b[1;33m:\u001b[0m\u001b[1;33m\u001b[0m\u001b[1;33m\u001b[0m\u001b[0m\n\u001b[0;32m    366\u001b[0m         raise ValueError(\n",
      "\u001b[1;32m~\\anaconda3\\lib\\site-packages\\pandas\\io\\excel\\_base.py\u001b[0m in \u001b[0;36m__init__\u001b[1;34m(self, path_or_buffer, engine, storage_options)\u001b[0m\n\u001b[0;32m   1189\u001b[0m                 \u001b[0mext\u001b[0m \u001b[1;33m=\u001b[0m \u001b[1;34m\"xls\"\u001b[0m\u001b[1;33m\u001b[0m\u001b[1;33m\u001b[0m\u001b[0m\n\u001b[0;32m   1190\u001b[0m             \u001b[1;32melse\u001b[0m\u001b[1;33m:\u001b[0m\u001b[1;33m\u001b[0m\u001b[1;33m\u001b[0m\u001b[0m\n\u001b[1;32m-> 1191\u001b[1;33m                 ext = inspect_excel_format(\n\u001b[0m\u001b[0;32m   1192\u001b[0m                     \u001b[0mcontent_or_path\u001b[0m\u001b[1;33m=\u001b[0m\u001b[0mpath_or_buffer\u001b[0m\u001b[1;33m,\u001b[0m \u001b[0mstorage_options\u001b[0m\u001b[1;33m=\u001b[0m\u001b[0mstorage_options\u001b[0m\u001b[1;33m\u001b[0m\u001b[1;33m\u001b[0m\u001b[0m\n\u001b[0;32m   1193\u001b[0m                 )\n",
      "\u001b[1;32m~\\anaconda3\\lib\\site-packages\\pandas\\io\\excel\\_base.py\u001b[0m in \u001b[0;36minspect_excel_format\u001b[1;34m(content_or_path, storage_options)\u001b[0m\n\u001b[0;32m   1068\u001b[0m         \u001b[0mcontent_or_path\u001b[0m \u001b[1;33m=\u001b[0m \u001b[0mBytesIO\u001b[0m\u001b[1;33m(\u001b[0m\u001b[0mcontent_or_path\u001b[0m\u001b[1;33m)\u001b[0m\u001b[1;33m\u001b[0m\u001b[1;33m\u001b[0m\u001b[0m\n\u001b[0;32m   1069\u001b[0m \u001b[1;33m\u001b[0m\u001b[0m\n\u001b[1;32m-> 1070\u001b[1;33m     with get_handle(\n\u001b[0m\u001b[0;32m   1071\u001b[0m         \u001b[0mcontent_or_path\u001b[0m\u001b[1;33m,\u001b[0m \u001b[1;34m\"rb\"\u001b[0m\u001b[1;33m,\u001b[0m \u001b[0mstorage_options\u001b[0m\u001b[1;33m=\u001b[0m\u001b[0mstorage_options\u001b[0m\u001b[1;33m,\u001b[0m \u001b[0mis_text\u001b[0m\u001b[1;33m=\u001b[0m\u001b[1;32mFalse\u001b[0m\u001b[1;33m\u001b[0m\u001b[1;33m\u001b[0m\u001b[0m\n\u001b[0;32m   1072\u001b[0m     ) as handle:\n",
      "\u001b[1;32m~\\anaconda3\\lib\\site-packages\\pandas\\io\\common.py\u001b[0m in \u001b[0;36mget_handle\u001b[1;34m(path_or_buf, mode, encoding, compression, memory_map, is_text, errors, storage_options)\u001b[0m\n\u001b[0;32m    709\u001b[0m         \u001b[1;32melse\u001b[0m\u001b[1;33m:\u001b[0m\u001b[1;33m\u001b[0m\u001b[1;33m\u001b[0m\u001b[0m\n\u001b[0;32m    710\u001b[0m             \u001b[1;31m# Binary mode\u001b[0m\u001b[1;33m\u001b[0m\u001b[1;33m\u001b[0m\u001b[0m\n\u001b[1;32m--> 711\u001b[1;33m             \u001b[0mhandle\u001b[0m \u001b[1;33m=\u001b[0m \u001b[0mopen\u001b[0m\u001b[1;33m(\u001b[0m\u001b[0mhandle\u001b[0m\u001b[1;33m,\u001b[0m \u001b[0mioargs\u001b[0m\u001b[1;33m.\u001b[0m\u001b[0mmode\u001b[0m\u001b[1;33m)\u001b[0m\u001b[1;33m\u001b[0m\u001b[1;33m\u001b[0m\u001b[0m\n\u001b[0m\u001b[0;32m    712\u001b[0m         \u001b[0mhandles\u001b[0m\u001b[1;33m.\u001b[0m\u001b[0mappend\u001b[0m\u001b[1;33m(\u001b[0m\u001b[0mhandle\u001b[0m\u001b[1;33m)\u001b[0m\u001b[1;33m\u001b[0m\u001b[1;33m\u001b[0m\u001b[0m\n\u001b[0;32m    713\u001b[0m \u001b[1;33m\u001b[0m\u001b[0m\n",
      "\u001b[1;31mFileNotFoundError\u001b[0m: [Errno 2] No such file or directory: 'HospitalDatabase.xlsx'"
     ]
    }
   ],
   "source": [
    "#Reading the data\n",
    "df3=pd.read_excel(\"HospitalDatabase.xlsx\",\"ReAdmissionRegistry\")\n",
    "df3"
   ]
  },
  {
   "cell_type": "code",
   "execution_count": 20,
   "id": "d6b429b9",
   "metadata": {},
   "outputs": [
    {
     "ename": "NameError",
     "evalue": "name 'df3' is not defined",
     "output_type": "error",
     "traceback": [
      "\u001b[1;31m---------------------------------------------------------------------------\u001b[0m",
      "\u001b[1;31mNameError\u001b[0m                                 Traceback (most recent call last)",
      "\u001b[1;32m~\\AppData\\Local\\Temp/ipykernel_17840/997843215.py\u001b[0m in \u001b[0;36m<module>\u001b[1;34m\u001b[0m\n\u001b[1;32m----> 1\u001b[1;33m \u001b[0mdf3\u001b[0m\u001b[1;33m.\u001b[0m\u001b[0minfo\u001b[0m\u001b[1;33m(\u001b[0m\u001b[1;33m)\u001b[0m\u001b[1;33m\u001b[0m\u001b[1;33m\u001b[0m\u001b[0m\n\u001b[0m",
      "\u001b[1;31mNameError\u001b[0m: name 'df3' is not defined"
     ]
    }
   ],
   "source": [
    "df3.info()"
   ]
  },
  {
   "cell_type": "code",
   "execution_count": 21,
   "id": "1b8e56d8",
   "metadata": {},
   "outputs": [],
   "source": [
    "#  df3['AdmissionID'] = df3['AdmissionID'].astype('object')\n"
   ]
  },
  {
   "cell_type": "code",
   "execution_count": 22,
   "id": "b8d9b8c3",
   "metadata": {},
   "outputs": [
    {
     "ename": "NameError",
     "evalue": "name 'df3' is not defined",
     "output_type": "error",
     "traceback": [
      "\u001b[1;31m---------------------------------------------------------------------------\u001b[0m",
      "\u001b[1;31mNameError\u001b[0m                                 Traceback (most recent call last)",
      "\u001b[1;32m~\\AppData\\Local\\Temp/ipykernel_17840/408043955.py\u001b[0m in \u001b[0;36m<module>\u001b[1;34m\u001b[0m\n\u001b[1;32m----> 1\u001b[1;33m \u001b[0msns\u001b[0m\u001b[1;33m.\u001b[0m\u001b[0mpairplot\u001b[0m\u001b[1;33m(\u001b[0m\u001b[0mdf3\u001b[0m\u001b[1;33m)\u001b[0m\u001b[1;33m\u001b[0m\u001b[1;33m\u001b[0m\u001b[0m\n\u001b[0m",
      "\u001b[1;31mNameError\u001b[0m: name 'df3' is not defined"
     ]
    }
   ],
   "source": [
    "sns.pairplot(df3)"
   ]
  },
  {
   "cell_type": "code",
   "execution_count": 23,
   "id": "a64bffb9",
   "metadata": {},
   "outputs": [
    {
     "ename": "NameError",
     "evalue": "name 'df3' is not defined",
     "output_type": "error",
     "traceback": [
      "\u001b[1;31m---------------------------------------------------------------------------\u001b[0m",
      "\u001b[1;31mNameError\u001b[0m                                 Traceback (most recent call last)",
      "\u001b[1;32m~\\AppData\\Local\\Temp/ipykernel_17840/3136175663.py\u001b[0m in \u001b[0;36m<module>\u001b[1;34m\u001b[0m\n\u001b[1;32m----> 1\u001b[1;33m \u001b[0mdf3\u001b[0m\u001b[1;33m.\u001b[0m\u001b[0mcorr\u001b[0m\u001b[1;33m(\u001b[0m\u001b[1;33m)\u001b[0m\u001b[1;33m\u001b[0m\u001b[1;33m\u001b[0m\u001b[0m\n\u001b[0m",
      "\u001b[1;31mNameError\u001b[0m: name 'df3' is not defined"
     ]
    }
   ],
   "source": [
    "df3.corr()"
   ]
  },
  {
   "cell_type": "code",
   "execution_count": 15,
   "id": "71fa390b",
   "metadata": {},
   "outputs": [
    {
     "ename": "FileNotFoundError",
     "evalue": "[Errno 2] No such file or directory: 'HospitalDatabase.xlsx'",
     "output_type": "error",
     "traceback": [
      "\u001b[1;31m---------------------------------------------------------------------------\u001b[0m",
      "\u001b[1;31mFileNotFoundError\u001b[0m                         Traceback (most recent call last)",
      "\u001b[1;32m~\\AppData\\Local\\Temp/ipykernel_17840/3239414959.py\u001b[0m in \u001b[0;36m<module>\u001b[1;34m\u001b[0m\n\u001b[0;32m      1\u001b[0m \u001b[1;31m#Reading the Patients data sheet\u001b[0m\u001b[1;33m\u001b[0m\u001b[1;33m\u001b[0m\u001b[0m\n\u001b[1;32m----> 2\u001b[1;33m \u001b[0mdf\u001b[0m\u001b[1;33m=\u001b[0m\u001b[0mpd\u001b[0m\u001b[1;33m.\u001b[0m\u001b[0mread_excel\u001b[0m\u001b[1;33m(\u001b[0m\u001b[1;34m\"HospitalDatabase.xlsx\"\u001b[0m\u001b[1;33m,\u001b[0m\u001b[1;34m\"Patients\"\u001b[0m\u001b[1;33m)\u001b[0m\u001b[1;33m\u001b[0m\u001b[1;33m\u001b[0m\u001b[0m\n\u001b[0m\u001b[0;32m      3\u001b[0m \u001b[0mdf\u001b[0m\u001b[1;33m\u001b[0m\u001b[1;33m\u001b[0m\u001b[0m\n",
      "\u001b[1;32m~\\anaconda3\\lib\\site-packages\\pandas\\util\\_decorators.py\u001b[0m in \u001b[0;36mwrapper\u001b[1;34m(*args, **kwargs)\u001b[0m\n\u001b[0;32m    309\u001b[0m                     \u001b[0mstacklevel\u001b[0m\u001b[1;33m=\u001b[0m\u001b[0mstacklevel\u001b[0m\u001b[1;33m,\u001b[0m\u001b[1;33m\u001b[0m\u001b[1;33m\u001b[0m\u001b[0m\n\u001b[0;32m    310\u001b[0m                 )\n\u001b[1;32m--> 311\u001b[1;33m             \u001b[1;32mreturn\u001b[0m \u001b[0mfunc\u001b[0m\u001b[1;33m(\u001b[0m\u001b[1;33m*\u001b[0m\u001b[0margs\u001b[0m\u001b[1;33m,\u001b[0m \u001b[1;33m**\u001b[0m\u001b[0mkwargs\u001b[0m\u001b[1;33m)\u001b[0m\u001b[1;33m\u001b[0m\u001b[1;33m\u001b[0m\u001b[0m\n\u001b[0m\u001b[0;32m    312\u001b[0m \u001b[1;33m\u001b[0m\u001b[0m\n\u001b[0;32m    313\u001b[0m         \u001b[1;32mreturn\u001b[0m \u001b[0mwrapper\u001b[0m\u001b[1;33m\u001b[0m\u001b[1;33m\u001b[0m\u001b[0m\n",
      "\u001b[1;32m~\\anaconda3\\lib\\site-packages\\pandas\\io\\excel\\_base.py\u001b[0m in \u001b[0;36mread_excel\u001b[1;34m(io, sheet_name, header, names, index_col, usecols, squeeze, dtype, engine, converters, true_values, false_values, skiprows, nrows, na_values, keep_default_na, na_filter, verbose, parse_dates, date_parser, thousands, comment, skipfooter, convert_float, mangle_dupe_cols, storage_options)\u001b[0m\n\u001b[0;32m    362\u001b[0m     \u001b[1;32mif\u001b[0m \u001b[1;32mnot\u001b[0m \u001b[0misinstance\u001b[0m\u001b[1;33m(\u001b[0m\u001b[0mio\u001b[0m\u001b[1;33m,\u001b[0m \u001b[0mExcelFile\u001b[0m\u001b[1;33m)\u001b[0m\u001b[1;33m:\u001b[0m\u001b[1;33m\u001b[0m\u001b[1;33m\u001b[0m\u001b[0m\n\u001b[0;32m    363\u001b[0m         \u001b[0mshould_close\u001b[0m \u001b[1;33m=\u001b[0m \u001b[1;32mTrue\u001b[0m\u001b[1;33m\u001b[0m\u001b[1;33m\u001b[0m\u001b[0m\n\u001b[1;32m--> 364\u001b[1;33m         \u001b[0mio\u001b[0m \u001b[1;33m=\u001b[0m \u001b[0mExcelFile\u001b[0m\u001b[1;33m(\u001b[0m\u001b[0mio\u001b[0m\u001b[1;33m,\u001b[0m \u001b[0mstorage_options\u001b[0m\u001b[1;33m=\u001b[0m\u001b[0mstorage_options\u001b[0m\u001b[1;33m,\u001b[0m \u001b[0mengine\u001b[0m\u001b[1;33m=\u001b[0m\u001b[0mengine\u001b[0m\u001b[1;33m)\u001b[0m\u001b[1;33m\u001b[0m\u001b[1;33m\u001b[0m\u001b[0m\n\u001b[0m\u001b[0;32m    365\u001b[0m     \u001b[1;32melif\u001b[0m \u001b[0mengine\u001b[0m \u001b[1;32mand\u001b[0m \u001b[0mengine\u001b[0m \u001b[1;33m!=\u001b[0m \u001b[0mio\u001b[0m\u001b[1;33m.\u001b[0m\u001b[0mengine\u001b[0m\u001b[1;33m:\u001b[0m\u001b[1;33m\u001b[0m\u001b[1;33m\u001b[0m\u001b[0m\n\u001b[0;32m    366\u001b[0m         raise ValueError(\n",
      "\u001b[1;32m~\\anaconda3\\lib\\site-packages\\pandas\\io\\excel\\_base.py\u001b[0m in \u001b[0;36m__init__\u001b[1;34m(self, path_or_buffer, engine, storage_options)\u001b[0m\n\u001b[0;32m   1189\u001b[0m                 \u001b[0mext\u001b[0m \u001b[1;33m=\u001b[0m \u001b[1;34m\"xls\"\u001b[0m\u001b[1;33m\u001b[0m\u001b[1;33m\u001b[0m\u001b[0m\n\u001b[0;32m   1190\u001b[0m             \u001b[1;32melse\u001b[0m\u001b[1;33m:\u001b[0m\u001b[1;33m\u001b[0m\u001b[1;33m\u001b[0m\u001b[0m\n\u001b[1;32m-> 1191\u001b[1;33m                 ext = inspect_excel_format(\n\u001b[0m\u001b[0;32m   1192\u001b[0m                     \u001b[0mcontent_or_path\u001b[0m\u001b[1;33m=\u001b[0m\u001b[0mpath_or_buffer\u001b[0m\u001b[1;33m,\u001b[0m \u001b[0mstorage_options\u001b[0m\u001b[1;33m=\u001b[0m\u001b[0mstorage_options\u001b[0m\u001b[1;33m\u001b[0m\u001b[1;33m\u001b[0m\u001b[0m\n\u001b[0;32m   1193\u001b[0m                 )\n",
      "\u001b[1;32m~\\anaconda3\\lib\\site-packages\\pandas\\io\\excel\\_base.py\u001b[0m in \u001b[0;36minspect_excel_format\u001b[1;34m(content_or_path, storage_options)\u001b[0m\n\u001b[0;32m   1068\u001b[0m         \u001b[0mcontent_or_path\u001b[0m \u001b[1;33m=\u001b[0m \u001b[0mBytesIO\u001b[0m\u001b[1;33m(\u001b[0m\u001b[0mcontent_or_path\u001b[0m\u001b[1;33m)\u001b[0m\u001b[1;33m\u001b[0m\u001b[1;33m\u001b[0m\u001b[0m\n\u001b[0;32m   1069\u001b[0m \u001b[1;33m\u001b[0m\u001b[0m\n\u001b[1;32m-> 1070\u001b[1;33m     with get_handle(\n\u001b[0m\u001b[0;32m   1071\u001b[0m         \u001b[0mcontent_or_path\u001b[0m\u001b[1;33m,\u001b[0m \u001b[1;34m\"rb\"\u001b[0m\u001b[1;33m,\u001b[0m \u001b[0mstorage_options\u001b[0m\u001b[1;33m=\u001b[0m\u001b[0mstorage_options\u001b[0m\u001b[1;33m,\u001b[0m \u001b[0mis_text\u001b[0m\u001b[1;33m=\u001b[0m\u001b[1;32mFalse\u001b[0m\u001b[1;33m\u001b[0m\u001b[1;33m\u001b[0m\u001b[0m\n\u001b[0;32m   1072\u001b[0m     ) as handle:\n",
      "\u001b[1;32m~\\anaconda3\\lib\\site-packages\\pandas\\io\\common.py\u001b[0m in \u001b[0;36mget_handle\u001b[1;34m(path_or_buf, mode, encoding, compression, memory_map, is_text, errors, storage_options)\u001b[0m\n\u001b[0;32m    709\u001b[0m         \u001b[1;32melse\u001b[0m\u001b[1;33m:\u001b[0m\u001b[1;33m\u001b[0m\u001b[1;33m\u001b[0m\u001b[0m\n\u001b[0;32m    710\u001b[0m             \u001b[1;31m# Binary mode\u001b[0m\u001b[1;33m\u001b[0m\u001b[1;33m\u001b[0m\u001b[0m\n\u001b[1;32m--> 711\u001b[1;33m             \u001b[0mhandle\u001b[0m \u001b[1;33m=\u001b[0m \u001b[0mopen\u001b[0m\u001b[1;33m(\u001b[0m\u001b[0mhandle\u001b[0m\u001b[1;33m,\u001b[0m \u001b[0mioargs\u001b[0m\u001b[1;33m.\u001b[0m\u001b[0mmode\u001b[0m\u001b[1;33m)\u001b[0m\u001b[1;33m\u001b[0m\u001b[1;33m\u001b[0m\u001b[0m\n\u001b[0m\u001b[0;32m    712\u001b[0m         \u001b[0mhandles\u001b[0m\u001b[1;33m.\u001b[0m\u001b[0mappend\u001b[0m\u001b[1;33m(\u001b[0m\u001b[0mhandle\u001b[0m\u001b[1;33m)\u001b[0m\u001b[1;33m\u001b[0m\u001b[1;33m\u001b[0m\u001b[0m\n\u001b[0;32m    713\u001b[0m \u001b[1;33m\u001b[0m\u001b[0m\n",
      "\u001b[1;31mFileNotFoundError\u001b[0m: [Errno 2] No such file or directory: 'HospitalDatabase.xlsx'"
     ]
    }
   ],
   "source": [
    "#Reading the Patients data sheet\n",
    "df=pd.read_excel(\"HospitalDatabase.xlsx\",\"Patients\")\n",
    "df"
   ]
  },
  {
   "cell_type": "markdown",
   "id": "e60a7446",
   "metadata": {},
   "source": [
    "### 2. Using iloc, retrieve the firstname and lastname of patients between indices 101 and 200\n"
   ]
  },
  {
   "cell_type": "code",
   "execution_count": 32,
   "id": "cdaac66a",
   "metadata": {},
   "outputs": [
    {
     "data": {
      "text/html": [
       "<div>\n",
       "<style scoped>\n",
       "    .dataframe tbody tr th:only-of-type {\n",
       "        vertical-align: middle;\n",
       "    }\n",
       "\n",
       "    .dataframe tbody tr th {\n",
       "        vertical-align: top;\n",
       "    }\n",
       "\n",
       "    .dataframe thead th {\n",
       "        text-align: right;\n",
       "    }\n",
       "</style>\n",
       "<table border=\"1\" class=\"dataframe\">\n",
       "  <thead>\n",
       "    <tr style=\"text-align: right;\">\n",
       "      <th></th>\n",
       "      <th>FirstName</th>\n",
       "      <th>LastName</th>\n",
       "    </tr>\n",
       "  </thead>\n",
       "  <tbody>\n",
       "    <tr>\n",
       "      <th>101</th>\n",
       "      <td>Gipsy</td>\n",
       "      <td>Frankton</td>\n",
       "    </tr>\n",
       "    <tr>\n",
       "      <th>102</th>\n",
       "      <td>Jethro</td>\n",
       "      <td>Wharin</td>\n",
       "    </tr>\n",
       "    <tr>\n",
       "      <th>103</th>\n",
       "      <td>Viv</td>\n",
       "      <td>Aylward</td>\n",
       "    </tr>\n",
       "    <tr>\n",
       "      <th>104</th>\n",
       "      <td>Swift</td>\n",
       "      <td>Dreschler</td>\n",
       "    </tr>\n",
       "    <tr>\n",
       "      <th>105</th>\n",
       "      <td>Fadel</td>\n",
       "      <td>Jacquemard</td>\n",
       "    </tr>\n",
       "    <tr>\n",
       "      <th>...</th>\n",
       "      <td>...</td>\n",
       "      <td>...</td>\n",
       "    </tr>\n",
       "    <tr>\n",
       "      <th>195</th>\n",
       "      <td>Cathlene</td>\n",
       "      <td>Kidwell</td>\n",
       "    </tr>\n",
       "    <tr>\n",
       "      <th>196</th>\n",
       "      <td>Noam</td>\n",
       "      <td>Laguerre</td>\n",
       "    </tr>\n",
       "    <tr>\n",
       "      <th>197</th>\n",
       "      <td>Arie</td>\n",
       "      <td>Bayless</td>\n",
       "    </tr>\n",
       "    <tr>\n",
       "      <th>198</th>\n",
       "      <td>Janaye</td>\n",
       "      <td>O'Mohun</td>\n",
       "    </tr>\n",
       "    <tr>\n",
       "      <th>199</th>\n",
       "      <td>Fonz</td>\n",
       "      <td>Group</td>\n",
       "    </tr>\n",
       "  </tbody>\n",
       "</table>\n",
       "<p>99 rows × 2 columns</p>\n",
       "</div>"
      ],
      "text/plain": [
       "    FirstName    LastName\n",
       "101     Gipsy    Frankton\n",
       "102    Jethro      Wharin\n",
       "103       Viv     Aylward\n",
       "104     Swift   Dreschler\n",
       "105     Fadel  Jacquemard\n",
       "..        ...         ...\n",
       "195  Cathlene     Kidwell\n",
       "196      Noam    Laguerre\n",
       "197      Arie     Bayless\n",
       "198    Janaye     O'Mohun\n",
       "199      Fonz       Group\n",
       "\n",
       "[99 rows x 2 columns]"
      ]
     },
     "execution_count": 32,
     "metadata": {},
     "output_type": "execute_result"
    }
   ],
   "source": [
    "df.iloc[101:200,[1,2]]"
   ]
  },
  {
   "cell_type": "code",
   "execution_count": 33,
   "id": "77582630",
   "metadata": {},
   "outputs": [
    {
     "data": {
      "text/html": [
       "<div>\n",
       "<style scoped>\n",
       "    .dataframe tbody tr th:only-of-type {\n",
       "        vertical-align: middle;\n",
       "    }\n",
       "\n",
       "    .dataframe tbody tr th {\n",
       "        vertical-align: top;\n",
       "    }\n",
       "\n",
       "    .dataframe thead th {\n",
       "        text-align: right;\n",
       "    }\n",
       "</style>\n",
       "<table border=\"1\" class=\"dataframe\">\n",
       "  <thead>\n",
       "    <tr style=\"text-align: right;\">\n",
       "      <th></th>\n",
       "      <th>AdmissionID</th>\n",
       "      <th>PatientID</th>\n",
       "      <th>AdmissionDate</th>\n",
       "      <th>DischargeDate</th>\n",
       "      <th>DischargeDisposition</th>\n",
       "      <th>Service</th>\n",
       "      <th>PrimaryDiagnosis</th>\n",
       "      <th>ExpectedLOS</th>\n",
       "      <th>ExpectedMortality</th>\n",
       "    </tr>\n",
       "  </thead>\n",
       "  <tbody>\n",
       "    <tr>\n",
       "      <th>0</th>\n",
       "      <td>1</td>\n",
       "      <td>9</td>\n",
       "      <td>2018-01-01</td>\n",
       "      <td>2018-01-07 18:06:06.408</td>\n",
       "      <td>Expired</td>\n",
       "      <td>Cardiology</td>\n",
       "      <td>AMI</td>\n",
       "      <td>9.646857</td>\n",
       "      <td>0.061540</td>\n",
       "    </tr>\n",
       "    <tr>\n",
       "      <th>1</th>\n",
       "      <td>257</td>\n",
       "      <td>93</td>\n",
       "      <td>2018-01-06</td>\n",
       "      <td>2018-01-18 02:59:04.667</td>\n",
       "      <td>Expired</td>\n",
       "      <td>Cardiology</td>\n",
       "      <td>Broken Leg</td>\n",
       "      <td>6.816558</td>\n",
       "      <td>0.628827</td>\n",
       "    </tr>\n",
       "    <tr>\n",
       "      <th>2</th>\n",
       "      <td>152</td>\n",
       "      <td>101</td>\n",
       "      <td>2018-01-07</td>\n",
       "      <td>2018-01-11 16:16:06.782</td>\n",
       "      <td>Expired</td>\n",
       "      <td>Cardiology</td>\n",
       "      <td>Kidney Failure</td>\n",
       "      <td>6.580273</td>\n",
       "      <td>0.573887</td>\n",
       "    </tr>\n",
       "    <tr>\n",
       "      <th>3</th>\n",
       "      <td>361</td>\n",
       "      <td>102</td>\n",
       "      <td>2018-01-07</td>\n",
       "      <td>2018-01-15 04:48:33.134</td>\n",
       "      <td>Expired</td>\n",
       "      <td>Cardiology</td>\n",
       "      <td>Afib</td>\n",
       "      <td>12.794536</td>\n",
       "      <td>0.222163</td>\n",
       "    </tr>\n",
       "    <tr>\n",
       "      <th>4</th>\n",
       "      <td>258</td>\n",
       "      <td>103</td>\n",
       "      <td>2018-01-07</td>\n",
       "      <td>2018-01-15 13:32:36.157</td>\n",
       "      <td>Expired</td>\n",
       "      <td>Cardiology</td>\n",
       "      <td>Broken Leg</td>\n",
       "      <td>2.639297</td>\n",
       "      <td>0.055468</td>\n",
       "    </tr>\n",
       "    <tr>\n",
       "      <th>...</th>\n",
       "      <td>...</td>\n",
       "      <td>...</td>\n",
       "      <td>...</td>\n",
       "      <td>...</td>\n",
       "      <td>...</td>\n",
       "      <td>...</td>\n",
       "      <td>...</td>\n",
       "      <td>...</td>\n",
       "      <td>...</td>\n",
       "    </tr>\n",
       "    <tr>\n",
       "      <th>715</th>\n",
       "      <td>715</td>\n",
       "      <td>716</td>\n",
       "      <td>2018-02-21</td>\n",
       "      <td>2018-03-06 03:31:05.262</td>\n",
       "      <td>Transfer</td>\n",
       "      <td>ICU</td>\n",
       "      <td>Heart Failure</td>\n",
       "      <td>11.362095</td>\n",
       "      <td>0.370695</td>\n",
       "    </tr>\n",
       "    <tr>\n",
       "      <th>716</th>\n",
       "      <td>698</td>\n",
       "      <td>723</td>\n",
       "      <td>2018-02-22</td>\n",
       "      <td>2018-02-26 15:09:02.584</td>\n",
       "      <td>Transfer</td>\n",
       "      <td>ICU</td>\n",
       "      <td>Heart Failure</td>\n",
       "      <td>10.262312</td>\n",
       "      <td>0.812930</td>\n",
       "    </tr>\n",
       "    <tr>\n",
       "      <th>717</th>\n",
       "      <td>704</td>\n",
       "      <td>724</td>\n",
       "      <td>2018-02-22</td>\n",
       "      <td>2018-02-27 07:59:32.385</td>\n",
       "      <td>Transfer</td>\n",
       "      <td>General Medicine</td>\n",
       "      <td>Pneumonia</td>\n",
       "      <td>6.036234</td>\n",
       "      <td>0.094128</td>\n",
       "    </tr>\n",
       "    <tr>\n",
       "      <th>718</th>\n",
       "      <td>716</td>\n",
       "      <td>733</td>\n",
       "      <td>2018-02-22</td>\n",
       "      <td>2018-03-05 12:31:55.958</td>\n",
       "      <td>Transfer</td>\n",
       "      <td>ICU</td>\n",
       "      <td>Heart Failure</td>\n",
       "      <td>13.323413</td>\n",
       "      <td>0.490892</td>\n",
       "    </tr>\n",
       "    <tr>\n",
       "      <th>719</th>\n",
       "      <td>710</td>\n",
       "      <td>742</td>\n",
       "      <td>2018-02-22</td>\n",
       "      <td>2018-03-10 20:38:30.568</td>\n",
       "      <td>Transfer</td>\n",
       "      <td>General Medicine</td>\n",
       "      <td>Diabetes</td>\n",
       "      <td>7.195441</td>\n",
       "      <td>0.286439</td>\n",
       "    </tr>\n",
       "  </tbody>\n",
       "</table>\n",
       "<p>720 rows × 9 columns</p>\n",
       "</div>"
      ],
      "text/plain": [
       "     AdmissionID  PatientID AdmissionDate           DischargeDate  \\\n",
       "0              1          9    2018-01-01 2018-01-07 18:06:06.408   \n",
       "1            257         93    2018-01-06 2018-01-18 02:59:04.667   \n",
       "2            152        101    2018-01-07 2018-01-11 16:16:06.782   \n",
       "3            361        102    2018-01-07 2018-01-15 04:48:33.134   \n",
       "4            258        103    2018-01-07 2018-01-15 13:32:36.157   \n",
       "..           ...        ...           ...                     ...   \n",
       "715          715        716    2018-02-21 2018-03-06 03:31:05.262   \n",
       "716          698        723    2018-02-22 2018-02-26 15:09:02.584   \n",
       "717          704        724    2018-02-22 2018-02-27 07:59:32.385   \n",
       "718          716        733    2018-02-22 2018-03-05 12:31:55.958   \n",
       "719          710        742    2018-02-22 2018-03-10 20:38:30.568   \n",
       "\n",
       "    DischargeDisposition           Service PrimaryDiagnosis  ExpectedLOS  \\\n",
       "0                Expired        Cardiology              AMI     9.646857   \n",
       "1                Expired        Cardiology       Broken Leg     6.816558   \n",
       "2                Expired        Cardiology   Kidney Failure     6.580273   \n",
       "3                Expired        Cardiology             Afib    12.794536   \n",
       "4                Expired        Cardiology       Broken Leg     2.639297   \n",
       "..                   ...               ...              ...          ...   \n",
       "715             Transfer               ICU    Heart Failure    11.362095   \n",
       "716             Transfer               ICU    Heart Failure    10.262312   \n",
       "717             Transfer  General Medicine        Pneumonia     6.036234   \n",
       "718             Transfer               ICU    Heart Failure    13.323413   \n",
       "719             Transfer  General Medicine         Diabetes     7.195441   \n",
       "\n",
       "     ExpectedMortality  \n",
       "0             0.061540  \n",
       "1             0.628827  \n",
       "2             0.573887  \n",
       "3             0.222163  \n",
       "4             0.055468  \n",
       "..                 ...  \n",
       "715           0.370695  \n",
       "716           0.812930  \n",
       "717           0.094128  \n",
       "718           0.490892  \n",
       "719           0.286439  \n",
       "\n",
       "[720 rows x 9 columns]"
      ]
     },
     "execution_count": 33,
     "metadata": {},
     "output_type": "execute_result"
    }
   ],
   "source": [
    "df1=pd.read_excel(\"HospitalDatabase.xlsx\",\"Discharges\")\n",
    "df1"
   ]
  },
  {
   "cell_type": "markdown",
   "id": "41c3aab9",
   "metadata": {},
   "source": [
    "#  3.Create a figure object called fig using plt.figure() **\n",
    "##    Use add_axes to add an axis to the figure canvas at [0,0,1,1]. Call this new axis ax. **\n",
    "##     Plot (x,y) on that axes and set the labels.\n",
    "##     Note : You can plot on any x,y set of values"
   ]
  },
  {
   "cell_type": "code",
   "execution_count": 34,
   "id": "aef2d71a",
   "metadata": {},
   "outputs": [
    {
     "data": {
      "text/plain": [
       "Text(0.5, 1.0, 'Graph')"
      ]
     },
     "execution_count": 34,
     "metadata": {},
     "output_type": "execute_result"
    },
    {
     "data": {
      "image/png": "[encoded data removed]",
      "text/plain": [
       "<Figure size 432x288 with 1 Axes>"
      ]
     },
     "metadata": {
      "needs_background": "light"
     },
     "output_type": "display_data"
    }
   ],
   "source": [
    "# %matplotlib inline\n",
    "x = range(0, 10)\n",
    "y = range(0, 10)\n",
    "\n",
    "fig=plt.figure()\n",
    "ax=fig.add_axes([0,0,1,1])\n",
    "ax.plot(x,y)\n",
    "\n",
    "ax.set_xlabel(\"x\",fontsize=20)\n",
    "\n",
    "ax.set_ylabel(\"y\",fontsize=20)\n",
    "#ax.set_title('Negative correlation')\n",
    "ax.set_title(\"Graph\")\n",
    "#plt.show()"
   ]
  },
  {
   "cell_type": "markdown",
   "id": "04bb78a5",
   "metadata": {},
   "source": [
    "### 6) Create a jointplot on expected mortality & expected length of stay"
   ]
  },
  {
   "cell_type": "code",
   "execution_count": 35,
   "id": "24aae046",
   "metadata": {},
   "outputs": [
    {
     "data": {
      "text/plain": [
       "<seaborn.axisgrid.JointGrid at 0x29721e1de50>"
      ]
     },
     "execution_count": 35,
     "metadata": {},
     "output_type": "execute_result"
    },
    {
     "data": {
      "image/png": "[encoded data removed]",
      "text/plain": [
       "<Figure size 432x432 with 3 Axes>"
      ]
     },
     "metadata": {
      "needs_background": "light"
     },
     "output_type": "display_data"
    }
   ],
   "source": [
    "sns.jointplot(x='ExpectedMortality' ,y ='ExpectedLOS' ,data=df1)"
   ]
  },
  {
   "cell_type": "code",
   "execution_count": 36,
   "id": "665d9ace",
   "metadata": {},
   "outputs": [
    {
     "data": {
      "text/html": [
       "<div>\n",
       "<style scoped>\n",
       "    .dataframe tbody tr th:only-of-type {\n",
       "        vertical-align: middle;\n",
       "    }\n",
       "\n",
       "    .dataframe tbody tr th {\n",
       "        vertical-align: top;\n",
       "    }\n",
       "\n",
       "    .dataframe thead th {\n",
       "        text-align: right;\n",
       "    }\n",
       "</style>\n",
       "<table border=\"1\" class=\"dataframe\">\n",
       "  <thead>\n",
       "    <tr style=\"text-align: right;\">\n",
       "      <th></th>\n",
       "      <th>EDVisitID</th>\n",
       "      <th>PatientID</th>\n",
       "      <th>VisitDate</th>\n",
       "      <th>EDDischargeTime</th>\n",
       "      <th>Acuity</th>\n",
       "      <th>ReasonForVisit</th>\n",
       "      <th>EDDisposition</th>\n",
       "    </tr>\n",
       "  </thead>\n",
       "  <tbody>\n",
       "    <tr>\n",
       "      <th>0</th>\n",
       "      <td>1</td>\n",
       "      <td>1</td>\n",
       "      <td>2020-01-01 00:00:00.000</td>\n",
       "      <td>2020-01-01 11:20:22.924</td>\n",
       "      <td>1</td>\n",
       "      <td>Stomach Ache</td>\n",
       "      <td>Admitted</td>\n",
       "    </tr>\n",
       "    <tr>\n",
       "      <th>1</th>\n",
       "      <td>12</td>\n",
       "      <td>12</td>\n",
       "      <td>2020-01-01 02:45:40.302</td>\n",
       "      <td>2020-01-02 02:00:00.517</td>\n",
       "      <td>2</td>\n",
       "      <td>Migraine</td>\n",
       "      <td>Admitted</td>\n",
       "    </tr>\n",
       "    <tr>\n",
       "      <th>2</th>\n",
       "      <td>13</td>\n",
       "      <td>13</td>\n",
       "      <td>2020-01-01 03:09:24.701</td>\n",
       "      <td>2020-01-01 05:00:20.852</td>\n",
       "      <td>3</td>\n",
       "      <td>Stomach Ache</td>\n",
       "      <td>Admitted</td>\n",
       "    </tr>\n",
       "    <tr>\n",
       "      <th>3</th>\n",
       "      <td>14</td>\n",
       "      <td>14</td>\n",
       "      <td>2020-01-01 03:12:19.349</td>\n",
       "      <td>2020-01-01 04:32:29.142</td>\n",
       "      <td>3</td>\n",
       "      <td>Migraine</td>\n",
       "      <td>Admitted</td>\n",
       "    </tr>\n",
       "    <tr>\n",
       "      <th>4</th>\n",
       "      <td>15</td>\n",
       "      <td>15</td>\n",
       "      <td>2020-01-01 03:46:32.698</td>\n",
       "      <td>2020-01-01 06:24:52.741</td>\n",
       "      <td>3</td>\n",
       "      <td>Chest Pain</td>\n",
       "      <td>Admitted</td>\n",
       "    </tr>\n",
       "    <tr>\n",
       "      <th>...</th>\n",
       "      <td>...</td>\n",
       "      <td>...</td>\n",
       "      <td>...</td>\n",
       "      <td>...</td>\n",
       "      <td>...</td>\n",
       "      <td>...</td>\n",
       "      <td>...</td>\n",
       "    </tr>\n",
       "    <tr>\n",
       "      <th>1194</th>\n",
       "      <td>1183</td>\n",
       "      <td>929</td>\n",
       "      <td>2020-01-15 10:38:42.570</td>\n",
       "      <td>2020-01-16 02:31:52.023</td>\n",
       "      <td>4</td>\n",
       "      <td>Chest Pain</td>\n",
       "      <td>Discharged</td>\n",
       "    </tr>\n",
       "    <tr>\n",
       "      <th>1195</th>\n",
       "      <td>1186</td>\n",
       "      <td>932</td>\n",
       "      <td>2020-01-15 11:52:37.540</td>\n",
       "      <td>2020-01-16 10:19:41.570</td>\n",
       "      <td>1</td>\n",
       "      <td>Pneumonia</td>\n",
       "      <td>Discharged</td>\n",
       "    </tr>\n",
       "    <tr>\n",
       "      <th>1196</th>\n",
       "      <td>1187</td>\n",
       "      <td>933</td>\n",
       "      <td>2020-01-15 12:11:11.678</td>\n",
       "      <td>2020-01-15 16:41:15.223</td>\n",
       "      <td>1</td>\n",
       "      <td>Pneumonia</td>\n",
       "      <td>Discharged</td>\n",
       "    </tr>\n",
       "    <tr>\n",
       "      <th>1197</th>\n",
       "      <td>1188</td>\n",
       "      <td>934</td>\n",
       "      <td>2020-01-15 12:21:46.006</td>\n",
       "      <td>2020-01-15 18:32:21.060</td>\n",
       "      <td>1</td>\n",
       "      <td>Pneumonia</td>\n",
       "      <td>Discharged</td>\n",
       "    </tr>\n",
       "    <tr>\n",
       "      <th>1198</th>\n",
       "      <td>1189</td>\n",
       "      <td>935</td>\n",
       "      <td>2020-01-15 12:51:14.875</td>\n",
       "      <td>2020-01-15 23:40:41.456</td>\n",
       "      <td>1</td>\n",
       "      <td>Pneumonia</td>\n",
       "      <td>Discharged</td>\n",
       "    </tr>\n",
       "  </tbody>\n",
       "</table>\n",
       "<p>1199 rows × 7 columns</p>\n",
       "</div>"
      ],
      "text/plain": [
       "      EDVisitID  PatientID               VisitDate         EDDischargeTime  \\\n",
       "0             1          1 2020-01-01 00:00:00.000 2020-01-01 11:20:22.924   \n",
       "1            12         12 2020-01-01 02:45:40.302 2020-01-02 02:00:00.517   \n",
       "2            13         13 2020-01-01 03:09:24.701 2020-01-01 05:00:20.852   \n",
       "3            14         14 2020-01-01 03:12:19.349 2020-01-01 04:32:29.142   \n",
       "4            15         15 2020-01-01 03:46:32.698 2020-01-01 06:24:52.741   \n",
       "...         ...        ...                     ...                     ...   \n",
       "1194       1183        929 2020-01-15 10:38:42.570 2020-01-16 02:31:52.023   \n",
       "1195       1186        932 2020-01-15 11:52:37.540 2020-01-16 10:19:41.570   \n",
       "1196       1187        933 2020-01-15 12:11:11.678 2020-01-15 16:41:15.223   \n",
       "1197       1188        934 2020-01-15 12:21:46.006 2020-01-15 18:32:21.060   \n",
       "1198       1189        935 2020-01-15 12:51:14.875 2020-01-15 23:40:41.456   \n",
       "\n",
       "      Acuity ReasonForVisit EDDisposition  \n",
       "0          1   Stomach Ache      Admitted  \n",
       "1          2       Migraine      Admitted  \n",
       "2          3   Stomach Ache      Admitted  \n",
       "3          3       Migraine      Admitted  \n",
       "4          3     Chest Pain      Admitted  \n",
       "...      ...            ...           ...  \n",
       "1194       4     Chest Pain    Discharged  \n",
       "1195       1      Pneumonia    Discharged  \n",
       "1196       1      Pneumonia    Discharged  \n",
       "1197       1      Pneumonia    Discharged  \n",
       "1198       1      Pneumonia    Discharged  \n",
       "\n",
       "[1199 rows x 7 columns]"
      ]
     },
     "execution_count": 36,
     "metadata": {},
     "output_type": "execute_result"
    }
   ],
   "source": [
    "df2=pd.read_excel(\"HospitalDatabase.xlsx\",\"EDVisits\")\n",
    "df2"
   ]
  },
  {
   "cell_type": "markdown",
   "id": "f1afa480",
   "metadata": {},
   "source": [
    "### 7) Create a pair plot by taking parameter \"hue\" as EDDisposition"
   ]
  },
  {
   "cell_type": "code",
   "execution_count": 37,
   "id": "9a78e79c",
   "metadata": {},
   "outputs": [
    {
     "data": {
      "text/plain": [
       "<seaborn.axisgrid.PairGrid at 0x29722624760>"
      ]
     },
     "execution_count": 37,
     "metadata": {},
     "output_type": "execute_result"
    },
    {
     "data": {
      "image/png": "[encoded data removed]",
      "text/plain": [
       "<Figure size 632.75x540 with 12 Axes>"
      ]
     },
     "metadata": {
      "needs_background": "light"
     },
     "output_type": "display_data"
    }
   ],
   "source": [
    "sns.pairplot(df2,hue='EDDisposition')"
   ]
  },
  {
   "cell_type": "markdown",
   "id": "f34be568",
   "metadata": {},
   "source": [
    "### 8) Create a bar chart between expectedLOS & Primary diagnosis"
   ]
  },
  {
   "cell_type": "code",
   "execution_count": 38,
   "id": "80f48d74",
   "metadata": {},
   "outputs": [
    {
     "data": {
      "text/plain": [
       "<AxesSubplot:xlabel='ExpectedLOS', ylabel='PrimaryDiagnosis'>"
      ]
     },
     "execution_count": 38,
     "metadata": {},
     "output_type": "execute_result"
    },
    {
     "data": {
      "image/png": "[encoded data removed]",
      "text/plain": [
       "<Figure size 432x288 with 1 Axes>"
      ]
     },
     "metadata": {
      "needs_background": "light"
     },
     "output_type": "display_data"
    }
   ],
   "source": [
    "sns.barplot(x='ExpectedLOS' ,y ='PrimaryDiagnosis' ,data=df1)"
   ]
  },
  {
   "cell_type": "markdown",
   "id": "d887c9ef",
   "metadata": {},
   "source": [
    "### 10.Create a boxplot on ExpectedLOS by taking service into account"
   ]
  },
  {
   "cell_type": "code",
   "execution_count": 39,
   "id": "43662ae0",
   "metadata": {},
   "outputs": [
    {
     "data": {
      "text/plain": [
       "<AxesSubplot:>"
      ]
     },
     "execution_count": 39,
     "metadata": {},
     "output_type": "execute_result"
    },
    {
     "data": {
      "image/png": "[encoded data removed]",
      "text/plain": [
       "<Figure size 432x288 with 1 Axes>"
      ]
     },
     "metadata": {
      "needs_background": "light"
     },
     "output_type": "display_data"
    }
   ],
   "source": [
    "x1=df1['ExpectedLOS']\n",
    "#df1['Service']\n",
    "#x1\n",
    "df1.plot.box(x1)"
   ]
  },
  {
   "cell_type": "markdown",
   "id": "0da12644",
   "metadata": {},
   "source": [
    "### 11. Create a pie chart by taking Service= [\"Icu\", \"Neurology\", \"General\", \"Medicine\"] &                                                         EcpectedLOS=[10,5,7,9] &explode the wedge with highest LOS"
   ]
  },
  {
   "cell_type": "markdown",
   "id": "0a380697",
   "metadata": {},
   "source": [
    "<!-- #Customitions\n",
    " # Data\n",
    "Service= [\"Icu\", \"Neurology\", \"General\", \"Medicine\"]\n",
    "EcpectedLOS=[10,5,7,9]\n",
    "outside = (0.5, 0, 0, 0) # Only explode on highest Los slice\n",
    "# Pie Chart\n",
    "#startangle to start first data rotated 90 degree counterclcokwise from x-axis\n",
    "plt.pie(boxes, labels=pies, explode=outside, autopct=\"%.1f\", shadow=True, startangle=90) \n",
    "plt.title(\"Pie Chart\")\n",
    "plt.show() -->"
   ]
  },
  {
   "cell_type": "code",
   "execution_count": 40,
   "id": "9fa35fdc",
   "metadata": {},
   "outputs": [
    {
     "data": {
      "image/png": "[encoded data removed]",
      "text/plain": [
       "<Figure size 432x288 with 1 Axes>"
      ]
     },
     "metadata": {},
     "output_type": "display_data"
    }
   ],
   "source": [
    "Service= [\"Icu\", \"Neurology\", \"General\", \"Medicine\"]\n",
    "EcpectedLOS=[10,5,7,9]\n",
    "outside = (0.5, 0, 0, 0)\n",
    "plt.pie(EcpectedLOS, labels=Service, explode=outside, autopct=\"%.1f\", shadow=True, startangle=90) \n",
    "plt.title(\"Pie Chart\", fontsize=30)\n",
    "plt.show()\n"
   ]
  },
  {
   "cell_type": "markdown",
   "id": "acf682bb",
   "metadata": {},
   "source": [
    "#    12.Connect to sql and Write a query to get list of Provider names whose       Providername is  starting with letter T"
   ]
  },
  {
   "cell_type": "code",
   "execution_count": 41,
   "id": "5a198974",
   "metadata": {},
   "outputs": [
    {
     "name": "stdout",
     "output_type": "stream",
     "text": [
      "Requirement already satisfied: psycopg2 in c:\\users\\sitab\\anaconda3\\lib\\site-packages (2.9.3)\n",
      "Note: you may need to restart the kernel to use updated packages.\n"
     ]
    }
   ],
   "source": [
    "pip install psycopg2"
   ]
  },
  {
   "cell_type": "code",
   "execution_count": 45,
   "id": "0f332158",
   "metadata": {},
   "outputs": [],
   "source": [
    "import psycopg2 as pst"
   ]
  },
  {
   "cell_type": "code",
   "execution_count": 43,
   "id": "b6dab37c",
   "metadata": {},
   "outputs": [
    {
     "data": {
      "text/html": [
       "<div>\n",
       "<style scoped>\n",
       "    .dataframe tbody tr th:only-of-type {\n",
       "        vertical-align: middle;\n",
       "    }\n",
       "\n",
       "    .dataframe tbody tr th {\n",
       "        vertical-align: top;\n",
       "    }\n",
       "\n",
       "    .dataframe thead th {\n",
       "        text-align: right;\n",
       "    }\n",
       "</style>\n",
       "<table border=\"1\" class=\"dataframe\">\n",
       "  <thead>\n",
       "    <tr style=\"text-align: right;\">\n",
       "      <th></th>\n",
       "      <th>ProviderID</th>\n",
       "      <th>ProviderName</th>\n",
       "      <th>ProviderSpecialty</th>\n",
       "      <th>ProviderDateOnStaff</th>\n",
       "    </tr>\n",
       "  </thead>\n",
       "  <tbody>\n",
       "    <tr>\n",
       "      <th>0</th>\n",
       "      <td>1</td>\n",
       "      <td>Sally Sue</td>\n",
       "      <td>Pediatrics</td>\n",
       "      <td>1993-01-01 00:00:00.000</td>\n",
       "    </tr>\n",
       "    <tr>\n",
       "      <th>1</th>\n",
       "      <td>2</td>\n",
       "      <td>Mike Myers</td>\n",
       "      <td>Pediatrics</td>\n",
       "      <td>1993-05-02 00:00:17.695</td>\n",
       "    </tr>\n",
       "    <tr>\n",
       "      <th>2</th>\n",
       "      <td>3</td>\n",
       "      <td>Jordan Michael</td>\n",
       "      <td>Pediatrics</td>\n",
       "      <td>1993-06-24 21:31:46.687</td>\n",
       "    </tr>\n",
       "    <tr>\n",
       "      <th>3</th>\n",
       "      <td>4</td>\n",
       "      <td>Ted Texas</td>\n",
       "      <td>Pediatrics</td>\n",
       "      <td>1993-12-23 21:33:52.299</td>\n",
       "    </tr>\n",
       "    <tr>\n",
       "      <th>4</th>\n",
       "      <td>5</td>\n",
       "      <td>Ala Bama</td>\n",
       "      <td>Pediatrics</td>\n",
       "      <td>1995-01-10 02:53:47.838</td>\n",
       "    </tr>\n",
       "    <tr>\n",
       "      <th>5</th>\n",
       "      <td>6</td>\n",
       "      <td>Harry Kane</td>\n",
       "      <td>Pediatrics</td>\n",
       "      <td>1995-07-21 03:49:03.310</td>\n",
       "    </tr>\n",
       "    <tr>\n",
       "      <th>6</th>\n",
       "      <td>7</td>\n",
       "      <td>Barry Bar</td>\n",
       "      <td>Pediatrics</td>\n",
       "      <td>1995-11-21 19:30:38.759</td>\n",
       "    </tr>\n",
       "    <tr>\n",
       "      <th>7</th>\n",
       "      <td>8</td>\n",
       "      <td>Ted Green</td>\n",
       "      <td>Pediatrics</td>\n",
       "      <td>1996-05-30 06:14:52.539</td>\n",
       "    </tr>\n",
       "    <tr>\n",
       "      <th>8</th>\n",
       "      <td>9</td>\n",
       "      <td>Ted Black</td>\n",
       "      <td>Pediatrics</td>\n",
       "      <td>1997-02-20 08:01:10.211</td>\n",
       "    </tr>\n",
       "    <tr>\n",
       "      <th>9</th>\n",
       "      <td>10</td>\n",
       "      <td>Fred Man</td>\n",
       "      <td>Surgery</td>\n",
       "      <td>1998-03-17 01:47:18.794</td>\n",
       "    </tr>\n",
       "    <tr>\n",
       "      <th>10</th>\n",
       "      <td>11</td>\n",
       "      <td>Kim Kimberly</td>\n",
       "      <td>Surgery</td>\n",
       "      <td>1998-05-10 14:47:29.468</td>\n",
       "    </tr>\n",
       "    <tr>\n",
       "      <th>11</th>\n",
       "      <td>12</td>\n",
       "      <td>Sarah Ab</td>\n",
       "      <td>Surgery</td>\n",
       "      <td>1998-08-18 05:22:40.762</td>\n",
       "    </tr>\n",
       "    <tr>\n",
       "      <th>12</th>\n",
       "      <td>13</td>\n",
       "      <td>Abigail Marriot</td>\n",
       "      <td>Surgery</td>\n",
       "      <td>1998-11-08 12:25:45.705</td>\n",
       "    </tr>\n",
       "    <tr>\n",
       "      <th>13</th>\n",
       "      <td>14</td>\n",
       "      <td>Dave Yu</td>\n",
       "      <td>Surgery</td>\n",
       "      <td>1999-06-26 16:18:57.436</td>\n",
       "    </tr>\n",
       "    <tr>\n",
       "      <th>14</th>\n",
       "      <td>15</td>\n",
       "      <td>Christian Saint</td>\n",
       "      <td>Surgery</td>\n",
       "      <td>2000-08-27 00:12:40.326</td>\n",
       "    </tr>\n",
       "    <tr>\n",
       "      <th>15</th>\n",
       "      <td>16</td>\n",
       "      <td>Perry Pardon</td>\n",
       "      <td>Surgery</td>\n",
       "      <td>2001-02-13 11:49:17.862</td>\n",
       "    </tr>\n",
       "    <tr>\n",
       "      <th>16</th>\n",
       "      <td>17</td>\n",
       "      <td>Kent Kendall</td>\n",
       "      <td>Cardiology</td>\n",
       "      <td>2001-12-22 11:18:32.919</td>\n",
       "    </tr>\n",
       "    <tr>\n",
       "      <th>17</th>\n",
       "      <td>18</td>\n",
       "      <td>Ryan Kevin</td>\n",
       "      <td>Cardiology</td>\n",
       "      <td>2003-01-14 21:16:34.778</td>\n",
       "    </tr>\n",
       "    <tr>\n",
       "      <th>18</th>\n",
       "      <td>19</td>\n",
       "      <td>Tyler Conner</td>\n",
       "      <td>Cardiology</td>\n",
       "      <td>2003-07-09 02:41:40.410</td>\n",
       "    </tr>\n",
       "    <tr>\n",
       "      <th>19</th>\n",
       "      <td>20</td>\n",
       "      <td>Bailey Barret</td>\n",
       "      <td>Cardiology</td>\n",
       "      <td>2003-08-20 16:05:50.179</td>\n",
       "    </tr>\n",
       "    <tr>\n",
       "      <th>20</th>\n",
       "      <td>21</td>\n",
       "      <td>Megan Bonco</td>\n",
       "      <td>Cardiology</td>\n",
       "      <td>2004-02-17 21:22:30.546</td>\n",
       "    </tr>\n",
       "    <tr>\n",
       "      <th>21</th>\n",
       "      <td>22</td>\n",
       "      <td>Joesph Walter</td>\n",
       "      <td>Cardiology</td>\n",
       "      <td>2005-02-04 11:40:44.121</td>\n",
       "    </tr>\n",
       "    <tr>\n",
       "      <th>22</th>\n",
       "      <td>23</td>\n",
       "      <td>Walter King</td>\n",
       "      <td>Cardiology</td>\n",
       "      <td>2006-03-12 22:11:58.070</td>\n",
       "    </tr>\n",
       "    <tr>\n",
       "      <th>23</th>\n",
       "      <td>24</td>\n",
       "      <td>Luke Long</td>\n",
       "      <td>Cardiology</td>\n",
       "      <td>2006-04-28 00:16:36.762</td>\n",
       "    </tr>\n",
       "    <tr>\n",
       "      <th>24</th>\n",
       "      <td>25</td>\n",
       "      <td>Justin Time</td>\n",
       "      <td>PrimaryCare</td>\n",
       "      <td>2006-06-21 04:46:36.838</td>\n",
       "    </tr>\n",
       "    <tr>\n",
       "      <th>25</th>\n",
       "      <td>26</td>\n",
       "      <td>Mike Joseph</td>\n",
       "      <td>PrimaryCare</td>\n",
       "      <td>2006-12-29 16:26:41.085</td>\n",
       "    </tr>\n",
       "    <tr>\n",
       "      <th>26</th>\n",
       "      <td>27</td>\n",
       "      <td>Bridget Brenda</td>\n",
       "      <td>PrimaryCare</td>\n",
       "      <td>2007-06-30 05:53:46.143</td>\n",
       "    </tr>\n",
       "    <tr>\n",
       "      <th>27</th>\n",
       "      <td>28</td>\n",
       "      <td>Brenda Bing</td>\n",
       "      <td>PrimaryCare</td>\n",
       "      <td>2007-11-18 22:33:55.792</td>\n",
       "    </tr>\n",
       "    <tr>\n",
       "      <th>28</th>\n",
       "      <td>29</td>\n",
       "      <td>Chandler Bing</td>\n",
       "      <td>PrimaryCare</td>\n",
       "      <td>2007-12-07 23:50:10.442</td>\n",
       "    </tr>\n",
       "    <tr>\n",
       "      <th>29</th>\n",
       "      <td>30</td>\n",
       "      <td>Joesph Ross</td>\n",
       "      <td>PrimaryCare</td>\n",
       "      <td>2008-11-08 18:06:32.983</td>\n",
       "    </tr>\n",
       "    <tr>\n",
       "      <th>30</th>\n",
       "      <td>31</td>\n",
       "      <td>Dwight Scott</td>\n",
       "      <td>PrimaryCare</td>\n",
       "      <td>2009-04-18 19:15:44.587</td>\n",
       "    </tr>\n",
       "    <tr>\n",
       "      <th>31</th>\n",
       "      <td>32</td>\n",
       "      <td>Michael Halpert</td>\n",
       "      <td>PrimaryCare</td>\n",
       "      <td>2009-09-02 00:14:41.441</td>\n",
       "    </tr>\n",
       "    <tr>\n",
       "      <th>32</th>\n",
       "      <td>33</td>\n",
       "      <td>Pamela Ding</td>\n",
       "      <td>PrimaryCare</td>\n",
       "      <td>2009-11-12 03:59:49.655</td>\n",
       "    </tr>\n",
       "    <tr>\n",
       "      <th>33</th>\n",
       "      <td>34</td>\n",
       "      <td>Tony Creed</td>\n",
       "      <td>PrimaryCare</td>\n",
       "      <td>2010-04-28 14:11:26.802</td>\n",
       "    </tr>\n",
       "    <tr>\n",
       "      <th>34</th>\n",
       "      <td>35</td>\n",
       "      <td>Phyllis Stanley</td>\n",
       "      <td>PrimaryCare</td>\n",
       "      <td>2011-05-05 16:06:03.222</td>\n",
       "    </tr>\n",
       "    <tr>\n",
       "      <th>35</th>\n",
       "      <td>36</td>\n",
       "      <td>Holly Hue</td>\n",
       "      <td>PrimaryCare</td>\n",
       "      <td>2012-06-24 06:55:22.021</td>\n",
       "    </tr>\n",
       "    <tr>\n",
       "      <th>36</th>\n",
       "      <td>37</td>\n",
       "      <td>Trent Tye</td>\n",
       "      <td>PrimaryCare</td>\n",
       "      <td>2013-01-12 15:32:21.137</td>\n",
       "    </tr>\n",
       "    <tr>\n",
       "      <th>37</th>\n",
       "      <td>38</td>\n",
       "      <td>Kimberly Cone</td>\n",
       "      <td>PrimaryCare</td>\n",
       "      <td>2013-05-23 05:17:19.360</td>\n",
       "    </tr>\n",
       "    <tr>\n",
       "      <th>38</th>\n",
       "      <td>39</td>\n",
       "      <td>Harry West</td>\n",
       "      <td>PrimaryCare</td>\n",
       "      <td>2013-07-14 00:22:03.151</td>\n",
       "    </tr>\n",
       "    <tr>\n",
       "      <th>39</th>\n",
       "      <td>40</td>\n",
       "      <td>Rosie Renter</td>\n",
       "      <td>PrimaryCare</td>\n",
       "      <td>2013-09-11 12:07:55.584</td>\n",
       "    </tr>\n",
       "  </tbody>\n",
       "</table>\n",
       "</div>"
      ],
      "text/plain": [
       "    ProviderID     ProviderName ProviderSpecialty     ProviderDateOnStaff\n",
       "0            1        Sally Sue        Pediatrics 1993-01-01 00:00:00.000\n",
       "1            2       Mike Myers        Pediatrics 1993-05-02 00:00:17.695\n",
       "2            3   Jordan Michael        Pediatrics 1993-06-24 21:31:46.687\n",
       "3            4        Ted Texas        Pediatrics 1993-12-23 21:33:52.299\n",
       "4            5         Ala Bama        Pediatrics 1995-01-10 02:53:47.838\n",
       "5            6       Harry Kane        Pediatrics 1995-07-21 03:49:03.310\n",
       "6            7        Barry Bar        Pediatrics 1995-11-21 19:30:38.759\n",
       "7            8        Ted Green        Pediatrics 1996-05-30 06:14:52.539\n",
       "8            9        Ted Black        Pediatrics 1997-02-20 08:01:10.211\n",
       "9           10         Fred Man           Surgery 1998-03-17 01:47:18.794\n",
       "10          11     Kim Kimberly           Surgery 1998-05-10 14:47:29.468\n",
       "11          12         Sarah Ab           Surgery 1998-08-18 05:22:40.762\n",
       "12          13  Abigail Marriot           Surgery 1998-11-08 12:25:45.705\n",
       "13          14          Dave Yu           Surgery 1999-06-26 16:18:57.436\n",
       "14          15  Christian Saint           Surgery 2000-08-27 00:12:40.326\n",
       "15          16     Perry Pardon           Surgery 2001-02-13 11:49:17.862\n",
       "16          17     Kent Kendall        Cardiology 2001-12-22 11:18:32.919\n",
       "17          18       Ryan Kevin        Cardiology 2003-01-14 21:16:34.778\n",
       "18          19     Tyler Conner        Cardiology 2003-07-09 02:41:40.410\n",
       "19          20    Bailey Barret        Cardiology 2003-08-20 16:05:50.179\n",
       "20          21      Megan Bonco        Cardiology 2004-02-17 21:22:30.546\n",
       "21          22    Joesph Walter        Cardiology 2005-02-04 11:40:44.121\n",
       "22          23      Walter King        Cardiology 2006-03-12 22:11:58.070\n",
       "23          24        Luke Long        Cardiology 2006-04-28 00:16:36.762\n",
       "24          25      Justin Time       PrimaryCare 2006-06-21 04:46:36.838\n",
       "25          26      Mike Joseph       PrimaryCare 2006-12-29 16:26:41.085\n",
       "26          27   Bridget Brenda       PrimaryCare 2007-06-30 05:53:46.143\n",
       "27          28      Brenda Bing       PrimaryCare 2007-11-18 22:33:55.792\n",
       "28          29    Chandler Bing       PrimaryCare 2007-12-07 23:50:10.442\n",
       "29          30      Joesph Ross       PrimaryCare 2008-11-08 18:06:32.983\n",
       "30          31     Dwight Scott       PrimaryCare 2009-04-18 19:15:44.587\n",
       "31          32  Michael Halpert       PrimaryCare 2009-09-02 00:14:41.441\n",
       "32          33      Pamela Ding       PrimaryCare 2009-11-12 03:59:49.655\n",
       "33          34       Tony Creed       PrimaryCare 2010-04-28 14:11:26.802\n",
       "34          35  Phyllis Stanley       PrimaryCare 2011-05-05 16:06:03.222\n",
       "35          36        Holly Hue       PrimaryCare 2012-06-24 06:55:22.021\n",
       "36          37        Trent Tye       PrimaryCare 2013-01-12 15:32:21.137\n",
       "37          38    Kimberly Cone       PrimaryCare 2013-05-23 05:17:19.360\n",
       "38          39       Harry West       PrimaryCare 2013-07-14 00:22:03.151\n",
       "39          40     Rosie Renter       PrimaryCare 2013-09-11 12:07:55.584"
      ]
     },
     "execution_count": 43,
     "metadata": {},
     "output_type": "execute_result"
    }
   ],
   "source": [
    "df4=pd.read_excel(\"HospitalDatabase.xlsx\",\"Providers\")\n",
    "df4"
   ]
  },
  {
   "cell_type": "code",
   "execution_count": 46,
   "id": "05f69585",
   "metadata": {},
   "outputs": [
    {
     "ename": "OperationalError",
     "evalue": "connection to server at \"localhost\" (::1), port 5432 failed: Connection refused (0x0000274D/10061)\n\tIs the server running on that host and accepting TCP/IP connections?\nconnection to server at \"localhost\" (127.0.0.1), port 5432 failed: Connection refused (0x0000274D/10061)\n\tIs the server running on that host and accepting TCP/IP connections?\n",
     "output_type": "error",
     "traceback": [
      "\u001b[1;31m---------------------------------------------------------------------------\u001b[0m",
      "\u001b[1;31mOperationalError\u001b[0m                          Traceback (most recent call last)",
      "\u001b[1;32m~\\AppData\\Local\\Temp/ipykernel_5736/3267497928.py\u001b[0m in \u001b[0;36m<module>\u001b[1;34m\u001b[0m\n\u001b[1;32m----> 1\u001b[1;33m \u001b[0mconn\u001b[0m \u001b[1;33m=\u001b[0m \u001b[0mpst\u001b[0m\u001b[1;33m.\u001b[0m\u001b[0mconnect\u001b[0m\u001b[1;33m(\u001b[0m\u001b[1;34m\"dbname='df4' user=postgres password=admin\"\u001b[0m\u001b[1;33m)\u001b[0m\u001b[1;33m\u001b[0m\u001b[1;33m\u001b[0m\u001b[0m\n\u001b[0m",
      "\u001b[1;32m~\\anaconda3\\lib\\site-packages\\psycopg2\\__init__.py\u001b[0m in \u001b[0;36mconnect\u001b[1;34m(dsn, connection_factory, cursor_factory, **kwargs)\u001b[0m\n\u001b[0;32m    120\u001b[0m \u001b[1;33m\u001b[0m\u001b[0m\n\u001b[0;32m    121\u001b[0m     \u001b[0mdsn\u001b[0m \u001b[1;33m=\u001b[0m \u001b[0m_ext\u001b[0m\u001b[1;33m.\u001b[0m\u001b[0mmake_dsn\u001b[0m\u001b[1;33m(\u001b[0m\u001b[0mdsn\u001b[0m\u001b[1;33m,\u001b[0m \u001b[1;33m**\u001b[0m\u001b[0mkwargs\u001b[0m\u001b[1;33m)\u001b[0m\u001b[1;33m\u001b[0m\u001b[1;33m\u001b[0m\u001b[0m\n\u001b[1;32m--> 122\u001b[1;33m     \u001b[0mconn\u001b[0m \u001b[1;33m=\u001b[0m \u001b[0m_connect\u001b[0m\u001b[1;33m(\u001b[0m\u001b[0mdsn\u001b[0m\u001b[1;33m,\u001b[0m \u001b[0mconnection_factory\u001b[0m\u001b[1;33m=\u001b[0m\u001b[0mconnection_factory\u001b[0m\u001b[1;33m,\u001b[0m \u001b[1;33m**\u001b[0m\u001b[0mkwasync\u001b[0m\u001b[1;33m)\u001b[0m\u001b[1;33m\u001b[0m\u001b[1;33m\u001b[0m\u001b[0m\n\u001b[0m\u001b[0;32m    123\u001b[0m     \u001b[1;32mif\u001b[0m \u001b[0mcursor_factory\u001b[0m \u001b[1;32mis\u001b[0m \u001b[1;32mnot\u001b[0m \u001b[1;32mNone\u001b[0m\u001b[1;33m:\u001b[0m\u001b[1;33m\u001b[0m\u001b[1;33m\u001b[0m\u001b[0m\n\u001b[0;32m    124\u001b[0m         \u001b[0mconn\u001b[0m\u001b[1;33m.\u001b[0m\u001b[0mcursor_factory\u001b[0m \u001b[1;33m=\u001b[0m \u001b[0mcursor_factory\u001b[0m\u001b[1;33m\u001b[0m\u001b[1;33m\u001b[0m\u001b[0m\n",
      "\u001b[1;31mOperationalError\u001b[0m: connection to server at \"localhost\" (::1), port 5432 failed: Connection refused (0x0000274D/10061)\n\tIs the server running on that host and accepting TCP/IP connections?\nconnection to server at \"localhost\" (127.0.0.1), port 5432 failed: Connection refused (0x0000274D/10061)\n\tIs the server running on that host and accepting TCP/IP connections?\n"
     ]
    }
   ],
   "source": [
    "conn = pst.connect(\"dbname='df4' user=postgres password=admin\")"
   ]
  },
  {
   "cell_type": "code",
   "execution_count": null,
   "id": "d5036858",
   "metadata": {},
   "outputs": [],
   "source": []
  },
  {
   "cell_type": "code",
   "execution_count": null,
   "id": "d92639b2",
   "metadata": {},
   "outputs": [],
   "source": []
  },
  {
   "cell_type": "code",
   "execution_count": null,
   "id": "a2480a3f",
   "metadata": {},
   "outputs": [],
   "source": []
  },
  {
   "cell_type": "markdown",
   "id": "4c82a392",
   "metadata": {},
   "source": [
    "### 16.Plot a graph to showthe distribution of expected length of stay"
   ]
  },
  {
   "cell_type": "code",
   "execution_count": null,
   "id": "74fab957",
   "metadata": {},
   "outputs": [],
   "source": [
    "#importing warnings library to avoid printing Warning message on the notebook\n",
    "import warnings\n",
    "warnings.filterwarnings(\"ignore\")"
   ]
  },
  {
   "cell_type": "code",
   "execution_count": null,
   "id": "62e19f1d",
   "metadata": {},
   "outputs": [],
   "source": [
    "sns.distplot(df1['ExpectedLOS'],kde=False,bins=10)"
   ]
  },
  {
   "cell_type": "markdown",
   "id": "22cc6c9a",
   "metadata": {},
   "source": [
    "### 17.Create a heat map to show the correlation between the column values of Edvisits"
   ]
  },
  {
   "cell_type": "code",
   "execution_count": null,
   "id": "f6ae6b03",
   "metadata": {},
   "outputs": [],
   "source": [
    "# calculating the corerelation\n",
    "Edc=df2.corr()"
   ]
  },
  {
   "cell_type": "code",
   "execution_count": null,
   "id": "22a0f593",
   "metadata": {},
   "outputs": [],
   "source": [
    "sns.heatmap(Edc,annot=True,cmap='viridis')"
   ]
  },
  {
   "cell_type": "markdown",
   "id": "6072c719",
   "metadata": {},
   "source": [
    "Dark purple colour means less correlation\n",
    "yellow colour means more correlation.\n"
   ]
  },
  {
   "cell_type": "markdown",
   "id": "a961f35e",
   "metadata": {},
   "source": [
    "### 18.Add column 'Age' in Patient table"
   ]
  },
  {
   "cell_type": "markdown",
   "id": "7d2773f0",
   "metadata": {},
   "source": [
    "df['Date'] = pd.to_datetime(df.DateOfBirth)\n",
    "df['Date']\n",
    "\n",
    "\n",
    "\n",
    "\n",
    "import datetime \n",
    "def from_dob_to_age(born):\n",
    "    today = datetime.date.today()\n",
    "    return today.year - born.year - ((today.month, today.day) < (born.month, born.day))\n",
    "\n",
    "\n",
    "df['Date'].apply(lambda x: from_dob_to_age(x))"
   ]
  },
  {
   "cell_type": "code",
   "execution_count": 14,
   "id": "f6af3d96",
   "metadata": {},
   "outputs": [
    {
     "ename": "NameError",
     "evalue": "name 'df' is not defined",
     "output_type": "error",
     "traceback": [
      "\u001b[1;31m---------------------------------------------------------------------------\u001b[0m",
      "\u001b[1;31mNameError\u001b[0m                                 Traceback (most recent call last)",
      "\u001b[1;32m~\\AppData\\Local\\Temp/ipykernel_17840/2954100216.py\u001b[0m in \u001b[0;36m<module>\u001b[1;34m\u001b[0m\n\u001b[1;32m----> 1\u001b[1;33m \u001b[0mdf\u001b[0m\u001b[1;33m[\u001b[0m\u001b[1;34m'Date'\u001b[0m\u001b[1;33m]\u001b[0m \u001b[1;33m=\u001b[0m \u001b[0mpd\u001b[0m\u001b[1;33m.\u001b[0m\u001b[0mto_datetime\u001b[0m\u001b[1;33m(\u001b[0m\u001b[0mdf\u001b[0m\u001b[1;33m.\u001b[0m\u001b[0mDateOfBirth\u001b[0m\u001b[1;33m)\u001b[0m\u001b[1;33m\u001b[0m\u001b[1;33m\u001b[0m\u001b[0m\n\u001b[0m\u001b[0;32m      2\u001b[0m \u001b[0mdf\u001b[0m\u001b[1;33m[\u001b[0m\u001b[1;34m'Date'\u001b[0m\u001b[1;33m]\u001b[0m\u001b[1;33m\u001b[0m\u001b[1;33m\u001b[0m\u001b[0m\n",
      "\u001b[1;31mNameError\u001b[0m: name 'df' is not defined"
     ]
    }
   ],
   "source": [
    "df['Date'] = pd.to_datetime(df.DateOfBirth)\n",
    "df['Date']"
   ]
  },
  {
   "cell_type": "code",
   "execution_count": null,
   "id": "d2b4c71c",
   "metadata": {},
   "outputs": [],
   "source": [
    "import datetime \n",
    "def from_dob_to_age('Date'):\n",
    "    today = datetime.date.today()\n",
    "    return today.year - born.year - ((today.month, today.day) < (born.month, born.day)"
   ]
  },
  {
   "cell_type": "code",
   "execution_count": null,
   "id": "f8bfda89",
   "metadata": {},
   "outputs": [],
   "source": [
    "df['Date'].apply(lambda x: from_dob_to_age(x))"
   ]
  },
  {
   "cell_type": "code",
   "execution_count": null,
   "id": "d8926050",
   "metadata": {},
   "outputs": [],
   "source": [
    "df7 = df['Date'].apply(lambda x: from_dob_to_age(x))\n",
    "print(type(df7))"
   ]
  },
  {
   "cell_type": "code",
   "execution_count": null,
   "id": "8da0c87d",
   "metadata": {},
   "outputs": [],
   "source": [
    "df8 = df7.to_frame()\n",
    "df['age'] = df8"
   ]
  },
  {
   "cell_type": "code",
   "execution_count": null,
   "id": "34ace0e4",
   "metadata": {},
   "outputs": [],
   "source": []
  },
  {
   "cell_type": "markdown",
   "id": "3f1e7c7e",
   "metadata": {},
   "source": [
    "### 20.Count of number of patients admitted based on Primary Diagnosis and Service provided"
   ]
  },
  {
   "cell_type": "code",
   "execution_count": null,
   "id": "7b699bf0",
   "metadata": {},
   "outputs": [],
   "source": [
    "#df1.groupby('PrimaryDiagnosis')['Service'].sum()\n",
    "# count of the number of patients admitted based on primary Diagnosis\n",
    "df1['PrimaryDiagnosis'].value_counts()\n"
   ]
  },
  {
   "cell_type": "code",
   "execution_count": null,
   "id": "0a8e2087",
   "metadata": {},
   "outputs": [],
   "source": [
    "# count of the number of patients admitted based on Service provided\n",
    "df1['Service'].value_counts()"
   ]
  },
  {
   "cell_type": "markdown",
   "id": "07a0d818",
   "metadata": {},
   "source": [
    "### 23.Function to find the center element in the list. (1 element in odd length list, 2 elements in even length list)"
   ]
  },
  {
   "cell_type": "code",
   "execution_count": null,
   "id": "70548ac2",
   "metadata": {},
   "outputs": [],
   "source": [
    "def findMiddle(input_list):\n",
    "    middle = float(len(input_list))/2\n",
    "    if middle % 2 != 0:\n",
    "        return input_list[int(middle - .5)]\n",
    "    else:\n",
    "        return (input_list[int(middle)], input_list[int(middle-1)])"
   ]
  },
  {
   "cell_type": "markdown",
   "id": "f65ec8ae",
   "metadata": {},
   "source": [
    "### 26.Using Arrays and Loops, find the count of of patients based on gender"
   ]
  },
  {
   "cell_type": "code",
   "execution_count": null,
   "id": "b938554c",
   "metadata": {},
   "outputs": [],
   "source": [
    "a=np.array(df['Gender'])\n",
    "m_value=0\n",
    "f_value=0\n",
    "for i in a:\n",
    "    if i == 'Male':\n",
    "        m_value = 1 + m_value\n",
    "    else:  \n",
    "        f_value = 1 + f_value\n",
    "print(m_value)\n",
    "print(f_value)\n",
    "   "
   ]
  },
  {
   "cell_type": "markdown",
   "id": "df0211d4",
   "metadata": {},
   "source": [
    "### 28.Which reason of visit has maximum mortality rate"
   ]
  },
  {
   "cell_type": "code",
   "execution_count": null,
   "id": "6f57b315",
   "metadata": {},
   "outputs": [],
   "source": [
    "max. mortality(expired) or rate(EM)\n"
   ]
  },
  {
   "cell_type": "markdown",
   "id": "ed271e3c",
   "metadata": {},
   "source": [
    "### 29.Calculate average LOS"
   ]
  },
  {
   "cell_type": "code",
   "execution_count": null,
   "id": "a09c885c",
   "metadata": {},
   "outputs": [],
   "source": [
    "#average Los is calculated by using mean() function on 'ExpectedLOS' column\n",
    "avg_LOS = df1['ExpectedLOS'].mean()\n",
    "avg_LOS"
   ]
  },
  {
   "cell_type": "code",
   "execution_count": null,
   "id": "24c4f514",
   "metadata": {},
   "outputs": [],
   "source": [
    "#average Los is calculated by using describe() method on 'ExpectedLOS' column\n",
    "df1['ExpectedLOS'].describe()"
   ]
  },
  {
   "cell_type": "markdown",
   "id": "95e089d7",
   "metadata": {},
   "source": [
    "### 32.Write a function to print the table of the given number"
   ]
  },
  {
   "cell_type": "code",
   "execution_count": null,
   "id": "faa9e013",
   "metadata": {},
   "outputs": [],
   "source": [
    "def print_table(num, start, end): \n",
    "    \"\"\" This function prints multiplication table of a given number\"\"\"\n",
    "    for i in range(start, end+1): \n",
    "        print(num,' x ', i, ' = ',num*i) \n",
    "# end of function table\n",
    "\n",
    "\n",
    "# input a number\n",
    "n = int(input(\"Please Enter a number to print its multiplication table:\"))\n",
    "start = int(input(\"Enter  start value to start printing table from:\"))\n",
    "end =  int(input(\"Enter  end value to stop printing table:\"))\n",
    "# call the function table by passing actual parameter 'n' \n",
    "\n",
    "print_table(n, start, end)"
   ]
  },
  {
   "cell_type": "markdown",
   "id": "fd1b6773",
   "metadata": {},
   "source": [
    "### 34.np.arange(1,31).reshape(6,5) Find the array slicing to get the elements with values 11,12,16,17"
   ]
  },
  {
   "cell_type": "code",
   "execution_count": null,
   "id": "1c8faa9e",
   "metadata": {},
   "outputs": [],
   "source": [
    "a=np.arange(1,31).reshape(6,5)\n",
    "a[2:4,0:2]\n"
   ]
  },
  {
   "cell_type": "code",
   "execution_count": 51,
   "id": "a00fbb65",
   "metadata": {},
   "outputs": [
    {
     "data": {
      "text/plain": [
       "2"
      ]
     },
     "execution_count": 51,
     "metadata": {},
     "output_type": "execute_result"
    }
   ],
   "source": [
    "a=np.arange(1,31).reshape(6,5)\n",
    "a\n",
    "a[(0,1)]\n",
    "   #:(1,2):(2,3):(3,4))]\n"
   ]
  },
  {
   "cell_type": "markdown",
   "id": "e98372cf",
   "metadata": {},
   "source": [
    "### 35.np.arange(1,31).reshape(6,5), find array slicing for elements 2,8,14,20"
   ]
  },
  {
   "cell_type": "code",
   "execution_count": 4,
   "id": "9dc6bac8",
   "metadata": {},
   "outputs": [
    {
     "data": {
      "text/plain": [
       "array([[ 1,  2,  3,  4,  5],\n",
       "       [ 6,  7,  8,  9, 10],\n",
       "       [11, 12, 13, 14, 15],\n",
       "       [16, 17, 18, 19, 20],\n",
       "       [21, 22, 23, 24, 25],\n",
       "       [26, 27, 28, 29, 30]])"
      ]
     },
     "execution_count": 4,
     "metadata": {},
     "output_type": "execute_result"
    }
   ],
   "source": [
    "a=np.arange(1,31).reshape(6,5)\n",
    "a"
   ]
  },
  {
   "cell_type": "code",
   "execution_count": 10,
   "id": "641413eb",
   "metadata": {},
   "outputs": [
    {
     "name": "stdout",
     "output_type": "stream",
     "text": [
      "2\n"
     ]
    }
   ],
   "source": [
    "print(a[(0,1)])"
   ]
  },
  {
   "cell_type": "code",
   "execution_count": 11,
   "id": "fb5c24af",
   "metadata": {},
   "outputs": [
    {
     "name": "stdout",
     "output_type": "stream",
     "text": [
      "8\n"
     ]
    }
   ],
   "source": [
    "print(a[(1,2)])"
   ]
  },
  {
   "cell_type": "code",
   "execution_count": 12,
   "id": "24bcd7f2",
   "metadata": {},
   "outputs": [
    {
     "name": "stdout",
     "output_type": "stream",
     "text": [
      "14\n"
     ]
    }
   ],
   "source": [
    "print(a[(2,3)])"
   ]
  },
  {
   "cell_type": "code",
   "execution_count": 13,
   "id": "92b5843e",
   "metadata": {},
   "outputs": [
    {
     "name": "stdout",
     "output_type": "stream",
     "text": [
      "20\n"
     ]
    }
   ],
   "source": [
    "print(a[(3,4)])"
   ]
  },
  {
   "cell_type": "code",
   "execution_count": 8,
   "id": "bcc7a810",
   "metadata": {},
   "outputs": [
    {
     "data": {
      "text/plain": [
       "array([ 2,  8, 14, 20])"
      ]
     },
     "execution_count": 8,
     "metadata": {},
     "output_type": "execute_result"
    }
   ],
   "source": [
    "# another method to print 2,8,14,20\n",
    "a[[0,1,2,3],[1,2,3,4]]"
   ]
  },
  {
   "cell_type": "code",
   "execution_count": null,
   "id": "ca31023f",
   "metadata": {},
   "outputs": [],
   "source": []
  },
  {
   "cell_type": "markdown",
   "id": "11278dd5",
   "metadata": {},
   "source": [
    "### 37.Write a function to print all the upper case letter of a given sentence"
   ]
  },
  {
   "cell_type": "code",
   "execution_count": null,
   "id": "2dde8b37",
   "metadata": {},
   "outputs": [],
   "source": [
    "# Python program to print uppercase letters in the string\n",
    "\n",
    "# take input\n",
    "string = input('Enter any string: ')\n",
    "\n",
    "upper = ''\n",
    "for char in string:\n",
    "    #check uppercase characters\n",
    "    if char.isupper():\n",
    "        upper += char\n",
    "\n",
    "# print uppercase characters\n",
    "print('Uppercase characters:', upper)"
   ]
  },
  {
   "cell_type": "markdown",
   "id": "a5777dec",
   "metadata": {},
   "source": [
    "### 40. Plot a graph showing the count of patients for the reason visited the hospotal.\n",
    "\n",
    "\n"
   ]
  },
  {
   "cell_type": "code",
   "execution_count": 52,
   "id": "8b8cfecc",
   "metadata": {},
   "outputs": [
    {
     "data": {
      "text/plain": [
       "<AxesSubplot:xlabel='ReasonForVisit', ylabel='count'>"
      ]
     },
     "execution_count": 52,
     "metadata": {},
     "output_type": "execute_result"
    },
    {
     "data": {
      "image/png": "[encoded data removed]",
      "text/plain": [
       "<Figure size 432x288 with 1 Axes>"
      ]
     },
     "metadata": {
      "needs_background": "light"
     },
     "output_type": "display_data"
    }
   ],
   "source": [
    "sns.countplot(x='ReasonForVisit',data=df2)"
   ]
  },
  {
   "cell_type": "code",
   "execution_count": null,
   "id": "51e82027",
   "metadata": {},
   "outputs": [],
   "source": []
  }
 ],
 "metadata": {
  "kernelspec": {
   "display_name": "Python 3 (ipykernel)",
   "language": "python",
   "name": "python3"
  },
  "language_info": {
   "codemirror_mode": {
    "name": "ipython",
    "version": 3
   },
   "file_extension": ".py",
   "mimetype": "text/x-python",
   "name": "python",
   "nbconvert_exporter": "python",
   "pygments_lexer": "ipython3",
   "version": "3.9.7"
  }
 },
 "nbformat": 4,
 "nbformat_minor": 5
}
