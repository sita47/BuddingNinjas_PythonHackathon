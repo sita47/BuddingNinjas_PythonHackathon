{
 "cells": [
  {
   "cell_type": "code",
   "execution_count": 1,
   "id": "3e01dcb9",
   "metadata": {},
   "outputs": [],
   "source": [
    "import pandas as pd\n",
    "import random\n",
    "import numpy as np\n",
    "import matplotlib.pyplot as plt\n",
    "import seaborn as sns\n",
    "from numpy import count_nonzero\n",
    "%matplotlib inline\n",
    "from scipy import stats\n"
   ]
  },
  {
   "cell_type": "code",
   "execution_count": 2,
   "id": "edf1b372",
   "metadata": {},
   "outputs": [],
   "source": [
    "Patients_df = pd.read_excel('HospitalDatabase.xlsx','Patients')"
   ]
  },
  {
   "cell_type": "code",
   "execution_count": 3,
   "id": "704df59b",
   "metadata": {},
   "outputs": [],
   "source": [
    "ReAdmission_df=pd.read_excel(\"HospitalDatabase.xlsx\",'ReAdmissionRegistry')"
   ]
  },
  {
   "cell_type": "code",
   "execution_count": 77,
   "id": "68c419f2",
   "metadata": {},
   "outputs": [],
   "source": [
    "EDVisits_df = pd.read_excel('HospitalDatabase.xlsx','EDVisits')"
   ]
  },
  {
   "cell_type": "code",
   "execution_count": 5,
   "id": "40aa2f72",
   "metadata": {},
   "outputs": [],
   "source": [
    "AmbulatoryVisits_df = pd.read_excel('HospitalDatabase.xlsx','AmbulatoryVisits')"
   ]
  },
  {
   "cell_type": "code",
   "execution_count": 6,
   "id": "2c9f117b",
   "metadata": {},
   "outputs": [],
   "source": [
    "Discharges_df =  pd.read_excel('HospitalDatabase.xlsx','Discharges')"
   ]
  },
  {
   "cell_type": "code",
   "execution_count": 7,
   "id": "fecce785",
   "metadata": {},
   "outputs": [],
   "source": [
    "EDUnique_df =  pd.read_excel('HospitalDatabase.xlsx','EDUnique')"
   ]
  },
  {
   "cell_type": "markdown",
   "id": "fa5a36b4",
   "metadata": {},
   "source": [
    "### Q21.Which demographic patients are prone to get stroke"
   ]
  },
  {
   "cell_type": "code",
   "execution_count": 8,
   "id": "d2767e19",
   "metadata": {},
   "outputs": [],
   "source": [
    "Patientid_stroke = ReAdmission_df['PatientID'][ReAdmission_df.PrimaryDiagnosis =='Stroke']\n",
    "Patients_detail = Patients_df.iloc[:,0:6][Patients_df['PatientID'].isin(Patientid_stroke)]"
   ]
  },
  {
   "cell_type": "code",
   "execution_count": 55,
   "id": "5d224549",
   "metadata": {},
   "outputs": [
    {
     "data": {
      "image/png": "[encoded data removed]",
      "text/plain": [
       "<Figure size 432x288 with 1 Axes>"
      ]
     },
     "metadata": {
      "needs_background": "light"
     },
     "output_type": "display_data"
    }
   ],
   "source": [
    "sns.countplot(x='Race', data =Patients_detail)\n",
    "plt.title('Patients who are prone to get stroke')\n",
    "plt.show()"
   ]
  },
  {
   "cell_type": "markdown",
   "id": "d5982bfb",
   "metadata": {},
   "source": [
    "## Graph shows Black/African American is more prone to get stroke"
   ]
  },
  {
   "cell_type": "markdown",
   "id": "d9fac04f",
   "metadata": {},
   "source": [
    "### Q22. Create a dataframe with acuity and EDDisposition as the indices and the count of number of patients as the value\n"
   ]
  },
  {
   "cell_type": "code",
   "execution_count": 81,
   "id": "0e4a4673",
   "metadata": {},
   "outputs": [
    {
     "data": {
      "text/plain": [
       "EDDisposition  Acuity\n",
       "Admitted       1          32\n",
       "               2         116\n",
       "               3          81\n",
       "               4         107\n",
       "               5         179\n",
       "Discharged     1         558\n",
       "               2          66\n",
       "               4          30\n",
       "               5          30\n",
       "Name: PatientID, dtype: int64"
      ]
     },
     "execution_count": 81,
     "metadata": {},
     "output_type": "execute_result"
    }
   ],
   "source": [
    "count_patient_df_2= EDVisits_df.groupby(['EDDisposition','Acuity'],as_index=True)['PatientID'].count()\n",
    "count_patient_df_2"
   ]
  },
  {
   "cell_type": "markdown",
   "id": "8bd33f12",
   "metadata": {},
   "source": [
    "### We have tried as_index=false and .set_index() to set index manually outside the group by\n"
   ]
  },
  {
   "cell_type": "code",
   "execution_count": 78,
   "id": "8f1f3336",
   "metadata": {},
   "outputs": [],
   "source": [
    "# used groupby() to get the count of patients and writing it to dataframe\n",
    "data= EDVisits_df.groupby(['EDDisposition','Acuity'],as_index=False)['PatientID'].count()\n",
    "count_patient_df = pd.DataFrame(data)"
   ]
  },
  {
   "cell_type": "code",
   "execution_count": 79,
   "id": "61bf80de",
   "metadata": {},
   "outputs": [],
   "source": [
    "# setting index on EDDisposition and Acuity\n",
    "count_patient_df = count_patient_df.set_index(['EDDisposition','Acuity'])"
   ]
  },
  {
   "cell_type": "code",
   "execution_count": 80,
   "id": "528fbde6",
   "metadata": {},
   "outputs": [
    {
     "data": {
      "text/html": [
       "<div>\n",
       "<style scoped>\n",
       "    .dataframe tbody tr th:only-of-type {\n",
       "        vertical-align: middle;\n",
       "    }\n",
       "\n",
       "    .dataframe tbody tr th {\n",
       "        vertical-align: top;\n",
       "    }\n",
       "\n",
       "    .dataframe thead th {\n",
       "        text-align: right;\n",
       "    }\n",
       "</style>\n",
       "<table border=\"1\" class=\"dataframe\">\n",
       "  <thead>\n",
       "    <tr style=\"text-align: right;\">\n",
       "      <th></th>\n",
       "      <th></th>\n",
       "      <th>PatientID</th>\n",
       "    </tr>\n",
       "    <tr>\n",
       "      <th>EDDisposition</th>\n",
       "      <th>Acuity</th>\n",
       "      <th></th>\n",
       "    </tr>\n",
       "  </thead>\n",
       "  <tbody>\n",
       "    <tr>\n",
       "      <th rowspan=\"5\" valign=\"top\">Admitted</th>\n",
       "      <th>1</th>\n",
       "      <td>32</td>\n",
       "    </tr>\n",
       "    <tr>\n",
       "      <th>2</th>\n",
       "      <td>116</td>\n",
       "    </tr>\n",
       "    <tr>\n",
       "      <th>3</th>\n",
       "      <td>81</td>\n",
       "    </tr>\n",
       "    <tr>\n",
       "      <th>4</th>\n",
       "      <td>107</td>\n",
       "    </tr>\n",
       "    <tr>\n",
       "      <th>5</th>\n",
       "      <td>179</td>\n",
       "    </tr>\n",
       "    <tr>\n",
       "      <th rowspan=\"4\" valign=\"top\">Discharged</th>\n",
       "      <th>1</th>\n",
       "      <td>558</td>\n",
       "    </tr>\n",
       "    <tr>\n",
       "      <th>2</th>\n",
       "      <td>66</td>\n",
       "    </tr>\n",
       "    <tr>\n",
       "      <th>4</th>\n",
       "      <td>30</td>\n",
       "    </tr>\n",
       "    <tr>\n",
       "      <th>5</th>\n",
       "      <td>30</td>\n",
       "    </tr>\n",
       "  </tbody>\n",
       "</table>\n",
       "</div>"
      ],
      "text/plain": [
       "                      PatientID\n",
       "EDDisposition Acuity           \n",
       "Admitted      1              32\n",
       "              2             116\n",
       "              3              81\n",
       "              4             107\n",
       "              5             179\n",
       "Discharged    1             558\n",
       "              2              66\n",
       "              4              30\n",
       "              5              30"
      ]
     },
     "execution_count": 80,
     "metadata": {},
     "output_type": "execute_result"
    }
   ],
   "source": [
    "# printing the values\n",
    "count_patient_df"
   ]
  },
  {
   "cell_type": "code",
   "execution_count": null,
   "id": "dd56686e",
   "metadata": {},
   "outputs": [],
   "source": []
  },
  {
   "cell_type": "markdown",
   "id": "c52e20b9",
   "metadata": {},
   "source": [
    "### Q23.Function to find the center element in the list. (1 element in odd length list, 2 elements in even length list)\n"
   ]
  },
  {
   "cell_type": "code",
   "execution_count": 13,
   "id": "b9fab7f8",
   "metadata": {},
   "outputs": [
    {
     "name": "stdout",
     "output_type": "stream",
     "text": [
      "enter some numbers:1589\n"
     ]
    },
    {
     "data": {
      "text/plain": [
       "('5', '8')"
      ]
     },
     "execution_count": 13,
     "metadata": {},
     "output_type": "execute_result"
    }
   ],
   "source": [
    "def findMiddle(input_list):\n",
    "    middle = float(len(input_list))/2\n",
    "    if middle % 2 != 0:\n",
    "        return input_list[int(middle - .5)]\n",
    "    else:\n",
    "        return (input_list[int(middle-1)],input_list[int(middle)])\n",
    "\n",
    "input_list=list(input(\"enter some numbers:\"))\n",
    "findMiddle(input_list)"
   ]
  },
  {
   "cell_type": "markdown",
   "id": "ade14802",
   "metadata": {},
   "source": [
    "### Q24.Get the count of number of patients based on ReasonForVisit and EDDisposition. Use stack/unstack functions"
   ]
  },
  {
   "cell_type": "code",
   "execution_count": 15,
   "id": "4e4e7f1f",
   "metadata": {},
   "outputs": [
    {
     "data": {
      "text/html": [
       "<div>\n",
       "<style scoped>\n",
       "    .dataframe tbody tr th:only-of-type {\n",
       "        vertical-align: middle;\n",
       "    }\n",
       "\n",
       "    .dataframe tbody tr th {\n",
       "        vertical-align: top;\n",
       "    }\n",
       "\n",
       "    .dataframe thead th {\n",
       "        text-align: right;\n",
       "    }\n",
       "</style>\n",
       "<table border=\"1\" class=\"dataframe\">\n",
       "  <thead>\n",
       "    <tr style=\"text-align: right;\">\n",
       "      <th>ReasonForVisit</th>\n",
       "      <th>Accident</th>\n",
       "      <th>Bleeding</th>\n",
       "      <th>Car Accident</th>\n",
       "      <th>Chest Pain</th>\n",
       "      <th>Cough</th>\n",
       "      <th>Fever</th>\n",
       "      <th>Gun Shot</th>\n",
       "      <th>Intoxication</th>\n",
       "      <th>Laceration</th>\n",
       "      <th>Migraine</th>\n",
       "      <th>Pneumonia</th>\n",
       "      <th>Shortness of Breath</th>\n",
       "      <th>Stomach Ache</th>\n",
       "    </tr>\n",
       "    <tr>\n",
       "      <th>EDDisposition</th>\n",
       "      <th></th>\n",
       "      <th></th>\n",
       "      <th></th>\n",
       "      <th></th>\n",
       "      <th></th>\n",
       "      <th></th>\n",
       "      <th></th>\n",
       "      <th></th>\n",
       "      <th></th>\n",
       "      <th></th>\n",
       "      <th></th>\n",
       "      <th></th>\n",
       "      <th></th>\n",
       "    </tr>\n",
       "  </thead>\n",
       "  <tbody>\n",
       "    <tr>\n",
       "      <th>Admitted</th>\n",
       "      <td>39.0</td>\n",
       "      <td>16.0</td>\n",
       "      <td>17.0</td>\n",
       "      <td>94.0</td>\n",
       "      <td>NaN</td>\n",
       "      <td>46.0</td>\n",
       "      <td>16.0</td>\n",
       "      <td>NaN</td>\n",
       "      <td>NaN</td>\n",
       "      <td>47.0</td>\n",
       "      <td>136.0</td>\n",
       "      <td>72.0</td>\n",
       "      <td>32.0</td>\n",
       "    </tr>\n",
       "    <tr>\n",
       "      <th>Discharged</th>\n",
       "      <td>NaN</td>\n",
       "      <td>15.0</td>\n",
       "      <td>NaN</td>\n",
       "      <td>15.0</td>\n",
       "      <td>1.0</td>\n",
       "      <td>188.0</td>\n",
       "      <td>NaN</td>\n",
       "      <td>30.0</td>\n",
       "      <td>30.0</td>\n",
       "      <td>109.0</td>\n",
       "      <td>65.0</td>\n",
       "      <td>77.0</td>\n",
       "      <td>154.0</td>\n",
       "    </tr>\n",
       "  </tbody>\n",
       "</table>\n",
       "</div>"
      ],
      "text/plain": [
       "ReasonForVisit  Accident  Bleeding  Car Accident  Chest Pain  Cough  Fever  \\\n",
       "EDDisposition                                                                \n",
       "Admitted            39.0      16.0          17.0        94.0    NaN   46.0   \n",
       "Discharged           NaN      15.0           NaN        15.0    1.0  188.0   \n",
       "\n",
       "ReasonForVisit  Gun Shot  Intoxication  Laceration  Migraine  Pneumonia  \\\n",
       "EDDisposition                                                             \n",
       "Admitted            16.0           NaN         NaN      47.0      136.0   \n",
       "Discharged           NaN          30.0        30.0     109.0       65.0   \n",
       "\n",
       "ReasonForVisit  Shortness of Breath  Stomach Ache  \n",
       "EDDisposition                                      \n",
       "Admitted                       72.0          32.0  \n",
       "Discharged                     77.0         154.0  "
      ]
     },
     "execution_count": 15,
     "metadata": {},
     "output_type": "execute_result"
    }
   ],
   "source": [
    "data = EDVisits_df.groupby(['EDDisposition','ReasonForVisit'],as_index=False)['PatientID'].count()\n",
    "stack_df = pd.DataFrame(data)\n",
    "\n",
    "Stack_pivot_df =stack_df.pivot(index='EDDisposition',columns = ['ReasonForVisit'],values='PatientID')\n",
    "Stack_pivot_df"
   ]
  },
  {
   "cell_type": "code",
   "execution_count": 16,
   "id": "54f385d5",
   "metadata": {},
   "outputs": [
    {
     "data": {
      "text/plain": [
       "EDDisposition  ReasonForVisit     \n",
       "Admitted       Accident                39.0\n",
       "               Bleeding                16.0\n",
       "               Car Accident            17.0\n",
       "               Chest Pain              94.0\n",
       "               Fever                   46.0\n",
       "               Gun Shot                16.0\n",
       "               Migraine                47.0\n",
       "               Pneumonia              136.0\n",
       "               Shortness of Breath     72.0\n",
       "               Stomach Ache            32.0\n",
       "Discharged     Bleeding                15.0\n",
       "               Chest Pain              15.0\n",
       "               Cough                    1.0\n",
       "               Fever                  188.0\n",
       "               Intoxication            30.0\n",
       "               Laceration              30.0\n",
       "               Migraine               109.0\n",
       "               Pneumonia               65.0\n",
       "               Shortness of Breath     77.0\n",
       "               Stomach Ache           154.0\n",
       "dtype: float64"
      ]
     },
     "execution_count": 16,
     "metadata": {},
     "output_type": "execute_result"
    }
   ],
   "source": [
    "Stack_pivot_df.stack()"
   ]
  },
  {
   "cell_type": "markdown",
   "id": "6677d773",
   "metadata": {},
   "source": [
    "## Stacked output"
   ]
  },
  {
   "cell_type": "code",
   "execution_count": 17,
   "id": "d1ea8c98",
   "metadata": {},
   "outputs": [
    {
     "data": {
      "text/html": [
       "<div>\n",
       "<style scoped>\n",
       "    .dataframe tbody tr th:only-of-type {\n",
       "        vertical-align: middle;\n",
       "    }\n",
       "\n",
       "    .dataframe tbody tr th {\n",
       "        vertical-align: top;\n",
       "    }\n",
       "\n",
       "    .dataframe thead th {\n",
       "        text-align: right;\n",
       "    }\n",
       "</style>\n",
       "<table border=\"1\" class=\"dataframe\">\n",
       "  <thead>\n",
       "    <tr style=\"text-align: right;\">\n",
       "      <th>ReasonForVisit</th>\n",
       "      <th>Accident</th>\n",
       "      <th>Bleeding</th>\n",
       "      <th>Car Accident</th>\n",
       "      <th>Chest Pain</th>\n",
       "      <th>Cough</th>\n",
       "      <th>Fever</th>\n",
       "      <th>Gun Shot</th>\n",
       "      <th>Intoxication</th>\n",
       "      <th>Laceration</th>\n",
       "      <th>Migraine</th>\n",
       "      <th>Pneumonia</th>\n",
       "      <th>Shortness of Breath</th>\n",
       "      <th>Stomach Ache</th>\n",
       "    </tr>\n",
       "    <tr>\n",
       "      <th>EDDisposition</th>\n",
       "      <th></th>\n",
       "      <th></th>\n",
       "      <th></th>\n",
       "      <th></th>\n",
       "      <th></th>\n",
       "      <th></th>\n",
       "      <th></th>\n",
       "      <th></th>\n",
       "      <th></th>\n",
       "      <th></th>\n",
       "      <th></th>\n",
       "      <th></th>\n",
       "      <th></th>\n",
       "    </tr>\n",
       "  </thead>\n",
       "  <tbody>\n",
       "    <tr>\n",
       "      <th>Admitted</th>\n",
       "      <td>39.0</td>\n",
       "      <td>16.0</td>\n",
       "      <td>17.0</td>\n",
       "      <td>94.0</td>\n",
       "      <td>NaN</td>\n",
       "      <td>46.0</td>\n",
       "      <td>16.0</td>\n",
       "      <td>NaN</td>\n",
       "      <td>NaN</td>\n",
       "      <td>47.0</td>\n",
       "      <td>136.0</td>\n",
       "      <td>72.0</td>\n",
       "      <td>32.0</td>\n",
       "    </tr>\n",
       "    <tr>\n",
       "      <th>Discharged</th>\n",
       "      <td>NaN</td>\n",
       "      <td>15.0</td>\n",
       "      <td>NaN</td>\n",
       "      <td>15.0</td>\n",
       "      <td>1.0</td>\n",
       "      <td>188.0</td>\n",
       "      <td>NaN</td>\n",
       "      <td>30.0</td>\n",
       "      <td>30.0</td>\n",
       "      <td>109.0</td>\n",
       "      <td>65.0</td>\n",
       "      <td>77.0</td>\n",
       "      <td>154.0</td>\n",
       "    </tr>\n",
       "  </tbody>\n",
       "</table>\n",
       "</div>"
      ],
      "text/plain": [
       "ReasonForVisit  Accident  Bleeding  Car Accident  Chest Pain  Cough  Fever  \\\n",
       "EDDisposition                                                                \n",
       "Admitted            39.0      16.0          17.0        94.0    NaN   46.0   \n",
       "Discharged           NaN      15.0           NaN        15.0    1.0  188.0   \n",
       "\n",
       "ReasonForVisit  Gun Shot  Intoxication  Laceration  Migraine  Pneumonia  \\\n",
       "EDDisposition                                                             \n",
       "Admitted            16.0           NaN         NaN      47.0      136.0   \n",
       "Discharged           NaN          30.0        30.0     109.0       65.0   \n",
       "\n",
       "ReasonForVisit  Shortness of Breath  Stomach Ache  \n",
       "EDDisposition                                      \n",
       "Admitted                       72.0          32.0  \n",
       "Discharged                     77.0         154.0  "
      ]
     },
     "execution_count": 17,
     "metadata": {},
     "output_type": "execute_result"
    }
   ],
   "source": [
    "stacked_df = Stack_pivot_df.stack()\n",
    "stacked_df.unstack()"
   ]
  },
  {
   "cell_type": "markdown",
   "id": "99197b82",
   "metadata": {},
   "source": [
    "## Unstacked output"
   ]
  },
  {
   "cell_type": "markdown",
   "id": "0eba2c62",
   "metadata": {},
   "source": [
    "### Q25.Plot a graph by counting the no. of patients in each department"
   ]
  },
  {
   "cell_type": "code",
   "execution_count": 63,
   "id": "432642ef",
   "metadata": {},
   "outputs": [
    {
     "data": {
      "image/png": "[encoded data removed]",
      "text/plain": [
       "<Figure size 720x360 with 1 Axes>"
      ]
     },
     "metadata": {
      "needs_background": "light"
     },
     "output_type": "display_data"
    }
   ],
   "source": [
    "plt.figure(figsize = (10,5))\n",
    "sns.countplot(x='VisitDepartmentID',data = AmbulatoryVisits_df)\n",
    "plt.title('Number of patients, by department')\n",
    "plt.ylabel('# of patients')\n",
    "plt.show()"
   ]
  },
  {
   "cell_type": "markdown",
   "id": "5867fed7",
   "metadata": {},
   "source": [
    "### Q26. Using Arrays and Loops, find the count of of patients based on gender"
   ]
  },
  {
   "cell_type": "code",
   "execution_count": 54,
   "id": "94f1e605",
   "metadata": {},
   "outputs": [
    {
     "name": "stdout",
     "output_type": "stream",
     "text": [
      "count of Male Patients : 537\n",
      "count of Female Patients : 408\n"
     ]
    }
   ],
   "source": [
    "a=np.array(Patients_df['Gender'])\n",
    "m_value=0\n",
    "f_value=0\n",
    "for i in a:\n",
    "    if i == 'Male':\n",
    "        m_value = 1 + m_value\n",
    "    else:  \n",
    "        f_value = 1 + f_value\n",
    "print( 'count of Male Patients :',m_value)\n",
    "print( 'count of Female Patients :',f_value)"
   ]
  },
  {
   "cell_type": "markdown",
   "id": "7660b6fa",
   "metadata": {},
   "source": [
    "### Q27.Plot a graph to count the patients based on discharge disposition"
   ]
  },
  {
   "cell_type": "code",
   "execution_count": 64,
   "id": "905032e4",
   "metadata": {},
   "outputs": [
    {
     "data": {
      "image/png": "[encoded data removed]",
      "text/plain": [
       "<Figure size 576x360 with 1 Axes>"
      ]
     },
     "metadata": {
      "needs_background": "light"
     },
     "output_type": "display_data"
    }
   ],
   "source": [
    "plt.figure(figsize = (8,5))\n",
    "sns.countplot(x='DischargeDisposition',data =ReAdmission_df)\n",
    "plt.title('Number of patients by discharge disposition')\n",
    "plt.ylabel('# of patients')\n",
    "plt.show()"
   ]
  },
  {
   "cell_type": "markdown",
   "id": "9a0669c3",
   "metadata": {},
   "source": [
    "### Q28.Which reason of visit has maximum mortality rate"
   ]
  },
  {
   "cell_type": "code",
   "execution_count": 21,
   "id": "135f2bff",
   "metadata": {},
   "outputs": [],
   "source": [
    "Patient_count= Discharges_df.groupby(['PrimaryDiagnosis'],as_index=False)['PatientID'].count()\n",
    "# this is to get total number of patients for each PrimaryDiagnosis\n",
    "Patient_count.rename(columns={\"PatientID\":\"Total_count\"},inplace = True)\n",
    "Expired_patient_count = Discharges_df[(Discharges_df.DischargeDisposition=='Expired')].groupby(['PrimaryDiagnosis'],as_index=False)['PatientID'].count()\n",
    "Expired_patient_count.rename(columns={\"PatientID\":\"Death_count\"},inplace = True)\n",
    "# Merging the file on PrimaryDiagnosis column\n",
    "Patient_count_df = pd.merge(Patient_count,Expired_patient_count, on = \"PrimaryDiagnosis\", how = 'left')\n",
    "Patient_count_df['Death_count'].fillna(value=0, inplace=True)\n",
    "#calculation actual Morality rate\n",
    "Patient_count_df['Mortality_rate']=Patient_count_df['Death_count']/Patient_count_df['Total_count']\n"
   ]
  },
  {
   "cell_type": "code",
   "execution_count": 52,
   "id": "bbaa6332",
   "metadata": {},
   "outputs": [
    {
     "data": {
      "image/png": "[encoded data removed]",
      "text/plain": [
       "<Figure size 1800x864 with 1 Axes>"
      ]
     },
     "metadata": {
      "needs_background": "light"
     },
     "output_type": "display_data"
    }
   ],
   "source": [
    "plt.figure(figsize = (25,12))\n",
    "sns.barplot(x='PrimaryDiagnosis',y='Mortality_rate',data = Patient_count_df)\n",
    "plt.title('Actual Mortality rate by PrimaryDiagnosis',fontsize=20)\n",
    "plt.show()"
   ]
  },
  {
   "cell_type": "markdown",
   "id": "ecb28100",
   "metadata": {},
   "source": [
    "### Spinal Cord Injury has high Mortality rate"
   ]
  },
  {
   "cell_type": "markdown",
   "id": "7d66018a",
   "metadata": {},
   "source": [
    "### Q29. Calculate average LOS"
   ]
  },
  {
   "cell_type": "code",
   "execution_count": 66,
   "id": "74a1c79a",
   "metadata": {},
   "outputs": [
    {
     "name": "stdout",
     "output_type": "stream",
     "text": [
      "Average LOS is : 8.82458915915616\n"
     ]
    }
   ],
   "source": [
    "#average Los is calculated by using mean() function on 'ExpectedLOS' column\n",
    "avg_LOS = Discharges_df['ExpectedLOS'].mean()\n",
    "print('Average LOS is :',avg_LOS)"
   ]
  },
  {
   "cell_type": "code",
   "execution_count": 25,
   "id": "6e072ec0",
   "metadata": {},
   "outputs": [
    {
     "data": {
      "text/plain": [
       "count    720.000000\n",
       "mean       8.824589\n",
       "std        4.034421\n",
       "min        2.012974\n",
       "25%        5.138501\n",
       "50%        8.633825\n",
       "75%       12.107623\n",
       "max       16.998213\n",
       "Name: ExpectedLOS, dtype: float64"
      ]
     },
     "execution_count": 25,
     "metadata": {},
     "output_type": "execute_result"
    }
   ],
   "source": [
    "#To verify we cross checked with describe()\n",
    "Discharges_df['ExpectedLOS'].describe()"
   ]
  },
  {
   "cell_type": "markdown",
   "id": "f6b35718",
   "metadata": {},
   "source": [
    "### Q30.Which patientid has most entries in readmission registry"
   ]
  },
  {
   "cell_type": "code",
   "execution_count": 70,
   "id": "82f2a9cd",
   "metadata": {},
   "outputs": [
    {
     "data": {
      "image/png": "[encoded data removed]",
      "text/plain": [
       "<Figure size 576x360 with 1 Axes>"
      ]
     },
     "metadata": {
      "needs_background": "light"
     },
     "output_type": "display_data"
    }
   ],
   "source": [
    "# used the count plot and ordered by value_counts() to get top 3 records.\n",
    "plt.figure(figsize = (8,5))\n",
    "sns.countplot(y='PatientID', data =ReAdmission_df, order= ReAdmission_df.PatientID.value_counts().iloc[:3].index)\n",
    "plt.xlabel('Count of Patientid')\n",
    "plt.title('Patientid who has most entries in readmission registry',fontsize=15)\n",
    "plt.show()"
   ]
  },
  {
   "cell_type": "markdown",
   "id": "5807b65e",
   "metadata": {},
   "source": [
    "## From the above graph, PatientID 23 has most entries in readmission registry"
   ]
  },
  {
   "cell_type": "markdown",
   "id": "201220e4",
   "metadata": {},
   "source": [
    "### Q31.Find count of White Spanish Male"
   ]
  },
  {
   "cell_type": "code",
   "execution_count": 29,
   "id": "40425e74",
   "metadata": {},
   "outputs": [
    {
     "data": {
      "image/png": "[encoded data removed]",
      "text/plain": [
       "<Figure size 432x288 with 1 Axes>"
      ]
     },
     "metadata": {
      "needs_background": "light"
     },
     "output_type": "display_data"
    }
   ],
   "source": [
    "sns.countplot(x='Language',data =Patients_df[(Patients_df.Gender == 'Male') & (Patients_df.Race =='White') &(Patients_df.Language == 'Spanish') ] )\n",
    "plt.title('Number of White Spanish Male patients')\n",
    "plt.xlabel('Spanish/White/Male')\n",
    "plt.ylabel('# of patients')\n",
    "plt.show()"
   ]
  },
  {
   "cell_type": "markdown",
   "id": "36df22be",
   "metadata": {},
   "source": [
    "## the Graph Shows we have 15 Patients who are White Spanish Male"
   ]
  },
  {
   "cell_type": "code",
   "execution_count": 30,
   "id": "61fa7e2d",
   "metadata": {},
   "outputs": [
    {
     "data": {
      "text/plain": [
       "15"
      ]
     },
     "execution_count": 30,
     "metadata": {},
     "output_type": "execute_result"
    }
   ],
   "source": [
    "\n",
    "Patients_df.PatientID[(Patients_df.Gender == 'Male') & (Patients_df.Race =='White') &(Patients_df.Language == 'Spanish')] .count()"
   ]
  },
  {
   "cell_type": "markdown",
   "id": "c110e6eb",
   "metadata": {},
   "source": [
    "## cross verified against dataframe "
   ]
  },
  {
   "cell_type": "markdown",
   "id": "e67e48da",
   "metadata": {},
   "source": [
    "### Q32.Write a function to print the table of the given number"
   ]
  },
  {
   "cell_type": "code",
   "execution_count": 31,
   "id": "d0b01338",
   "metadata": {},
   "outputs": [
    {
     "name": "stdout",
     "output_type": "stream",
     "text": [
      "Please Enter a number to print its multiplication table:9\n",
      "Enter  start value to start printing table from:1\n",
      "Enter  end value to stop printing table:15\n",
      "9  x  1  =  9\n",
      "9  x  2  =  18\n",
      "9  x  3  =  27\n",
      "9  x  4  =  36\n",
      "9  x  5  =  45\n",
      "9  x  6  =  54\n",
      "9  x  7  =  63\n",
      "9  x  8  =  72\n",
      "9  x  9  =  81\n",
      "9  x  10  =  90\n",
      "9  x  11  =  99\n",
      "9  x  12  =  108\n",
      "9  x  13  =  117\n",
      "9  x  14  =  126\n",
      "9  x  15  =  135\n"
     ]
    }
   ],
   "source": [
    "def print_table(num, start, end): \n",
    "    \"\"\" This function prints multiplication table of a given number\"\"\"\n",
    "    for i in range(start, end+1): \n",
    "        print(num,' x ', i, ' = ',num*i) \n",
    "# end of function table\n",
    "\n",
    "\n",
    "# input a number\n",
    "n = int(input(\"Please Enter a number to print its multiplication table:\"))\n",
    "start = int(input(\"Enter  start value to start printing table from:\"))\n",
    "end =  int(input(\"Enter  end value to stop printing table:\"))\n",
    "# call the function table by passing actual parameter 'n' \n",
    "\n",
    "print_table(n, start, end)\n"
   ]
  },
  {
   "cell_type": "markdown",
   "id": "910c0f04",
   "metadata": {},
   "source": [
    "### Q33. Using a bar chart, which Service had the lowest count of Expected Mortality?"
   ]
  },
  {
   "cell_type": "code",
   "execution_count": 51,
   "id": "10ab7345",
   "metadata": {},
   "outputs": [
    {
     "data": {
      "image/png": "[encoded data removed]",
      "text/plain": [
       "<Figure size 720x576 with 1 Axes>"
      ]
     },
     "metadata": {
      "needs_background": "light"
     },
     "output_type": "display_data"
    }
   ],
   "source": [
    "plt.figure(figsize = (10,8))\n",
    "sns.barplot(x='Service', y ='ExpectedMortality', data = ReAdmission_df, estimator= count_nonzero)\n",
    "plt.title('count of ExpectedMortality by services',fontsize =15)\n",
    "plt.show()"
   ]
  },
  {
   "cell_type": "markdown",
   "id": "03b3b5ce",
   "metadata": {},
   "source": [
    "## from the above bar chart we come to know Orthopeadics Service had the lowest count of Expected Mortality"
   ]
  },
  {
   "cell_type": "markdown",
   "id": "30d9ab4d",
   "metadata": {},
   "source": [
    "### q34.np.arange(1,31).reshape(6,5) Find the array slicing to get the elements with values 11,12,16,17"
   ]
  },
  {
   "cell_type": "code",
   "execution_count": 33,
   "id": "54f74ef0",
   "metadata": {},
   "outputs": [
    {
     "data": {
      "text/plain": [
       "array([[11, 12],\n",
       "       [16, 17]])"
      ]
     },
     "execution_count": 33,
     "metadata": {},
     "output_type": "execute_result"
    }
   ],
   "source": [
    "a=np.arange(1,31).reshape(6,5)\n",
    "a[2:4,0:2]"
   ]
  },
  {
   "cell_type": "markdown",
   "id": "31f2dc68",
   "metadata": {},
   "source": [
    "### 35.np.arange(1,31).reshape(6,5), find array slicing for elements 2,8,14,20"
   ]
  },
  {
   "cell_type": "code",
   "execution_count": 34,
   "id": "d9be65fc",
   "metadata": {},
   "outputs": [
    {
     "name": "stdout",
     "output_type": "stream",
     "text": [
      "2\n"
     ]
    }
   ],
   "source": [
    "a=np.arange(1,31).reshape(6,5)\n",
    "print(a[(0,1)])"
   ]
  },
  {
   "cell_type": "code",
   "execution_count": 35,
   "id": "638bfc23",
   "metadata": {},
   "outputs": [
    {
     "name": "stdout",
     "output_type": "stream",
     "text": [
      "8\n"
     ]
    }
   ],
   "source": [
    "print(a[(1,2)])"
   ]
  },
  {
   "cell_type": "code",
   "execution_count": 36,
   "id": "8de0ecdb",
   "metadata": {},
   "outputs": [
    {
     "name": "stdout",
     "output_type": "stream",
     "text": [
      "14\n"
     ]
    }
   ],
   "source": [
    "print(a[(2,3)])"
   ]
  },
  {
   "cell_type": "code",
   "execution_count": 37,
   "id": "1415a3ec",
   "metadata": {},
   "outputs": [
    {
     "name": "stdout",
     "output_type": "stream",
     "text": [
      "20\n"
     ]
    }
   ],
   "source": [
    "print(a[(3,4)])"
   ]
  },
  {
   "cell_type": "code",
   "execution_count": 38,
   "id": "58297332",
   "metadata": {},
   "outputs": [
    {
     "data": {
      "text/plain": [
       "array([ 2,  8, 14, 20])"
      ]
     },
     "execution_count": 38,
     "metadata": {},
     "output_type": "execute_result"
    }
   ],
   "source": [
    "# another method to print 2,8,14,20\n",
    "a[[0,1,2,3],[1,2,3,4]]"
   ]
  },
  {
   "cell_type": "markdown",
   "id": "c4ecaa09",
   "metadata": {},
   "source": [
    "### Q36 Create a correlation matrix on EDVisits"
   ]
  },
  {
   "cell_type": "code",
   "execution_count": 72,
   "id": "d7e11b52",
   "metadata": {},
   "outputs": [],
   "source": [
    "EDVisits_corr_df=EDVisits_df"
   ]
  },
  {
   "cell_type": "code",
   "execution_count": 73,
   "id": "06d159ea",
   "metadata": {},
   "outputs": [],
   "source": [
    "EDVisits_corr_df['EDDisposition'] = np.where((EDVisits_corr_df.EDDisposition == 'Admitted'),1,0)\n"
   ]
  },
  {
   "cell_type": "code",
   "execution_count": 74,
   "id": "fafe4658",
   "metadata": {},
   "outputs": [
    {
     "data": {
      "text/html": [
       "<div>\n",
       "<style scoped>\n",
       "    .dataframe tbody tr th:only-of-type {\n",
       "        vertical-align: middle;\n",
       "    }\n",
       "\n",
       "    .dataframe tbody tr th {\n",
       "        vertical-align: top;\n",
       "    }\n",
       "\n",
       "    .dataframe thead th {\n",
       "        text-align: right;\n",
       "    }\n",
       "</style>\n",
       "<table border=\"1\" class=\"dataframe\">\n",
       "  <thead>\n",
       "    <tr style=\"text-align: right;\">\n",
       "      <th></th>\n",
       "      <th>EDVisitID</th>\n",
       "      <th>PatientID</th>\n",
       "      <th>Acuity</th>\n",
       "      <th>EDDisposition</th>\n",
       "      <th>time difference</th>\n",
       "    </tr>\n",
       "  </thead>\n",
       "  <tbody>\n",
       "    <tr>\n",
       "      <th>EDVisitID</th>\n",
       "      <td>1.000000</td>\n",
       "      <td>0.975477</td>\n",
       "      <td>0.005813</td>\n",
       "      <td>NaN</td>\n",
       "      <td>0.015873</td>\n",
       "    </tr>\n",
       "    <tr>\n",
       "      <th>PatientID</th>\n",
       "      <td>0.975477</td>\n",
       "      <td>1.000000</td>\n",
       "      <td>0.003545</td>\n",
       "      <td>NaN</td>\n",
       "      <td>0.020262</td>\n",
       "    </tr>\n",
       "    <tr>\n",
       "      <th>Acuity</th>\n",
       "      <td>0.005813</td>\n",
       "      <td>0.003545</td>\n",
       "      <td>1.000000</td>\n",
       "      <td>NaN</td>\n",
       "      <td>-0.033968</td>\n",
       "    </tr>\n",
       "    <tr>\n",
       "      <th>EDDisposition</th>\n",
       "      <td>NaN</td>\n",
       "      <td>NaN</td>\n",
       "      <td>NaN</td>\n",
       "      <td>NaN</td>\n",
       "      <td>NaN</td>\n",
       "    </tr>\n",
       "    <tr>\n",
       "      <th>time difference</th>\n",
       "      <td>0.015873</td>\n",
       "      <td>0.020262</td>\n",
       "      <td>-0.033968</td>\n",
       "      <td>NaN</td>\n",
       "      <td>1.000000</td>\n",
       "    </tr>\n",
       "  </tbody>\n",
       "</table>\n",
       "</div>"
      ],
      "text/plain": [
       "                 EDVisitID  PatientID    Acuity  EDDisposition  \\\n",
       "EDVisitID         1.000000   0.975477  0.005813            NaN   \n",
       "PatientID         0.975477   1.000000  0.003545            NaN   \n",
       "Acuity            0.005813   0.003545  1.000000            NaN   \n",
       "EDDisposition          NaN        NaN       NaN            NaN   \n",
       "time difference   0.015873   0.020262 -0.033968            NaN   \n",
       "\n",
       "                 time difference  \n",
       "EDVisitID               0.015873  \n",
       "PatientID               0.020262  \n",
       "Acuity                 -0.033968  \n",
       "EDDisposition                NaN  \n",
       "time difference         1.000000  "
      ]
     },
     "execution_count": 74,
     "metadata": {},
     "output_type": "execute_result"
    }
   ],
   "source": [
    "cc=EDVisits_corr_df.corr()\n",
    "cc"
   ]
  },
  {
   "cell_type": "markdown",
   "id": "73c02d66",
   "metadata": {},
   "source": [
    "### there is only 1 numeric column to find the correlation, so tried to change EDDispotion to numeric. from above correlation matrix we couldnt say which is correlated. but EDDispotion and Acuty is slightly correlated. "
   ]
  },
  {
   "cell_type": "code",
   "execution_count": 75,
   "id": "f179bc45",
   "metadata": {},
   "outputs": [],
   "source": [
    "EDVisits_corr_df['time difference'] =(EDVisits_corr_df['EDDischargeTime']-EDVisits_corr_df['VisitDate']).dt.total_seconds() / 60 / 60"
   ]
  },
  {
   "cell_type": "code",
   "execution_count": 76,
   "id": "7d91bb45",
   "metadata": {},
   "outputs": [
    {
     "data": {
      "text/html": [
       "<div>\n",
       "<style scoped>\n",
       "    .dataframe tbody tr th:only-of-type {\n",
       "        vertical-align: middle;\n",
       "    }\n",
       "\n",
       "    .dataframe tbody tr th {\n",
       "        vertical-align: top;\n",
       "    }\n",
       "\n",
       "    .dataframe thead th {\n",
       "        text-align: right;\n",
       "    }\n",
       "</style>\n",
       "<table border=\"1\" class=\"dataframe\">\n",
       "  <thead>\n",
       "    <tr style=\"text-align: right;\">\n",
       "      <th></th>\n",
       "      <th>EDVisitID</th>\n",
       "      <th>PatientID</th>\n",
       "      <th>Acuity</th>\n",
       "      <th>EDDisposition</th>\n",
       "      <th>time difference</th>\n",
       "    </tr>\n",
       "  </thead>\n",
       "  <tbody>\n",
       "    <tr>\n",
       "      <th>EDVisitID</th>\n",
       "      <td>1.000000</td>\n",
       "      <td>0.975477</td>\n",
       "      <td>0.005813</td>\n",
       "      <td>NaN</td>\n",
       "      <td>0.015873</td>\n",
       "    </tr>\n",
       "    <tr>\n",
       "      <th>PatientID</th>\n",
       "      <td>0.975477</td>\n",
       "      <td>1.000000</td>\n",
       "      <td>0.003545</td>\n",
       "      <td>NaN</td>\n",
       "      <td>0.020262</td>\n",
       "    </tr>\n",
       "    <tr>\n",
       "      <th>Acuity</th>\n",
       "      <td>0.005813</td>\n",
       "      <td>0.003545</td>\n",
       "      <td>1.000000</td>\n",
       "      <td>NaN</td>\n",
       "      <td>-0.033968</td>\n",
       "    </tr>\n",
       "    <tr>\n",
       "      <th>EDDisposition</th>\n",
       "      <td>NaN</td>\n",
       "      <td>NaN</td>\n",
       "      <td>NaN</td>\n",
       "      <td>NaN</td>\n",
       "      <td>NaN</td>\n",
       "    </tr>\n",
       "    <tr>\n",
       "      <th>time difference</th>\n",
       "      <td>0.015873</td>\n",
       "      <td>0.020262</td>\n",
       "      <td>-0.033968</td>\n",
       "      <td>NaN</td>\n",
       "      <td>1.000000</td>\n",
       "    </tr>\n",
       "  </tbody>\n",
       "</table>\n",
       "</div>"
      ],
      "text/plain": [
       "                 EDVisitID  PatientID    Acuity  EDDisposition  \\\n",
       "EDVisitID         1.000000   0.975477  0.005813            NaN   \n",
       "PatientID         0.975477   1.000000  0.003545            NaN   \n",
       "Acuity            0.005813   0.003545  1.000000            NaN   \n",
       "EDDisposition          NaN        NaN       NaN            NaN   \n",
       "time difference   0.015873   0.020262 -0.033968            NaN   \n",
       "\n",
       "                 time difference  \n",
       "EDVisitID               0.015873  \n",
       "PatientID               0.020262  \n",
       "Acuity                 -0.033968  \n",
       "EDDisposition                NaN  \n",
       "time difference         1.000000  "
      ]
     },
     "execution_count": 76,
     "metadata": {},
     "output_type": "execute_result"
    }
   ],
   "source": [
    "EDVisits_corr_df.corr()"
   ]
  },
  {
   "cell_type": "markdown",
   "id": "1448133f",
   "metadata": {},
   "source": [
    "### tried to check correlation including length of stay but it is not correlated.EDDisposition & Acuity is slightly correlated."
   ]
  },
  {
   "cell_type": "markdown",
   "id": "eef2d8cc",
   "metadata": {},
   "source": [
    "### 37.Write a function to print all the upper case letter of a given sentence"
   ]
  },
  {
   "cell_type": "code",
   "execution_count": 43,
   "id": "c68432e5",
   "metadata": {},
   "outputs": [
    {
     "name": "stdout",
     "output_type": "stream",
     "text": [
      "Enter any string: adErRtGY\n",
      "Uppercase characters: ERGY\n"
     ]
    }
   ],
   "source": [
    "# Python program to print uppercase letters in the string\n",
    "\n",
    "# take input\n",
    "string = input('Enter any string: ')\n",
    "\n",
    "upper = ''\n",
    "for char in string:\n",
    "    #check uppercase characters\n",
    "    if char.isupper():\n",
    "        upper += char\n",
    "\n",
    "# print uppercase characters\n",
    "print('Uppercase characters:', upper)"
   ]
  },
  {
   "cell_type": "markdown",
   "id": "21b8eb13",
   "metadata": {},
   "source": [
    "### Q38. Number of patients on 'Transfer' based on primary diagnosis"
   ]
  },
  {
   "cell_type": "code",
   "execution_count": 50,
   "id": "4e751222",
   "metadata": {},
   "outputs": [
    {
     "data": {
      "image/png": "[encoded data removed]",
      "text/plain": [
       "<Figure size 1080x576 with 1 Axes>"
      ]
     },
     "metadata": {
      "needs_background": "light"
     },
     "output_type": "display_data"
    }
   ],
   "source": [
    "plt.figure(figsize = (15,8))\n",
    "sns.countplot(x='PrimaryDiagnosis',data =ReAdmission_df[(ReAdmission_df.DischargeDisposition == 'Transfer')])\n",
    "plt.title('Number of patients on Transfer based on primary diagnosis ',fontsize=15)\n",
    "plt.xlabel('Transfer')\n",
    "plt.ylabel('# of patients')\n",
    "plt.show()"
   ]
  },
  {
   "cell_type": "markdown",
   "id": "dff299ba",
   "metadata": {},
   "source": [
    "### Q39.Get the FirstName, LastName,DateOfBirth of the Patients whose reason for visit is Migraine"
   ]
  },
  {
   "cell_type": "code",
   "execution_count": 45,
   "id": "17f096df",
   "metadata": {},
   "outputs": [],
   "source": [
    "#Filtering data on Migraine\n",
    "Pid_Migraine = EDUnique_df['PatientID'][(EDUnique_df.ReasonForVisit == 'Migraine') ]"
   ]
  },
  {
   "cell_type": "code",
   "execution_count": 46,
   "id": "9b3e5a53",
   "metadata": {},
   "outputs": [
    {
     "data": {
      "text/plain": [
       "116"
      ]
     },
     "execution_count": 46,
     "metadata": {},
     "output_type": "execute_result"
    }
   ],
   "source": [
    "# to display number of Patients who has Migraine and valided against data set\n",
    "Pid_Migraine.count()"
   ]
  },
  {
   "cell_type": "code",
   "execution_count": 47,
   "id": "6456e143",
   "metadata": {},
   "outputs": [
    {
     "data": {
      "text/html": [
       "<div>\n",
       "<style scoped>\n",
       "    .dataframe tbody tr th:only-of-type {\n",
       "        vertical-align: middle;\n",
       "    }\n",
       "\n",
       "    .dataframe tbody tr th {\n",
       "        vertical-align: top;\n",
       "    }\n",
       "\n",
       "    .dataframe thead th {\n",
       "        text-align: right;\n",
       "    }\n",
       "</style>\n",
       "<table border=\"1\" class=\"dataframe\">\n",
       "  <thead>\n",
       "    <tr style=\"text-align: right;\">\n",
       "      <th></th>\n",
       "      <th>FirstName</th>\n",
       "      <th>LastName</th>\n",
       "      <th>DateOfBirth</th>\n",
       "    </tr>\n",
       "  </thead>\n",
       "  <tbody>\n",
       "    <tr>\n",
       "      <th>1</th>\n",
       "      <td>Far</td>\n",
       "      <td>Myers</td>\n",
       "      <td>1985-11-15 02:08:42.090</td>\n",
       "    </tr>\n",
       "    <tr>\n",
       "      <th>2</th>\n",
       "      <td>Devlin</td>\n",
       "      <td>Michael</td>\n",
       "      <td>1976-04-15 02:52:09.762</td>\n",
       "    </tr>\n",
       "    <tr>\n",
       "      <th>11</th>\n",
       "      <td>Zonnya</td>\n",
       "      <td>Ab</td>\n",
       "      <td>1963-05-23 10:04:33.074</td>\n",
       "    </tr>\n",
       "    <tr>\n",
       "      <th>13</th>\n",
       "      <td>Gan</td>\n",
       "      <td>Yu</td>\n",
       "      <td>1970-06-02 06:22:54.675</td>\n",
       "    </tr>\n",
       "    <tr>\n",
       "      <th>21</th>\n",
       "      <td>Joesph</td>\n",
       "      <td>Long</td>\n",
       "      <td>1979-12-04 16:45:56.080</td>\n",
       "    </tr>\n",
       "    <tr>\n",
       "      <th>...</th>\n",
       "      <td>...</td>\n",
       "      <td>...</td>\n",
       "      <td>...</td>\n",
       "    </tr>\n",
       "    <tr>\n",
       "      <th>896</th>\n",
       "      <td>Barrows</td>\n",
       "      <td>Coupland</td>\n",
       "      <td>1979-10-31 18:28:35.483</td>\n",
       "    </tr>\n",
       "    <tr>\n",
       "      <th>907</th>\n",
       "      <td>Knox</td>\n",
       "      <td>Group</td>\n",
       "      <td>1975-08-25 22:27:50.177</td>\n",
       "    </tr>\n",
       "    <tr>\n",
       "      <th>909</th>\n",
       "      <td>Kuvalis</td>\n",
       "      <td>Coupland</td>\n",
       "      <td>1986-05-23 19:23:27.752</td>\n",
       "    </tr>\n",
       "    <tr>\n",
       "      <th>914</th>\n",
       "      <td>Jerrilyn</td>\n",
       "      <td>Dyson</td>\n",
       "      <td>1978-01-18 02:41:55.178</td>\n",
       "    </tr>\n",
       "    <tr>\n",
       "      <th>923</th>\n",
       "      <td>Daniel</td>\n",
       "      <td>Shakesby</td>\n",
       "      <td>1980-11-28 17:57:03.702</td>\n",
       "    </tr>\n",
       "  </tbody>\n",
       "</table>\n",
       "<p>116 rows × 3 columns</p>\n",
       "</div>"
      ],
      "text/plain": [
       "    FirstName  LastName             DateOfBirth\n",
       "1         Far     Myers 1985-11-15 02:08:42.090\n",
       "2     Devlin    Michael 1976-04-15 02:52:09.762\n",
       "11     Zonnya        Ab 1963-05-23 10:04:33.074\n",
       "13        Gan        Yu 1970-06-02 06:22:54.675\n",
       "21     Joesph      Long 1979-12-04 16:45:56.080\n",
       "..        ...       ...                     ...\n",
       "896   Barrows  Coupland 1979-10-31 18:28:35.483\n",
       "907      Knox     Group 1975-08-25 22:27:50.177\n",
       "909   Kuvalis  Coupland 1986-05-23 19:23:27.752\n",
       "914  Jerrilyn     Dyson 1978-01-18 02:41:55.178\n",
       "923    Daniel  Shakesby 1980-11-28 17:57:03.702\n",
       "\n",
       "[116 rows x 3 columns]"
      ]
     },
     "execution_count": 47,
     "metadata": {},
     "output_type": "execute_result"
    }
   ],
   "source": [
    "# Passing those Patient_id to Patient table and getting their details. \n",
    "Patients_df.iloc[:,1:4][Patients_df['PatientID'].isin(Pid_Migraine)]"
   ]
  },
  {
   "cell_type": "markdown",
   "id": "c2c94b0b",
   "metadata": {},
   "source": [
    "## Verified it gets only details of 116 records who have Migraine."
   ]
  },
  {
   "cell_type": "markdown",
   "id": "1177d7b9",
   "metadata": {},
   "source": [
    "### Q40. Plot a graph showing the count of patients for the reason visited the hospital."
   ]
  },
  {
   "cell_type": "code",
   "execution_count": 71,
   "id": "a887380f",
   "metadata": {},
   "outputs": [
    {
     "data": {
      "image/png": "[encoded data removed]",
      "text/plain": [
       "<Figure size 1080x576 with 1 Axes>"
      ]
     },
     "metadata": {
      "needs_background": "light"
     },
     "output_type": "display_data"
    }
   ],
   "source": [
    "plt.figure(figsize = (15,8))\n",
    "sns.countplot(x='ReasonForVisit',data=EDVisits_df)\n",
    "\n",
    "plt.ylabel('Count of patients')\n",
    "plt.title('count of patients by the reason visited',fontsize=15)\n",
    "plt.show()\n"
   ]
  },
  {
   "cell_type": "code",
   "execution_count": null,
   "id": "92573c3c",
   "metadata": {},
   "outputs": [],
   "source": []
  }
 ],
 "metadata": {
  "kernelspec": {
   "display_name": "Python 3 (ipykernel)",
   "language": "python",
   "name": "python3"
  },
  "language_info": {
   "codemirror_mode": {
    "name": "ipython",
    "version": 3
   },
   "file_extension": ".py",
   "mimetype": "text/x-python",
   "name": "python",
   "nbconvert_exporter": "python",
   "pygments_lexer": "ipython3",
   "version": "3.9.12"
  }
 },
 "nbformat": 4,
 "nbformat_minor": 5
}
