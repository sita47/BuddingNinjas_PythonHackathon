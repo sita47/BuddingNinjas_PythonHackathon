{
 "cells": [
  {
   "cell_type": "code",
   "execution_count": 22,
   "id": "5129c607",
   "metadata": {},
   "outputs": [],
   "source": [
    "import pandas as pd\n",
    "import random\n",
    "# read the data from the downloaded CSV file.\n",
    "data = pd.read_excel('HospitalDatabase.xlsx','Patients')"
   ]
  },
  {
   "cell_type": "markdown",
   "id": "3f8e9ba9",
   "metadata": {},
   "source": [
    "### Q2. Using iloc, retrieve the firstname and lastname of patients between indices 101 and 200"
   ]
  },
  {
   "cell_type": "code",
   "execution_count": 23,
   "id": "a0f32b0d",
   "metadata": {},
   "outputs": [
    {
     "data": {
      "text/html": [
       "<div>\n",
       "<style scoped>\n",
       "    .dataframe tbody tr th:only-of-type {\n",
       "        vertical-align: middle;\n",
       "    }\n",
       "\n",
       "    .dataframe tbody tr th {\n",
       "        vertical-align: top;\n",
       "    }\n",
       "\n",
       "    .dataframe thead th {\n",
       "        text-align: right;\n",
       "    }\n",
       "</style>\n",
       "<table border=\"1\" class=\"dataframe\">\n",
       "  <thead>\n",
       "    <tr style=\"text-align: right;\">\n",
       "      <th></th>\n",
       "      <th>FirstName</th>\n",
       "      <th>LastName</th>\n",
       "    </tr>\n",
       "  </thead>\n",
       "  <tbody>\n",
       "    <tr>\n",
       "      <th>101</th>\n",
       "      <td>Gipsy</td>\n",
       "      <td>Frankton</td>\n",
       "    </tr>\n",
       "    <tr>\n",
       "      <th>102</th>\n",
       "      <td>Jethro</td>\n",
       "      <td>Wharin</td>\n",
       "    </tr>\n",
       "    <tr>\n",
       "      <th>103</th>\n",
       "      <td>Viv</td>\n",
       "      <td>Aylward</td>\n",
       "    </tr>\n",
       "    <tr>\n",
       "      <th>104</th>\n",
       "      <td>Swift</td>\n",
       "      <td>Dreschler</td>\n",
       "    </tr>\n",
       "    <tr>\n",
       "      <th>105</th>\n",
       "      <td>Fadel</td>\n",
       "      <td>Jacquemard</td>\n",
       "    </tr>\n",
       "    <tr>\n",
       "      <th>...</th>\n",
       "      <td>...</td>\n",
       "      <td>...</td>\n",
       "    </tr>\n",
       "    <tr>\n",
       "      <th>195</th>\n",
       "      <td>Cathlene</td>\n",
       "      <td>Kidwell</td>\n",
       "    </tr>\n",
       "    <tr>\n",
       "      <th>196</th>\n",
       "      <td>Noam</td>\n",
       "      <td>Laguerre</td>\n",
       "    </tr>\n",
       "    <tr>\n",
       "      <th>197</th>\n",
       "      <td>Arie</td>\n",
       "      <td>Bayless</td>\n",
       "    </tr>\n",
       "    <tr>\n",
       "      <th>198</th>\n",
       "      <td>Janaye</td>\n",
       "      <td>O'Mohun</td>\n",
       "    </tr>\n",
       "    <tr>\n",
       "      <th>199</th>\n",
       "      <td>Fonz</td>\n",
       "      <td>Group</td>\n",
       "    </tr>\n",
       "  </tbody>\n",
       "</table>\n",
       "<p>99 rows × 2 columns</p>\n",
       "</div>"
      ],
      "text/plain": [
       "    FirstName    LastName\n",
       "101     Gipsy    Frankton\n",
       "102    Jethro      Wharin\n",
       "103       Viv     Aylward\n",
       "104     Swift   Dreschler\n",
       "105     Fadel  Jacquemard\n",
       "..        ...         ...\n",
       "195  Cathlene     Kidwell\n",
       "196      Noam    Laguerre\n",
       "197      Arie     Bayless\n",
       "198    Janaye     O'Mohun\n",
       "199      Fonz       Group\n",
       "\n",
       "[99 rows x 2 columns]"
      ]
     },
     "execution_count": 23,
     "metadata": {},
     "output_type": "execute_result"
    }
   ],
   "source": [
    "data.iloc[101:200,1:3]"
   ]
  },
  {
   "cell_type": "markdown",
   "id": "1ebf45b6",
   "metadata": {},
   "source": [
    "###  Q5. Display full name of patients who are born in 1986"
   ]
  },
  {
   "cell_type": "code",
   "execution_count": 4,
   "id": "6c37ce39",
   "metadata": {},
   "outputs": [],
   "source": [
    "# reading dataofbirth column values\n",
    "data['dob'] = data.DateOfBirth"
   ]
  },
  {
   "cell_type": "code",
   "execution_count": 5,
   "id": "0564e80a",
   "metadata": {},
   "outputs": [],
   "source": [
    "# taking only the year details from column.\n",
    "data['year1'] = pd.DatetimeIndex(data['dob']).year"
   ]
  },
  {
   "cell_type": "code",
   "execution_count": 6,
   "id": "923c1213",
   "metadata": {},
   "outputs": [],
   "source": [
    "# Passing the condition and getting patient's details who born in 1986\n",
    "data_1986 = data[pd.DatetimeIndex(data.DateOfBirth).year==1986]"
   ]
  },
  {
   "cell_type": "code",
   "execution_count": 7,
   "id": "0c2e3259",
   "metadata": {},
   "outputs": [
    {
     "data": {
      "text/html": [
       "<div>\n",
       "<style scoped>\n",
       "    .dataframe tbody tr th:only-of-type {\n",
       "        vertical-align: middle;\n",
       "    }\n",
       "\n",
       "    .dataframe tbody tr th {\n",
       "        vertical-align: top;\n",
       "    }\n",
       "\n",
       "    .dataframe thead th {\n",
       "        text-align: right;\n",
       "    }\n",
       "</style>\n",
       "<table border=\"1\" class=\"dataframe\">\n",
       "  <thead>\n",
       "    <tr style=\"text-align: right;\">\n",
       "      <th></th>\n",
       "      <th>FirstName</th>\n",
       "      <th>LastName</th>\n",
       "    </tr>\n",
       "  </thead>\n",
       "  <tbody>\n",
       "    <tr>\n",
       "      <th>23</th>\n",
       "      <td>Gabriel</td>\n",
       "      <td>Joseph</td>\n",
       "    </tr>\n",
       "    <tr>\n",
       "      <th>24</th>\n",
       "      <td>Lincoln</td>\n",
       "      <td>Brenda</td>\n",
       "    </tr>\n",
       "    <tr>\n",
       "      <th>29</th>\n",
       "      <td>Ala</td>\n",
       "      <td>Halpert</td>\n",
       "    </tr>\n",
       "    <tr>\n",
       "      <th>72</th>\n",
       "      <td>Lolita</td>\n",
       "      <td>Darci</td>\n",
       "    </tr>\n",
       "    <tr>\n",
       "      <th>164</th>\n",
       "      <td>Fadel</td>\n",
       "      <td>Bernardt</td>\n",
       "    </tr>\n",
       "    <tr>\n",
       "      <th>238</th>\n",
       "      <td>Bentley</td>\n",
       "      <td>Kippax</td>\n",
       "    </tr>\n",
       "    <tr>\n",
       "      <th>367</th>\n",
       "      <td>Vale</td>\n",
       "      <td>Olanda</td>\n",
       "    </tr>\n",
       "    <tr>\n",
       "      <th>373</th>\n",
       "      <td>Britt</td>\n",
       "      <td>Dureden</td>\n",
       "    </tr>\n",
       "    <tr>\n",
       "      <th>386</th>\n",
       "      <td>Cristabel</td>\n",
       "      <td>Chatel</td>\n",
       "    </tr>\n",
       "    <tr>\n",
       "      <th>415</th>\n",
       "      <td>Constantia</td>\n",
       "      <td>Group</td>\n",
       "    </tr>\n",
       "    <tr>\n",
       "      <th>452</th>\n",
       "      <td>Morgan</td>\n",
       "      <td>Scrowston</td>\n",
       "    </tr>\n",
       "    <tr>\n",
       "      <th>561</th>\n",
       "      <td>Dom</td>\n",
       "      <td>Baglow</td>\n",
       "    </tr>\n",
       "    <tr>\n",
       "      <th>568</th>\n",
       "      <td>Ignazio</td>\n",
       "      <td>Melling</td>\n",
       "    </tr>\n",
       "    <tr>\n",
       "      <th>595</th>\n",
       "      <td>Homenick</td>\n",
       "      <td>Rings</td>\n",
       "    </tr>\n",
       "    <tr>\n",
       "      <th>639</th>\n",
       "      <td>Hashim</td>\n",
       "      <td>Slark</td>\n",
       "    </tr>\n",
       "    <tr>\n",
       "      <th>643</th>\n",
       "      <td>Ellie</td>\n",
       "      <td>Ramsbotham</td>\n",
       "    </tr>\n",
       "    <tr>\n",
       "      <th>674</th>\n",
       "      <td>Llewellyn</td>\n",
       "      <td>Group</td>\n",
       "    </tr>\n",
       "    <tr>\n",
       "      <th>714</th>\n",
       "      <td>Niles</td>\n",
       "      <td>Shaw</td>\n",
       "    </tr>\n",
       "    <tr>\n",
       "      <th>733</th>\n",
       "      <td>Yvette</td>\n",
       "      <td>Inc</td>\n",
       "    </tr>\n",
       "    <tr>\n",
       "      <th>777</th>\n",
       "      <td>Siouxie</td>\n",
       "      <td>Group</td>\n",
       "    </tr>\n",
       "    <tr>\n",
       "      <th>852</th>\n",
       "      <td>Carly</td>\n",
       "      <td>Group</td>\n",
       "    </tr>\n",
       "    <tr>\n",
       "      <th>868</th>\n",
       "      <td>Worth</td>\n",
       "      <td>Pickering</td>\n",
       "    </tr>\n",
       "    <tr>\n",
       "      <th>877</th>\n",
       "      <td>Arni</td>\n",
       "      <td>Baldack</td>\n",
       "    </tr>\n",
       "    <tr>\n",
       "      <th>909</th>\n",
       "      <td>Kuvalis</td>\n",
       "      <td>Coupland</td>\n",
       "    </tr>\n",
       "    <tr>\n",
       "      <th>922</th>\n",
       "      <td>Rebbecca</td>\n",
       "      <td>Rollingson</td>\n",
       "    </tr>\n",
       "    <tr>\n",
       "      <th>940</th>\n",
       "      <td>Wat</td>\n",
       "      <td>Fideler</td>\n",
       "    </tr>\n",
       "  </tbody>\n",
       "</table>\n",
       "</div>"
      ],
      "text/plain": [
       "      FirstName    LastName\n",
       "23     Gabriel       Joseph\n",
       "24     Lincoln       Brenda\n",
       "29          Ala     Halpert\n",
       "72       Lolita       Darci\n",
       "164       Fadel    Bernardt\n",
       "238     Bentley      Kippax\n",
       "367        Vale      Olanda\n",
       "373       Britt     Dureden\n",
       "386   Cristabel      Chatel\n",
       "415  Constantia       Group\n",
       "452      Morgan   Scrowston\n",
       "561         Dom      Baglow\n",
       "568     Ignazio     Melling\n",
       "595    Homenick       Rings\n",
       "639      Hashim       Slark\n",
       "643       Ellie  Ramsbotham\n",
       "674   Llewellyn       Group\n",
       "714       Niles        Shaw\n",
       "733      Yvette         Inc\n",
       "777     Siouxie       Group\n",
       "852       Carly       Group\n",
       "868       Worth   Pickering\n",
       "877        Arni     Baldack\n",
       "909     Kuvalis    Coupland\n",
       "922    Rebbecca  Rollingson\n",
       "940         Wat     Fideler"
      ]
     },
     "execution_count": 7,
     "metadata": {},
     "output_type": "execute_result"
    }
   ],
   "source": [
    "data_1986.iloc[:,1:3]"
   ]
  },
  {
   "cell_type": "markdown",
   "id": "82b7a55a",
   "metadata": {},
   "source": [
    "### Qno.14 To find the number of null values in BloodPressureSystolic column"
   ]
  },
  {
   "cell_type": "code",
   "execution_count": 8,
   "id": "357268f4",
   "metadata": {},
   "outputs": [],
   "source": [
    "# reading the Ambulatory Visits file to get BloodPressureSystolic column\n",
    "df = pd.read_excel('HospitalDatabase.xlsx','AmbulatoryVisits')"
   ]
  },
  {
   "cell_type": "code",
   "execution_count": 9,
   "id": "20157248",
   "metadata": {},
   "outputs": [
    {
     "name": "stdout",
     "output_type": "stream",
     "text": [
      "0      False\n",
      "1      False\n",
      "2      False\n",
      "3      False\n",
      "4      False\n",
      "       ...  \n",
      "945    False\n",
      "946    False\n",
      "947    False\n",
      "948    False\n",
      "949    False\n",
      "Name: BloodPressureSystolic, Length: 950, dtype: bool\n"
     ]
    }
   ],
   "source": [
    "#to check whether the column as null data\n",
    "BP = df['BloodPressureSystolic'].isnull()\n",
    "print(BP)"
   ]
  },
  {
   "cell_type": "code",
   "execution_count": 10,
   "id": "cedadb08",
   "metadata": {},
   "outputs": [
    {
     "name": "stdout",
     "output_type": "stream",
     "text": [
      "124\n"
     ]
    }
   ],
   "source": [
    "#to check how many null values in the column\n",
    "BP = df['BloodPressureSystolic'].isnull().sum()\n",
    "print(BP)"
   ]
  },
  {
   "cell_type": "markdown",
   "id": "bceee7cb",
   "metadata": {},
   "source": [
    "### we have 124 null values in BloodPressureSystolic column"
   ]
  },
  {
   "cell_type": "markdown",
   "id": "2a687690",
   "metadata": {},
   "source": [
    "### Qno.15 Replace all the null values in ReadmissionFlag with 0"
   ]
  },
  {
   "cell_type": "code",
   "execution_count": 11,
   "id": "c55a101b",
   "metadata": {},
   "outputs": [],
   "source": [
    "# Reading the ReAdmissionRegistry\n",
    "readmission = pd.read_excel('HospitalDatabase.xlsx','ReAdmissionRegistry')"
   ]
  },
  {
   "cell_type": "code",
   "execution_count": 12,
   "id": "aa3a36b1",
   "metadata": {},
   "outputs": [
    {
     "name": "stdout",
     "output_type": "stream",
     "text": [
      "526\n"
     ]
    }
   ],
   "source": [
    "# to check how many records has null values\n",
    "readmissionflag = readmission['ReadmissionFlag'].isnull().sum()\n",
    "print(readmissionflag)"
   ]
  },
  {
   "cell_type": "code",
   "execution_count": 13,
   "id": "6290ef4f",
   "metadata": {},
   "outputs": [],
   "source": [
    "#updating the null to zero\n",
    "readmission['ReadmissionFlag'].fillna(value=0, inplace=True)"
   ]
  },
  {
   "cell_type": "code",
   "execution_count": 14,
   "id": "7cefd3bf",
   "metadata": {},
   "outputs": [
    {
     "name": "stdout",
     "output_type": "stream",
     "text": [
      "0\n"
     ]
    }
   ],
   "source": [
    "#checked whether all records got updated\n",
    "readmissionflagupdated = readmission['ReadmissionFlag'].isnull().sum()\n",
    "print(readmissionflagupdated)"
   ]
  },
  {
   "cell_type": "code",
   "execution_count": 15,
   "id": "6f772c87",
   "metadata": {},
   "outputs": [
    {
     "data": {
      "text/plain": [
       "0      0.0\n",
       "1      1.0\n",
       "2      1.0\n",
       "3      1.0\n",
       "4      0.0\n",
       "      ... \n",
       "715    0.0\n",
       "716    0.0\n",
       "717    0.0\n",
       "718    0.0\n",
       "719    0.0\n",
       "Name: ReadmissionFlag, Length: 720, dtype: float64"
      ]
     },
     "execution_count": 15,
     "metadata": {},
     "output_type": "execute_result"
    }
   ],
   "source": [
    "#verified the output\n",
    "readmission['ReadmissionFlag']"
   ]
  },
  {
   "cell_type": "markdown",
   "id": "e4f29d56",
   "metadata": {},
   "source": [
    "### Qno 9 Get the list of patient ids which are not there in ReadmissionRegistry"
   ]
  },
  {
   "cell_type": "code",
   "execution_count": 24,
   "id": "b13d9711",
   "metadata": {},
   "outputs": [],
   "source": [
    "#reading Patient id's from two data set data\n",
    "dpatientid = data['PatientID']\n",
    "readmissionid = readmission['PatientID'].drop_duplicates()"
   ]
  },
  {
   "cell_type": "code",
   "execution_count": 25,
   "id": "ca67e948",
   "metadata": {},
   "outputs": [],
   "source": [
    "# Patient id not readmitted\n",
    "Patinentid_nt = dpatientid[~dpatientid.isin(readmissionid)].dropna()"
   ]
  },
  {
   "cell_type": "code",
   "execution_count": 26,
   "id": "a0a9d9c5",
   "metadata": {},
   "outputs": [
    {
     "name": "stdout",
     "output_type": "stream",
     "text": [
      "241\n"
     ]
    }
   ],
   "source": [
    "print(Patinentid_nt.count())"
   ]
  },
  {
   "cell_type": "code",
   "execution_count": 27,
   "id": "d7aba730",
   "metadata": {},
   "outputs": [
    {
     "name": "stdout",
     "output_type": "stream",
     "text": [
      "3        4\n",
      "134    135\n",
      "144    145\n",
      "188    189\n",
      "199    200\n",
      "      ... \n",
      "940    941\n",
      "941    942\n",
      "942    943\n",
      "943    944\n",
      "944    945\n",
      "Name: PatientID, Length: 241, dtype: int64\n"
     ]
    }
   ],
   "source": [
    "# patient id not readmitted\n",
    "print(Patinentid_nt) "
   ]
  },
  {
   "cell_type": "markdown",
   "id": "4821b29f",
   "metadata": {},
   "source": [
    "### Q19 Create a dataframe with date and time as columns, where the values are the discharge time from readmissionregistry sheet"
   ]
  },
  {
   "cell_type": "code",
   "execution_count": 12,
   "id": "035d0304",
   "metadata": {},
   "outputs": [
    {
     "data": {
      "text/plain": [
       "0     2018-01-04 19:59:31.391\n",
       "1     2018-01-04 21:28:51.898\n",
       "2     2018-01-04 22:28:23.672\n",
       "3     2018-01-05 05:47:04.933\n",
       "4     2018-01-05 14:18:30.029\n",
       "                ...          \n",
       "715   2018-03-07 21:22:10.061\n",
       "716   2018-03-08 02:43:18.749\n",
       "717   2018-03-08 09:27:18.377\n",
       "718   2018-03-10 06:06:12.068\n",
       "719   2018-03-10 20:38:30.568\n",
       "Name: DischargeDate, Length: 720, dtype: datetime64[ns]"
      ]
     },
     "execution_count": 12,
     "metadata": {},
     "output_type": "execute_result"
    }
   ],
   "source": [
    "import pandas as pd\n",
    "# reading the discharge date from ReAdmissionRegistry sheet\n",
    "require_cols = [3]\n",
    "discharge_dt = pd.read_excel('HospitalDatabase.xlsx','ReAdmissionRegistry',usecols = require_cols)\n",
    "discharge_dt['DischargeDate']"
   ]
  },
  {
   "cell_type": "code",
   "execution_count": 18,
   "id": "6430d152",
   "metadata": {},
   "outputs": [
    {
     "data": {
      "text/html": [
       "<div>\n",
       "<style scoped>\n",
       "    .dataframe tbody tr th:only-of-type {\n",
       "        vertical-align: middle;\n",
       "    }\n",
       "\n",
       "    .dataframe tbody tr th {\n",
       "        vertical-align: top;\n",
       "    }\n",
       "\n",
       "    .dataframe thead th {\n",
       "        text-align: right;\n",
       "    }\n",
       "</style>\n",
       "<table border=\"1\" class=\"dataframe\">\n",
       "  <thead>\n",
       "    <tr style=\"text-align: right;\">\n",
       "      <th></th>\n",
       "      <th>DischargeDate</th>\n",
       "      <th>Dates</th>\n",
       "      <th>Time</th>\n",
       "    </tr>\n",
       "  </thead>\n",
       "  <tbody>\n",
       "    <tr>\n",
       "      <th>0</th>\n",
       "      <td>2018-01-04 19:59:31.391</td>\n",
       "      <td>2018-01-04</td>\n",
       "      <td>19:59:31.391000</td>\n",
       "    </tr>\n",
       "    <tr>\n",
       "      <th>1</th>\n",
       "      <td>2018-01-04 21:28:51.898</td>\n",
       "      <td>2018-01-04</td>\n",
       "      <td>21:28:51.898000</td>\n",
       "    </tr>\n",
       "    <tr>\n",
       "      <th>2</th>\n",
       "      <td>2018-01-04 22:28:23.672</td>\n",
       "      <td>2018-01-04</td>\n",
       "      <td>22:28:23.672000</td>\n",
       "    </tr>\n",
       "    <tr>\n",
       "      <th>3</th>\n",
       "      <td>2018-01-05 05:47:04.933</td>\n",
       "      <td>2018-01-05</td>\n",
       "      <td>05:47:04.933000</td>\n",
       "    </tr>\n",
       "    <tr>\n",
       "      <th>4</th>\n",
       "      <td>2018-01-05 14:18:30.029</td>\n",
       "      <td>2018-01-05</td>\n",
       "      <td>14:18:30.029000</td>\n",
       "    </tr>\n",
       "    <tr>\n",
       "      <th>...</th>\n",
       "      <td>...</td>\n",
       "      <td>...</td>\n",
       "      <td>...</td>\n",
       "    </tr>\n",
       "    <tr>\n",
       "      <th>715</th>\n",
       "      <td>2018-03-07 21:22:10.061</td>\n",
       "      <td>2018-03-07</td>\n",
       "      <td>21:22:10.061000</td>\n",
       "    </tr>\n",
       "    <tr>\n",
       "      <th>716</th>\n",
       "      <td>2018-03-08 02:43:18.749</td>\n",
       "      <td>2018-03-08</td>\n",
       "      <td>02:43:18.749000</td>\n",
       "    </tr>\n",
       "    <tr>\n",
       "      <th>717</th>\n",
       "      <td>2018-03-08 09:27:18.377</td>\n",
       "      <td>2018-03-08</td>\n",
       "      <td>09:27:18.377000</td>\n",
       "    </tr>\n",
       "    <tr>\n",
       "      <th>718</th>\n",
       "      <td>2018-03-10 06:06:12.068</td>\n",
       "      <td>2018-03-10</td>\n",
       "      <td>06:06:12.068000</td>\n",
       "    </tr>\n",
       "    <tr>\n",
       "      <th>719</th>\n",
       "      <td>2018-03-10 20:38:30.568</td>\n",
       "      <td>2018-03-10</td>\n",
       "      <td>20:38:30.568000</td>\n",
       "    </tr>\n",
       "  </tbody>\n",
       "</table>\n",
       "<p>720 rows × 3 columns</p>\n",
       "</div>"
      ],
      "text/plain": [
       "              DischargeDate       Dates             Time\n",
       "0   2018-01-04 19:59:31.391  2018-01-04  19:59:31.391000\n",
       "1   2018-01-04 21:28:51.898  2018-01-04  21:28:51.898000\n",
       "2   2018-01-04 22:28:23.672  2018-01-04  22:28:23.672000\n",
       "3   2018-01-05 05:47:04.933  2018-01-05  05:47:04.933000\n",
       "4   2018-01-05 14:18:30.029  2018-01-05  14:18:30.029000\n",
       "..                      ...         ...              ...\n",
       "715 2018-03-07 21:22:10.061  2018-03-07  21:22:10.061000\n",
       "716 2018-03-08 02:43:18.749  2018-03-08  02:43:18.749000\n",
       "717 2018-03-08 09:27:18.377  2018-03-08  09:27:18.377000\n",
       "718 2018-03-10 06:06:12.068  2018-03-10  06:06:12.068000\n",
       "719 2018-03-10 20:38:30.568  2018-03-10  20:38:30.568000\n",
       "\n",
       "[720 rows x 3 columns]"
      ]
     },
     "execution_count": 18,
     "metadata": {},
     "output_type": "execute_result"
    }
   ],
   "source": [
    "# splitting date and time from the column discharge date\n",
    "discharge_dt['Dates']=pd.to_datetime(discharge_dt['DischargeDate']).dt.date\n",
    "discharge_dt['Time']=pd.to_datetime(discharge_dt['DischargeDate']).dt.time\n",
    "discharge_dt"
   ]
  },
  {
   "cell_type": "markdown",
   "id": "ab79f545",
   "metadata": {},
   "source": [
    "### Q10. Create a boxplot on ExpectedLOS by taking service into account"
   ]
  },
  {
   "cell_type": "code",
   "execution_count": 24,
   "id": "3cc7f70e",
   "metadata": {},
   "outputs": [],
   "source": [
    "import seaborn as sns\n",
    "import pandas as pd\n",
    "import numpy as np"
   ]
  },
  {
   "cell_type": "code",
   "execution_count": 26,
   "id": "ddd74eb4",
   "metadata": {},
   "outputs": [],
   "source": [
    "Readmission_df = pd.read_excel('HospitalDatabase.xlsx','ReAdmissionRegistry')"
   ]
  },
  {
   "cell_type": "code",
   "execution_count": 27,
   "id": "1031cea9",
   "metadata": {},
   "outputs": [
    {
     "data": {
      "text/plain": [
       "<AxesSubplot:xlabel='Service', ylabel='ExpectedLOS'>"
      ]
     },
     "execution_count": 27,
     "metadata": {},
     "output_type": "execute_result"
    },
    {
     "data": {
      "image/png": "[encoded data removed]",
      "text/plain": [
       "<Figure size 432x288 with 1 Axes>"
      ]
     },
     "metadata": {
      "needs_background": "light"
     },
     "output_type": "display_data"
    }
   ],
   "source": [
    "sns.boxplot(x='Service',y='ExpectedLOS',data=Readmission_df)"
   ]
  },
  {
   "cell_type": "markdown",
   "id": "4f660323",
   "metadata": {},
   "source": [
    "### Understandings: Expected LOS is less for Orthopeadics and more for ICU. We see Outliers in 4 type of services (hospitality,ICU,cardiology,neurology)"
   ]
  },
  {
   "cell_type": "markdown",
   "id": "9a49ac19",
   "metadata": {},
   "source": [
    "### Q13. Create a subplot on x = np.arange(0, 10, 0.1) , y = np.sin(np.pi * x) + x  with 2 rows & 2 columns with object oriented approach"
   ]
  },
  {
   "cell_type": "code",
   "execution_count": 28,
   "id": "e81c7a41",
   "metadata": {},
   "outputs": [],
   "source": [
    "import numpy as np\n",
    "import matplotlib.pyplot as plt"
   ]
  },
  {
   "cell_type": "code",
   "execution_count": 45,
   "id": "4a6ad273",
   "metadata": {},
   "outputs": [
    {
     "data": {
      "image/png": "[encoded data removed]",
      "text/plain": [
       "<Figure size 432x288 with 4 Axes>"
      ]
     },
     "metadata": {
      "needs_background": "light"
     },
     "output_type": "display_data"
    }
   ],
   "source": [
    "x = np.arange(0,10,0.1)\n",
    "y = np.sin(np.pi * x) + x\n",
    "\n",
    "fig, axes = plt.subplots(2, 2,sharex='col', \n",
    "                       sharey='row')\n",
    "for row in range(rows):\n",
    "    for col in range(cols):\n",
    "        axes[row, col].plot(x,y)\n",
    "plt.show()        "
   ]
  },
  {
   "cell_type": "markdown",
   "id": "15ca2d20",
   "metadata": {},
   "source": [
    "### Q24. Create a dataframe with acuity and EDDisposition as the indices and the count of number of patients as the value"
   ]
  },
  {
   "cell_type": "code",
   "execution_count": 145,
   "id": "2d3875d5",
   "metadata": {},
   "outputs": [],
   "source": [
    "# reading the data\n",
    "\n",
    "edvisits_df = pd.read_excel('HospitalDatabase.xlsx','EDVisits')"
   ]
  },
  {
   "cell_type": "code",
   "execution_count": 61,
   "id": "ec506306",
   "metadata": {},
   "outputs": [],
   "source": [
    "# used groupby() to get the count of patients and writing it to dataframe\n",
    "data= edvisits_df.groupby(['EDDisposition','Acuity'],as_index=False)['PatientID'].count()\n",
    "count_patient_df = pd.DataFrame(data)"
   ]
  },
  {
   "cell_type": "code",
   "execution_count": 62,
   "id": "3f5f34d5",
   "metadata": {},
   "outputs": [],
   "source": [
    "# setting index on EDDisposition and Acuity\n",
    "count_patient_df = count_patient_df.set_index(['EDDisposition','Acuity'])"
   ]
  },
  {
   "cell_type": "code",
   "execution_count": 63,
   "id": "f6f38cdb",
   "metadata": {},
   "outputs": [
    {
     "data": {
      "text/html": [
       "<div>\n",
       "<style scoped>\n",
       "    .dataframe tbody tr th:only-of-type {\n",
       "        vertical-align: middle;\n",
       "    }\n",
       "\n",
       "    .dataframe tbody tr th {\n",
       "        vertical-align: top;\n",
       "    }\n",
       "\n",
       "    .dataframe thead th {\n",
       "        text-align: right;\n",
       "    }\n",
       "</style>\n",
       "<table border=\"1\" class=\"dataframe\">\n",
       "  <thead>\n",
       "    <tr style=\"text-align: right;\">\n",
       "      <th></th>\n",
       "      <th></th>\n",
       "      <th>PatientID</th>\n",
       "    </tr>\n",
       "    <tr>\n",
       "      <th>EDDisposition</th>\n",
       "      <th>Acuity</th>\n",
       "      <th></th>\n",
       "    </tr>\n",
       "  </thead>\n",
       "  <tbody>\n",
       "    <tr>\n",
       "      <th rowspan=\"5\" valign=\"top\">Admitted</th>\n",
       "      <th>1</th>\n",
       "      <td>32</td>\n",
       "    </tr>\n",
       "    <tr>\n",
       "      <th>2</th>\n",
       "      <td>116</td>\n",
       "    </tr>\n",
       "    <tr>\n",
       "      <th>3</th>\n",
       "      <td>81</td>\n",
       "    </tr>\n",
       "    <tr>\n",
       "      <th>4</th>\n",
       "      <td>107</td>\n",
       "    </tr>\n",
       "    <tr>\n",
       "      <th>5</th>\n",
       "      <td>179</td>\n",
       "    </tr>\n",
       "    <tr>\n",
       "      <th rowspan=\"4\" valign=\"top\">Discharged</th>\n",
       "      <th>1</th>\n",
       "      <td>558</td>\n",
       "    </tr>\n",
       "    <tr>\n",
       "      <th>2</th>\n",
       "      <td>66</td>\n",
       "    </tr>\n",
       "    <tr>\n",
       "      <th>4</th>\n",
       "      <td>30</td>\n",
       "    </tr>\n",
       "    <tr>\n",
       "      <th>5</th>\n",
       "      <td>30</td>\n",
       "    </tr>\n",
       "  </tbody>\n",
       "</table>\n",
       "</div>"
      ],
      "text/plain": [
       "                      PatientID\n",
       "EDDisposition Acuity           \n",
       "Admitted      1              32\n",
       "              2             116\n",
       "              3              81\n",
       "              4             107\n",
       "              5             179\n",
       "Discharged    1             558\n",
       "              2              66\n",
       "              4              30\n",
       "              5              30"
      ]
     },
     "execution_count": 63,
     "metadata": {},
     "output_type": "execute_result"
    }
   ],
   "source": [
    "# printing the values\n",
    "count_patient_df"
   ]
  },
  {
   "cell_type": "code",
   "execution_count": 65,
   "id": "41730edb",
   "metadata": {},
   "outputs": [
    {
     "data": {
      "text/plain": [
       "EDDisposition  Acuity\n",
       "Admitted       1          32\n",
       "               2         116\n",
       "               3          81\n",
       "               4         107\n",
       "               5         179\n",
       "Discharged     1         558\n",
       "               2          66\n",
       "               4          30\n",
       "               5          30\n",
       "Name: PatientID, dtype: int64"
      ]
     },
     "execution_count": 65,
     "metadata": {},
     "output_type": "execute_result"
    }
   ],
   "source": [
    "count_patient_df_2= edvisits_df.groupby(['EDDisposition','Acuity'],as_index=True)['PatientID'].count()\n",
    "count_patient_df_2"
   ]
  },
  {
   "cell_type": "markdown",
   "id": "258fe2d7",
   "metadata": {},
   "source": [
    "### Q25. Plot a graph by counting the no. of patients in each department"
   ]
  },
  {
   "cell_type": "code",
   "execution_count": 93,
   "id": "867e0eb6",
   "metadata": {},
   "outputs": [],
   "source": [
    "\n",
    "ambulatoryvisit_df = pd.read_excel('HospitalDatabase.xlsx','AmbulatoryVisits')\n"
   ]
  },
  {
   "cell_type": "code",
   "execution_count": 113,
   "id": "c0d47d56",
   "metadata": {},
   "outputs": [
    {
     "data": {
      "text/plain": [
       "Text(0, 0.5, '# of patients')"
      ]
     },
     "execution_count": 113,
     "metadata": {},
     "output_type": "execute_result"
    },
    {
     "data": {
      "image/png": "[encoded data removed]",
      "text/plain": [
       "<Figure size 432x288 with 1 Axes>"
      ]
     },
     "metadata": {
      "needs_background": "light"
     },
     "output_type": "display_data"
    }
   ],
   "source": [
    "sns.countplot(x='VisitDepartmentID',data = ambulatoryvisit_df)\n",
    "plt.title('Number of patients, by department')\n",
    "plt.ylabel('# of patients')"
   ]
  },
  {
   "cell_type": "code",
   "execution_count": null,
   "id": "b8b91fe1",
   "metadata": {},
   "outputs": [],
   "source": []
  },
  {
   "cell_type": "code",
   "execution_count": null,
   "id": "e44f00d6",
   "metadata": {},
   "outputs": [],
   "source": []
  },
  {
   "cell_type": "code",
   "execution_count": null,
   "id": "1547ad8a",
   "metadata": {},
   "outputs": [],
   "source": []
  },
  {
   "cell_type": "code",
   "execution_count": null,
   "id": "5b34e2de",
   "metadata": {},
   "outputs": [],
   "source": []
  },
  {
   "cell_type": "markdown",
   "id": "e74d4903",
   "metadata": {},
   "source": [
    "### Q27 Plot a graph to count the patients based on discharge disposition"
   ]
  },
  {
   "cell_type": "code",
   "execution_count": 114,
   "id": "d5086900",
   "metadata": {},
   "outputs": [
    {
     "data": {
      "text/plain": [
       "Text(0, 0.5, '# of patients')"
      ]
     },
     "execution_count": 114,
     "metadata": {},
     "output_type": "execute_result"
    },
    {
     "data": {
      "image/png": "[encoded data removed]",
      "text/plain": [
       "<Figure size 432x288 with 1 Axes>"
      ]
     },
     "metadata": {
      "needs_background": "light"
     },
     "output_type": "display_data"
    }
   ],
   "source": [
    "sns.countplot(x='DischargeDisposition',data =Readmission_df)\n",
    "plt.title('Number of patients, by discharge disposition')\n",
    "plt.ylabel('# of patients')"
   ]
  },
  {
   "cell_type": "code",
   "execution_count": null,
   "id": "78f9f136",
   "metadata": {},
   "outputs": [],
   "source": []
  },
  {
   "cell_type": "code",
   "execution_count": null,
   "id": "957d9349",
   "metadata": {},
   "outputs": [],
   "source": []
  },
  {
   "cell_type": "markdown",
   "id": "f27827e4",
   "metadata": {},
   "source": [
    "### Q31. Find count of White Spanish Male"
   ]
  },
  {
   "cell_type": "code",
   "execution_count": 99,
   "id": "7da89770",
   "metadata": {},
   "outputs": [],
   "source": [
    "patients_df =  pd.read_excel('HospitalDatabase.xlsx','Patients')"
   ]
  },
  {
   "cell_type": "code",
   "execution_count": 115,
   "id": "c8d3ab5e",
   "metadata": {},
   "outputs": [
    {
     "data": {
      "text/plain": [
       "Text(0, 0.5, '# of patients')"
      ]
     },
     "execution_count": 115,
     "metadata": {},
     "output_type": "execute_result"
    },
    {
     "data": {
      "image/png": "[encoded data removed]",
      "text/plain": [
       "<Figure size 432x288 with 1 Axes>"
      ]
     },
     "metadata": {
      "needs_background": "light"
     },
     "output_type": "display_data"
    }
   ],
   "source": [
    "sns.countplot(x='Language',data =patients_df[(patients_df.Gender == 'Male') & (patients_df.Race =='White') &(patients_df.Language == 'Spanish') ] )\n",
    "plt.title('Number of White Spanish Male patients')\n",
    "plt.xlabel('# Spanish/White/Male')\n",
    "plt.ylabel('# of patients')"
   ]
  },
  {
   "cell_type": "code",
   "execution_count": null,
   "id": "6fc285ca",
   "metadata": {},
   "outputs": [],
   "source": []
  },
  {
   "cell_type": "code",
   "execution_count": 112,
   "id": "6976e119",
   "metadata": {},
   "outputs": [
    {
     "data": {
      "text/plain": [
       "PatientID      15\n",
       "FirstName      15\n",
       "LastName       15\n",
       "DateOfBirth    15\n",
       "Gender         15\n",
       "Race           15\n",
       "Language       15\n",
       "dtype: int64"
      ]
     },
     "execution_count": 112,
     "metadata": {},
     "output_type": "execute_result"
    }
   ],
   "source": [
    "patients_df[(patients_df.Gender == 'Male') & (patients_df.Race =='White') &(patients_df.Language == 'Spanish') ].count()"
   ]
  },
  {
   "cell_type": "code",
   "execution_count": null,
   "id": "3a047cd6",
   "metadata": {},
   "outputs": [],
   "source": []
  },
  {
   "cell_type": "markdown",
   "id": "4f338b93",
   "metadata": {},
   "source": [
    "### Q33. Using a bar chart, which Service had the lowest count of Expected Mortality?"
   ]
  },
  {
   "cell_type": "code",
   "execution_count": 132,
   "id": "dcefc2df",
   "metadata": {},
   "outputs": [
    {
     "data": {
      "text/plain": [
       "<Figure size 2520x576 with 0 Axes>"
      ]
     },
     "metadata": {},
     "output_type": "display_data"
    }
   ],
   "source": [
    "from numpy import count_nonzero\n",
    "fig = plt.gcf()\n",
    "fig.set_size_inches(35,8)"
   ]
  },
  {
   "cell_type": "code",
   "execution_count": 131,
   "id": "40a132d8",
   "metadata": {},
   "outputs": [
    {
     "data": {
      "image/png": "[encoded data removed]",
      "text/plain": [
       "<Figure size 432x288 with 1 Axes>"
      ]
     },
     "metadata": {
      "needs_background": "light"
     },
     "output_type": "display_data"
    }
   ],
   "source": [
    "sns.barplot(x='Service', y ='ExpectedMortality', data = Readmission_df, estimator= count_nonzero)\n",
    "plt.title('count of ExpectedMortality by services')\n"
   ]
  },
  {
   "cell_type": "markdown",
   "id": "d597a208",
   "metadata": {},
   "source": [
    "### from the above bar chart we come to know Orthopeadics Service had the lowest count of Expected Mortality"
   ]
  },
  {
   "cell_type": "markdown",
   "id": "b703a592",
   "metadata": {},
   "source": [
    "### Q36 Create a correlation matrix on EDVisits"
   ]
  },
  {
   "cell_type": "code",
   "execution_count": 146,
   "id": "a576c82f",
   "metadata": {},
   "outputs": [
    {
     "data": {
      "text/html": [
       "<div>\n",
       "<style scoped>\n",
       "    .dataframe tbody tr th:only-of-type {\n",
       "        vertical-align: middle;\n",
       "    }\n",
       "\n",
       "    .dataframe tbody tr th {\n",
       "        vertical-align: top;\n",
       "    }\n",
       "\n",
       "    .dataframe thead th {\n",
       "        text-align: right;\n",
       "    }\n",
       "</style>\n",
       "<table border=\"1\" class=\"dataframe\">\n",
       "  <thead>\n",
       "    <tr style=\"text-align: right;\">\n",
       "      <th></th>\n",
       "      <th>EDVisitID</th>\n",
       "      <th>PatientID</th>\n",
       "      <th>VisitDate</th>\n",
       "      <th>EDDischargeTime</th>\n",
       "      <th>Acuity</th>\n",
       "      <th>ReasonForVisit</th>\n",
       "      <th>EDDisposition</th>\n",
       "    </tr>\n",
       "  </thead>\n",
       "  <tbody>\n",
       "    <tr>\n",
       "      <th>0</th>\n",
       "      <td>1</td>\n",
       "      <td>1</td>\n",
       "      <td>2020-01-01 00:00:00.000</td>\n",
       "      <td>2020-01-01 11:20:22.924</td>\n",
       "      <td>1</td>\n",
       "      <td>Stomach Ache</td>\n",
       "      <td>1</td>\n",
       "    </tr>\n",
       "    <tr>\n",
       "      <th>1</th>\n",
       "      <td>12</td>\n",
       "      <td>12</td>\n",
       "      <td>2020-01-01 02:45:40.302</td>\n",
       "      <td>2020-01-02 02:00:00.517</td>\n",
       "      <td>2</td>\n",
       "      <td>Migraine</td>\n",
       "      <td>1</td>\n",
       "    </tr>\n",
       "    <tr>\n",
       "      <th>2</th>\n",
       "      <td>13</td>\n",
       "      <td>13</td>\n",
       "      <td>2020-01-01 03:09:24.701</td>\n",
       "      <td>2020-01-01 05:00:20.852</td>\n",
       "      <td>3</td>\n",
       "      <td>Stomach Ache</td>\n",
       "      <td>1</td>\n",
       "    </tr>\n",
       "    <tr>\n",
       "      <th>3</th>\n",
       "      <td>14</td>\n",
       "      <td>14</td>\n",
       "      <td>2020-01-01 03:12:19.349</td>\n",
       "      <td>2020-01-01 04:32:29.142</td>\n",
       "      <td>3</td>\n",
       "      <td>Migraine</td>\n",
       "      <td>1</td>\n",
       "    </tr>\n",
       "    <tr>\n",
       "      <th>4</th>\n",
       "      <td>15</td>\n",
       "      <td>15</td>\n",
       "      <td>2020-01-01 03:46:32.698</td>\n",
       "      <td>2020-01-01 06:24:52.741</td>\n",
       "      <td>3</td>\n",
       "      <td>Chest Pain</td>\n",
       "      <td>1</td>\n",
       "    </tr>\n",
       "    <tr>\n",
       "      <th>...</th>\n",
       "      <td>...</td>\n",
       "      <td>...</td>\n",
       "      <td>...</td>\n",
       "      <td>...</td>\n",
       "      <td>...</td>\n",
       "      <td>...</td>\n",
       "      <td>...</td>\n",
       "    </tr>\n",
       "    <tr>\n",
       "      <th>1194</th>\n",
       "      <td>1183</td>\n",
       "      <td>929</td>\n",
       "      <td>2020-01-15 10:38:42.570</td>\n",
       "      <td>2020-01-16 02:31:52.023</td>\n",
       "      <td>4</td>\n",
       "      <td>Chest Pain</td>\n",
       "      <td>0</td>\n",
       "    </tr>\n",
       "    <tr>\n",
       "      <th>1195</th>\n",
       "      <td>1186</td>\n",
       "      <td>932</td>\n",
       "      <td>2020-01-15 11:52:37.540</td>\n",
       "      <td>2020-01-16 10:19:41.570</td>\n",
       "      <td>1</td>\n",
       "      <td>Pneumonia</td>\n",
       "      <td>0</td>\n",
       "    </tr>\n",
       "    <tr>\n",
       "      <th>1196</th>\n",
       "      <td>1187</td>\n",
       "      <td>933</td>\n",
       "      <td>2020-01-15 12:11:11.678</td>\n",
       "      <td>2020-01-15 16:41:15.223</td>\n",
       "      <td>1</td>\n",
       "      <td>Pneumonia</td>\n",
       "      <td>0</td>\n",
       "    </tr>\n",
       "    <tr>\n",
       "      <th>1197</th>\n",
       "      <td>1188</td>\n",
       "      <td>934</td>\n",
       "      <td>2020-01-15 12:21:46.006</td>\n",
       "      <td>2020-01-15 18:32:21.060</td>\n",
       "      <td>1</td>\n",
       "      <td>Pneumonia</td>\n",
       "      <td>0</td>\n",
       "    </tr>\n",
       "    <tr>\n",
       "      <th>1198</th>\n",
       "      <td>1189</td>\n",
       "      <td>935</td>\n",
       "      <td>2020-01-15 12:51:14.875</td>\n",
       "      <td>2020-01-15 23:40:41.456</td>\n",
       "      <td>1</td>\n",
       "      <td>Pneumonia</td>\n",
       "      <td>0</td>\n",
       "    </tr>\n",
       "  </tbody>\n",
       "</table>\n",
       "<p>1199 rows × 7 columns</p>\n",
       "</div>"
      ],
      "text/plain": [
       "      EDVisitID  PatientID               VisitDate         EDDischargeTime  \\\n",
       "0             1          1 2020-01-01 00:00:00.000 2020-01-01 11:20:22.924   \n",
       "1            12         12 2020-01-01 02:45:40.302 2020-01-02 02:00:00.517   \n",
       "2            13         13 2020-01-01 03:09:24.701 2020-01-01 05:00:20.852   \n",
       "3            14         14 2020-01-01 03:12:19.349 2020-01-01 04:32:29.142   \n",
       "4            15         15 2020-01-01 03:46:32.698 2020-01-01 06:24:52.741   \n",
       "...         ...        ...                     ...                     ...   \n",
       "1194       1183        929 2020-01-15 10:38:42.570 2020-01-16 02:31:52.023   \n",
       "1195       1186        932 2020-01-15 11:52:37.540 2020-01-16 10:19:41.570   \n",
       "1196       1187        933 2020-01-15 12:11:11.678 2020-01-15 16:41:15.223   \n",
       "1197       1188        934 2020-01-15 12:21:46.006 2020-01-15 18:32:21.060   \n",
       "1198       1189        935 2020-01-15 12:51:14.875 2020-01-15 23:40:41.456   \n",
       "\n",
       "      Acuity ReasonForVisit  EDDisposition  \n",
       "0          1   Stomach Ache              1  \n",
       "1          2       Migraine              1  \n",
       "2          3   Stomach Ache              1  \n",
       "3          3       Migraine              1  \n",
       "4          3     Chest Pain              1  \n",
       "...      ...            ...            ...  \n",
       "1194       4     Chest Pain              0  \n",
       "1195       1      Pneumonia              0  \n",
       "1196       1      Pneumonia              0  \n",
       "1197       1      Pneumonia              0  \n",
       "1198       1      Pneumonia              0  \n",
       "\n",
       "[1199 rows x 7 columns]"
      ]
     },
     "execution_count": 146,
     "metadata": {},
     "output_type": "execute_result"
    }
   ],
   "source": [
    "edvisits_df['EDDisposition'] = np.where((edvisits_df.EDDisposition == 'Admitted'),1,0)\n",
    "edvisits_df"
   ]
  },
  {
   "cell_type": "code",
   "execution_count": 150,
   "id": "fd510d4a",
   "metadata": {},
   "outputs": [
    {
     "data": {
      "text/html": [
       "<div>\n",
       "<style scoped>\n",
       "    .dataframe tbody tr th:only-of-type {\n",
       "        vertical-align: middle;\n",
       "    }\n",
       "\n",
       "    .dataframe tbody tr th {\n",
       "        vertical-align: top;\n",
       "    }\n",
       "\n",
       "    .dataframe thead th {\n",
       "        text-align: right;\n",
       "    }\n",
       "</style>\n",
       "<table border=\"1\" class=\"dataframe\">\n",
       "  <thead>\n",
       "    <tr style=\"text-align: right;\">\n",
       "      <th></th>\n",
       "      <th>EDVisitID</th>\n",
       "      <th>PatientID</th>\n",
       "      <th>Acuity</th>\n",
       "      <th>EDDisposition</th>\n",
       "    </tr>\n",
       "  </thead>\n",
       "  <tbody>\n",
       "    <tr>\n",
       "      <th>EDVisitID</th>\n",
       "      <td>1.000000</td>\n",
       "      <td>0.975477</td>\n",
       "      <td>0.005813</td>\n",
       "      <td>0.006640</td>\n",
       "    </tr>\n",
       "    <tr>\n",
       "      <th>PatientID</th>\n",
       "      <td>0.975477</td>\n",
       "      <td>1.000000</td>\n",
       "      <td>0.003545</td>\n",
       "      <td>0.007777</td>\n",
       "    </tr>\n",
       "    <tr>\n",
       "      <th>Acuity</th>\n",
       "      <td>0.005813</td>\n",
       "      <td>0.003545</td>\n",
       "      <td>1.000000</td>\n",
       "      <td>0.675967</td>\n",
       "    </tr>\n",
       "    <tr>\n",
       "      <th>EDDisposition</th>\n",
       "      <td>0.006640</td>\n",
       "      <td>0.007777</td>\n",
       "      <td>0.675967</td>\n",
       "      <td>1.000000</td>\n",
       "    </tr>\n",
       "  </tbody>\n",
       "</table>\n",
       "</div>"
      ],
      "text/plain": [
       "               EDVisitID  PatientID    Acuity  EDDisposition\n",
       "EDVisitID       1.000000   0.975477  0.005813       0.006640\n",
       "PatientID       0.975477   1.000000  0.003545       0.007777\n",
       "Acuity          0.005813   0.003545  1.000000       0.675967\n",
       "EDDisposition   0.006640   0.007777  0.675967       1.000000"
      ]
     },
     "execution_count": 150,
     "metadata": {},
     "output_type": "execute_result"
    }
   ],
   "source": [
    "cc=edvisits_df.corr()\n",
    "cc"
   ]
  },
  {
   "cell_type": "markdown",
   "id": "be7cb7e6",
   "metadata": {},
   "source": [
    "### there is only 1 numeric column to find the correlation, so tried to change EDDispotion to numeric. from above correlation matrix we couldnt say which is correlated. but EDDispotion and Acuty is slightly correlated. "
   ]
  },
  {
   "cell_type": "code",
   "execution_count": 157,
   "id": "cc6e6542",
   "metadata": {},
   "outputs": [],
   "source": [
    "edvisits_df['time difference'] =(edvisits_df['EDDischargeTime']-edvisits_df['VisitDate']).dt.total_seconds() / 60 / 60"
   ]
  },
  {
   "cell_type": "code",
   "execution_count": 158,
   "id": "53e74aa4",
   "metadata": {},
   "outputs": [
    {
     "data": {
      "text/html": [
       "<div>\n",
       "<style scoped>\n",
       "    .dataframe tbody tr th:only-of-type {\n",
       "        vertical-align: middle;\n",
       "    }\n",
       "\n",
       "    .dataframe tbody tr th {\n",
       "        vertical-align: top;\n",
       "    }\n",
       "\n",
       "    .dataframe thead th {\n",
       "        text-align: right;\n",
       "    }\n",
       "</style>\n",
       "<table border=\"1\" class=\"dataframe\">\n",
       "  <thead>\n",
       "    <tr style=\"text-align: right;\">\n",
       "      <th></th>\n",
       "      <th>EDVisitID</th>\n",
       "      <th>PatientID</th>\n",
       "      <th>VisitDate</th>\n",
       "      <th>EDDischargeTime</th>\n",
       "      <th>Acuity</th>\n",
       "      <th>ReasonForVisit</th>\n",
       "      <th>EDDisposition</th>\n",
       "      <th>time difference</th>\n",
       "    </tr>\n",
       "  </thead>\n",
       "  <tbody>\n",
       "    <tr>\n",
       "      <th>0</th>\n",
       "      <td>1</td>\n",
       "      <td>1</td>\n",
       "      <td>2020-01-01 00:00:00.000</td>\n",
       "      <td>2020-01-01 11:20:22.924</td>\n",
       "      <td>1</td>\n",
       "      <td>Stomach Ache</td>\n",
       "      <td>1</td>\n",
       "      <td>11.339701</td>\n",
       "    </tr>\n",
       "    <tr>\n",
       "      <th>1</th>\n",
       "      <td>12</td>\n",
       "      <td>12</td>\n",
       "      <td>2020-01-01 02:45:40.302</td>\n",
       "      <td>2020-01-02 02:00:00.517</td>\n",
       "      <td>2</td>\n",
       "      <td>Migraine</td>\n",
       "      <td>1</td>\n",
       "      <td>23.238949</td>\n",
       "    </tr>\n",
       "    <tr>\n",
       "      <th>2</th>\n",
       "      <td>13</td>\n",
       "      <td>13</td>\n",
       "      <td>2020-01-01 03:09:24.701</td>\n",
       "      <td>2020-01-01 05:00:20.852</td>\n",
       "      <td>3</td>\n",
       "      <td>Stomach Ache</td>\n",
       "      <td>1</td>\n",
       "      <td>1.848931</td>\n",
       "    </tr>\n",
       "    <tr>\n",
       "      <th>3</th>\n",
       "      <td>14</td>\n",
       "      <td>14</td>\n",
       "      <td>2020-01-01 03:12:19.349</td>\n",
       "      <td>2020-01-01 04:32:29.142</td>\n",
       "      <td>3</td>\n",
       "      <td>Migraine</td>\n",
       "      <td>1</td>\n",
       "      <td>1.336054</td>\n",
       "    </tr>\n",
       "    <tr>\n",
       "      <th>4</th>\n",
       "      <td>15</td>\n",
       "      <td>15</td>\n",
       "      <td>2020-01-01 03:46:32.698</td>\n",
       "      <td>2020-01-01 06:24:52.741</td>\n",
       "      <td>3</td>\n",
       "      <td>Chest Pain</td>\n",
       "      <td>1</td>\n",
       "      <td>2.638901</td>\n",
       "    </tr>\n",
       "    <tr>\n",
       "      <th>...</th>\n",
       "      <td>...</td>\n",
       "      <td>...</td>\n",
       "      <td>...</td>\n",
       "      <td>...</td>\n",
       "      <td>...</td>\n",
       "      <td>...</td>\n",
       "      <td>...</td>\n",
       "      <td>...</td>\n",
       "    </tr>\n",
       "    <tr>\n",
       "      <th>1194</th>\n",
       "      <td>1183</td>\n",
       "      <td>929</td>\n",
       "      <td>2020-01-15 10:38:42.570</td>\n",
       "      <td>2020-01-16 02:31:52.023</td>\n",
       "      <td>4</td>\n",
       "      <td>Chest Pain</td>\n",
       "      <td>0</td>\n",
       "      <td>15.885959</td>\n",
       "    </tr>\n",
       "    <tr>\n",
       "      <th>1195</th>\n",
       "      <td>1186</td>\n",
       "      <td>932</td>\n",
       "      <td>2020-01-15 11:52:37.540</td>\n",
       "      <td>2020-01-16 10:19:41.570</td>\n",
       "      <td>1</td>\n",
       "      <td>Pneumonia</td>\n",
       "      <td>0</td>\n",
       "      <td>22.451119</td>\n",
       "    </tr>\n",
       "    <tr>\n",
       "      <th>1196</th>\n",
       "      <td>1187</td>\n",
       "      <td>933</td>\n",
       "      <td>2020-01-15 12:11:11.678</td>\n",
       "      <td>2020-01-15 16:41:15.223</td>\n",
       "      <td>1</td>\n",
       "      <td>Pneumonia</td>\n",
       "      <td>0</td>\n",
       "      <td>4.500985</td>\n",
       "    </tr>\n",
       "    <tr>\n",
       "      <th>1197</th>\n",
       "      <td>1188</td>\n",
       "      <td>934</td>\n",
       "      <td>2020-01-15 12:21:46.006</td>\n",
       "      <td>2020-01-15 18:32:21.060</td>\n",
       "      <td>1</td>\n",
       "      <td>Pneumonia</td>\n",
       "      <td>0</td>\n",
       "      <td>6.176404</td>\n",
       "    </tr>\n",
       "    <tr>\n",
       "      <th>1198</th>\n",
       "      <td>1189</td>\n",
       "      <td>935</td>\n",
       "      <td>2020-01-15 12:51:14.875</td>\n",
       "      <td>2020-01-15 23:40:41.456</td>\n",
       "      <td>1</td>\n",
       "      <td>Pneumonia</td>\n",
       "      <td>0</td>\n",
       "      <td>10.824050</td>\n",
       "    </tr>\n",
       "  </tbody>\n",
       "</table>\n",
       "<p>1199 rows × 8 columns</p>\n",
       "</div>"
      ],
      "text/plain": [
       "      EDVisitID  PatientID               VisitDate         EDDischargeTime  \\\n",
       "0             1          1 2020-01-01 00:00:00.000 2020-01-01 11:20:22.924   \n",
       "1            12         12 2020-01-01 02:45:40.302 2020-01-02 02:00:00.517   \n",
       "2            13         13 2020-01-01 03:09:24.701 2020-01-01 05:00:20.852   \n",
       "3            14         14 2020-01-01 03:12:19.349 2020-01-01 04:32:29.142   \n",
       "4            15         15 2020-01-01 03:46:32.698 2020-01-01 06:24:52.741   \n",
       "...         ...        ...                     ...                     ...   \n",
       "1194       1183        929 2020-01-15 10:38:42.570 2020-01-16 02:31:52.023   \n",
       "1195       1186        932 2020-01-15 11:52:37.540 2020-01-16 10:19:41.570   \n",
       "1196       1187        933 2020-01-15 12:11:11.678 2020-01-15 16:41:15.223   \n",
       "1197       1188        934 2020-01-15 12:21:46.006 2020-01-15 18:32:21.060   \n",
       "1198       1189        935 2020-01-15 12:51:14.875 2020-01-15 23:40:41.456   \n",
       "\n",
       "      Acuity ReasonForVisit  EDDisposition  time difference  \n",
       "0          1   Stomach Ache              1        11.339701  \n",
       "1          2       Migraine              1        23.238949  \n",
       "2          3   Stomach Ache              1         1.848931  \n",
       "3          3       Migraine              1         1.336054  \n",
       "4          3     Chest Pain              1         2.638901  \n",
       "...      ...            ...            ...              ...  \n",
       "1194       4     Chest Pain              0        15.885959  \n",
       "1195       1      Pneumonia              0        22.451119  \n",
       "1196       1      Pneumonia              0         4.500985  \n",
       "1197       1      Pneumonia              0         6.176404  \n",
       "1198       1      Pneumonia              0        10.824050  \n",
       "\n",
       "[1199 rows x 8 columns]"
      ]
     },
     "execution_count": 158,
     "metadata": {},
     "output_type": "execute_result"
    }
   ],
   "source": [
    "edvisits_df"
   ]
  },
  {
   "cell_type": "code",
   "execution_count": 159,
   "id": "ba367992",
   "metadata": {},
   "outputs": [
    {
     "data": {
      "text/html": [
       "<div>\n",
       "<style scoped>\n",
       "    .dataframe tbody tr th:only-of-type {\n",
       "        vertical-align: middle;\n",
       "    }\n",
       "\n",
       "    .dataframe tbody tr th {\n",
       "        vertical-align: top;\n",
       "    }\n",
       "\n",
       "    .dataframe thead th {\n",
       "        text-align: right;\n",
       "    }\n",
       "</style>\n",
       "<table border=\"1\" class=\"dataframe\">\n",
       "  <thead>\n",
       "    <tr style=\"text-align: right;\">\n",
       "      <th></th>\n",
       "      <th>EDVisitID</th>\n",
       "      <th>PatientID</th>\n",
       "      <th>Acuity</th>\n",
       "      <th>EDDisposition</th>\n",
       "      <th>time difference</th>\n",
       "    </tr>\n",
       "  </thead>\n",
       "  <tbody>\n",
       "    <tr>\n",
       "      <th>EDVisitID</th>\n",
       "      <td>1.000000</td>\n",
       "      <td>0.975477</td>\n",
       "      <td>0.005813</td>\n",
       "      <td>0.006640</td>\n",
       "      <td>0.015873</td>\n",
       "    </tr>\n",
       "    <tr>\n",
       "      <th>PatientID</th>\n",
       "      <td>0.975477</td>\n",
       "      <td>1.000000</td>\n",
       "      <td>0.003545</td>\n",
       "      <td>0.007777</td>\n",
       "      <td>0.020262</td>\n",
       "    </tr>\n",
       "    <tr>\n",
       "      <th>Acuity</th>\n",
       "      <td>0.005813</td>\n",
       "      <td>0.003545</td>\n",
       "      <td>1.000000</td>\n",
       "      <td>0.675967</td>\n",
       "      <td>-0.033968</td>\n",
       "    </tr>\n",
       "    <tr>\n",
       "      <th>EDDisposition</th>\n",
       "      <td>0.006640</td>\n",
       "      <td>0.007777</td>\n",
       "      <td>0.675967</td>\n",
       "      <td>1.000000</td>\n",
       "      <td>-0.061439</td>\n",
       "    </tr>\n",
       "    <tr>\n",
       "      <th>time difference</th>\n",
       "      <td>0.015873</td>\n",
       "      <td>0.020262</td>\n",
       "      <td>-0.033968</td>\n",
       "      <td>-0.061439</td>\n",
       "      <td>1.000000</td>\n",
       "    </tr>\n",
       "  </tbody>\n",
       "</table>\n",
       "</div>"
      ],
      "text/plain": [
       "                 EDVisitID  PatientID    Acuity  EDDisposition  \\\n",
       "EDVisitID         1.000000   0.975477  0.005813       0.006640   \n",
       "PatientID         0.975477   1.000000  0.003545       0.007777   \n",
       "Acuity            0.005813   0.003545  1.000000       0.675967   \n",
       "EDDisposition     0.006640   0.007777  0.675967       1.000000   \n",
       "time difference   0.015873   0.020262 -0.033968      -0.061439   \n",
       "\n",
       "                 time difference  \n",
       "EDVisitID               0.015873  \n",
       "PatientID               0.020262  \n",
       "Acuity                 -0.033968  \n",
       "EDDisposition          -0.061439  \n",
       "time difference         1.000000  "
      ]
     },
     "execution_count": 159,
     "metadata": {},
     "output_type": "execute_result"
    }
   ],
   "source": [
    "edvisits_df.corr()"
   ]
  },
  {
   "cell_type": "markdown",
   "id": "99ceb555",
   "metadata": {},
   "source": [
    "### tried to check correlation including length of stay but it is not correlated.EDDisposition & Acuity is slightly correlated."
   ]
  },
  {
   "cell_type": "code",
   "execution_count": null,
   "id": "45008da8",
   "metadata": {},
   "outputs": [],
   "source": []
  },
  {
   "cell_type": "markdown",
   "id": "6aaaeff8",
   "metadata": {},
   "source": [
    "### Q38. Number of patients on 'Transfer' based on primary diagnosis"
   ]
  },
  {
   "cell_type": "code",
   "execution_count": 160,
   "id": "e92cb9ae",
   "metadata": {},
   "outputs": [
    {
     "data": {
      "text/plain": [
       "Text(0, 0.5, '# of patients')"
      ]
     },
     "execution_count": 160,
     "metadata": {},
     "output_type": "execute_result"
    },
    {
     "data": {
      "image/png": "[encoded data removed]",
      "text/plain": [
       "<Figure size 432x288 with 1 Axes>"
      ]
     },
     "metadata": {
      "needs_background": "light"
     },
     "output_type": "display_data"
    }
   ],
   "source": [
    "sns.countplot(x='PrimaryDiagnosis',data =Readmission_df[(Readmission_df.DischargeDisposition == 'Transfer')])\n",
    "plt.title('Number of patients on Transfer based on primary diagnosis ')\n",
    "plt.xlabel('Transfer')\n",
    "plt.ylabel('# of patients')"
   ]
  },
  {
   "cell_type": "code",
   "execution_count": null,
   "id": "13e65838",
   "metadata": {},
   "outputs": [],
   "source": []
  },
  {
   "cell_type": "markdown",
   "id": "89c42e62",
   "metadata": {},
   "source": [
    "### Q39.Get the FirstName, LastName,DateOfBirth of the Patients whose reason for visit is Migraine"
   ]
  },
  {
   "cell_type": "code",
   "execution_count": null,
   "id": "1ab560be",
   "metadata": {},
   "outputs": [],
   "source": []
  },
  {
   "cell_type": "code",
   "execution_count": 161,
   "id": "01d799cf",
   "metadata": {},
   "outputs": [],
   "source": [
    "#reading data from EDUnique to get Patient_id's who has Migraine\n",
    "EdVisits_unq =  pd.read_excel('HospitalDatabase.xlsx','EDUnique')"
   ]
  },
  {
   "cell_type": "code",
   "execution_count": 166,
   "id": "2b73009c",
   "metadata": {},
   "outputs": [],
   "source": [
    "Pid_Migraine = EdVisits_unq['PatientID'][(EdVisits_unq.ReasonForVisit == 'Migraine') ]"
   ]
  },
  {
   "cell_type": "code",
   "execution_count": 179,
   "id": "89078fac",
   "metadata": {},
   "outputs": [
    {
     "data": {
      "text/plain": [
       "116"
      ]
     },
     "execution_count": 179,
     "metadata": {},
     "output_type": "execute_result"
    }
   ],
   "source": [
    "# to display number of Patients who has Migraine\n",
    "Pid_Migraine.count()"
   ]
  },
  {
   "cell_type": "code",
   "execution_count": 178,
   "id": "1aa1ae17",
   "metadata": {},
   "outputs": [
    {
     "data": {
      "text/html": [
       "<div>\n",
       "<style scoped>\n",
       "    .dataframe tbody tr th:only-of-type {\n",
       "        vertical-align: middle;\n",
       "    }\n",
       "\n",
       "    .dataframe tbody tr th {\n",
       "        vertical-align: top;\n",
       "    }\n",
       "\n",
       "    .dataframe thead th {\n",
       "        text-align: right;\n",
       "    }\n",
       "</style>\n",
       "<table border=\"1\" class=\"dataframe\">\n",
       "  <thead>\n",
       "    <tr style=\"text-align: right;\">\n",
       "      <th></th>\n",
       "      <th>FirstName</th>\n",
       "      <th>LastName</th>\n",
       "      <th>DateOfBirth</th>\n",
       "    </tr>\n",
       "  </thead>\n",
       "  <tbody>\n",
       "    <tr>\n",
       "      <th>1</th>\n",
       "      <td>Far</td>\n",
       "      <td>Myers</td>\n",
       "      <td>1985-11-15 02:08:42.090</td>\n",
       "    </tr>\n",
       "    <tr>\n",
       "      <th>2</th>\n",
       "      <td>Devlin</td>\n",
       "      <td>Michael</td>\n",
       "      <td>1976-04-15 02:52:09.762</td>\n",
       "    </tr>\n",
       "    <tr>\n",
       "      <th>11</th>\n",
       "      <td>Zonnya</td>\n",
       "      <td>Ab</td>\n",
       "      <td>1963-05-23 10:04:33.074</td>\n",
       "    </tr>\n",
       "    <tr>\n",
       "      <th>13</th>\n",
       "      <td>Gan</td>\n",
       "      <td>Yu</td>\n",
       "      <td>1970-06-02 06:22:54.675</td>\n",
       "    </tr>\n",
       "    <tr>\n",
       "      <th>21</th>\n",
       "      <td>Joesph</td>\n",
       "      <td>Long</td>\n",
       "      <td>1979-12-04 16:45:56.080</td>\n",
       "    </tr>\n",
       "    <tr>\n",
       "      <th>...</th>\n",
       "      <td>...</td>\n",
       "      <td>...</td>\n",
       "      <td>...</td>\n",
       "    </tr>\n",
       "    <tr>\n",
       "      <th>896</th>\n",
       "      <td>Barrows</td>\n",
       "      <td>Coupland</td>\n",
       "      <td>1979-10-31 18:28:35.483</td>\n",
       "    </tr>\n",
       "    <tr>\n",
       "      <th>907</th>\n",
       "      <td>Knox</td>\n",
       "      <td>Group</td>\n",
       "      <td>1975-08-25 22:27:50.177</td>\n",
       "    </tr>\n",
       "    <tr>\n",
       "      <th>909</th>\n",
       "      <td>Kuvalis</td>\n",
       "      <td>Coupland</td>\n",
       "      <td>1986-05-23 19:23:27.752</td>\n",
       "    </tr>\n",
       "    <tr>\n",
       "      <th>914</th>\n",
       "      <td>Jerrilyn</td>\n",
       "      <td>Dyson</td>\n",
       "      <td>1978-01-18 02:41:55.178</td>\n",
       "    </tr>\n",
       "    <tr>\n",
       "      <th>923</th>\n",
       "      <td>Daniel</td>\n",
       "      <td>Shakesby</td>\n",
       "      <td>1980-11-28 17:57:03.702</td>\n",
       "    </tr>\n",
       "  </tbody>\n",
       "</table>\n",
       "<p>116 rows × 3 columns</p>\n",
       "</div>"
      ],
      "text/plain": [
       "    FirstName  LastName             DateOfBirth\n",
       "1         Far     Myers 1985-11-15 02:08:42.090\n",
       "2     Devlin    Michael 1976-04-15 02:52:09.762\n",
       "11     Zonnya        Ab 1963-05-23 10:04:33.074\n",
       "13        Gan        Yu 1970-06-02 06:22:54.675\n",
       "21     Joesph      Long 1979-12-04 16:45:56.080\n",
       "..        ...       ...                     ...\n",
       "896   Barrows  Coupland 1979-10-31 18:28:35.483\n",
       "907      Knox     Group 1975-08-25 22:27:50.177\n",
       "909   Kuvalis  Coupland 1986-05-23 19:23:27.752\n",
       "914  Jerrilyn     Dyson 1978-01-18 02:41:55.178\n",
       "923    Daniel  Shakesby 1980-11-28 17:57:03.702\n",
       "\n",
       "[116 rows x 3 columns]"
      ]
     },
     "execution_count": 178,
     "metadata": {},
     "output_type": "execute_result"
    }
   ],
   "source": [
    "# Passing those Patient_id to Patient table and getting their details. \n",
    "patients_df.iloc[:,1:4][patients_df['PatientID'].isin(Pid_Migraine)]"
   ]
  },
  {
   "cell_type": "markdown",
   "id": "2a0edbac",
   "metadata": {},
   "source": [
    "### Q30. Which patientid has most entries in readmission registry"
   ]
  },
  {
   "cell_type": "code",
   "execution_count": 187,
   "id": "46673405",
   "metadata": {},
   "outputs": [
    {
     "data": {
      "text/plain": [
       "<AxesSubplot:xlabel='count', ylabel='PatientID'>"
      ]
     },
     "execution_count": 187,
     "metadata": {},
     "output_type": "execute_result"
    },
    {
     "data": {
      "image/png": "[encoded data removed]",
      "text/plain": [
       "<Figure size 432x288 with 1 Axes>"
      ]
     },
     "metadata": {
      "needs_background": "light"
     },
     "output_type": "display_data"
    }
   ],
   "source": [
    "# used the count plot and ordered by value_counts() to get top 3 records.\n",
    "sns.countplot(y='PatientID', data =Readmission_df, order= Readmission_df.PatientID.value_counts().iloc[:3].index)"
   ]
  },
  {
   "cell_type": "markdown",
   "id": "234acbc4",
   "metadata": {},
   "source": [
    "#### From the above graph, PatientID 23 has most entries in readmission registry"
   ]
  },
  {
   "cell_type": "code",
   "execution_count": null,
   "id": "8448e375",
   "metadata": {},
   "outputs": [],
   "source": []
  },
  {
   "cell_type": "code",
   "execution_count": null,
   "id": "a409bf0b",
   "metadata": {},
   "outputs": [],
   "source": []
  },
  {
   "cell_type": "code",
   "execution_count": null,
   "id": "1eb06817",
   "metadata": {},
   "outputs": [],
   "source": []
  },
  {
   "cell_type": "code",
   "execution_count": null,
   "id": "f42345da",
   "metadata": {},
   "outputs": [],
   "source": []
  },
  {
   "cell_type": "code",
   "execution_count": null,
   "id": "226a7144",
   "metadata": {},
   "outputs": [],
   "source": []
  },
  {
   "cell_type": "code",
   "execution_count": null,
   "id": "952db60c",
   "metadata": {},
   "outputs": [],
   "source": []
  },
  {
   "cell_type": "code",
   "execution_count": null,
   "id": "03218d2d",
   "metadata": {},
   "outputs": [],
   "source": []
  },
  {
   "cell_type": "code",
   "execution_count": null,
   "id": "09f6e8b3",
   "metadata": {},
   "outputs": [],
   "source": []
  },
  {
   "cell_type": "code",
   "execution_count": null,
   "id": "e448439d",
   "metadata": {},
   "outputs": [],
   "source": []
  },
  {
   "cell_type": "code",
   "execution_count": null,
   "id": "c458e004",
   "metadata": {},
   "outputs": [],
   "source": []
  },
  {
   "cell_type": "code",
   "execution_count": null,
   "id": "dce48f8d",
   "metadata": {},
   "outputs": [],
   "source": []
  },
  {
   "cell_type": "code",
   "execution_count": null,
   "id": "1bfad00f",
   "metadata": {},
   "outputs": [],
   "source": []
  },
  {
   "cell_type": "code",
   "execution_count": null,
   "id": "090596b0",
   "metadata": {},
   "outputs": [],
   "source": []
  },
  {
   "cell_type": "code",
   "execution_count": null,
   "id": "bc5378c3",
   "metadata": {},
   "outputs": [],
   "source": []
  },
  {
   "cell_type": "code",
   "execution_count": null,
   "id": "117bd320",
   "metadata": {},
   "outputs": [],
   "source": []
  },
  {
   "cell_type": "code",
   "execution_count": null,
   "id": "1b88e4a0",
   "metadata": {},
   "outputs": [],
   "source": []
  },
  {
   "cell_type": "code",
   "execution_count": null,
   "id": "ccc22e26",
   "metadata": {},
   "outputs": [],
   "source": []
  },
  {
   "cell_type": "code",
   "execution_count": null,
   "id": "c3529747",
   "metadata": {},
   "outputs": [],
   "source": []
  },
  {
   "cell_type": "code",
   "execution_count": null,
   "id": "bca59f5b",
   "metadata": {},
   "outputs": [],
   "source": []
  },
  {
   "cell_type": "code",
   "execution_count": null,
   "id": "2ab6144e",
   "metadata": {},
   "outputs": [],
   "source": []
  },
  {
   "cell_type": "code",
   "execution_count": null,
   "id": "47ab33b7",
   "metadata": {},
   "outputs": [],
   "source": []
  },
  {
   "cell_type": "code",
   "execution_count": null,
   "id": "c62461c2",
   "metadata": {},
   "outputs": [],
   "source": []
  },
  {
   "cell_type": "code",
   "execution_count": null,
   "id": "700491cb",
   "metadata": {},
   "outputs": [],
   "source": []
  },
  {
   "cell_type": "code",
   "execution_count": null,
   "id": "4395091c",
   "metadata": {},
   "outputs": [],
   "source": []
  },
  {
   "cell_type": "code",
   "execution_count": null,
   "id": "b11ca0a1",
   "metadata": {},
   "outputs": [],
   "source": []
  },
  {
   "cell_type": "code",
   "execution_count": null,
   "id": "47bc480a",
   "metadata": {},
   "outputs": [],
   "source": []
  },
  {
   "cell_type": "code",
   "execution_count": null,
   "id": "5b28b886",
   "metadata": {},
   "outputs": [],
   "source": []
  },
  {
   "cell_type": "code",
   "execution_count": null,
   "id": "a6beccce",
   "metadata": {},
   "outputs": [],
   "source": []
  },
  {
   "cell_type": "code",
   "execution_count": null,
   "id": "834f86d5",
   "metadata": {},
   "outputs": [],
   "source": []
  },
  {
   "cell_type": "code",
   "execution_count": null,
   "id": "fbb43033",
   "metadata": {},
   "outputs": [],
   "source": []
  },
  {
   "cell_type": "code",
   "execution_count": null,
   "id": "6ec13f9b",
   "metadata": {},
   "outputs": [],
   "source": []
  },
  {
   "cell_type": "code",
   "execution_count": null,
   "id": "2cc2672d",
   "metadata": {},
   "outputs": [],
   "source": []
  },
  {
   "cell_type": "code",
   "execution_count": null,
   "id": "2ba89cc2",
   "metadata": {},
   "outputs": [],
   "source": []
  },
  {
   "cell_type": "code",
   "execution_count": null,
   "id": "4d4fdf43",
   "metadata": {},
   "outputs": [],
   "source": []
  },
  {
   "cell_type": "code",
   "execution_count": null,
   "id": "022ffbb4",
   "metadata": {},
   "outputs": [],
   "source": []
  },
  {
   "cell_type": "code",
   "execution_count": null,
   "id": "a5216390",
   "metadata": {},
   "outputs": [],
   "source": []
  },
  {
   "cell_type": "code",
   "execution_count": null,
   "id": "dd49b1d9",
   "metadata": {},
   "outputs": [],
   "source": []
  },
  {
   "cell_type": "code",
   "execution_count": null,
   "id": "2c6f885a",
   "metadata": {},
   "outputs": [],
   "source": []
  },
  {
   "cell_type": "code",
   "execution_count": null,
   "id": "6cca19c0",
   "metadata": {},
   "outputs": [],
   "source": []
  },
  {
   "cell_type": "code",
   "execution_count": null,
   "id": "91431bd9",
   "metadata": {},
   "outputs": [],
   "source": []
  },
  {
   "cell_type": "code",
   "execution_count": null,
   "id": "acc4d71a",
   "metadata": {},
   "outputs": [],
   "source": []
  },
  {
   "cell_type": "code",
   "execution_count": null,
   "id": "34343968",
   "metadata": {},
   "outputs": [],
   "source": []
  },
  {
   "cell_type": "code",
   "execution_count": null,
   "id": "4706e7c5",
   "metadata": {},
   "outputs": [],
   "source": []
  },
  {
   "cell_type": "code",
   "execution_count": null,
   "id": "b116d71a",
   "metadata": {},
   "outputs": [],
   "source": []
  },
  {
   "cell_type": "code",
   "execution_count": null,
   "id": "a3dac55b",
   "metadata": {},
   "outputs": [],
   "source": []
  },
  {
   "cell_type": "code",
   "execution_count": null,
   "id": "6b10f662",
   "metadata": {},
   "outputs": [],
   "source": []
  },
  {
   "cell_type": "code",
   "execution_count": null,
   "id": "54421c1e",
   "metadata": {},
   "outputs": [],
   "source": []
  },
  {
   "cell_type": "code",
   "execution_count": null,
   "id": "2a342eaf",
   "metadata": {},
   "outputs": [],
   "source": []
  },
  {
   "cell_type": "code",
   "execution_count": null,
   "id": "31555fc3",
   "metadata": {},
   "outputs": [],
   "source": []
  },
  {
   "cell_type": "code",
   "execution_count": null,
   "id": "5e9118a5",
   "metadata": {},
   "outputs": [],
   "source": []
  },
  {
   "cell_type": "code",
   "execution_count": null,
   "id": "8f6f4014",
   "metadata": {},
   "outputs": [],
   "source": []
  },
  {
   "cell_type": "code",
   "execution_count": null,
   "id": "a22de5a5",
   "metadata": {},
   "outputs": [],
   "source": []
  },
  {
   "cell_type": "code",
   "execution_count": null,
   "id": "88780e32",
   "metadata": {},
   "outputs": [],
   "source": []
  },
  {
   "cell_type": "code",
   "execution_count": null,
   "id": "b0a1fe00",
   "metadata": {},
   "outputs": [],
   "source": []
  },
  {
   "cell_type": "code",
   "execution_count": null,
   "id": "b39bab3a",
   "metadata": {},
   "outputs": [],
   "source": []
  },
  {
   "cell_type": "code",
   "execution_count": null,
   "id": "8cf5bc12",
   "metadata": {},
   "outputs": [],
   "source": []
  },
  {
   "cell_type": "code",
   "execution_count": null,
   "id": "35a2fd37",
   "metadata": {},
   "outputs": [],
   "source": []
  },
  {
   "cell_type": "code",
   "execution_count": null,
   "id": "1cc1c71e",
   "metadata": {},
   "outputs": [],
   "source": []
  },
  {
   "cell_type": "code",
   "execution_count": null,
   "id": "6dc96daa",
   "metadata": {},
   "outputs": [],
   "source": []
  },
  {
   "cell_type": "code",
   "execution_count": null,
   "id": "417f83f0",
   "metadata": {},
   "outputs": [],
   "source": []
  },
  {
   "cell_type": "code",
   "execution_count": null,
   "id": "5fdb2b91",
   "metadata": {},
   "outputs": [],
   "source": []
  },
  {
   "cell_type": "code",
   "execution_count": null,
   "id": "b49274a3",
   "metadata": {},
   "outputs": [],
   "source": []
  },
  {
   "cell_type": "code",
   "execution_count": null,
   "id": "5d090103",
   "metadata": {},
   "outputs": [],
   "source": []
  },
  {
   "cell_type": "code",
   "execution_count": null,
   "id": "fcf52d58",
   "metadata": {},
   "outputs": [],
   "source": []
  },
  {
   "cell_type": "code",
   "execution_count": null,
   "id": "ee55dffd",
   "metadata": {},
   "outputs": [],
   "source": []
  },
  {
   "cell_type": "code",
   "execution_count": null,
   "id": "b06ed750",
   "metadata": {},
   "outputs": [],
   "source": []
  },
  {
   "cell_type": "code",
   "execution_count": null,
   "id": "38130d6b",
   "metadata": {},
   "outputs": [],
   "source": []
  },
  {
   "cell_type": "code",
   "execution_count": null,
   "id": "36585625",
   "metadata": {},
   "outputs": [],
   "source": []
  },
  {
   "cell_type": "code",
   "execution_count": null,
   "id": "668ee9d6",
   "metadata": {},
   "outputs": [],
   "source": []
  },
  {
   "cell_type": "code",
   "execution_count": null,
   "id": "0145d122",
   "metadata": {},
   "outputs": [],
   "source": []
  },
  {
   "cell_type": "code",
   "execution_count": null,
   "id": "ca41690b",
   "metadata": {},
   "outputs": [],
   "source": []
  },
  {
   "cell_type": "code",
   "execution_count": null,
   "id": "94fc2882",
   "metadata": {},
   "outputs": [],
   "source": []
  },
  {
   "cell_type": "code",
   "execution_count": null,
   "id": "8d9e9ff6",
   "metadata": {},
   "outputs": [],
   "source": []
  },
  {
   "cell_type": "code",
   "execution_count": null,
   "id": "7e125d41",
   "metadata": {},
   "outputs": [],
   "source": []
  },
  {
   "cell_type": "code",
   "execution_count": null,
   "id": "e13905bb",
   "metadata": {},
   "outputs": [],
   "source": []
  },
  {
   "cell_type": "code",
   "execution_count": null,
   "id": "d8b285d4",
   "metadata": {},
   "outputs": [],
   "source": []
  },
  {
   "cell_type": "code",
   "execution_count": null,
   "id": "207df96f",
   "metadata": {},
   "outputs": [],
   "source": []
  },
  {
   "cell_type": "code",
   "execution_count": null,
   "id": "5d560c0b",
   "metadata": {},
   "outputs": [],
   "source": []
  },
  {
   "cell_type": "code",
   "execution_count": null,
   "id": "2b9fc58a",
   "metadata": {},
   "outputs": [],
   "source": []
  },
  {
   "cell_type": "code",
   "execution_count": null,
   "id": "f87b7625",
   "metadata": {},
   "outputs": [],
   "source": []
  },
  {
   "cell_type": "code",
   "execution_count": null,
   "id": "733058c7",
   "metadata": {},
   "outputs": [],
   "source": []
  },
  {
   "cell_type": "code",
   "execution_count": null,
   "id": "6d666613",
   "metadata": {},
   "outputs": [],
   "source": []
  },
  {
   "cell_type": "code",
   "execution_count": null,
   "id": "44db5250",
   "metadata": {},
   "outputs": [],
   "source": []
  },
  {
   "cell_type": "code",
   "execution_count": null,
   "id": "6b9e4eec",
   "metadata": {},
   "outputs": [],
   "source": []
  },
  {
   "cell_type": "code",
   "execution_count": null,
   "id": "633e8be8",
   "metadata": {},
   "outputs": [],
   "source": []
  },
  {
   "cell_type": "code",
   "execution_count": null,
   "id": "19335192",
   "metadata": {},
   "outputs": [],
   "source": []
  },
  {
   "cell_type": "code",
   "execution_count": null,
   "id": "360c393f",
   "metadata": {},
   "outputs": [],
   "source": []
  },
  {
   "cell_type": "code",
   "execution_count": null,
   "id": "b2d3d2c6",
   "metadata": {},
   "outputs": [],
   "source": []
  },
  {
   "cell_type": "code",
   "execution_count": null,
   "id": "b076b337",
   "metadata": {},
   "outputs": [],
   "source": []
  },
  {
   "cell_type": "code",
   "execution_count": null,
   "id": "adbc46c3",
   "metadata": {},
   "outputs": [],
   "source": []
  },
  {
   "cell_type": "code",
   "execution_count": null,
   "id": "9526546b",
   "metadata": {},
   "outputs": [],
   "source": []
  },
  {
   "cell_type": "code",
   "execution_count": null,
   "id": "3295ffa1",
   "metadata": {},
   "outputs": [],
   "source": []
  },
  {
   "cell_type": "code",
   "execution_count": null,
   "id": "4918f50e",
   "metadata": {},
   "outputs": [],
   "source": []
  },
  {
   "cell_type": "code",
   "execution_count": null,
   "id": "901967e0",
   "metadata": {},
   "outputs": [],
   "source": []
  },
  {
   "cell_type": "code",
   "execution_count": null,
   "id": "4e931c97",
   "metadata": {},
   "outputs": [],
   "source": []
  },
  {
   "cell_type": "code",
   "execution_count": null,
   "id": "bb084e87",
   "metadata": {},
   "outputs": [],
   "source": []
  },
  {
   "cell_type": "code",
   "execution_count": null,
   "id": "d38418b5",
   "metadata": {},
   "outputs": [],
   "source": []
  },
  {
   "cell_type": "code",
   "execution_count": null,
   "id": "be6d6bfd",
   "metadata": {},
   "outputs": [],
   "source": []
  },
  {
   "cell_type": "code",
   "execution_count": null,
   "id": "1b9600d3",
   "metadata": {},
   "outputs": [],
   "source": []
  },
  {
   "cell_type": "code",
   "execution_count": null,
   "id": "b85edc28",
   "metadata": {},
   "outputs": [],
   "source": []
  },
  {
   "cell_type": "code",
   "execution_count": null,
   "id": "77ddf338",
   "metadata": {},
   "outputs": [],
   "source": []
  },
  {
   "cell_type": "code",
   "execution_count": null,
   "id": "ec17c309",
   "metadata": {},
   "outputs": [],
   "source": []
  },
  {
   "cell_type": "code",
   "execution_count": null,
   "id": "0a53e4d3",
   "metadata": {},
   "outputs": [],
   "source": []
  },
  {
   "cell_type": "code",
   "execution_count": null,
   "id": "f61f3376",
   "metadata": {},
   "outputs": [],
   "source": []
  },
  {
   "cell_type": "code",
   "execution_count": null,
   "id": "67e9c6ef",
   "metadata": {},
   "outputs": [],
   "source": []
  },
  {
   "cell_type": "code",
   "execution_count": null,
   "id": "0cf791cb",
   "metadata": {},
   "outputs": [],
   "source": []
  },
  {
   "cell_type": "code",
   "execution_count": null,
   "id": "3f37cec9",
   "metadata": {},
   "outputs": [],
   "source": []
  },
  {
   "cell_type": "code",
   "execution_count": null,
   "id": "974ad6fe",
   "metadata": {},
   "outputs": [],
   "source": []
  }
 ],
 "metadata": {
  "kernelspec": {
   "display_name": "Python 3 (ipykernel)",
   "language": "python",
   "name": "python3"
  },
  "language_info": {
   "codemirror_mode": {
    "name": "ipython",
    "version": 3
   },
   "file_extension": ".py",
   "mimetype": "text/x-python",
   "name": "python",
   "nbconvert_exporter": "python",
   "pygments_lexer": "ipython3",
   "version": "3.9.7"
  }
 },
 "nbformat": 4,
 "nbformat_minor": 5
}
