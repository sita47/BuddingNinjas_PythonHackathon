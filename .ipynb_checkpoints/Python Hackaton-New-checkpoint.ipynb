{
 "cells": [
  {
   "cell_type": "markdown",
   "id": "neural-building",
   "metadata": {},
   "source": [
    "### 59 . Create a dataframe by splitting provider name to firstname and lastname with names for the columns( 61 - 80)"
   ]
  },
  {
   "cell_type": "code",
   "execution_count": 1,
   "id": "incorporated-tattoo",
   "metadata": {},
   "outputs": [],
   "source": [
    "# import libraries\n",
    "import pandas as pd\n",
    "import numpy as np\n",
    "import seaborn as sns\n",
    "import matplotlib.pyplot as plt\n",
    "%matplotlib inline\n",
    "from scipy import stats"
   ]
  },
  {
   "cell_type": "code",
   "execution_count": null,
   "id": "vital-swimming",
   "metadata": {},
   "outputs": [],
   "source": [
    "df = pd.read_excel(\"HospitalDatabase.xlsx\",\"Providers\")\n",
    "df.head()"
   ]
  },
  {
   "cell_type": "code",
   "execution_count": null,
   "id": "ranging-eleven",
   "metadata": {},
   "outputs": [],
   "source": [
    "\n",
    "# new data frame with split value columns\n",
    "df[['ProviderFirstName','ProviderLastName']]= df[\"ProviderName\"].str.split(\" \",expand = True)\n",
    "df.head()"
   ]
  },
  {
   "cell_type": "markdown",
   "id": "modular-zealand",
   "metadata": {},
   "source": [
    "### 60.  Predict the output of the program..\n",
    "class Acc: \n",
    "def __init__(self, id): \n",
    "self.id = id\n",
    "id = 555 \n",
    "\n",
    "acc = Acc(111) \n",
    "print(acc.id)\n",
    "\n"
   ]
  },
  {
   "cell_type": "code",
   "execution_count": null,
   "id": "prospective-tampa",
   "metadata": {},
   "outputs": [],
   "source": [
    "## Predict the output of the program.\n",
    "class Acc: \n",
    "    def __init__(self,id): \n",
    "        self.id = id\n",
    "        id = 555 \n",
    "\n",
    "acc = Acc(111) \n",
    "print(acc.id)\n"
   ]
  },
  {
   "cell_type": "markdown",
   "id": "threatened-stupid",
   "metadata": {},
   "source": [
    "Explanation: Instantiation of the class “Acc” automatically calls the method _init_ and passes the object as the self parameter. 111 is assigned to data attribute of the object called id. \n"
   ]
  },
  {
   "cell_type": "markdown",
   "id": "manufactured-squad",
   "metadata": {},
   "source": [
    "# 61.  Show a graph by multiplotting on the same canvas . (Take any set of x & y values)\n"
   ]
  },
  {
   "cell_type": "code",
   "execution_count": null,
   "id": "economic-petroleum",
   "metadata": {},
   "outputs": [],
   "source": [
    "%matplotlib inline\n",
    "import matplotlib.pyplot as plt\n",
    "import numpy as np"
   ]
  },
  {
   "cell_type": "code",
   "execution_count": null,
   "id": "boring-ecuador",
   "metadata": {},
   "outputs": [],
   "source": [
    "dfpat = pd.read_excel(\"HospitalDatabase.xlsx\",\"Patients\")\n",
    "dfpat.head()"
   ]
  },
  {
   "cell_type": "code",
   "execution_count": null,
   "id": "mental-third",
   "metadata": {},
   "outputs": [],
   "source": [
    "xgen=np.arange(len(\"Gender\"))\n",
    "xgen"
   ]
  },
  {
   "cell_type": "code",
   "execution_count": null,
   "id": "accompanied-freight",
   "metadata": {},
   "outputs": [],
   "source": [
    "plt.bar(xgen,Race, label=\"Race\")\n",
    "\n",
    "plt.xticks(xgen,Gender)\n",
    "plt.ylabel(\"Revenue(Bln)\")\n",
    "plt.title('US Technology Stocks')\n",
    "plt.legend()"
   ]
  },
  {
   "cell_type": "markdown",
   "id": "infinite-cycling",
   "metadata": {},
   "source": [
    "### 62 . Display the data for all 'White Female' patients above the age of 50\n"
   ]
  },
  {
   "cell_type": "code",
   "execution_count": null,
   "id": "pending-freeze",
   "metadata": {},
   "outputs": [],
   "source": [
    " ## Python3 code to  calculate age in years\n",
    "   \n",
    "df = pd.read_excel(\"HospitalDatabase.xlsx\",\"Patients\")\n",
    "df.head()"
   ]
  },
  {
   "cell_type": "code",
   "execution_count": null,
   "id": "abandoned-wagon",
   "metadata": {},
   "outputs": [],
   "source": [
    "df['Date'] = pd.to_datetime(df.DateOfBirth)\n",
    "df['Date']"
   ]
  },
  {
   "cell_type": "code",
   "execution_count": null,
   "id": "revolutionary-trick",
   "metadata": {},
   "outputs": [],
   "source": [
    "import datetime \n",
    "def from_dob_to_age(born):\n",
    "    today = datetime.date.today()\n",
    "    return today.year - born.year - ((today.month, today.day) < (born.month, born.day))"
   ]
  },
  {
   "cell_type": "code",
   "execution_count": null,
   "id": "boolean-indianapolis",
   "metadata": {},
   "outputs": [],
   "source": [
    "df['Date'].apply(lambda x: from_dob_to_age(x))"
   ]
  },
  {
   "cell_type": "code",
   "execution_count": null,
   "id": "similar-shopping",
   "metadata": {},
   "outputs": [],
   "source": [
    "df1 = df['Date'].apply(lambda x: from_dob_to_age(x))\n",
    "print(type(df1))"
   ]
  },
  {
   "cell_type": "code",
   "execution_count": null,
   "id": "worldwide-housing",
   "metadata": {},
   "outputs": [],
   "source": [
    "df2 = df1.to_frame()\n",
    "df['age'] = df2"
   ]
  },
  {
   "cell_type": "code",
   "execution_count": null,
   "id": "undefined-trash",
   "metadata": {},
   "outputs": [],
   "source": [
    "df "
   ]
  },
  {
   "cell_type": "code",
   "execution_count": null,
   "id": "competitive-knowing",
   "metadata": {},
   "outputs": [],
   "source": [
    "# filter dataframe \n",
    "dfage = display(df[(df[\"Gender\"]==\"Female\") &  (df[\"Race\"] == \"White\")  & (df[\"age\"] > 50)])\n",
    "dfage\n"
   ]
  },
  {
   "cell_type": "markdown",
   "id": "convenient-pollution",
   "metadata": {},
   "source": [
    "### 63. Using loc, retrieve the firstname and lastname of patients between indices 101 and 200\n"
   ]
  },
  {
   "cell_type": "code",
   "execution_count": null,
   "id": "under-actor",
   "metadata": {},
   "outputs": [],
   "source": [
    "dfname = pd.read_excel(\"HospitalDatabase.xlsx\",\"Patients\")\n",
    "dfname.head()"
   ]
  },
  {
   "cell_type": "code",
   "execution_count": null,
   "id": "stuck-alarm",
   "metadata": {},
   "outputs": [],
   "source": [
    "dfname = dfname.loc[101:200, ['PatientID', 'FirstName' , 'LastName']]\n",
    "dfname"
   ]
  },
  {
   "cell_type": "markdown",
   "id": "occupational-viewer",
   "metadata": {},
   "source": [
    "### 64.  Using numpy functions, multiply the following arrays\n",
    "a=np.arange(6).reshape(2,3)\n",
    "b=np.arange(6).reshape(3,2)\"\n"
   ]
  },
  {
   "cell_type": "code",
   "execution_count": null,
   "id": "molecular-graham",
   "metadata": {},
   "outputs": [],
   "source": [
    "a=np.arange(6).reshape(2,3)\n",
    "a"
   ]
  },
  {
   "cell_type": "code",
   "execution_count": null,
   "id": "scheduled-providence",
   "metadata": {},
   "outputs": [],
   "source": [
    "a.shape"
   ]
  },
  {
   "cell_type": "code",
   "execution_count": null,
   "id": "arctic-sydney",
   "metadata": {},
   "outputs": [],
   "source": [
    "b=np.arange(6).reshape(3,2)\n",
    "b"
   ]
  },
  {
   "cell_type": "code",
   "execution_count": null,
   "id": "sunset-commissioner",
   "metadata": {},
   "outputs": [],
   "source": [
    "b.shape"
   ]
  },
  {
   "cell_type": "code",
   "execution_count": null,
   "id": "drawn-summer",
   "metadata": {},
   "outputs": [],
   "source": [
    "## Returns the scalar or dot product of two arrays\n",
    "print(np.dot(a,b))"
   ]
  },
  {
   "cell_type": "code",
   "execution_count": null,
   "id": "competitive-grave",
   "metadata": {},
   "outputs": [],
   "source": [
    "## The matmul() function gives us the matrix product of two 2-d arrays.\n",
    "\n",
    "print(np.matmul(a,b))"
   ]
  },
  {
   "cell_type": "markdown",
   "id": "reported-retailer",
   "metadata": {},
   "source": [
    "### 65. Get the count of number of patients based on service and primary diagnosis\n"
   ]
  },
  {
   "cell_type": "code",
   "execution_count": null,
   "id": "sitting-tackle",
   "metadata": {},
   "outputs": [],
   "source": [
    "dfcnt = pd.read_excel(\"HospitalDatabase.xlsx\", \"ReAdmissionRegistry\")\n",
    "dfcnt"
   ]
  },
  {
   "cell_type": "code",
   "execution_count": null,
   "id": "stock-acoustic",
   "metadata": {},
   "outputs": [],
   "source": [
    "dfcnt.groupby([\"Service\", \"PrimaryDiagnosis\"])[\"PatientID\"].count()"
   ]
  },
  {
   "cell_type": "markdown",
   "id": "joint-interval",
   "metadata": {},
   "source": [
    "###  66 . np.arange(1,31).reshape(6,5), find array slicing to get the elements 4,5,24,25,29,30\n"
   ]
  },
  {
   "cell_type": "code",
   "execution_count": null,
   "id": "suited-nothing",
   "metadata": {},
   "outputs": [],
   "source": [
    " np.arange(1,31)\n"
   ]
  },
  {
   "cell_type": "code",
   "execution_count": null,
   "id": "leading-myanmar",
   "metadata": {},
   "outputs": [],
   "source": [
    "x = np.arange(1,31).reshape(6,5)\n",
    "x"
   ]
  },
  {
   "cell_type": "code",
   "execution_count": null,
   "id": "steady-finnish",
   "metadata": {},
   "outputs": [],
   "source": [
    "print(x[0,3:])"
   ]
  },
  {
   "cell_type": "code",
   "execution_count": null,
   "id": "stone-corps",
   "metadata": {},
   "outputs": [],
   "source": [
    "print(x[4,3:])\n"
   ]
  },
  {
   "cell_type": "code",
   "execution_count": null,
   "id": "cloudy-territory",
   "metadata": {},
   "outputs": [],
   "source": [
    "print(x[5,3:])"
   ]
  },
  {
   "cell_type": "code",
   "execution_count": null,
   "id": "binary-moment",
   "metadata": {},
   "outputs": [],
   "source": [
    "## Second method\n",
    "listing = np.arange(1,31).reshape(6,5)\n",
    "#print(listing[0,3:])\n",
    "print(listing[[0,0,4,4,5,5],[3,4,3,4,3,4]])"
   ]
  },
  {
   "cell_type": "markdown",
   "id": "about-mustang",
   "metadata": {},
   "source": [
    "###  67. Make a pivot table by counts the no. of patients from the admission date till discharge date\n",
    " "
   ]
  },
  {
   "cell_type": "code",
   "execution_count": null,
   "id": "successful-belarus",
   "metadata": {},
   "outputs": [],
   "source": [
    "dfcnt = pd.read_excel(\"HospitalDatabase.xlsx\", \"Discharges\")\n",
    "dfcnt"
   ]
  },
  {
   "cell_type": "code",
   "execution_count": null,
   "id": "curious-district",
   "metadata": {},
   "outputs": [],
   "source": [
    "table = dfcnt.pivot_table(index=['AdmissionDate','DischargeDate'], columns='PatientID',\n",
    "                       aggfunc=\"count\")\n",
    "table"
   ]
  },
  {
   "cell_type": "code",
   "execution_count": null,
   "id": "perfect-helmet",
   "metadata": {},
   "outputs": [],
   "source": [
    "table = dfcnt.pivot_table(index='PatientID', columns='AdmissionDate', \n",
    "                       aggfunc=\"count\")\n",
    "table"
   ]
  },
  {
   "cell_type": "markdown",
   "id": "tested-raise",
   "metadata": {},
   "source": [
    "### 68. Display the data where actual LOS is greater than expected LOS\n"
   ]
  },
  {
   "cell_type": "code",
   "execution_count": null,
   "id": "familiar-sound",
   "metadata": {},
   "outputs": [],
   "source": [
    "dfdata = pd.read_excel(\"HospitalDatabase.xlsx\", \"ReAdmissionRegistry\", index_col = 'PatientID', \n",
    "                       parse_dates = [\"DischargeDate\", \"AdmissionDate\" ])\n",
    "dfdata.head()"
   ]
  },
  {
   "cell_type": "code",
   "execution_count": null,
   "id": "breeding-worry",
   "metadata": {},
   "outputs": [],
   "source": [
    "dfdata[\"DischargeDate\"] - dfdata[\"AdmissionDate\"]"
   ]
  },
  {
   "cell_type": "code",
   "execution_count": null,
   "id": "humanitarian-wallace",
   "metadata": {},
   "outputs": [],
   "source": [
    "dfdata[\"ActualLOS\"] = dfdata[\"DischargeDate\"] - dfdata[\"AdmissionDate\"]"
   ]
  },
  {
   "cell_type": "code",
   "execution_count": null,
   "id": "tracked-pressing",
   "metadata": {},
   "outputs": [],
   "source": [
    "dfdata[\"AdmissionDate\"].dtypes"
   ]
  },
  {
   "cell_type": "code",
   "execution_count": null,
   "id": "smooth-mauritius",
   "metadata": {},
   "outputs": [],
   "source": [
    "dfdata[\"ActualLOS\"].dtypes"
   ]
  },
  {
   "cell_type": "code",
   "execution_count": null,
   "id": "ordinary-designer",
   "metadata": {},
   "outputs": [],
   "source": [
    "dfdata[\"ExpectedLOS\"].dtypes"
   ]
  },
  {
   "cell_type": "markdown",
   "id": "silent-question",
   "metadata": {},
   "source": [
    "### 69. Details of the patients whose firstname or lastname contains string \"lau\" , should be case insensitive\n"
   ]
  },
  {
   "cell_type": "code",
   "execution_count": null,
   "id": "martial-uzbekistan",
   "metadata": {},
   "outputs": [],
   "source": [
    "dfname = pd.read_excel(\"HospitalDatabase.xlsx\", \"Patients\")\n",
    "dfname.head()"
   ]
  },
  {
   "cell_type": "code",
   "execution_count": null,
   "id": "living-requirement",
   "metadata": {},
   "outputs": [],
   "source": [
    "dfname['flag']=dfname['LastName'].str.contains('lau',case=False)| dfname['FirstName'].str.contains('lau',case=False)\n",
    "display(dfname[(dfname['flag']==True)])"
   ]
  },
  {
   "cell_type": "markdown",
   "id": "serious-church",
   "metadata": {},
   "source": [
    "### 70. Plot a graph to show the distribution of expected mortality\n",
    "\n"
   ]
  },
  {
   "cell_type": "code",
   "execution_count": null,
   "id": "better-stocks",
   "metadata": {},
   "outputs": [],
   "source": [
    "dfdis = pd.read_excel(\"HospitalDatabase.xlsx\", \"ReAdmissionRegistry\")\n",
    "dfdis"
   ]
  },
  {
   "cell_type": "code",
   "execution_count": null,
   "id": "victorian-preservation",
   "metadata": {},
   "outputs": [],
   "source": [
    "sns.displot(dfdis, x=\"ExpectedMortality\",col=\"Service\")"
   ]
  },
  {
   "cell_type": "code",
   "execution_count": null,
   "id": "alpine-stand",
   "metadata": {},
   "outputs": [],
   "source": [
    "sns.displot(dfdis, x=\"ExpectedMortality\",kind=\"kde\",bw_adjust=.25)"
   ]
  },
  {
   "cell_type": "code",
   "execution_count": null,
   "id": "union-principle",
   "metadata": {},
   "outputs": [],
   "source": [
    "sns.displot(dfdis, x=\"ExpectedMortality\",hue=\"PrimaryDiagnosis\",kind=\"kde\",multiple=\"stack\")"
   ]
  },
  {
   "cell_type": "markdown",
   "id": "measured-smell",
   "metadata": {},
   "source": [
    "### 71. Create a visualization on the count the no. of patients based on primary diagnosis\n"
   ]
  },
  {
   "cell_type": "code",
   "execution_count": null,
   "id": "raised-strategy",
   "metadata": {},
   "outputs": [],
   "source": [
    "dfviz = pd.read_excel(\"HospitalDatabase.xlsx\", \"ReAdmissionRegistry\")\n",
    "dfviz.head()"
   ]
  },
  {
   "cell_type": "code",
   "execution_count": null,
   "id": "entitled-appliance",
   "metadata": {
    "scrolled": true
   },
   "outputs": [],
   "source": [
    "# groupby() method worth mentioning is agg(), which lets you run a bunch of different \n",
    "# functions on your DataFrame simultaneously. For example, we can generate a simple statistical\n",
    "# summary of the dataset as follows:\n",
    "    \n",
    "dfviz.groupby(['PrimaryDiagnosis']).PatientID.agg([len])"
   ]
  },
  {
   "cell_type": "code",
   "execution_count": null,
   "id": "forced-honduras",
   "metadata": {},
   "outputs": [],
   "source": [
    "import matplotlib.pyplot as plt\n",
    "\n",
    "dfviz.groupby(['PrimaryDiagnosis']).PatientID.agg([len]).plot(kind='bar',color=['r'],\n",
    "                                        title =' no. of patients based on primary diagnosis',\n",
    "                                                             ylabel = 'PatientID Count',\n",
    "                                                             xlabel = 'PrimaryDiagnosis',\n",
    "                                                             figsize=(10,6))\n"
   ]
  },
  {
   "cell_type": "markdown",
   "id": "royal-words",
   "metadata": {},
   "source": [
    "### 72. List male patients over the age of 60 who have undergone surgery from January-March 2019\n"
   ]
  },
  {
   "cell_type": "code",
   "execution_count": null,
   "id": "bizarre-ladder",
   "metadata": {
    "scrolled": true
   },
   "outputs": [],
   "source": [
    "# We need two tables here:\n",
    "df_pnts = pd.read_excel(\"HospitalDatabase.xlsx\" , \"Patients\" , index_col=\"PatientID\")\n",
    "df_pvdrs = pd.read_excel(\"HospitalDatabase.xlsx\" , \"Providers\" , index_col=\"ProviderID\")\n",
    "display(df_pnts)\n",
    "display(df_pvdrs)"
   ]
  },
  {
   "cell_type": "code",
   "execution_count": null,
   "id": "aquatic-bachelor",
   "metadata": {},
   "outputs": [],
   "source": [
    "# First, we merge pnts with pvdrs with \"use_id\" as our common column"
   ]
  },
  {
   "cell_type": "code",
   "execution_count": null,
   "id": "enabling-cathedral",
   "metadata": {},
   "outputs": [],
   "source": [
    "#check for null values\n",
    "print(df_pnts.isnull().sum())"
   ]
  },
  {
   "cell_type": "code",
   "execution_count": null,
   "id": "tribal-chancellor",
   "metadata": {},
   "outputs": [],
   "source": [
    "# filter down to just the ProviderSpecialty\n",
    "print(df_pvdrs[\"ProviderSpecialty\"].unique())"
   ]
  },
  {
   "cell_type": "code",
   "execution_count": null,
   "id": "sharing-fishing",
   "metadata": {},
   "outputs": [],
   "source": []
  },
  {
   "cell_type": "markdown",
   "id": "sustained-forth",
   "metadata": {},
   "source": [
    "### 73. Delete the column 'DischargeDispostion' iteratively\n"
   ]
  },
  {
   "cell_type": "code",
   "execution_count": null,
   "id": "spread-valentine",
   "metadata": {},
   "outputs": [],
   "source": [
    "df_dis = pd.read_excel(\"HospitalDatabase.xlsx\" , \"Discharges\")\n",
    "df_dis.head()"
   ]
  },
  {
   "cell_type": "code",
   "execution_count": null,
   "id": "portable-november",
   "metadata": {},
   "outputs": [],
   "source": [
    "# Deleting columns using del and for loop\n",
    "\n",
    "for col in df_dis.columns:\n",
    "    if 'DischargeDisposition' in col:\n",
    "        del df_dis[col] \n",
    "        \n",
    "df_dis.head()\n",
    "    "
   ]
  },
  {
   "cell_type": "markdown",
   "id": "another-secretary",
   "metadata": {},
   "source": [
    "### 74. Get the list of ReasonForVisit\n"
   ]
  },
  {
   "cell_type": "code",
   "execution_count": null,
   "id": "revolutionary-walnut",
   "metadata": {},
   "outputs": [],
   "source": [
    "df_rv = pd.read_excel(\"HospitalDatabase.xlsx\", \"EDVisits\")\n",
    "df_rv.head()"
   ]
  },
  {
   "cell_type": "code",
   "execution_count": null,
   "id": "sustainable-lesbian",
   "metadata": {},
   "outputs": [],
   "source": [
    "# Finding the list of unique values in the column ReasonForVisit\n",
    "print(sorted(df_rv['ReasonForVisit'].unique()))"
   ]
  },
  {
   "cell_type": "markdown",
   "id": "mounted-juvenile",
   "metadata": {},
   "source": [
    "### 75. Calculate the time spent in ED Department for each visit\n"
   ]
  },
  {
   "cell_type": "code",
   "execution_count": null,
   "id": "united-nursery",
   "metadata": {},
   "outputs": [],
   "source": [
    "df_edvisit = pd.read_excel(\"HospitalDatabase.xlsx\", \"EDVisits\", index_col = \"EDVisitID\")\n",
    "df_rv.head()"
   ]
  },
  {
   "cell_type": "code",
   "execution_count": null,
   "id": "unavailable-portrait",
   "metadata": {},
   "outputs": [],
   "source": [
    "# EDVisitId is unique column\n",
    "df_rv[\"EDVisitID\"].nunique()"
   ]
  },
  {
   "cell_type": "code",
   "execution_count": null,
   "id": "liable-cattle",
   "metadata": {},
   "outputs": [],
   "source": [
    "df_rv[\"VisitDate\"].dtype"
   ]
  },
  {
   "cell_type": "code",
   "execution_count": null,
   "id": "republican-mystery",
   "metadata": {},
   "outputs": [],
   "source": [
    "df_rv[\"EDDischargeTime\"].dtype"
   ]
  },
  {
   "cell_type": "markdown",
   "id": "entitled-harrison",
   "metadata": {},
   "source": [
    "### 76.Reverse the string without using inbuilt functions\n"
   ]
  },
  {
   "cell_type": "code",
   "execution_count": null,
   "id": "express-malaysia",
   "metadata": {},
   "outputs": [],
   "source": [
    "# Method 1: \n",
    "\n",
    "#user-defined function\n",
    "def findReverse(string):\n",
    "   # find reverse of string\n",
    "   reverse = string[::-1]\n",
    "   return reverse\n",
    "\n",
    "# take inputs\n",
    "string = input('Enter the string: ')\n",
    "\n",
    "# calling function and display result\n",
    "reverse = findReverse(string)\n",
    "print('The reverse string is', reverse)"
   ]
  },
  {
   "cell_type": "code",
   "execution_count": 2,
   "id": "single-contributor",
   "metadata": {},
   "outputs": [
    {
     "data": {
      "text/html": [
       "<div>\n",
       "<style scoped>\n",
       "    .dataframe tbody tr th:only-of-type {\n",
       "        vertical-align: middle;\n",
       "    }\n",
       "\n",
       "    .dataframe tbody tr th {\n",
       "        vertical-align: top;\n",
       "    }\n",
       "\n",
       "    .dataframe thead th {\n",
       "        text-align: right;\n",
       "    }\n",
       "</style>\n",
       "<table border=\"1\" class=\"dataframe\">\n",
       "  <thead>\n",
       "    <tr style=\"text-align: right;\">\n",
       "      <th></th>\n",
       "      <th>FirstName</th>\n",
       "      <th>LastName</th>\n",
       "      <th>DateOfBirth</th>\n",
       "      <th>Gender</th>\n",
       "      <th>Race</th>\n",
       "      <th>Language</th>\n",
       "    </tr>\n",
       "    <tr>\n",
       "      <th>PatientID</th>\n",
       "      <th></th>\n",
       "      <th></th>\n",
       "      <th></th>\n",
       "      <th></th>\n",
       "      <th></th>\n",
       "      <th></th>\n",
       "    </tr>\n",
       "  </thead>\n",
       "  <tbody>\n",
       "    <tr>\n",
       "      <th>1</th>\n",
       "      <td>Lanni</td>\n",
       "      <td>Sue</td>\n",
       "      <td>1960-01-01 00:00:00.000000</td>\n",
       "      <td>Male</td>\n",
       "      <td>White</td>\n",
       "      <td>English</td>\n",
       "    </tr>\n",
       "    <tr>\n",
       "      <th>2</th>\n",
       "      <td>Far</td>\n",
       "      <td>Myers</td>\n",
       "      <td>1985-11-15 02:08:42.089852</td>\n",
       "      <td>Male</td>\n",
       "      <td>White</td>\n",
       "      <td>English</td>\n",
       "    </tr>\n",
       "    <tr>\n",
       "      <th>3</th>\n",
       "      <td>Devlin</td>\n",
       "      <td>Michael</td>\n",
       "      <td>1976-04-15 02:52:09.762384</td>\n",
       "      <td>Male</td>\n",
       "      <td>White</td>\n",
       "      <td>English</td>\n",
       "    </tr>\n",
       "    <tr>\n",
       "      <th>4</th>\n",
       "      <td>Carmine</td>\n",
       "      <td>Texas</td>\n",
       "      <td>1968-10-15 03:32:13.634776</td>\n",
       "      <td>Male</td>\n",
       "      <td>White</td>\n",
       "      <td>English</td>\n",
       "    </tr>\n",
       "    <tr>\n",
       "      <th>5</th>\n",
       "      <td>Tann</td>\n",
       "      <td>Bama</td>\n",
       "      <td>1962-05-01 19:12:58.949547</td>\n",
       "      <td>Male</td>\n",
       "      <td>White</td>\n",
       "      <td>English</td>\n",
       "    </tr>\n",
       "  </tbody>\n",
       "</table>\n",
       "</div>"
      ],
      "text/plain": [
       "          FirstName LastName                DateOfBirth Gender   Race Language\n",
       "PatientID                                                                     \n",
       "1             Lanni      Sue 1960-01-01 00:00:00.000000   Male  White  English\n",
       "2               Far    Myers 1985-11-15 02:08:42.089852   Male  White  English\n",
       "3           Devlin   Michael 1976-04-15 02:52:09.762384   Male  White  English\n",
       "4           Carmine    Texas 1968-10-15 03:32:13.634776   Male  White  English\n",
       "5             Tann      Bama 1962-05-01 19:12:58.949547   Male  White  English"
      ]
     },
     "execution_count": 2,
     "metadata": {},
     "output_type": "execute_result"
    }
   ],
   "source": [
    "# Method 2:\n",
    "\n",
    "df_pnts = pd.read_excel(\"HospitalDatabase.xlsx\" , \"Patients\" , index_col=\"PatientID\")\n",
    "df_pnts.head()"
   ]
  },
  {
   "cell_type": "code",
   "execution_count": 5,
   "id": "absolute-grenada",
   "metadata": {},
   "outputs": [
    {
     "data": {
      "text/html": [
       "<div>\n",
       "<style scoped>\n",
       "    .dataframe tbody tr th:only-of-type {\n",
       "        vertical-align: middle;\n",
       "    }\n",
       "\n",
       "    .dataframe tbody tr th {\n",
       "        vertical-align: top;\n",
       "    }\n",
       "\n",
       "    .dataframe thead th {\n",
       "        text-align: right;\n",
       "    }\n",
       "</style>\n",
       "<table border=\"1\" class=\"dataframe\">\n",
       "  <thead>\n",
       "    <tr style=\"text-align: right;\">\n",
       "      <th></th>\n",
       "      <th>FirstName</th>\n",
       "      <th>LastName</th>\n",
       "      <th>DateOfBirth</th>\n",
       "      <th>Gender</th>\n",
       "      <th>Race</th>\n",
       "      <th>Language</th>\n",
       "      <th>First_Name</th>\n",
       "    </tr>\n",
       "    <tr>\n",
       "      <th>PatientID</th>\n",
       "      <th></th>\n",
       "      <th></th>\n",
       "      <th></th>\n",
       "      <th></th>\n",
       "      <th></th>\n",
       "      <th></th>\n",
       "      <th></th>\n",
       "    </tr>\n",
       "  </thead>\n",
       "  <tbody>\n",
       "    <tr>\n",
       "      <th>1</th>\n",
       "      <td>Lanni</td>\n",
       "      <td>Sue</td>\n",
       "      <td>1960-01-01 00:00:00.000000</td>\n",
       "      <td>Male</td>\n",
       "      <td>White</td>\n",
       "      <td>English</td>\n",
       "      <td>innaL</td>\n",
       "    </tr>\n",
       "    <tr>\n",
       "      <th>2</th>\n",
       "      <td>Far</td>\n",
       "      <td>Myers</td>\n",
       "      <td>1985-11-15 02:08:42.089852</td>\n",
       "      <td>Male</td>\n",
       "      <td>White</td>\n",
       "      <td>English</td>\n",
       "      <td>raF</td>\n",
       "    </tr>\n",
       "    <tr>\n",
       "      <th>3</th>\n",
       "      <td>Devlin</td>\n",
       "      <td>Michael</td>\n",
       "      <td>1976-04-15 02:52:09.762384</td>\n",
       "      <td>Male</td>\n",
       "      <td>White</td>\n",
       "      <td>English</td>\n",
       "      <td>nilveD</td>\n",
       "    </tr>\n",
       "    <tr>\n",
       "      <th>4</th>\n",
       "      <td>Carmine</td>\n",
       "      <td>Texas</td>\n",
       "      <td>1968-10-15 03:32:13.634776</td>\n",
       "      <td>Male</td>\n",
       "      <td>White</td>\n",
       "      <td>English</td>\n",
       "      <td>enimraC</td>\n",
       "    </tr>\n",
       "    <tr>\n",
       "      <th>5</th>\n",
       "      <td>Tann</td>\n",
       "      <td>Bama</td>\n",
       "      <td>1962-05-01 19:12:58.949547</td>\n",
       "      <td>Male</td>\n",
       "      <td>White</td>\n",
       "      <td>English</td>\n",
       "      <td>nnaT</td>\n",
       "    </tr>\n",
       "  </tbody>\n",
       "</table>\n",
       "</div>"
      ],
      "text/plain": [
       "          FirstName LastName                DateOfBirth Gender   Race  \\\n",
       "PatientID                                                               \n",
       "1             Lanni      Sue 1960-01-01 00:00:00.000000   Male  White   \n",
       "2               Far    Myers 1985-11-15 02:08:42.089852   Male  White   \n",
       "3           Devlin   Michael 1976-04-15 02:52:09.762384   Male  White   \n",
       "4           Carmine    Texas 1968-10-15 03:32:13.634776   Male  White   \n",
       "5             Tann      Bama 1962-05-01 19:12:58.949547   Male  White   \n",
       "\n",
       "          Language First_Name  \n",
       "PatientID                      \n",
       "1          English      innaL  \n",
       "2          English        raF  \n",
       "3          English     nilveD  \n",
       "4          English    enimraC  \n",
       "5          English       nnaT  "
      ]
     },
     "execution_count": 5,
     "metadata": {},
     "output_type": "execute_result"
    }
   ],
   "source": [
    "# x[::-1]  is used to reverse the string of the column in pandas along with the apply function as shown below\n",
    "\n",
    "df_pnts['First_Name'] = df_pnts.loc[:,'FirstName'].apply(lambda x: x[::-1])\n",
    "df_pnts.head()"
   ]
  },
  {
   "cell_type": "markdown",
   "id": "dynamic-freight",
   "metadata": {},
   "source": [
    "### 77. Create a bar chart by making list on Acuity & EDDischarge column (with no duplicates) & make the hatchs onto the bar by using set_hatch() method\n"
   ]
  },
  {
   "cell_type": "code",
   "execution_count": null,
   "id": "republican-spell",
   "metadata": {},
   "outputs": [],
   "source": [
    "import numpy as np\n",
    "import pandas as pd\n",
    "from matplotlib import pyplot as plt\n",
    "\n",
    "plt.rcParams[\"figure.figsize\"] = [7.50, 3.50]\n",
    "plt.rcParams[\"figure.autolayout\"] = True\n",
    "\n",
    "df = pd.DataFrame(np.random.rand(5, 2), columns=['a', 'b'])\n",
    "ax = plt.figure().add_subplot(111)\n",
    "bars = df.plot(ax=ax, kind='bar')\n",
    "hatches = [\"*\", \"/\", \"o\", \"x\"]\n",
    "\n",
    "for patch in bars.patches:\n",
    "   patch.set_hatch(hatches[np.random.randint(10)%len(hatches)])\n",
    "\n",
    "plt.show()"
   ]
  },
  {
   "cell_type": "markdown",
   "id": "proof-aviation",
   "metadata": {},
   "source": [
    "### 78 . Find reasonForVisit with highest count of acuity 5 patients\n"
   ]
  },
  {
   "cell_type": "markdown",
   "id": "terminal-airport",
   "metadata": {},
   "source": [
    "### 79.  Which PrimaryDiagnosis has the biggest difference between maximum and minimum Expected LOS?\n"
   ]
  },
  {
   "cell_type": "markdown",
   "id": "breathing-british",
   "metadata": {},
   "source": [
    "### 80. Write a code snippet to print different ProviderSpecialty ( use groupby and get the list of the groups)\n"
   ]
  },
  {
   "cell_type": "markdown",
   "id": "simple-backup",
   "metadata": {},
   "source": [
    "### 81. Display full name of patients\n",
    " "
   ]
  },
  {
   "cell_type": "code",
   "execution_count": 22,
   "id": "continued-german",
   "metadata": {
    "scrolled": true
   },
   "outputs": [
    {
     "data": {
      "text/html": [
       "<div>\n",
       "<style scoped>\n",
       "    .dataframe tbody tr th:only-of-type {\n",
       "        vertical-align: middle;\n",
       "    }\n",
       "\n",
       "    .dataframe tbody tr th {\n",
       "        vertical-align: top;\n",
       "    }\n",
       "\n",
       "    .dataframe thead th {\n",
       "        text-align: right;\n",
       "    }\n",
       "</style>\n",
       "<table border=\"1\" class=\"dataframe\">\n",
       "  <thead>\n",
       "    <tr style=\"text-align: right;\">\n",
       "      <th></th>\n",
       "      <th>PatientID</th>\n",
       "      <th>FirstName</th>\n",
       "      <th>LastName</th>\n",
       "      <th>DateOfBirth</th>\n",
       "      <th>Gender</th>\n",
       "      <th>Race</th>\n",
       "      <th>Language</th>\n",
       "    </tr>\n",
       "  </thead>\n",
       "  <tbody>\n",
       "    <tr>\n",
       "      <th>0</th>\n",
       "      <td>1</td>\n",
       "      <td>Lanni</td>\n",
       "      <td>Sue</td>\n",
       "      <td>1960-01-01 00:00:00.000000</td>\n",
       "      <td>Male</td>\n",
       "      <td>White</td>\n",
       "      <td>English</td>\n",
       "    </tr>\n",
       "    <tr>\n",
       "      <th>1</th>\n",
       "      <td>2</td>\n",
       "      <td>Far</td>\n",
       "      <td>Myers</td>\n",
       "      <td>1985-11-15 02:08:42.089852</td>\n",
       "      <td>Male</td>\n",
       "      <td>White</td>\n",
       "      <td>English</td>\n",
       "    </tr>\n",
       "    <tr>\n",
       "      <th>2</th>\n",
       "      <td>3</td>\n",
       "      <td>Devlin</td>\n",
       "      <td>Michael</td>\n",
       "      <td>1976-04-15 02:52:09.762384</td>\n",
       "      <td>Male</td>\n",
       "      <td>White</td>\n",
       "      <td>English</td>\n",
       "    </tr>\n",
       "    <tr>\n",
       "      <th>3</th>\n",
       "      <td>4</td>\n",
       "      <td>Carmine</td>\n",
       "      <td>Texas</td>\n",
       "      <td>1968-10-15 03:32:13.634776</td>\n",
       "      <td>Male</td>\n",
       "      <td>White</td>\n",
       "      <td>English</td>\n",
       "    </tr>\n",
       "    <tr>\n",
       "      <th>4</th>\n",
       "      <td>5</td>\n",
       "      <td>Tann</td>\n",
       "      <td>Bama</td>\n",
       "      <td>1962-05-01 19:12:58.949547</td>\n",
       "      <td>Male</td>\n",
       "      <td>White</td>\n",
       "      <td>English</td>\n",
       "    </tr>\n",
       "    <tr>\n",
       "      <th>...</th>\n",
       "      <td>...</td>\n",
       "      <td>...</td>\n",
       "      <td>...</td>\n",
       "      <td>...</td>\n",
       "      <td>...</td>\n",
       "      <td>...</td>\n",
       "      <td>...</td>\n",
       "    </tr>\n",
       "    <tr>\n",
       "      <th>940</th>\n",
       "      <td>941</td>\n",
       "      <td>Wat</td>\n",
       "      <td>Fideler</td>\n",
       "      <td>1986-05-26 00:01:19.761035</td>\n",
       "      <td>Male</td>\n",
       "      <td>Black/African-American</td>\n",
       "      <td>English</td>\n",
       "    </tr>\n",
       "    <tr>\n",
       "      <th>941</th>\n",
       "      <td>942</td>\n",
       "      <td>Wandie</td>\n",
       "      <td>Baythrop</td>\n",
       "      <td>1970-06-10 21:41:03.814278</td>\n",
       "      <td>Male</td>\n",
       "      <td>Black/African-American</td>\n",
       "      <td>English</td>\n",
       "    </tr>\n",
       "    <tr>\n",
       "      <th>942</th>\n",
       "      <td>943</td>\n",
       "      <td>Diahann</td>\n",
       "      <td>Smeeton</td>\n",
       "      <td>1983-01-08 21:49:27.883969</td>\n",
       "      <td>Male</td>\n",
       "      <td>Black/African-American</td>\n",
       "      <td>English</td>\n",
       "    </tr>\n",
       "    <tr>\n",
       "      <th>943</th>\n",
       "      <td>944</td>\n",
       "      <td>Panchito</td>\n",
       "      <td>Sharple</td>\n",
       "      <td>1963-06-05 07:57:05.569185</td>\n",
       "      <td>Male</td>\n",
       "      <td>Black/African-American</td>\n",
       "      <td>English</td>\n",
       "    </tr>\n",
       "    <tr>\n",
       "      <th>944</th>\n",
       "      <td>945</td>\n",
       "      <td>Walsh</td>\n",
       "      <td>Calvie</td>\n",
       "      <td>1972-08-06 03:40:03.454345</td>\n",
       "      <td>Male</td>\n",
       "      <td>Black/African-American</td>\n",
       "      <td>English</td>\n",
       "    </tr>\n",
       "  </tbody>\n",
       "</table>\n",
       "<p>945 rows × 7 columns</p>\n",
       "</div>"
      ],
      "text/plain": [
       "     PatientID FirstName  LastName                DateOfBirth Gender  \\\n",
       "0            1     Lanni       Sue 1960-01-01 00:00:00.000000   Male   \n",
       "1            2       Far     Myers 1985-11-15 02:08:42.089852   Male   \n",
       "2            3   Devlin    Michael 1976-04-15 02:52:09.762384   Male   \n",
       "3            4   Carmine     Texas 1968-10-15 03:32:13.634776   Male   \n",
       "4            5     Tann       Bama 1962-05-01 19:12:58.949547   Male   \n",
       "..         ...       ...       ...                        ...    ...   \n",
       "940        941       Wat   Fideler 1986-05-26 00:01:19.761035   Male   \n",
       "941        942    Wandie  Baythrop 1970-06-10 21:41:03.814278   Male   \n",
       "942        943   Diahann   Smeeton 1983-01-08 21:49:27.883969   Male   \n",
       "943        944  Panchito   Sharple 1963-06-05 07:57:05.569185   Male   \n",
       "944        945     Walsh    Calvie 1972-08-06 03:40:03.454345   Male   \n",
       "\n",
       "                       Race Language  \n",
       "0                     White  English  \n",
       "1                     White  English  \n",
       "2                     White  English  \n",
       "3                     White  English  \n",
       "4                     White  English  \n",
       "..                      ...      ...  \n",
       "940  Black/African-American  English  \n",
       "941  Black/African-American  English  \n",
       "942  Black/African-American  English  \n",
       "943  Black/African-American  English  \n",
       "944  Black/African-American  English  \n",
       "\n",
       "[945 rows x 7 columns]"
      ]
     },
     "execution_count": 22,
     "metadata": {},
     "output_type": "execute_result"
    }
   ],
   "source": [
    "df = pd.read_excel(\"HospitalDatabase.xlsx\", \"Patients\")\n",
    "df"
   ]
  },
  {
   "cell_type": "code",
   "execution_count": 24,
   "id": "novel-dominican",
   "metadata": {},
   "outputs": [
    {
     "ename": "NameError",
     "evalue": "name 'FirstName' is not defined",
     "output_type": "error",
     "traceback": [
      "\u001b[1;31m---------------------------------------------------------------------------\u001b[0m",
      "\u001b[1;31mNameError\u001b[0m                                 Traceback (most recent call last)",
      "\u001b[1;32m<ipython-input-24-a9948560abf5>\u001b[0m in \u001b[0;36m<module>\u001b[1;34m\u001b[0m\n\u001b[1;32m----> 1\u001b[1;33m \u001b[0ma\u001b[0m \u001b[1;33m=\u001b[0m \u001b[1;34m' '\u001b[0m\u001b[1;33m.\u001b[0m\u001b[0mjoin\u001b[0m\u001b[1;33m(\u001b[0m\u001b[1;33m[\u001b[0m\u001b[0mFirstName\u001b[0m\u001b[1;33m,\u001b[0m\u001b[0mLastName\u001b[0m\u001b[1;33m]\u001b[0m\u001b[1;33m)\u001b[0m\u001b[1;33m\u001b[0m\u001b[1;33m\u001b[0m\u001b[0m\n\u001b[0m",
      "\u001b[1;31mNameError\u001b[0m: name 'FirstName' is not defined"
     ]
    }
   ],
   "source": [
    "a = ' '.join([FirstName,LastName])"
   ]
  },
  {
   "cell_type": "markdown",
   "id": "approximate-reception",
   "metadata": {},
   "source": [
    "### 82. Retrieve the rows where SBP<140 and DBP<80\n"
   ]
  },
  {
   "cell_type": "markdown",
   "id": "operating-herald",
   "metadata": {},
   "source": [
    "### 83.Create the plot where x= np.arange(0, 10, 0.1) and y= np.sin(np.pi * x) + x by adding two axes to a figure object at [0.1,0.1,0.9,0.9] & [0.2,0.6,0.3,0.3]\n",
    " "
   ]
  },
  {
   "cell_type": "markdown",
   "id": "opposed-uzbekistan",
   "metadata": {},
   "source": [
    "### 84. Find the list of patients whose ExpectedLOS is greater than the value given by the user\n"
   ]
  },
  {
   "cell_type": "markdown",
   "id": "running-jason",
   "metadata": {},
   "source": [
    "### 85.Find count of Black/African American, English Females\n"
   ]
  },
  {
   "cell_type": "code",
   "execution_count": 13,
   "id": "earlier-design",
   "metadata": {},
   "outputs": [
    {
     "data": {
      "text/html": [
       "<div>\n",
       "<style scoped>\n",
       "    .dataframe tbody tr th:only-of-type {\n",
       "        vertical-align: middle;\n",
       "    }\n",
       "\n",
       "    .dataframe tbody tr th {\n",
       "        vertical-align: top;\n",
       "    }\n",
       "\n",
       "    .dataframe thead th {\n",
       "        text-align: right;\n",
       "    }\n",
       "</style>\n",
       "<table border=\"1\" class=\"dataframe\">\n",
       "  <thead>\n",
       "    <tr style=\"text-align: right;\">\n",
       "      <th></th>\n",
       "      <th>PatientID</th>\n",
       "      <th>FirstName</th>\n",
       "      <th>LastName</th>\n",
       "      <th>DateOfBirth</th>\n",
       "      <th>Gender</th>\n",
       "      <th>Race</th>\n",
       "      <th>Language</th>\n",
       "    </tr>\n",
       "  </thead>\n",
       "  <tbody>\n",
       "    <tr>\n",
       "      <th>0</th>\n",
       "      <td>1</td>\n",
       "      <td>Lanni</td>\n",
       "      <td>Sue</td>\n",
       "      <td>1960-01-01 00:00:00.000000</td>\n",
       "      <td>Male</td>\n",
       "      <td>White</td>\n",
       "      <td>English</td>\n",
       "    </tr>\n",
       "    <tr>\n",
       "      <th>1</th>\n",
       "      <td>2</td>\n",
       "      <td>Far</td>\n",
       "      <td>Myers</td>\n",
       "      <td>1985-11-15 02:08:42.089852</td>\n",
       "      <td>Male</td>\n",
       "      <td>White</td>\n",
       "      <td>English</td>\n",
       "    </tr>\n",
       "    <tr>\n",
       "      <th>2</th>\n",
       "      <td>3</td>\n",
       "      <td>Devlin</td>\n",
       "      <td>Michael</td>\n",
       "      <td>1976-04-15 02:52:09.762384</td>\n",
       "      <td>Male</td>\n",
       "      <td>White</td>\n",
       "      <td>English</td>\n",
       "    </tr>\n",
       "    <tr>\n",
       "      <th>3</th>\n",
       "      <td>4</td>\n",
       "      <td>Carmine</td>\n",
       "      <td>Texas</td>\n",
       "      <td>1968-10-15 03:32:13.634776</td>\n",
       "      <td>Male</td>\n",
       "      <td>White</td>\n",
       "      <td>English</td>\n",
       "    </tr>\n",
       "    <tr>\n",
       "      <th>4</th>\n",
       "      <td>5</td>\n",
       "      <td>Tann</td>\n",
       "      <td>Bama</td>\n",
       "      <td>1962-05-01 19:12:58.949547</td>\n",
       "      <td>Male</td>\n",
       "      <td>White</td>\n",
       "      <td>English</td>\n",
       "    </tr>\n",
       "  </tbody>\n",
       "</table>\n",
       "</div>"
      ],
      "text/plain": [
       "   PatientID FirstName LastName                DateOfBirth Gender   Race  \\\n",
       "0          1     Lanni      Sue 1960-01-01 00:00:00.000000   Male  White   \n",
       "1          2       Far    Myers 1985-11-15 02:08:42.089852   Male  White   \n",
       "2          3   Devlin   Michael 1976-04-15 02:52:09.762384   Male  White   \n",
       "3          4   Carmine    Texas 1968-10-15 03:32:13.634776   Male  White   \n",
       "4          5     Tann      Bama 1962-05-01 19:12:58.949547   Male  White   \n",
       "\n",
       "  Language  \n",
       "0  English  \n",
       "1  English  \n",
       "2  English  \n",
       "3  English  \n",
       "4  English  "
      ]
     },
     "execution_count": 13,
     "metadata": {},
     "output_type": "execute_result"
    }
   ],
   "source": [
    "df = pd.read_excel(\"HospitalDatabase.xlsx\" , \"Patients\" )\n",
    "df.head()"
   ]
  },
  {
   "cell_type": "code",
   "execution_count": 44,
   "id": "disciplinary-circle",
   "metadata": {},
   "outputs": [
    {
     "data": {
      "text/html": [
       "<div>\n",
       "<style scoped>\n",
       "    .dataframe tbody tr th:only-of-type {\n",
       "        vertical-align: middle;\n",
       "    }\n",
       "\n",
       "    .dataframe tbody tr th {\n",
       "        vertical-align: top;\n",
       "    }\n",
       "\n",
       "    .dataframe thead th {\n",
       "        text-align: right;\n",
       "    }\n",
       "</style>\n",
       "<table border=\"1\" class=\"dataframe\">\n",
       "  <thead>\n",
       "    <tr style=\"text-align: right;\">\n",
       "      <th></th>\n",
       "      <th>PatientID</th>\n",
       "      <th>FirstName</th>\n",
       "      <th>LastName</th>\n",
       "      <th>DateOfBirth</th>\n",
       "      <th>Gender</th>\n",
       "      <th>Race</th>\n",
       "      <th>Language</th>\n",
       "    </tr>\n",
       "  </thead>\n",
       "  <tbody>\n",
       "    <tr>\n",
       "      <th>315</th>\n",
       "      <td>316</td>\n",
       "      <td>Darla</td>\n",
       "      <td>Plain</td>\n",
       "      <td>1978-02-27 01:33:35.681176</td>\n",
       "      <td>Female</td>\n",
       "      <td>White</td>\n",
       "      <td>English</td>\n",
       "    </tr>\n",
       "    <tr>\n",
       "      <th>316</th>\n",
       "      <td>317</td>\n",
       "      <td>Bins</td>\n",
       "      <td>Fance</td>\n",
       "      <td>1965-01-09 14:04:46.634876</td>\n",
       "      <td>Female</td>\n",
       "      <td>White</td>\n",
       "      <td>English</td>\n",
       "    </tr>\n",
       "    <tr>\n",
       "      <th>317</th>\n",
       "      <td>318</td>\n",
       "      <td>Ximenes</td>\n",
       "      <td>Lincke</td>\n",
       "      <td>1975-09-23 19:53:56.655775</td>\n",
       "      <td>Female</td>\n",
       "      <td>White</td>\n",
       "      <td>English</td>\n",
       "    </tr>\n",
       "    <tr>\n",
       "      <th>318</th>\n",
       "      <td>319</td>\n",
       "      <td>Virginie</td>\n",
       "      <td>Group</td>\n",
       "      <td>1965-02-26 09:13:19.432612</td>\n",
       "      <td>Female</td>\n",
       "      <td>White</td>\n",
       "      <td>English</td>\n",
       "    </tr>\n",
       "    <tr>\n",
       "      <th>319</th>\n",
       "      <td>320</td>\n",
       "      <td>Gerard</td>\n",
       "      <td>MacMurray</td>\n",
       "      <td>1960-06-21 07:18:42.147589</td>\n",
       "      <td>Female</td>\n",
       "      <td>White</td>\n",
       "      <td>English</td>\n",
       "    </tr>\n",
       "    <tr>\n",
       "      <th>...</th>\n",
       "      <td>...</td>\n",
       "      <td>...</td>\n",
       "      <td>...</td>\n",
       "      <td>...</td>\n",
       "      <td>...</td>\n",
       "      <td>...</td>\n",
       "      <td>...</td>\n",
       "    </tr>\n",
       "    <tr>\n",
       "      <th>870</th>\n",
       "      <td>871</td>\n",
       "      <td>Tabby</td>\n",
       "      <td>Bowler</td>\n",
       "      <td>1977-02-07 05:35:23.665997</td>\n",
       "      <td>Female</td>\n",
       "      <td>White</td>\n",
       "      <td>English</td>\n",
       "    </tr>\n",
       "    <tr>\n",
       "      <th>871</th>\n",
       "      <td>872</td>\n",
       "      <td>Chev</td>\n",
       "      <td>Hawford</td>\n",
       "      <td>1987-05-03 08:51:27.568000</td>\n",
       "      <td>Female</td>\n",
       "      <td>White</td>\n",
       "      <td>English</td>\n",
       "    </tr>\n",
       "    <tr>\n",
       "      <th>872</th>\n",
       "      <td>873</td>\n",
       "      <td>Idell</td>\n",
       "      <td>Orbine</td>\n",
       "      <td>1977-01-21 05:13:25.467345</td>\n",
       "      <td>Female</td>\n",
       "      <td>White</td>\n",
       "      <td>English</td>\n",
       "    </tr>\n",
       "    <tr>\n",
       "      <th>873</th>\n",
       "      <td>874</td>\n",
       "      <td>Schroeder</td>\n",
       "      <td>McGarvey</td>\n",
       "      <td>1971-12-09 11:56:22.068013</td>\n",
       "      <td>Female</td>\n",
       "      <td>White</td>\n",
       "      <td>English</td>\n",
       "    </tr>\n",
       "    <tr>\n",
       "      <th>874</th>\n",
       "      <td>875</td>\n",
       "      <td>Freeland</td>\n",
       "      <td>Bowler</td>\n",
       "      <td>1978-06-29 07:28:28.948966</td>\n",
       "      <td>Female</td>\n",
       "      <td>White</td>\n",
       "      <td>English</td>\n",
       "    </tr>\n",
       "  </tbody>\n",
       "</table>\n",
       "<p>216 rows × 7 columns</p>\n",
       "</div>"
      ],
      "text/plain": [
       "     PatientID  FirstName   LastName                DateOfBirth  Gender  \\\n",
       "315        316      Darla      Plain 1978-02-27 01:33:35.681176  Female   \n",
       "316        317       Bins      Fance 1965-01-09 14:04:46.634876  Female   \n",
       "317        318    Ximenes     Lincke 1975-09-23 19:53:56.655775  Female   \n",
       "318        319   Virginie      Group 1965-02-26 09:13:19.432612  Female   \n",
       "319        320     Gerard  MacMurray 1960-06-21 07:18:42.147589  Female   \n",
       "..         ...        ...        ...                        ...     ...   \n",
       "870        871      Tabby     Bowler 1977-02-07 05:35:23.665997  Female   \n",
       "871        872       Chev    Hawford 1987-05-03 08:51:27.568000  Female   \n",
       "872        873      Idell     Orbine 1977-01-21 05:13:25.467345  Female   \n",
       "873        874  Schroeder   McGarvey 1971-12-09 11:56:22.068013  Female   \n",
       "874        875   Freeland     Bowler 1978-06-29 07:28:28.948966  Female   \n",
       "\n",
       "      Race Language  \n",
       "315  White  English  \n",
       "316  White  English  \n",
       "317  White  English  \n",
       "318  White  English  \n",
       "319  White  English  \n",
       "..     ...      ...  \n",
       "870  White  English  \n",
       "871  White  English  \n",
       "872  White  English  \n",
       "873  White  English  \n",
       "874  White  English  \n",
       "\n",
       "[216 rows x 7 columns]"
      ]
     },
     "execution_count": 44,
     "metadata": {},
     "output_type": "execute_result"
    }
   ],
   "source": [
    "df_new = df.groupby([\"Gender\", \"Race\",\"Language\"]).get_group((\"Female\",\"White\",\"English\"))\n",
    "df_new"
   ]
  },
  {
   "cell_type": "code",
   "execution_count": 45,
   "id": "quarterly-option",
   "metadata": {},
   "outputs": [
    {
     "data": {
      "text/plain": [
       "216"
      ]
     },
     "execution_count": 45,
     "metadata": {},
     "output_type": "execute_result"
    }
   ],
   "source": [
    "df_count = df.groupby([\"Gender\", \"Race\",\"Language\"]).get_group((\"Female\",\"White\",\"English\"))['PatientID'].count()\n",
    "df_count"
   ]
  },
  {
   "cell_type": "code",
   "execution_count": null,
   "id": "collaborative-bottom",
   "metadata": {},
   "outputs": [],
   "source": []
  },
  {
   "cell_type": "code",
   "execution_count": null,
   "id": "digital-billion",
   "metadata": {},
   "outputs": [],
   "source": []
  }
 ],
 "metadata": {
  "kernelspec": {
   "display_name": "Python 3 (ipykernel)",
   "language": "python",
   "name": "python3"
  },
  "language_info": {
   "codemirror_mode": {
    "name": "ipython",
    "version": 3
   },
   "file_extension": ".py",
   "mimetype": "text/x-python",
   "name": "python",
   "nbconvert_exporter": "python",
   "pygments_lexer": "ipython3",
   "version": "3.9.7"
  }
 },
 "nbformat": 4,
 "nbformat_minor": 5
}
