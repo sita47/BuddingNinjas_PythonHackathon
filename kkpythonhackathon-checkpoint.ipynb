{
 "cells": [
  {
   "cell_type": "code",
   "execution_count": 1,
   "id": "fd0401f9",
   "metadata": {},
   "outputs": [],
   "source": [
    "import pandas as pd\n",
    "import random\n",
    "# read the data from the downloaded CSV file.\n",
    "data = pd.read_excel('HospitalDatabase.xlsx','Patients')"
   ]
  },
  {
   "cell_type": "markdown",
   "id": "23ae35f9",
   "metadata": {},
   "source": [
    "### Q2. Using iloc, retrieve the firstname and lastname of patients between indices 101 and 200"
   ]
  },
  {
   "cell_type": "code",
   "execution_count": 3,
   "id": "37a90594",
   "metadata": {},
   "outputs": [
    {
     "data": {
      "text/html": [
       "<div>\n",
       "<style scoped>\n",
       "    .dataframe tbody tr th:only-of-type {\n",
       "        vertical-align: middle;\n",
       "    }\n",
       "\n",
       "    .dataframe tbody tr th {\n",
       "        vertical-align: top;\n",
       "    }\n",
       "\n",
       "    .dataframe thead th {\n",
       "        text-align: right;\n",
       "    }\n",
       "</style>\n",
       "<table border=\"1\" class=\"dataframe\">\n",
       "  <thead>\n",
       "    <tr style=\"text-align: right;\">\n",
       "      <th></th>\n",
       "      <th>FirstName</th>\n",
       "      <th>LastName</th>\n",
       "    </tr>\n",
       "  </thead>\n",
       "  <tbody>\n",
       "    <tr>\n",
       "      <th>100</th>\n",
       "      <td>Calla</td>\n",
       "      <td>Wasiela</td>\n",
       "    </tr>\n",
       "    <tr>\n",
       "      <th>101</th>\n",
       "      <td>Gipsy</td>\n",
       "      <td>Frankton</td>\n",
       "    </tr>\n",
       "    <tr>\n",
       "      <th>102</th>\n",
       "      <td>Jethro</td>\n",
       "      <td>Wharin</td>\n",
       "    </tr>\n",
       "    <tr>\n",
       "      <th>103</th>\n",
       "      <td>Viv</td>\n",
       "      <td>Aylward</td>\n",
       "    </tr>\n",
       "    <tr>\n",
       "      <th>104</th>\n",
       "      <td>Swift</td>\n",
       "      <td>Dreschler</td>\n",
       "    </tr>\n",
       "    <tr>\n",
       "      <th>...</th>\n",
       "      <td>...</td>\n",
       "      <td>...</td>\n",
       "    </tr>\n",
       "    <tr>\n",
       "      <th>195</th>\n",
       "      <td>Cathlene</td>\n",
       "      <td>Kidwell</td>\n",
       "    </tr>\n",
       "    <tr>\n",
       "      <th>196</th>\n",
       "      <td>Noam</td>\n",
       "      <td>Laguerre</td>\n",
       "    </tr>\n",
       "    <tr>\n",
       "      <th>197</th>\n",
       "      <td>Arie</td>\n",
       "      <td>Bayless</td>\n",
       "    </tr>\n",
       "    <tr>\n",
       "      <th>198</th>\n",
       "      <td>Janaye</td>\n",
       "      <td>O'Mohun</td>\n",
       "    </tr>\n",
       "    <tr>\n",
       "      <th>199</th>\n",
       "      <td>Fonz</td>\n",
       "      <td>Group</td>\n",
       "    </tr>\n",
       "  </tbody>\n",
       "</table>\n",
       "<p>100 rows × 2 columns</p>\n",
       "</div>"
      ],
      "text/plain": [
       "    FirstName   LastName\n",
       "100     Calla    Wasiela\n",
       "101     Gipsy   Frankton\n",
       "102    Jethro     Wharin\n",
       "103       Viv    Aylward\n",
       "104     Swift  Dreschler\n",
       "..        ...        ...\n",
       "195  Cathlene    Kidwell\n",
       "196      Noam   Laguerre\n",
       "197      Arie    Bayless\n",
       "198    Janaye    O'Mohun\n",
       "199      Fonz      Group\n",
       "\n",
       "[100 rows x 2 columns]"
      ]
     },
     "execution_count": 3,
     "metadata": {},
     "output_type": "execute_result"
    }
   ],
   "source": [
    "data.iloc[100:200,1:3]"
   ]
  },
  {
   "cell_type": "markdown",
   "id": "8c1f1f38",
   "metadata": {},
   "source": [
    "###  Q5. Display full name of patients who are born in 1986"
   ]
  },
  {
   "cell_type": "code",
   "execution_count": 4,
   "id": "1b258ba4",
   "metadata": {},
   "outputs": [],
   "source": [
    "# reading dataofbirth column values\n",
    "data['dob'] = data.DateOfBirth"
   ]
  },
  {
   "cell_type": "code",
   "execution_count": 5,
   "id": "c38c2548",
   "metadata": {},
   "outputs": [],
   "source": [
    "# taking only the year details from column.\n",
    "data['year1'] = pd.DatetimeIndex(data['dob']).year"
   ]
  },
  {
   "cell_type": "code",
   "execution_count": 6,
   "id": "ee8cafe1",
   "metadata": {},
   "outputs": [],
   "source": [
    "# Passing the condition and getting patient's details who born in 1986\n",
    "data_1986 = data[pd.DatetimeIndex(data.DateOfBirth).year==1986]"
   ]
  },
  {
   "cell_type": "code",
   "execution_count": 7,
   "id": "3d7f1cca",
   "metadata": {},
   "outputs": [
    {
     "data": {
      "text/html": [
       "<div>\n",
       "<style scoped>\n",
       "    .dataframe tbody tr th:only-of-type {\n",
       "        vertical-align: middle;\n",
       "    }\n",
       "\n",
       "    .dataframe tbody tr th {\n",
       "        vertical-align: top;\n",
       "    }\n",
       "\n",
       "    .dataframe thead th {\n",
       "        text-align: right;\n",
       "    }\n",
       "</style>\n",
       "<table border=\"1\" class=\"dataframe\">\n",
       "  <thead>\n",
       "    <tr style=\"text-align: right;\">\n",
       "      <th></th>\n",
       "      <th>FirstName</th>\n",
       "      <th>LastName</th>\n",
       "    </tr>\n",
       "  </thead>\n",
       "  <tbody>\n",
       "    <tr>\n",
       "      <th>23</th>\n",
       "      <td>Gabriel</td>\n",
       "      <td>Joseph</td>\n",
       "    </tr>\n",
       "    <tr>\n",
       "      <th>24</th>\n",
       "      <td>Lincoln</td>\n",
       "      <td>Brenda</td>\n",
       "    </tr>\n",
       "    <tr>\n",
       "      <th>29</th>\n",
       "      <td>Ala</td>\n",
       "      <td>Halpert</td>\n",
       "    </tr>\n",
       "    <tr>\n",
       "      <th>72</th>\n",
       "      <td>Lolita</td>\n",
       "      <td>Darci</td>\n",
       "    </tr>\n",
       "    <tr>\n",
       "      <th>164</th>\n",
       "      <td>Fadel</td>\n",
       "      <td>Bernardt</td>\n",
       "    </tr>\n",
       "    <tr>\n",
       "      <th>238</th>\n",
       "      <td>Bentley</td>\n",
       "      <td>Kippax</td>\n",
       "    </tr>\n",
       "    <tr>\n",
       "      <th>367</th>\n",
       "      <td>Vale</td>\n",
       "      <td>Olanda</td>\n",
       "    </tr>\n",
       "    <tr>\n",
       "      <th>373</th>\n",
       "      <td>Britt</td>\n",
       "      <td>Dureden</td>\n",
       "    </tr>\n",
       "    <tr>\n",
       "      <th>386</th>\n",
       "      <td>Cristabel</td>\n",
       "      <td>Chatel</td>\n",
       "    </tr>\n",
       "    <tr>\n",
       "      <th>415</th>\n",
       "      <td>Constantia</td>\n",
       "      <td>Group</td>\n",
       "    </tr>\n",
       "    <tr>\n",
       "      <th>452</th>\n",
       "      <td>Morgan</td>\n",
       "      <td>Scrowston</td>\n",
       "    </tr>\n",
       "    <tr>\n",
       "      <th>561</th>\n",
       "      <td>Dom</td>\n",
       "      <td>Baglow</td>\n",
       "    </tr>\n",
       "    <tr>\n",
       "      <th>568</th>\n",
       "      <td>Ignazio</td>\n",
       "      <td>Melling</td>\n",
       "    </tr>\n",
       "    <tr>\n",
       "      <th>595</th>\n",
       "      <td>Homenick</td>\n",
       "      <td>Rings</td>\n",
       "    </tr>\n",
       "    <tr>\n",
       "      <th>639</th>\n",
       "      <td>Hashim</td>\n",
       "      <td>Slark</td>\n",
       "    </tr>\n",
       "    <tr>\n",
       "      <th>643</th>\n",
       "      <td>Ellie</td>\n",
       "      <td>Ramsbotham</td>\n",
       "    </tr>\n",
       "    <tr>\n",
       "      <th>674</th>\n",
       "      <td>Llewellyn</td>\n",
       "      <td>Group</td>\n",
       "    </tr>\n",
       "    <tr>\n",
       "      <th>714</th>\n",
       "      <td>Niles</td>\n",
       "      <td>Shaw</td>\n",
       "    </tr>\n",
       "    <tr>\n",
       "      <th>733</th>\n",
       "      <td>Yvette</td>\n",
       "      <td>Inc</td>\n",
       "    </tr>\n",
       "    <tr>\n",
       "      <th>777</th>\n",
       "      <td>Siouxie</td>\n",
       "      <td>Group</td>\n",
       "    </tr>\n",
       "    <tr>\n",
       "      <th>852</th>\n",
       "      <td>Carly</td>\n",
       "      <td>Group</td>\n",
       "    </tr>\n",
       "    <tr>\n",
       "      <th>868</th>\n",
       "      <td>Worth</td>\n",
       "      <td>Pickering</td>\n",
       "    </tr>\n",
       "    <tr>\n",
       "      <th>877</th>\n",
       "      <td>Arni</td>\n",
       "      <td>Baldack</td>\n",
       "    </tr>\n",
       "    <tr>\n",
       "      <th>909</th>\n",
       "      <td>Kuvalis</td>\n",
       "      <td>Coupland</td>\n",
       "    </tr>\n",
       "    <tr>\n",
       "      <th>922</th>\n",
       "      <td>Rebbecca</td>\n",
       "      <td>Rollingson</td>\n",
       "    </tr>\n",
       "    <tr>\n",
       "      <th>940</th>\n",
       "      <td>Wat</td>\n",
       "      <td>Fideler</td>\n",
       "    </tr>\n",
       "  </tbody>\n",
       "</table>\n",
       "</div>"
      ],
      "text/plain": [
       "      FirstName    LastName\n",
       "23     Gabriel       Joseph\n",
       "24     Lincoln       Brenda\n",
       "29          Ala     Halpert\n",
       "72       Lolita       Darci\n",
       "164       Fadel    Bernardt\n",
       "238     Bentley      Kippax\n",
       "367        Vale      Olanda\n",
       "373       Britt     Dureden\n",
       "386   Cristabel      Chatel\n",
       "415  Constantia       Group\n",
       "452      Morgan   Scrowston\n",
       "561         Dom      Baglow\n",
       "568     Ignazio     Melling\n",
       "595    Homenick       Rings\n",
       "639      Hashim       Slark\n",
       "643       Ellie  Ramsbotham\n",
       "674   Llewellyn       Group\n",
       "714       Niles        Shaw\n",
       "733      Yvette         Inc\n",
       "777     Siouxie       Group\n",
       "852       Carly       Group\n",
       "868       Worth   Pickering\n",
       "877        Arni     Baldack\n",
       "909     Kuvalis    Coupland\n",
       "922    Rebbecca  Rollingson\n",
       "940         Wat     Fideler"
      ]
     },
     "execution_count": 7,
     "metadata": {},
     "output_type": "execute_result"
    }
   ],
   "source": [
    "data_1986.iloc[:,1:3]"
   ]
  },
  {
   "cell_type": "markdown",
   "id": "c0a7e4b0",
   "metadata": {},
   "source": [
    "### Qno.14 To find the number of null values in BloodPressureSystolic column"
   ]
  },
  {
   "cell_type": "code",
   "execution_count": 8,
   "id": "c82271a7",
   "metadata": {},
   "outputs": [],
   "source": [
    "# reading the Ambulatory Visits file to get BloodPressureSystolic column\n",
    "df = pd.read_excel('HospitalDatabase.xlsx','AmbulatoryVisits')"
   ]
  },
  {
   "cell_type": "code",
   "execution_count": 9,
   "id": "cce8fc95",
   "metadata": {},
   "outputs": [
    {
     "name": "stdout",
     "output_type": "stream",
     "text": [
      "0      False\n",
      "1      False\n",
      "2      False\n",
      "3      False\n",
      "4      False\n",
      "       ...  \n",
      "945    False\n",
      "946    False\n",
      "947    False\n",
      "948    False\n",
      "949    False\n",
      "Name: BloodPressureSystolic, Length: 950, dtype: bool\n"
     ]
    }
   ],
   "source": [
    "#to check whether the column as null data\n",
    "BP = df['BloodPressureSystolic'].isnull()\n",
    "print(BP)"
   ]
  },
  {
   "cell_type": "code",
   "execution_count": 10,
   "id": "3fdc8734",
   "metadata": {},
   "outputs": [
    {
     "name": "stdout",
     "output_type": "stream",
     "text": [
      "124\n"
     ]
    }
   ],
   "source": [
    "#to check how many null values in the column\n",
    "BP = df['BloodPressureSystolic'].isnull().sum()\n",
    "print(BP)"
   ]
  },
  {
   "cell_type": "markdown",
   "id": "7dc17ce9",
   "metadata": {},
   "source": [
    "### we have 124 null values in BloodPressureSystolic column"
   ]
  },
  {
   "cell_type": "markdown",
   "id": "a5c2121f",
   "metadata": {},
   "source": [
    "### Qno.15 Replace all the null values in ReadmissionFlag with 0"
   ]
  },
  {
   "cell_type": "code",
   "execution_count": 11,
   "id": "227e8a94",
   "metadata": {},
   "outputs": [],
   "source": [
    "# Reading the ReAdmissionRegistry\n",
    "readmission = pd.read_excel('HospitalDatabase.xlsx','ReAdmissionRegistry')"
   ]
  },
  {
   "cell_type": "code",
   "execution_count": 12,
   "id": "80ddd098",
   "metadata": {},
   "outputs": [
    {
     "name": "stdout",
     "output_type": "stream",
     "text": [
      "526\n"
     ]
    }
   ],
   "source": [
    "# to check how many records has null values\n",
    "readmissionflag = readmission['ReadmissionFlag'].isnull().sum()\n",
    "print(readmissionflag)"
   ]
  },
  {
   "cell_type": "code",
   "execution_count": 13,
   "id": "0f068fd7",
   "metadata": {},
   "outputs": [],
   "source": [
    "#updating the null to zero\n",
    "readmission['ReadmissionFlag'].fillna(value=0, inplace=True)"
   ]
  },
  {
   "cell_type": "code",
   "execution_count": 14,
   "id": "fa817104",
   "metadata": {},
   "outputs": [
    {
     "name": "stdout",
     "output_type": "stream",
     "text": [
      "0\n"
     ]
    }
   ],
   "source": [
    "#checked whether all records got updated\n",
    "readmissionflagupdated = readmission['ReadmissionFlag'].isnull().sum()\n",
    "print(readmissionflagupdated)"
   ]
  },
  {
   "cell_type": "code",
   "execution_count": 15,
   "id": "932a6797",
   "metadata": {},
   "outputs": [
    {
     "data": {
      "text/plain": [
       "0      0.0\n",
       "1      1.0\n",
       "2      1.0\n",
       "3      1.0\n",
       "4      0.0\n",
       "      ... \n",
       "715    0.0\n",
       "716    0.0\n",
       "717    0.0\n",
       "718    0.0\n",
       "719    0.0\n",
       "Name: ReadmissionFlag, Length: 720, dtype: float64"
      ]
     },
     "execution_count": 15,
     "metadata": {},
     "output_type": "execute_result"
    }
   ],
   "source": [
    "#verified the output\n",
    "readmission['ReadmissionFlag']"
   ]
  },
  {
   "cell_type": "markdown",
   "id": "e1799d85",
   "metadata": {},
   "source": [
    "### Qno 9 Get the list of patient ids which are not there in ReadmissionRegistry"
   ]
  },
  {
   "cell_type": "code",
   "execution_count": 24,
   "id": "b9f85072",
   "metadata": {},
   "outputs": [],
   "source": [
    "#reading Patient id's from two data set data\n",
    "dpatientid = data['PatientID']\n",
    "readmissionid = readmission['PatientID'].drop_duplicates()"
   ]
  },
  {
   "cell_type": "code",
   "execution_count": 25,
   "id": "1d207307",
   "metadata": {},
   "outputs": [],
   "source": [
    "# Patient id not readmitted\n",
    "Patinentid_nt = dpatientid[~dpatientid.isin(readmissionid)].dropna()"
   ]
  },
  {
   "cell_type": "code",
   "execution_count": 26,
   "id": "69603471",
   "metadata": {},
   "outputs": [
    {
     "name": "stdout",
     "output_type": "stream",
     "text": [
      "241\n"
     ]
    }
   ],
   "source": [
    "print(Patinentid_nt.count())"
   ]
  },
  {
   "cell_type": "code",
   "execution_count": 27,
   "id": "f72961a8",
   "metadata": {},
   "outputs": [
    {
     "name": "stdout",
     "output_type": "stream",
     "text": [
      "3        4\n",
      "134    135\n",
      "144    145\n",
      "188    189\n",
      "199    200\n",
      "      ... \n",
      "940    941\n",
      "941    942\n",
      "942    943\n",
      "943    944\n",
      "944    945\n",
      "Name: PatientID, Length: 241, dtype: int64\n"
     ]
    }
   ],
   "source": [
    "print(Patinentid_nt)"
   ]
  },
  {
   "cell_type": "code",
   "execution_count": null,
   "id": "7d7ac6c4",
   "metadata": {},
   "outputs": [],
   "source": []
  },
  {
   "cell_type": "code",
   "execution_count": null,
   "id": "58eba558",
   "metadata": {},
   "outputs": [],
   "source": []
  },
  {
   "cell_type": "code",
   "execution_count": null,
   "id": "9c591863",
   "metadata": {},
   "outputs": [],
   "source": []
  },
  {
   "cell_type": "code",
   "execution_count": null,
   "id": "f7891fc1",
   "metadata": {},
   "outputs": [],
   "source": []
  },
  {
   "cell_type": "code",
   "execution_count": null,
   "id": "1c50f28e",
   "metadata": {},
   "outputs": [],
   "source": []
  },
  {
   "cell_type": "code",
   "execution_count": null,
   "id": "d7d35ea2",
   "metadata": {},
   "outputs": [],
   "source": []
  },
  {
   "cell_type": "code",
   "execution_count": null,
   "id": "ff2b55a5",
   "metadata": {},
   "outputs": [],
   "source": []
  },
  {
   "cell_type": "code",
   "execution_count": null,
   "id": "89734b31",
   "metadata": {},
   "outputs": [],
   "source": []
  }
 ],
 "metadata": {
  "kernelspec": {
   "display_name": "Python 3 (ipykernel)",
   "language": "python",
   "name": "python3"
  },
  "language_info": {
   "codemirror_mode": {
    "name": "ipython",
    "version": 3
   },
   "file_extension": ".py",
   "mimetype": "text/x-python",
   "name": "python",
   "nbconvert_exporter": "python",
   "pygments_lexer": "ipython3",
   "version": "3.9.12"
  }
 },
 "nbformat": 4,
 "nbformat_minor": 5
}
