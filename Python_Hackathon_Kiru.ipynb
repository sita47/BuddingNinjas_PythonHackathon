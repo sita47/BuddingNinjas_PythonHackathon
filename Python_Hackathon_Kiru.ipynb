{
 "cells": [
  {
   "cell_type": "code",
   "execution_count": 4,
   "id": "5129c607",
   "metadata": {},
   "outputs": [],
   "source": [
    "import pandas as pd\n",
    "import random\n",
    "# read the data from the downloaded CSV file.\n",
    "data = pd.read_excel('HospitalDatabase.xlsx','Patients')"
   ]
  },
  {
   "cell_type": "markdown",
   "id": "3f8e9ba9",
   "metadata": {},
   "source": [
    "### Q2. Using iloc, retrieve the firstname and lastname of patients between indices 101 and 200"
   ]
  },
  {
   "cell_type": "code",
   "execution_count": 23,
   "id": "a0f32b0d",
   "metadata": {},
   "outputs": [
    {
     "data": {
      "text/html": [
       "<div>\n",
       "<style scoped>\n",
       "    .dataframe tbody tr th:only-of-type {\n",
       "        vertical-align: middle;\n",
       "    }\n",
       "\n",
       "    .dataframe tbody tr th {\n",
       "        vertical-align: top;\n",
       "    }\n",
       "\n",
       "    .dataframe thead th {\n",
       "        text-align: right;\n",
       "    }\n",
       "</style>\n",
       "<table border=\"1\" class=\"dataframe\">\n",
       "  <thead>\n",
       "    <tr style=\"text-align: right;\">\n",
       "      <th></th>\n",
       "      <th>FirstName</th>\n",
       "      <th>LastName</th>\n",
       "    </tr>\n",
       "  </thead>\n",
       "  <tbody>\n",
       "    <tr>\n",
       "      <th>101</th>\n",
       "      <td>Gipsy</td>\n",
       "      <td>Frankton</td>\n",
       "    </tr>\n",
       "    <tr>\n",
       "      <th>102</th>\n",
       "      <td>Jethro</td>\n",
       "      <td>Wharin</td>\n",
       "    </tr>\n",
       "    <tr>\n",
       "      <th>103</th>\n",
       "      <td>Viv</td>\n",
       "      <td>Aylward</td>\n",
       "    </tr>\n",
       "    <tr>\n",
       "      <th>104</th>\n",
       "      <td>Swift</td>\n",
       "      <td>Dreschler</td>\n",
       "    </tr>\n",
       "    <tr>\n",
       "      <th>105</th>\n",
       "      <td>Fadel</td>\n",
       "      <td>Jacquemard</td>\n",
       "    </tr>\n",
       "    <tr>\n",
       "      <th>...</th>\n",
       "      <td>...</td>\n",
       "      <td>...</td>\n",
       "    </tr>\n",
       "    <tr>\n",
       "      <th>195</th>\n",
       "      <td>Cathlene</td>\n",
       "      <td>Kidwell</td>\n",
       "    </tr>\n",
       "    <tr>\n",
       "      <th>196</th>\n",
       "      <td>Noam</td>\n",
       "      <td>Laguerre</td>\n",
       "    </tr>\n",
       "    <tr>\n",
       "      <th>197</th>\n",
       "      <td>Arie</td>\n",
       "      <td>Bayless</td>\n",
       "    </tr>\n",
       "    <tr>\n",
       "      <th>198</th>\n",
       "      <td>Janaye</td>\n",
       "      <td>O'Mohun</td>\n",
       "    </tr>\n",
       "    <tr>\n",
       "      <th>199</th>\n",
       "      <td>Fonz</td>\n",
       "      <td>Group</td>\n",
       "    </tr>\n",
       "  </tbody>\n",
       "</table>\n",
       "<p>99 rows × 2 columns</p>\n",
       "</div>"
      ],
      "text/plain": [
       "    FirstName    LastName\n",
       "101     Gipsy    Frankton\n",
       "102    Jethro      Wharin\n",
       "103       Viv     Aylward\n",
       "104     Swift   Dreschler\n",
       "105     Fadel  Jacquemard\n",
       "..        ...         ...\n",
       "195  Cathlene     Kidwell\n",
       "196      Noam    Laguerre\n",
       "197      Arie     Bayless\n",
       "198    Janaye     O'Mohun\n",
       "199      Fonz       Group\n",
       "\n",
       "[99 rows x 2 columns]"
      ]
     },
     "execution_count": 23,
     "metadata": {},
     "output_type": "execute_result"
    }
   ],
   "source": [
    "data.iloc[101:200,1:3]"
   ]
  },
  {
   "cell_type": "markdown",
   "id": "1ebf45b6",
   "metadata": {},
   "source": [
    "###  Q5. Display full name of patients who are born in 1986"
   ]
  },
  {
   "cell_type": "code",
   "execution_count": 5,
   "id": "6c37ce39",
   "metadata": {},
   "outputs": [],
   "source": [
    "# reading dataofbirth column values\n",
    "data['dob'] = data.DateOfBirth"
   ]
  },
  {
   "cell_type": "code",
   "execution_count": 6,
   "id": "0564e80a",
   "metadata": {},
   "outputs": [],
   "source": [
    "# taking only the year details from column. To check whether my work is correct\n",
    "data['year1'] = pd.DatetimeIndex(data['dob']).year"
   ]
  },
  {
   "cell_type": "code",
   "execution_count": 30,
   "id": "923c1213",
   "metadata": {},
   "outputs": [
    {
     "name": "stderr",
     "output_type": "stream",
     "text": [
      "C:\\Users\\kirut\\AppData\\Local\\Temp\\ipykernel_1256\\2152677655.py:2: SettingWithCopyWarning: \n",
      "A value is trying to be set on a copy of a slice from a DataFrame.\n",
      "Try using .loc[row_indexer,col_indexer] = value instead\n",
      "\n",
      "See the caveats in the documentation: https://pandas.pydata.org/pandas-docs/stable/user_guide/indexing.html#returning-a-view-versus-a-copy\n",
      "  data_1986['FullName'] = data['FirstName']+ ' ' + data['LastName'][pd.DatetimeIndex(data.DateOfBirth).year==1986]\n"
     ]
    },
    {
     "data": {
      "text/plain": [
       "23         Gabriel  Joseph\n",
       "24         Lincoln  Brenda\n",
       "29             Ala Halpert\n",
       "72            Lolita Darci\n",
       "164         Fadel Bernardt\n",
       "238         Bentley Kippax\n",
       "367            Vale Olanda\n",
       "373          Britt Dureden\n",
       "386       Cristabel Chatel\n",
       "415       Constantia Group\n",
       "452       Morgan Scrowston\n",
       "561             Dom Baglow\n",
       "568        Ignazio Melling\n",
       "595         Homenick Rings\n",
       "639           Hashim Slark\n",
       "643       Ellie Ramsbotham\n",
       "674        Llewellyn Group\n",
       "714             Niles Shaw\n",
       "733             Yvette Inc\n",
       "777          Siouxie Group\n",
       "852            Carly Group\n",
       "868        Worth Pickering\n",
       "877           Arni Baldack\n",
       "909       Kuvalis Coupland\n",
       "922    Rebbecca Rollingson\n",
       "940            Wat Fideler\n",
       "Name: FullName, dtype: object"
      ]
     },
     "execution_count": 30,
     "metadata": {},
     "output_type": "execute_result"
    }
   ],
   "source": [
    "# Passing the condition and getting patient's details who born in 1986\n",
    "data_1986['FullName'] = data['FirstName']+ ' ' + data['LastName'][pd.DatetimeIndex(data.DateOfBirth).year==1986]\n",
    "data_1986['FullName'] \n"
   ]
  },
  {
   "cell_type": "markdown",
   "id": "82b7a55a",
   "metadata": {},
   "source": [
    "### Qno.14 To find the number of null values in BloodPressureSystolic column"
   ]
  },
  {
   "cell_type": "code",
   "execution_count": 8,
   "id": "357268f4",
   "metadata": {},
   "outputs": [],
   "source": [
    "# reading the Ambulatory Visits file to get BloodPressureSystolic column\n",
    "df = pd.read_excel('HospitalDatabase.xlsx','AmbulatoryVisits')"
   ]
  },
  {
   "cell_type": "code",
   "execution_count": 9,
   "id": "20157248",
   "metadata": {},
   "outputs": [
    {
     "name": "stdout",
     "output_type": "stream",
     "text": [
      "0      False\n",
      "1      False\n",
      "2      False\n",
      "3      False\n",
      "4      False\n",
      "       ...  \n",
      "945    False\n",
      "946    False\n",
      "947    False\n",
      "948    False\n",
      "949    False\n",
      "Name: BloodPressureSystolic, Length: 950, dtype: bool\n"
     ]
    }
   ],
   "source": [
    "#to check whether the column as null data\n",
    "BP = df['BloodPressureSystolic'].isnull()\n",
    "print(BP)"
   ]
  },
  {
   "cell_type": "code",
   "execution_count": 10,
   "id": "cedadb08",
   "metadata": {},
   "outputs": [
    {
     "name": "stdout",
     "output_type": "stream",
     "text": [
      "124\n"
     ]
    }
   ],
   "source": [
    "#to check how many null values in the column\n",
    "BP = df['BloodPressureSystolic'].isnull().sum()\n",
    "print(BP)"
   ]
  },
  {
   "cell_type": "markdown",
   "id": "bceee7cb",
   "metadata": {},
   "source": [
    "### we have 124 null values in BloodPressureSystolic column"
   ]
  },
  {
   "cell_type": "markdown",
   "id": "2a687690",
   "metadata": {},
   "source": [
    "### Qno.15 Replace all the null values in ReadmissionFlag with 0"
   ]
  },
  {
   "cell_type": "code",
   "execution_count": 11,
   "id": "c55a101b",
   "metadata": {},
   "outputs": [],
   "source": [
    "# Reading the ReAdmissionRegistry\n",
    "readmission = pd.read_excel('HospitalDatabase.xlsx','ReAdmissionRegistry')"
   ]
  },
  {
   "cell_type": "code",
   "execution_count": 12,
   "id": "aa3a36b1",
   "metadata": {},
   "outputs": [
    {
     "name": "stdout",
     "output_type": "stream",
     "text": [
      "526\n"
     ]
    }
   ],
   "source": [
    "# to check how many records has null values\n",
    "readmissionflag = readmission['ReadmissionFlag'].isnull().sum()\n",
    "print(readmissionflag)"
   ]
  },
  {
   "cell_type": "code",
   "execution_count": 13,
   "id": "6290ef4f",
   "metadata": {},
   "outputs": [],
   "source": [
    "#updating the null to zero\n",
    "readmission['ReadmissionFlag'].fillna(value=0, inplace=True)"
   ]
  },
  {
   "cell_type": "code",
   "execution_count": 14,
   "id": "7cefd3bf",
   "metadata": {},
   "outputs": [
    {
     "name": "stdout",
     "output_type": "stream",
     "text": [
      "0\n"
     ]
    }
   ],
   "source": [
    "#checked whether all records got updated\n",
    "readmissionflagupdated = readmission['ReadmissionFlag'].isnull().sum()\n",
    "print(readmissionflagupdated)"
   ]
  },
  {
   "cell_type": "code",
   "execution_count": 15,
   "id": "6f772c87",
   "metadata": {},
   "outputs": [
    {
     "data": {
      "text/plain": [
       "0      0.0\n",
       "1      1.0\n",
       "2      1.0\n",
       "3      1.0\n",
       "4      0.0\n",
       "      ... \n",
       "715    0.0\n",
       "716    0.0\n",
       "717    0.0\n",
       "718    0.0\n",
       "719    0.0\n",
       "Name: ReadmissionFlag, Length: 720, dtype: float64"
      ]
     },
     "execution_count": 15,
     "metadata": {},
     "output_type": "execute_result"
    }
   ],
   "source": [
    "#verified the output\n",
    "readmission['ReadmissionFlag']"
   ]
  },
  {
   "cell_type": "markdown",
   "id": "e4f29d56",
   "metadata": {},
   "source": [
    "### Qno 9 Get the list of patient ids which are not there in ReadmissionRegistry"
   ]
  },
  {
   "cell_type": "code",
   "execution_count": 24,
   "id": "b13d9711",
   "metadata": {},
   "outputs": [],
   "source": [
    "#reading Patient id's from two data set data\n",
    "dpatientid = data['PatientID']\n",
    "readmissionid = readmission['PatientID'].drop_duplicates()"
   ]
  },
  {
   "cell_type": "code",
   "execution_count": 25,
   "id": "ca67e948",
   "metadata": {},
   "outputs": [],
   "source": [
    "# Patient id not readmitted\n",
    "Patinentid_nt = dpatientid[~dpatientid.isin(readmissionid)].dropna()"
   ]
  },
  {
   "cell_type": "code",
   "execution_count": 26,
   "id": "a0a9d9c5",
   "metadata": {},
   "outputs": [
    {
     "name": "stdout",
     "output_type": "stream",
     "text": [
      "241\n"
     ]
    }
   ],
   "source": [
    "print(Patinentid_nt.count())"
   ]
  },
  {
   "cell_type": "code",
   "execution_count": 27,
   "id": "d7aba730",
   "metadata": {},
   "outputs": [
    {
     "name": "stdout",
     "output_type": "stream",
     "text": [
      "3        4\n",
      "134    135\n",
      "144    145\n",
      "188    189\n",
      "199    200\n",
      "      ... \n",
      "940    941\n",
      "941    942\n",
      "942    943\n",
      "943    944\n",
      "944    945\n",
      "Name: PatientID, Length: 241, dtype: int64\n"
     ]
    }
   ],
   "source": [
    "# patient id not readmitted\n",
    "print(Patinentid_nt) "
   ]
  },
  {
   "cell_type": "markdown",
   "id": "4821b29f",
   "metadata": {},
   "source": [
    "### Q19 Create a dataframe with date and time as columns, where the values are the discharge time from readmissionregistry sheet"
   ]
  },
  {
   "cell_type": "code",
   "execution_count": 12,
   "id": "035d0304",
   "metadata": {},
   "outputs": [
    {
     "data": {
      "text/plain": [
       "0     2018-01-04 19:59:31.391\n",
       "1     2018-01-04 21:28:51.898\n",
       "2     2018-01-04 22:28:23.672\n",
       "3     2018-01-05 05:47:04.933\n",
       "4     2018-01-05 14:18:30.029\n",
       "                ...          \n",
       "715   2018-03-07 21:22:10.061\n",
       "716   2018-03-08 02:43:18.749\n",
       "717   2018-03-08 09:27:18.377\n",
       "718   2018-03-10 06:06:12.068\n",
       "719   2018-03-10 20:38:30.568\n",
       "Name: DischargeDate, Length: 720, dtype: datetime64[ns]"
      ]
     },
     "execution_count": 12,
     "metadata": {},
     "output_type": "execute_result"
    }
   ],
   "source": [
    "import pandas as pd\n",
    "# reading the discharge date from ReAdmissionRegistry sheet\n",
    "require_cols = [3]\n",
    "discharge_dt = pd.read_excel('HospitalDatabase.xlsx','ReAdmissionRegistry',usecols = require_cols)\n",
    "discharge_dt['DischargeDate']"
   ]
  },
  {
   "cell_type": "code",
   "execution_count": 18,
   "id": "6430d152",
   "metadata": {},
   "outputs": [
    {
     "data": {
      "text/html": [
       "<div>\n",
       "<style scoped>\n",
       "    .dataframe tbody tr th:only-of-type {\n",
       "        vertical-align: middle;\n",
       "    }\n",
       "\n",
       "    .dataframe tbody tr th {\n",
       "        vertical-align: top;\n",
       "    }\n",
       "\n",
       "    .dataframe thead th {\n",
       "        text-align: right;\n",
       "    }\n",
       "</style>\n",
       "<table border=\"1\" class=\"dataframe\">\n",
       "  <thead>\n",
       "    <tr style=\"text-align: right;\">\n",
       "      <th></th>\n",
       "      <th>DischargeDate</th>\n",
       "      <th>Dates</th>\n",
       "      <th>Time</th>\n",
       "    </tr>\n",
       "  </thead>\n",
       "  <tbody>\n",
       "    <tr>\n",
       "      <th>0</th>\n",
       "      <td>2018-01-04 19:59:31.391</td>\n",
       "      <td>2018-01-04</td>\n",
       "      <td>19:59:31.391000</td>\n",
       "    </tr>\n",
       "    <tr>\n",
       "      <th>1</th>\n",
       "      <td>2018-01-04 21:28:51.898</td>\n",
       "      <td>2018-01-04</td>\n",
       "      <td>21:28:51.898000</td>\n",
       "    </tr>\n",
       "    <tr>\n",
       "      <th>2</th>\n",
       "      <td>2018-01-04 22:28:23.672</td>\n",
       "      <td>2018-01-04</td>\n",
       "      <td>22:28:23.672000</td>\n",
       "    </tr>\n",
       "    <tr>\n",
       "      <th>3</th>\n",
       "      <td>2018-01-05 05:47:04.933</td>\n",
       "      <td>2018-01-05</td>\n",
       "      <td>05:47:04.933000</td>\n",
       "    </tr>\n",
       "    <tr>\n",
       "      <th>4</th>\n",
       "      <td>2018-01-05 14:18:30.029</td>\n",
       "      <td>2018-01-05</td>\n",
       "      <td>14:18:30.029000</td>\n",
       "    </tr>\n",
       "    <tr>\n",
       "      <th>...</th>\n",
       "      <td>...</td>\n",
       "      <td>...</td>\n",
       "      <td>...</td>\n",
       "    </tr>\n",
       "    <tr>\n",
       "      <th>715</th>\n",
       "      <td>2018-03-07 21:22:10.061</td>\n",
       "      <td>2018-03-07</td>\n",
       "      <td>21:22:10.061000</td>\n",
       "    </tr>\n",
       "    <tr>\n",
       "      <th>716</th>\n",
       "      <td>2018-03-08 02:43:18.749</td>\n",
       "      <td>2018-03-08</td>\n",
       "      <td>02:43:18.749000</td>\n",
       "    </tr>\n",
       "    <tr>\n",
       "      <th>717</th>\n",
       "      <td>2018-03-08 09:27:18.377</td>\n",
       "      <td>2018-03-08</td>\n",
       "      <td>09:27:18.377000</td>\n",
       "    </tr>\n",
       "    <tr>\n",
       "      <th>718</th>\n",
       "      <td>2018-03-10 06:06:12.068</td>\n",
       "      <td>2018-03-10</td>\n",
       "      <td>06:06:12.068000</td>\n",
       "    </tr>\n",
       "    <tr>\n",
       "      <th>719</th>\n",
       "      <td>2018-03-10 20:38:30.568</td>\n",
       "      <td>2018-03-10</td>\n",
       "      <td>20:38:30.568000</td>\n",
       "    </tr>\n",
       "  </tbody>\n",
       "</table>\n",
       "<p>720 rows × 3 columns</p>\n",
       "</div>"
      ],
      "text/plain": [
       "              DischargeDate       Dates             Time\n",
       "0   2018-01-04 19:59:31.391  2018-01-04  19:59:31.391000\n",
       "1   2018-01-04 21:28:51.898  2018-01-04  21:28:51.898000\n",
       "2   2018-01-04 22:28:23.672  2018-01-04  22:28:23.672000\n",
       "3   2018-01-05 05:47:04.933  2018-01-05  05:47:04.933000\n",
       "4   2018-01-05 14:18:30.029  2018-01-05  14:18:30.029000\n",
       "..                      ...         ...              ...\n",
       "715 2018-03-07 21:22:10.061  2018-03-07  21:22:10.061000\n",
       "716 2018-03-08 02:43:18.749  2018-03-08  02:43:18.749000\n",
       "717 2018-03-08 09:27:18.377  2018-03-08  09:27:18.377000\n",
       "718 2018-03-10 06:06:12.068  2018-03-10  06:06:12.068000\n",
       "719 2018-03-10 20:38:30.568  2018-03-10  20:38:30.568000\n",
       "\n",
       "[720 rows x 3 columns]"
      ]
     },
     "execution_count": 18,
     "metadata": {},
     "output_type": "execute_result"
    }
   ],
   "source": [
    "# splitting date and time from the column discharge date\n",
    "discharge_dt['Dates']=pd.to_datetime(discharge_dt['DischargeDate']).dt.date\n",
    "discharge_dt['Time']=pd.to_datetime(discharge_dt['DischargeDate']).dt.time\n",
    "discharge_dt"
   ]
  },
  {
   "cell_type": "markdown",
   "id": "ab79f545",
   "metadata": {},
   "source": [
    "### Q10. Create a boxplot on ExpectedLOS by taking service into account"
   ]
  },
  {
   "cell_type": "code",
   "execution_count": 24,
   "id": "3cc7f70e",
   "metadata": {},
   "outputs": [],
   "source": [
    "import seaborn as sns\n",
    "import pandas as pd\n",
    "import numpy as np"
   ]
  },
  {
   "cell_type": "code",
   "execution_count": 20,
   "id": "ddd74eb4",
   "metadata": {},
   "outputs": [],
   "source": [
    "Readmission_df = pd.read_excel('HospitalDatabase.xlsx','ReAdmissionRegistry')"
   ]
  },
  {
   "cell_type": "code",
   "execution_count": 27,
   "id": "1031cea9",
   "metadata": {},
   "outputs": [
    {
     "data": {
      "text/plain": [
       "<AxesSubplot:xlabel='Service', ylabel='ExpectedLOS'>"
      ]
     },
     "execution_count": 27,
     "metadata": {},
     "output_type": "execute_result"
    },
    {
     "data": {
      "image/png": "[encoded data removed]",
      "text/plain": [
       "<Figure size 432x288 with 1 Axes>"
      ]
     },
     "metadata": {
      "needs_background": "light"
     },
     "output_type": "display_data"
    }
   ],
   "source": [
    "sns.boxplot(x='Service',y='ExpectedLOS',data=Readmission_df)"
   ]
  },
  {
   "cell_type": "markdown",
   "id": "4f660323",
   "metadata": {},
   "source": [
    "### Understandings: Expected LOS is less for Orthopeadics and more for ICU. We see Outliers in 4 type of services (hospitality,ICU,cardiology,neurology)"
   ]
  },
  {
   "cell_type": "markdown",
   "id": "9a49ac19",
   "metadata": {},
   "source": [
    "### Q13. Create a subplot on x = np.arange(0, 10, 0.1) , y = np.sin(np.pi * x) + x  with 2 rows & 2 columns with object oriented approach"
   ]
  },
  {
   "cell_type": "code",
   "execution_count": 28,
   "id": "e81c7a41",
   "metadata": {},
   "outputs": [],
   "source": [
    "import numpy as np\n",
    "import matplotlib.pyplot as plt"
   ]
  },
  {
   "cell_type": "code",
   "execution_count": 45,
   "id": "4a6ad273",
   "metadata": {},
   "outputs": [
    {
     "data": {
      "image/png": "[encoded data removed]",
      "text/plain": [
       "<Figure size 432x288 with 4 Axes>"
      ]
     },
     "metadata": {
      "needs_background": "light"
     },
     "output_type": "display_data"
    }
   ],
   "source": [
    "x = np.arange(0,10,0.1)\n",
    "y = np.sin(np.pi * x) + x\n",
    "\n",
    "fig, axes = plt.subplots(2, 2,sharex='col', \n",
    "                       sharey='row')\n",
    "for row in range(rows):\n",
    "    for col in range(cols):\n",
    "        axes[row, col].plot(x,y)\n",
    "plt.show()        "
   ]
  },
  {
   "cell_type": "markdown",
   "id": "0b62e10f",
   "metadata": {},
   "source": [
    "### Q22. Create a dataframe with acuity and EDDisposition as the indices and the count of number of patients as the value"
   ]
  },
  {
   "cell_type": "code",
   "execution_count": 136,
   "id": "2d3875d5",
   "metadata": {},
   "outputs": [],
   "source": [
    "# reading the data\n",
    "\n",
    "edvisits_df = pd.read_excel('HospitalDatabase.xlsx','EDVisits')"
   ]
  },
  {
   "cell_type": "code",
   "execution_count": 61,
   "id": "ec506306",
   "metadata": {},
   "outputs": [],
   "source": [
    "# used groupby() to get the count of patients and writing it to dataframe\n",
    "data= edvisits_df.groupby(['EDDisposition','Acuity'],as_index=False)['PatientID'].count()\n",
    "count_patient_df = pd.DataFrame(data)"
   ]
  },
  {
   "cell_type": "code",
   "execution_count": 62,
   "id": "3f5f34d5",
   "metadata": {},
   "outputs": [],
   "source": [
    "# setting index on EDDisposition and Acuity\n",
    "count_patient_df = count_patient_df.set_index(['EDDisposition','Acuity'])"
   ]
  },
  {
   "cell_type": "code",
   "execution_count": 63,
   "id": "f6f38cdb",
   "metadata": {},
   "outputs": [
    {
     "data": {
      "text/html": [
       "<div>\n",
       "<style scoped>\n",
       "    .dataframe tbody tr th:only-of-type {\n",
       "        vertical-align: middle;\n",
       "    }\n",
       "\n",
       "    .dataframe tbody tr th {\n",
       "        vertical-align: top;\n",
       "    }\n",
       "\n",
       "    .dataframe thead th {\n",
       "        text-align: right;\n",
       "    }\n",
       "</style>\n",
       "<table border=\"1\" class=\"dataframe\">\n",
       "  <thead>\n",
       "    <tr style=\"text-align: right;\">\n",
       "      <th></th>\n",
       "      <th></th>\n",
       "      <th>PatientID</th>\n",
       "    </tr>\n",
       "    <tr>\n",
       "      <th>EDDisposition</th>\n",
       "      <th>Acuity</th>\n",
       "      <th></th>\n",
       "    </tr>\n",
       "  </thead>\n",
       "  <tbody>\n",
       "    <tr>\n",
       "      <th rowspan=\"5\" valign=\"top\">Admitted</th>\n",
       "      <th>1</th>\n",
       "      <td>32</td>\n",
       "    </tr>\n",
       "    <tr>\n",
       "      <th>2</th>\n",
       "      <td>116</td>\n",
       "    </tr>\n",
       "    <tr>\n",
       "      <th>3</th>\n",
       "      <td>81</td>\n",
       "    </tr>\n",
       "    <tr>\n",
       "      <th>4</th>\n",
       "      <td>107</td>\n",
       "    </tr>\n",
       "    <tr>\n",
       "      <th>5</th>\n",
       "      <td>179</td>\n",
       "    </tr>\n",
       "    <tr>\n",
       "      <th rowspan=\"4\" valign=\"top\">Discharged</th>\n",
       "      <th>1</th>\n",
       "      <td>558</td>\n",
       "    </tr>\n",
       "    <tr>\n",
       "      <th>2</th>\n",
       "      <td>66</td>\n",
       "    </tr>\n",
       "    <tr>\n",
       "      <th>4</th>\n",
       "      <td>30</td>\n",
       "    </tr>\n",
       "    <tr>\n",
       "      <th>5</th>\n",
       "      <td>30</td>\n",
       "    </tr>\n",
       "  </tbody>\n",
       "</table>\n",
       "</div>"
      ],
      "text/plain": [
       "                      PatientID\n",
       "EDDisposition Acuity           \n",
       "Admitted      1              32\n",
       "              2             116\n",
       "              3              81\n",
       "              4             107\n",
       "              5             179\n",
       "Discharged    1             558\n",
       "              2              66\n",
       "              4              30\n",
       "              5              30"
      ]
     },
     "execution_count": 63,
     "metadata": {},
     "output_type": "execute_result"
    }
   ],
   "source": [
    "# printing the values\n",
    "count_patient_df"
   ]
  },
  {
   "cell_type": "code",
   "execution_count": 65,
   "id": "41730edb",
   "metadata": {},
   "outputs": [
    {
     "data": {
      "text/plain": [
       "EDDisposition  Acuity\n",
       "Admitted       1          32\n",
       "               2         116\n",
       "               3          81\n",
       "               4         107\n",
       "               5         179\n",
       "Discharged     1         558\n",
       "               2          66\n",
       "               4          30\n",
       "               5          30\n",
       "Name: PatientID, dtype: int64"
      ]
     },
     "execution_count": 65,
     "metadata": {},
     "output_type": "execute_result"
    }
   ],
   "source": [
    "count_patient_df_2= edvisits_df.groupby(['EDDisposition','Acuity'],as_index=True)['PatientID'].count()\n",
    "count_patient_df_2"
   ]
  },
  {
   "cell_type": "markdown",
   "id": "258fe2d7",
   "metadata": {},
   "source": [
    "### Q25. Plot a graph by counting the no. of patients in each department"
   ]
  },
  {
   "cell_type": "code",
   "execution_count": 93,
   "id": "867e0eb6",
   "metadata": {},
   "outputs": [],
   "source": [
    "\n",
    "ambulatoryvisit_df = pd.read_excel('HospitalDatabase.xlsx','AmbulatoryVisits')\n"
   ]
  },
  {
   "cell_type": "code",
   "execution_count": 113,
   "id": "c0d47d56",
   "metadata": {},
   "outputs": [
    {
     "data": {
      "text/plain": [
       "Text(0, 0.5, '# of patients')"
      ]
     },
     "execution_count": 113,
     "metadata": {},
     "output_type": "execute_result"
    },
    {
     "data": {
      "image/png": "[encoded data removed]",
      "text/plain": [
       "<Figure size 432x288 with 1 Axes>"
      ]
     },
     "metadata": {
      "needs_background": "light"
     },
     "output_type": "display_data"
    }
   ],
   "source": [
    "sns.countplot(x='VisitDepartmentID',data = ambulatoryvisit_df)\n",
    "plt.title('Number of patients, by department')\n",
    "plt.ylabel('# of patients')"
   ]
  },
  {
   "cell_type": "code",
   "execution_count": null,
   "id": "b8b91fe1",
   "metadata": {},
   "outputs": [],
   "source": []
  },
  {
   "cell_type": "code",
   "execution_count": null,
   "id": "e44f00d6",
   "metadata": {},
   "outputs": [],
   "source": []
  },
  {
   "cell_type": "code",
   "execution_count": null,
   "id": "1547ad8a",
   "metadata": {},
   "outputs": [],
   "source": []
  },
  {
   "cell_type": "code",
   "execution_count": null,
   "id": "5b34e2de",
   "metadata": {},
   "outputs": [],
   "source": []
  },
  {
   "cell_type": "markdown",
   "id": "e74d4903",
   "metadata": {},
   "source": [
    "### Q27 Plot a graph to count the patients based on discharge disposition"
   ]
  },
  {
   "cell_type": "code",
   "execution_count": 114,
   "id": "d5086900",
   "metadata": {},
   "outputs": [
    {
     "data": {
      "text/plain": [
       "Text(0, 0.5, '# of patients')"
      ]
     },
     "execution_count": 114,
     "metadata": {},
     "output_type": "execute_result"
    },
    {
     "data": {
      "image/png": "[encoded data removed]",
      "text/plain": [
       "<Figure size 432x288 with 1 Axes>"
      ]
     },
     "metadata": {
      "needs_background": "light"
     },
     "output_type": "display_data"
    }
   ],
   "source": [
    "sns.countplot(x='DischargeDisposition',data =Readmission_df)\n",
    "plt.title('Number of patients, by discharge disposition')\n",
    "plt.ylabel('# of patients')"
   ]
  },
  {
   "cell_type": "code",
   "execution_count": null,
   "id": "78f9f136",
   "metadata": {},
   "outputs": [],
   "source": []
  },
  {
   "cell_type": "code",
   "execution_count": null,
   "id": "957d9349",
   "metadata": {},
   "outputs": [],
   "source": []
  },
  {
   "cell_type": "markdown",
   "id": "f27827e4",
   "metadata": {},
   "source": [
    "### Q31. Find count of White Spanish Male"
   ]
  },
  {
   "cell_type": "code",
   "execution_count": 99,
   "id": "7da89770",
   "metadata": {},
   "outputs": [],
   "source": [
    "patients_df =  pd.read_excel('HospitalDatabase.xlsx','Patients')"
   ]
  },
  {
   "cell_type": "code",
   "execution_count": 115,
   "id": "c8d3ab5e",
   "metadata": {},
   "outputs": [
    {
     "data": {
      "text/plain": [
       "Text(0, 0.5, '# of patients')"
      ]
     },
     "execution_count": 115,
     "metadata": {},
     "output_type": "execute_result"
    },
    {
     "data": {
      "image/png": "[encoded data removed]",
      "text/plain": [
       "<Figure size 432x288 with 1 Axes>"
      ]
     },
     "metadata": {
      "needs_background": "light"
     },
     "output_type": "display_data"
    }
   ],
   "source": [
    "sns.countplot(x='Language',data =patients_df[(patients_df.Gender == 'Male') & (patients_df.Race =='White') &(patients_df.Language == 'Spanish') ] )\n",
    "plt.title('Number of White Spanish Male patients')\n",
    "plt.xlabel('# Spanish/White/Male')\n",
    "plt.ylabel('# of patients')"
   ]
  },
  {
   "cell_type": "markdown",
   "id": "a3f11c00",
   "metadata": {},
   "source": [
    "### the Graph Shows we have 15 Patients who are White Spanish Male"
   ]
  },
  {
   "cell_type": "code",
   "execution_count": 112,
   "id": "6976e119",
   "metadata": {},
   "outputs": [
    {
     "data": {
      "text/plain": [
       "PatientID      15\n",
       "FirstName      15\n",
       "LastName       15\n",
       "DateOfBirth    15\n",
       "Gender         15\n",
       "Race           15\n",
       "Language       15\n",
       "dtype: int64"
      ]
     },
     "execution_count": 112,
     "metadata": {},
     "output_type": "execute_result"
    }
   ],
   "source": [
    "patients_df[(patients_df.Gender == 'Male') & (patients_df.Race =='White') &(patients_df.Language == 'Spanish') ].count()"
   ]
  },
  {
   "cell_type": "markdown",
   "id": "af2c262f",
   "metadata": {},
   "source": [
    "### Verified the answer by quering the data frame."
   ]
  },
  {
   "cell_type": "markdown",
   "id": "4f338b93",
   "metadata": {},
   "source": [
    "### Q33. Using a bar chart, which Service had the lowest count of Expected Mortality?"
   ]
  },
  {
   "cell_type": "code",
   "execution_count": 18,
   "id": "dcefc2df",
   "metadata": {},
   "outputs": [
    {
     "data": {
      "text/plain": [
       "<Figure size 2520x576 with 0 Axes>"
      ]
     },
     "metadata": {},
     "output_type": "display_data"
    }
   ],
   "source": [
    "from numpy import count_nonzero\n",
    "import matplotlib.pyplot as plt\n",
    "import seaborn as sns"
   ]
  },
  {
   "cell_type": "code",
   "execution_count": 25,
   "id": "40a132d8",
   "metadata": {},
   "outputs": [
    {
     "data": {
      "text/plain": [
       "Text(0.5, 1.0, 'count of ExpectedMortality by services')"
      ]
     },
     "execution_count": 25,
     "metadata": {},
     "output_type": "execute_result"
    },
    {
     "data": {
      "image/png": "[encoded data removed]",
      "text/plain": [
       "<Figure size 720x576 with 1 Axes>"
      ]
     },
     "metadata": {
      "needs_background": "light"
     },
     "output_type": "display_data"
    }
   ],
   "source": [
    "plt.figure(figsize = (10,8))\n",
    "sns.barplot(x='Service', y ='ExpectedMortality', data = Readmission_df, estimator= count_nonzero)\n",
    "plt.title('count of ExpectedMortality by services')\n"
   ]
  },
  {
   "cell_type": "markdown",
   "id": "d597a208",
   "metadata": {},
   "source": [
    "### from the above bar chart we come to know Orthopeadics Service had the lowest count of Expected Mortality"
   ]
  },
  {
   "cell_type": "markdown",
   "id": "b703a592",
   "metadata": {},
   "source": [
    "### Q36 Create a correlation matrix on EDVisits"
   ]
  },
  {
   "cell_type": "code",
   "execution_count": 146,
   "id": "a576c82f",
   "metadata": {},
   "outputs": [
    {
     "data": {
      "text/html": [
       "<div>\n",
       "<style scoped>\n",
       "    .dataframe tbody tr th:only-of-type {\n",
       "        vertical-align: middle;\n",
       "    }\n",
       "\n",
       "    .dataframe tbody tr th {\n",
       "        vertical-align: top;\n",
       "    }\n",
       "\n",
       "    .dataframe thead th {\n",
       "        text-align: right;\n",
       "    }\n",
       "</style>\n",
       "<table border=\"1\" class=\"dataframe\">\n",
       "  <thead>\n",
       "    <tr style=\"text-align: right;\">\n",
       "      <th></th>\n",
       "      <th>EDVisitID</th>\n",
       "      <th>PatientID</th>\n",
       "      <th>VisitDate</th>\n",
       "      <th>EDDischargeTime</th>\n",
       "      <th>Acuity</th>\n",
       "      <th>ReasonForVisit</th>\n",
       "      <th>EDDisposition</th>\n",
       "    </tr>\n",
       "  </thead>\n",
       "  <tbody>\n",
       "    <tr>\n",
       "      <th>0</th>\n",
       "      <td>1</td>\n",
       "      <td>1</td>\n",
       "      <td>2020-01-01 00:00:00.000</td>\n",
       "      <td>2020-01-01 11:20:22.924</td>\n",
       "      <td>1</td>\n",
       "      <td>Stomach Ache</td>\n",
       "      <td>1</td>\n",
       "    </tr>\n",
       "    <tr>\n",
       "      <th>1</th>\n",
       "      <td>12</td>\n",
       "      <td>12</td>\n",
       "      <td>2020-01-01 02:45:40.302</td>\n",
       "      <td>2020-01-02 02:00:00.517</td>\n",
       "      <td>2</td>\n",
       "      <td>Migraine</td>\n",
       "      <td>1</td>\n",
       "    </tr>\n",
       "    <tr>\n",
       "      <th>2</th>\n",
       "      <td>13</td>\n",
       "      <td>13</td>\n",
       "      <td>2020-01-01 03:09:24.701</td>\n",
       "      <td>2020-01-01 05:00:20.852</td>\n",
       "      <td>3</td>\n",
       "      <td>Stomach Ache</td>\n",
       "      <td>1</td>\n",
       "    </tr>\n",
       "    <tr>\n",
       "      <th>3</th>\n",
       "      <td>14</td>\n",
       "      <td>14</td>\n",
       "      <td>2020-01-01 03:12:19.349</td>\n",
       "      <td>2020-01-01 04:32:29.142</td>\n",
       "      <td>3</td>\n",
       "      <td>Migraine</td>\n",
       "      <td>1</td>\n",
       "    </tr>\n",
       "    <tr>\n",
       "      <th>4</th>\n",
       "      <td>15</td>\n",
       "      <td>15</td>\n",
       "      <td>2020-01-01 03:46:32.698</td>\n",
       "      <td>2020-01-01 06:24:52.741</td>\n",
       "      <td>3</td>\n",
       "      <td>Chest Pain</td>\n",
       "      <td>1</td>\n",
       "    </tr>\n",
       "    <tr>\n",
       "      <th>...</th>\n",
       "      <td>...</td>\n",
       "      <td>...</td>\n",
       "      <td>...</td>\n",
       "      <td>...</td>\n",
       "      <td>...</td>\n",
       "      <td>...</td>\n",
       "      <td>...</td>\n",
       "    </tr>\n",
       "    <tr>\n",
       "      <th>1194</th>\n",
       "      <td>1183</td>\n",
       "      <td>929</td>\n",
       "      <td>2020-01-15 10:38:42.570</td>\n",
       "      <td>2020-01-16 02:31:52.023</td>\n",
       "      <td>4</td>\n",
       "      <td>Chest Pain</td>\n",
       "      <td>0</td>\n",
       "    </tr>\n",
       "    <tr>\n",
       "      <th>1195</th>\n",
       "      <td>1186</td>\n",
       "      <td>932</td>\n",
       "      <td>2020-01-15 11:52:37.540</td>\n",
       "      <td>2020-01-16 10:19:41.570</td>\n",
       "      <td>1</td>\n",
       "      <td>Pneumonia</td>\n",
       "      <td>0</td>\n",
       "    </tr>\n",
       "    <tr>\n",
       "      <th>1196</th>\n",
       "      <td>1187</td>\n",
       "      <td>933</td>\n",
       "      <td>2020-01-15 12:11:11.678</td>\n",
       "      <td>2020-01-15 16:41:15.223</td>\n",
       "      <td>1</td>\n",
       "      <td>Pneumonia</td>\n",
       "      <td>0</td>\n",
       "    </tr>\n",
       "    <tr>\n",
       "      <th>1197</th>\n",
       "      <td>1188</td>\n",
       "      <td>934</td>\n",
       "      <td>2020-01-15 12:21:46.006</td>\n",
       "      <td>2020-01-15 18:32:21.060</td>\n",
       "      <td>1</td>\n",
       "      <td>Pneumonia</td>\n",
       "      <td>0</td>\n",
       "    </tr>\n",
       "    <tr>\n",
       "      <th>1198</th>\n",
       "      <td>1189</td>\n",
       "      <td>935</td>\n",
       "      <td>2020-01-15 12:51:14.875</td>\n",
       "      <td>2020-01-15 23:40:41.456</td>\n",
       "      <td>1</td>\n",
       "      <td>Pneumonia</td>\n",
       "      <td>0</td>\n",
       "    </tr>\n",
       "  </tbody>\n",
       "</table>\n",
       "<p>1199 rows × 7 columns</p>\n",
       "</div>"
      ],
      "text/plain": [
       "      EDVisitID  PatientID               VisitDate         EDDischargeTime  \\\n",
       "0             1          1 2020-01-01 00:00:00.000 2020-01-01 11:20:22.924   \n",
       "1            12         12 2020-01-01 02:45:40.302 2020-01-02 02:00:00.517   \n",
       "2            13         13 2020-01-01 03:09:24.701 2020-01-01 05:00:20.852   \n",
       "3            14         14 2020-01-01 03:12:19.349 2020-01-01 04:32:29.142   \n",
       "4            15         15 2020-01-01 03:46:32.698 2020-01-01 06:24:52.741   \n",
       "...         ...        ...                     ...                     ...   \n",
       "1194       1183        929 2020-01-15 10:38:42.570 2020-01-16 02:31:52.023   \n",
       "1195       1186        932 2020-01-15 11:52:37.540 2020-01-16 10:19:41.570   \n",
       "1196       1187        933 2020-01-15 12:11:11.678 2020-01-15 16:41:15.223   \n",
       "1197       1188        934 2020-01-15 12:21:46.006 2020-01-15 18:32:21.060   \n",
       "1198       1189        935 2020-01-15 12:51:14.875 2020-01-15 23:40:41.456   \n",
       "\n",
       "      Acuity ReasonForVisit  EDDisposition  \n",
       "0          1   Stomach Ache              1  \n",
       "1          2       Migraine              1  \n",
       "2          3   Stomach Ache              1  \n",
       "3          3       Migraine              1  \n",
       "4          3     Chest Pain              1  \n",
       "...      ...            ...            ...  \n",
       "1194       4     Chest Pain              0  \n",
       "1195       1      Pneumonia              0  \n",
       "1196       1      Pneumonia              0  \n",
       "1197       1      Pneumonia              0  \n",
       "1198       1      Pneumonia              0  \n",
       "\n",
       "[1199 rows x 7 columns]"
      ]
     },
     "execution_count": 146,
     "metadata": {},
     "output_type": "execute_result"
    }
   ],
   "source": [
    "edvisits_df['EDDisposition'] = np.where((edvisits_df.EDDisposition == 'Admitted'),1,0)\n",
    "edvisits_df"
   ]
  },
  {
   "cell_type": "code",
   "execution_count": 150,
   "id": "fd510d4a",
   "metadata": {},
   "outputs": [
    {
     "data": {
      "text/html": [
       "<div>\n",
       "<style scoped>\n",
       "    .dataframe tbody tr th:only-of-type {\n",
       "        vertical-align: middle;\n",
       "    }\n",
       "\n",
       "    .dataframe tbody tr th {\n",
       "        vertical-align: top;\n",
       "    }\n",
       "\n",
       "    .dataframe thead th {\n",
       "        text-align: right;\n",
       "    }\n",
       "</style>\n",
       "<table border=\"1\" class=\"dataframe\">\n",
       "  <thead>\n",
       "    <tr style=\"text-align: right;\">\n",
       "      <th></th>\n",
       "      <th>EDVisitID</th>\n",
       "      <th>PatientID</th>\n",
       "      <th>Acuity</th>\n",
       "      <th>EDDisposition</th>\n",
       "    </tr>\n",
       "  </thead>\n",
       "  <tbody>\n",
       "    <tr>\n",
       "      <th>EDVisitID</th>\n",
       "      <td>1.000000</td>\n",
       "      <td>0.975477</td>\n",
       "      <td>0.005813</td>\n",
       "      <td>0.006640</td>\n",
       "    </tr>\n",
       "    <tr>\n",
       "      <th>PatientID</th>\n",
       "      <td>0.975477</td>\n",
       "      <td>1.000000</td>\n",
       "      <td>0.003545</td>\n",
       "      <td>0.007777</td>\n",
       "    </tr>\n",
       "    <tr>\n",
       "      <th>Acuity</th>\n",
       "      <td>0.005813</td>\n",
       "      <td>0.003545</td>\n",
       "      <td>1.000000</td>\n",
       "      <td>0.675967</td>\n",
       "    </tr>\n",
       "    <tr>\n",
       "      <th>EDDisposition</th>\n",
       "      <td>0.006640</td>\n",
       "      <td>0.007777</td>\n",
       "      <td>0.675967</td>\n",
       "      <td>1.000000</td>\n",
       "    </tr>\n",
       "  </tbody>\n",
       "</table>\n",
       "</div>"
      ],
      "text/plain": [
       "               EDVisitID  PatientID    Acuity  EDDisposition\n",
       "EDVisitID       1.000000   0.975477  0.005813       0.006640\n",
       "PatientID       0.975477   1.000000  0.003545       0.007777\n",
       "Acuity          0.005813   0.003545  1.000000       0.675967\n",
       "EDDisposition   0.006640   0.007777  0.675967       1.000000"
      ]
     },
     "execution_count": 150,
     "metadata": {},
     "output_type": "execute_result"
    }
   ],
   "source": [
    "cc=edvisits_df.corr()\n",
    "cc"
   ]
  },
  {
   "cell_type": "markdown",
   "id": "be7cb7e6",
   "metadata": {},
   "source": [
    "### there is only 1 numeric column to find the correlation, so tried to change EDDispotion to numeric. from above correlation matrix we couldnt say which is correlated. but EDDispotion and Acuty is slightly correlated. "
   ]
  },
  {
   "cell_type": "code",
   "execution_count": 157,
   "id": "cc6e6542",
   "metadata": {},
   "outputs": [],
   "source": [
    "edvisits_df['time difference'] =(edvisits_df['EDDischargeTime']-edvisits_df['VisitDate']).dt.total_seconds() / 60 / 60"
   ]
  },
  {
   "cell_type": "code",
   "execution_count": 158,
   "id": "53e74aa4",
   "metadata": {},
   "outputs": [
    {
     "data": {
      "text/html": [
       "<div>\n",
       "<style scoped>\n",
       "    .dataframe tbody tr th:only-of-type {\n",
       "        vertical-align: middle;\n",
       "    }\n",
       "\n",
       "    .dataframe tbody tr th {\n",
       "        vertical-align: top;\n",
       "    }\n",
       "\n",
       "    .dataframe thead th {\n",
       "        text-align: right;\n",
       "    }\n",
       "</style>\n",
       "<table border=\"1\" class=\"dataframe\">\n",
       "  <thead>\n",
       "    <tr style=\"text-align: right;\">\n",
       "      <th></th>\n",
       "      <th>EDVisitID</th>\n",
       "      <th>PatientID</th>\n",
       "      <th>VisitDate</th>\n",
       "      <th>EDDischargeTime</th>\n",
       "      <th>Acuity</th>\n",
       "      <th>ReasonForVisit</th>\n",
       "      <th>EDDisposition</th>\n",
       "      <th>time difference</th>\n",
       "    </tr>\n",
       "  </thead>\n",
       "  <tbody>\n",
       "    <tr>\n",
       "      <th>0</th>\n",
       "      <td>1</td>\n",
       "      <td>1</td>\n",
       "      <td>2020-01-01 00:00:00.000</td>\n",
       "      <td>2020-01-01 11:20:22.924</td>\n",
       "      <td>1</td>\n",
       "      <td>Stomach Ache</td>\n",
       "      <td>1</td>\n",
       "      <td>11.339701</td>\n",
       "    </tr>\n",
       "    <tr>\n",
       "      <th>1</th>\n",
       "      <td>12</td>\n",
       "      <td>12</td>\n",
       "      <td>2020-01-01 02:45:40.302</td>\n",
       "      <td>2020-01-02 02:00:00.517</td>\n",
       "      <td>2</td>\n",
       "      <td>Migraine</td>\n",
       "      <td>1</td>\n",
       "      <td>23.238949</td>\n",
       "    </tr>\n",
       "    <tr>\n",
       "      <th>2</th>\n",
       "      <td>13</td>\n",
       "      <td>13</td>\n",
       "      <td>2020-01-01 03:09:24.701</td>\n",
       "      <td>2020-01-01 05:00:20.852</td>\n",
       "      <td>3</td>\n",
       "      <td>Stomach Ache</td>\n",
       "      <td>1</td>\n",
       "      <td>1.848931</td>\n",
       "    </tr>\n",
       "    <tr>\n",
       "      <th>3</th>\n",
       "      <td>14</td>\n",
       "      <td>14</td>\n",
       "      <td>2020-01-01 03:12:19.349</td>\n",
       "      <td>2020-01-01 04:32:29.142</td>\n",
       "      <td>3</td>\n",
       "      <td>Migraine</td>\n",
       "      <td>1</td>\n",
       "      <td>1.336054</td>\n",
       "    </tr>\n",
       "    <tr>\n",
       "      <th>4</th>\n",
       "      <td>15</td>\n",
       "      <td>15</td>\n",
       "      <td>2020-01-01 03:46:32.698</td>\n",
       "      <td>2020-01-01 06:24:52.741</td>\n",
       "      <td>3</td>\n",
       "      <td>Chest Pain</td>\n",
       "      <td>1</td>\n",
       "      <td>2.638901</td>\n",
       "    </tr>\n",
       "    <tr>\n",
       "      <th>...</th>\n",
       "      <td>...</td>\n",
       "      <td>...</td>\n",
       "      <td>...</td>\n",
       "      <td>...</td>\n",
       "      <td>...</td>\n",
       "      <td>...</td>\n",
       "      <td>...</td>\n",
       "      <td>...</td>\n",
       "    </tr>\n",
       "    <tr>\n",
       "      <th>1194</th>\n",
       "      <td>1183</td>\n",
       "      <td>929</td>\n",
       "      <td>2020-01-15 10:38:42.570</td>\n",
       "      <td>2020-01-16 02:31:52.023</td>\n",
       "      <td>4</td>\n",
       "      <td>Chest Pain</td>\n",
       "      <td>0</td>\n",
       "      <td>15.885959</td>\n",
       "    </tr>\n",
       "    <tr>\n",
       "      <th>1195</th>\n",
       "      <td>1186</td>\n",
       "      <td>932</td>\n",
       "      <td>2020-01-15 11:52:37.540</td>\n",
       "      <td>2020-01-16 10:19:41.570</td>\n",
       "      <td>1</td>\n",
       "      <td>Pneumonia</td>\n",
       "      <td>0</td>\n",
       "      <td>22.451119</td>\n",
       "    </tr>\n",
       "    <tr>\n",
       "      <th>1196</th>\n",
       "      <td>1187</td>\n",
       "      <td>933</td>\n",
       "      <td>2020-01-15 12:11:11.678</td>\n",
       "      <td>2020-01-15 16:41:15.223</td>\n",
       "      <td>1</td>\n",
       "      <td>Pneumonia</td>\n",
       "      <td>0</td>\n",
       "      <td>4.500985</td>\n",
       "    </tr>\n",
       "    <tr>\n",
       "      <th>1197</th>\n",
       "      <td>1188</td>\n",
       "      <td>934</td>\n",
       "      <td>2020-01-15 12:21:46.006</td>\n",
       "      <td>2020-01-15 18:32:21.060</td>\n",
       "      <td>1</td>\n",
       "      <td>Pneumonia</td>\n",
       "      <td>0</td>\n",
       "      <td>6.176404</td>\n",
       "    </tr>\n",
       "    <tr>\n",
       "      <th>1198</th>\n",
       "      <td>1189</td>\n",
       "      <td>935</td>\n",
       "      <td>2020-01-15 12:51:14.875</td>\n",
       "      <td>2020-01-15 23:40:41.456</td>\n",
       "      <td>1</td>\n",
       "      <td>Pneumonia</td>\n",
       "      <td>0</td>\n",
       "      <td>10.824050</td>\n",
       "    </tr>\n",
       "  </tbody>\n",
       "</table>\n",
       "<p>1199 rows × 8 columns</p>\n",
       "</div>"
      ],
      "text/plain": [
       "      EDVisitID  PatientID               VisitDate         EDDischargeTime  \\\n",
       "0             1          1 2020-01-01 00:00:00.000 2020-01-01 11:20:22.924   \n",
       "1            12         12 2020-01-01 02:45:40.302 2020-01-02 02:00:00.517   \n",
       "2            13         13 2020-01-01 03:09:24.701 2020-01-01 05:00:20.852   \n",
       "3            14         14 2020-01-01 03:12:19.349 2020-01-01 04:32:29.142   \n",
       "4            15         15 2020-01-01 03:46:32.698 2020-01-01 06:24:52.741   \n",
       "...         ...        ...                     ...                     ...   \n",
       "1194       1183        929 2020-01-15 10:38:42.570 2020-01-16 02:31:52.023   \n",
       "1195       1186        932 2020-01-15 11:52:37.540 2020-01-16 10:19:41.570   \n",
       "1196       1187        933 2020-01-15 12:11:11.678 2020-01-15 16:41:15.223   \n",
       "1197       1188        934 2020-01-15 12:21:46.006 2020-01-15 18:32:21.060   \n",
       "1198       1189        935 2020-01-15 12:51:14.875 2020-01-15 23:40:41.456   \n",
       "\n",
       "      Acuity ReasonForVisit  EDDisposition  time difference  \n",
       "0          1   Stomach Ache              1        11.339701  \n",
       "1          2       Migraine              1        23.238949  \n",
       "2          3   Stomach Ache              1         1.848931  \n",
       "3          3       Migraine              1         1.336054  \n",
       "4          3     Chest Pain              1         2.638901  \n",
       "...      ...            ...            ...              ...  \n",
       "1194       4     Chest Pain              0        15.885959  \n",
       "1195       1      Pneumonia              0        22.451119  \n",
       "1196       1      Pneumonia              0         4.500985  \n",
       "1197       1      Pneumonia              0         6.176404  \n",
       "1198       1      Pneumonia              0        10.824050  \n",
       "\n",
       "[1199 rows x 8 columns]"
      ]
     },
     "execution_count": 158,
     "metadata": {},
     "output_type": "execute_result"
    }
   ],
   "source": [
    "edvisits_df"
   ]
  },
  {
   "cell_type": "code",
   "execution_count": 159,
   "id": "ba367992",
   "metadata": {},
   "outputs": [
    {
     "data": {
      "text/html": [
       "<div>\n",
       "<style scoped>\n",
       "    .dataframe tbody tr th:only-of-type {\n",
       "        vertical-align: middle;\n",
       "    }\n",
       "\n",
       "    .dataframe tbody tr th {\n",
       "        vertical-align: top;\n",
       "    }\n",
       "\n",
       "    .dataframe thead th {\n",
       "        text-align: right;\n",
       "    }\n",
       "</style>\n",
       "<table border=\"1\" class=\"dataframe\">\n",
       "  <thead>\n",
       "    <tr style=\"text-align: right;\">\n",
       "      <th></th>\n",
       "      <th>EDVisitID</th>\n",
       "      <th>PatientID</th>\n",
       "      <th>Acuity</th>\n",
       "      <th>EDDisposition</th>\n",
       "      <th>time difference</th>\n",
       "    </tr>\n",
       "  </thead>\n",
       "  <tbody>\n",
       "    <tr>\n",
       "      <th>EDVisitID</th>\n",
       "      <td>1.000000</td>\n",
       "      <td>0.975477</td>\n",
       "      <td>0.005813</td>\n",
       "      <td>0.006640</td>\n",
       "      <td>0.015873</td>\n",
       "    </tr>\n",
       "    <tr>\n",
       "      <th>PatientID</th>\n",
       "      <td>0.975477</td>\n",
       "      <td>1.000000</td>\n",
       "      <td>0.003545</td>\n",
       "      <td>0.007777</td>\n",
       "      <td>0.020262</td>\n",
       "    </tr>\n",
       "    <tr>\n",
       "      <th>Acuity</th>\n",
       "      <td>0.005813</td>\n",
       "      <td>0.003545</td>\n",
       "      <td>1.000000</td>\n",
       "      <td>0.675967</td>\n",
       "      <td>-0.033968</td>\n",
       "    </tr>\n",
       "    <tr>\n",
       "      <th>EDDisposition</th>\n",
       "      <td>0.006640</td>\n",
       "      <td>0.007777</td>\n",
       "      <td>0.675967</td>\n",
       "      <td>1.000000</td>\n",
       "      <td>-0.061439</td>\n",
       "    </tr>\n",
       "    <tr>\n",
       "      <th>time difference</th>\n",
       "      <td>0.015873</td>\n",
       "      <td>0.020262</td>\n",
       "      <td>-0.033968</td>\n",
       "      <td>-0.061439</td>\n",
       "      <td>1.000000</td>\n",
       "    </tr>\n",
       "  </tbody>\n",
       "</table>\n",
       "</div>"
      ],
      "text/plain": [
       "                 EDVisitID  PatientID    Acuity  EDDisposition  \\\n",
       "EDVisitID         1.000000   0.975477  0.005813       0.006640   \n",
       "PatientID         0.975477   1.000000  0.003545       0.007777   \n",
       "Acuity            0.005813   0.003545  1.000000       0.675967   \n",
       "EDDisposition     0.006640   0.007777  0.675967       1.000000   \n",
       "time difference   0.015873   0.020262 -0.033968      -0.061439   \n",
       "\n",
       "                 time difference  \n",
       "EDVisitID               0.015873  \n",
       "PatientID               0.020262  \n",
       "Acuity                 -0.033968  \n",
       "EDDisposition          -0.061439  \n",
       "time difference         1.000000  "
      ]
     },
     "execution_count": 159,
     "metadata": {},
     "output_type": "execute_result"
    }
   ],
   "source": [
    "edvisits_df.corr()"
   ]
  },
  {
   "cell_type": "markdown",
   "id": "99ceb555",
   "metadata": {},
   "source": [
    "### tried to check correlation including length of stay but it is not correlated.EDDisposition & Acuity is slightly correlated."
   ]
  },
  {
   "cell_type": "code",
   "execution_count": null,
   "id": "45008da8",
   "metadata": {},
   "outputs": [],
   "source": []
  },
  {
   "cell_type": "markdown",
   "id": "6aaaeff8",
   "metadata": {},
   "source": [
    "### Q38. Number of patients on 'Transfer' based on primary diagnosis"
   ]
  },
  {
   "cell_type": "code",
   "execution_count": 27,
   "id": "e92cb9ae",
   "metadata": {},
   "outputs": [
    {
     "data": {
      "text/plain": [
       "Text(0, 0.5, '# of patients')"
      ]
     },
     "execution_count": 27,
     "metadata": {},
     "output_type": "execute_result"
    },
    {
     "data": {
      "image/png": "[encoded data removed]",
      "text/plain": [
       "<Figure size 1080x576 with 1 Axes>"
      ]
     },
     "metadata": {
      "needs_background": "light"
     },
     "output_type": "display_data"
    }
   ],
   "source": [
    "plt.figure(figsize = (15,8))\n",
    "sns.countplot(x='PrimaryDiagnosis',data =Readmission_df[(Readmission_df.DischargeDisposition == 'Transfer')])\n",
    "plt.title('Number of patients on Transfer based on primary diagnosis ')\n",
    "plt.xlabel('Transfer')\n",
    "plt.ylabel('# of patients')"
   ]
  },
  {
   "cell_type": "code",
   "execution_count": null,
   "id": "5eb52bd3",
   "metadata": {},
   "outputs": [],
   "source": []
  },
  {
   "cell_type": "code",
   "execution_count": null,
   "id": "9348e994",
   "metadata": {},
   "outputs": [],
   "source": []
  },
  {
   "cell_type": "code",
   "execution_count": null,
   "id": "13e65838",
   "metadata": {},
   "outputs": [],
   "source": []
  },
  {
   "cell_type": "markdown",
   "id": "89c42e62",
   "metadata": {},
   "source": [
    "### Q39.Get the FirstName, LastName,DateOfBirth of the Patients whose reason for visit is Migraine"
   ]
  },
  {
   "cell_type": "code",
   "execution_count": null,
   "id": "1ab560be",
   "metadata": {},
   "outputs": [],
   "source": []
  },
  {
   "cell_type": "code",
   "execution_count": 161,
   "id": "01d799cf",
   "metadata": {},
   "outputs": [],
   "source": [
    "#reading data from EDUnique to get Patient_id's who has Migraine\n",
    "EdVisits_unq =  pd.read_excel('HospitalDatabase.xlsx','EDUnique')"
   ]
  },
  {
   "cell_type": "code",
   "execution_count": 166,
   "id": "2b73009c",
   "metadata": {},
   "outputs": [],
   "source": [
    "Pid_Migraine = EdVisits_unq['PatientID'][(EdVisits_unq.ReasonForVisit == 'Migraine') ]"
   ]
  },
  {
   "cell_type": "code",
   "execution_count": 179,
   "id": "89078fac",
   "metadata": {},
   "outputs": [
    {
     "data": {
      "text/plain": [
       "116"
      ]
     },
     "execution_count": 179,
     "metadata": {},
     "output_type": "execute_result"
    }
   ],
   "source": [
    "# to display number of Patients who has Migraine and valided against data set\n",
    "Pid_Migraine.count()"
   ]
  },
  {
   "cell_type": "code",
   "execution_count": 178,
   "id": "1aa1ae17",
   "metadata": {},
   "outputs": [
    {
     "data": {
      "text/html": [
       "<div>\n",
       "<style scoped>\n",
       "    .dataframe tbody tr th:only-of-type {\n",
       "        vertical-align: middle;\n",
       "    }\n",
       "\n",
       "    .dataframe tbody tr th {\n",
       "        vertical-align: top;\n",
       "    }\n",
       "\n",
       "    .dataframe thead th {\n",
       "        text-align: right;\n",
       "    }\n",
       "</style>\n",
       "<table border=\"1\" class=\"dataframe\">\n",
       "  <thead>\n",
       "    <tr style=\"text-align: right;\">\n",
       "      <th></th>\n",
       "      <th>FirstName</th>\n",
       "      <th>LastName</th>\n",
       "      <th>DateOfBirth</th>\n",
       "    </tr>\n",
       "  </thead>\n",
       "  <tbody>\n",
       "    <tr>\n",
       "      <th>1</th>\n",
       "      <td>Far</td>\n",
       "      <td>Myers</td>\n",
       "      <td>1985-11-15 02:08:42.090</td>\n",
       "    </tr>\n",
       "    <tr>\n",
       "      <th>2</th>\n",
       "      <td>Devlin</td>\n",
       "      <td>Michael</td>\n",
       "      <td>1976-04-15 02:52:09.762</td>\n",
       "    </tr>\n",
       "    <tr>\n",
       "      <th>11</th>\n",
       "      <td>Zonnya</td>\n",
       "      <td>Ab</td>\n",
       "      <td>1963-05-23 10:04:33.074</td>\n",
       "    </tr>\n",
       "    <tr>\n",
       "      <th>13</th>\n",
       "      <td>Gan</td>\n",
       "      <td>Yu</td>\n",
       "      <td>1970-06-02 06:22:54.675</td>\n",
       "    </tr>\n",
       "    <tr>\n",
       "      <th>21</th>\n",
       "      <td>Joesph</td>\n",
       "      <td>Long</td>\n",
       "      <td>1979-12-04 16:45:56.080</td>\n",
       "    </tr>\n",
       "    <tr>\n",
       "      <th>...</th>\n",
       "      <td>...</td>\n",
       "      <td>...</td>\n",
       "      <td>...</td>\n",
       "    </tr>\n",
       "    <tr>\n",
       "      <th>896</th>\n",
       "      <td>Barrows</td>\n",
       "      <td>Coupland</td>\n",
       "      <td>1979-10-31 18:28:35.483</td>\n",
       "    </tr>\n",
       "    <tr>\n",
       "      <th>907</th>\n",
       "      <td>Knox</td>\n",
       "      <td>Group</td>\n",
       "      <td>1975-08-25 22:27:50.177</td>\n",
       "    </tr>\n",
       "    <tr>\n",
       "      <th>909</th>\n",
       "      <td>Kuvalis</td>\n",
       "      <td>Coupland</td>\n",
       "      <td>1986-05-23 19:23:27.752</td>\n",
       "    </tr>\n",
       "    <tr>\n",
       "      <th>914</th>\n",
       "      <td>Jerrilyn</td>\n",
       "      <td>Dyson</td>\n",
       "      <td>1978-01-18 02:41:55.178</td>\n",
       "    </tr>\n",
       "    <tr>\n",
       "      <th>923</th>\n",
       "      <td>Daniel</td>\n",
       "      <td>Shakesby</td>\n",
       "      <td>1980-11-28 17:57:03.702</td>\n",
       "    </tr>\n",
       "  </tbody>\n",
       "</table>\n",
       "<p>116 rows × 3 columns</p>\n",
       "</div>"
      ],
      "text/plain": [
       "    FirstName  LastName             DateOfBirth\n",
       "1         Far     Myers 1985-11-15 02:08:42.090\n",
       "2     Devlin    Michael 1976-04-15 02:52:09.762\n",
       "11     Zonnya        Ab 1963-05-23 10:04:33.074\n",
       "13        Gan        Yu 1970-06-02 06:22:54.675\n",
       "21     Joesph      Long 1979-12-04 16:45:56.080\n",
       "..        ...       ...                     ...\n",
       "896   Barrows  Coupland 1979-10-31 18:28:35.483\n",
       "907      Knox     Group 1975-08-25 22:27:50.177\n",
       "909   Kuvalis  Coupland 1986-05-23 19:23:27.752\n",
       "914  Jerrilyn     Dyson 1978-01-18 02:41:55.178\n",
       "923    Daniel  Shakesby 1980-11-28 17:57:03.702\n",
       "\n",
       "[116 rows x 3 columns]"
      ]
     },
     "execution_count": 178,
     "metadata": {},
     "output_type": "execute_result"
    }
   ],
   "source": [
    "# Passing those Patient_id to Patient table and getting their details. \n",
    "patients_df.iloc[:,1:4][patients_df['PatientID'].isin(Pid_Migraine)]"
   ]
  },
  {
   "cell_type": "markdown",
   "id": "2a0edbac",
   "metadata": {},
   "source": [
    "### Q30. Which patientid has most entries in readmission registry"
   ]
  },
  {
   "cell_type": "code",
   "execution_count": 187,
   "id": "46673405",
   "metadata": {},
   "outputs": [
    {
     "data": {
      "text/plain": [
       "<AxesSubplot:xlabel='count', ylabel='PatientID'>"
      ]
     },
     "execution_count": 187,
     "metadata": {},
     "output_type": "execute_result"
    },
    {
     "data": {
      "image/png": "[encoded data removed]",
      "text/plain": [
       "<Figure size 432x288 with 1 Axes>"
      ]
     },
     "metadata": {
      "needs_background": "light"
     },
     "output_type": "display_data"
    }
   ],
   "source": [
    "# used the count plot and ordered by value_counts() to get top 3 records.\n",
    "sns.countplot(y='PatientID', data =Readmission_df, order= Readmission_df.PatientID.value_counts().iloc[:3].index)"
   ]
  },
  {
   "cell_type": "markdown",
   "id": "234acbc4",
   "metadata": {},
   "source": [
    "#### From the above graph, PatientID 23 has most entries in readmission registry"
   ]
  },
  {
   "cell_type": "code",
   "execution_count": 51,
   "id": "8448e375",
   "metadata": {},
   "outputs": [
    {
     "data": {
      "text/plain": [
       "PatientID\n",
       "14     2\n",
       "19     2\n",
       "20     2\n",
       "23     3\n",
       "26     2\n",
       "34     2\n",
       "115    2\n",
       "215    2\n",
       "221    2\n",
       "244    2\n",
       "257    2\n",
       "284    2\n",
       "300    2\n",
       "427    2\n",
       "698    2\n",
       "Name: AdmissionID, dtype: int64"
      ]
     },
     "execution_count": 51,
     "metadata": {},
     "output_type": "execute_result"
    }
   ],
   "source": [
    "import pandas as pd\n",
    "Patient_id_most['PatientID'] = Readmission_df.groupby(['PatientID'])['AdmissionID'].count()\n",
    "Patient_id_most['PatientID'][(Patient_id_most.PatientID != 1)]\n"
   ]
  },
  {
   "cell_type": "markdown",
   "id": "edff59fa",
   "metadata": {},
   "source": [
    "### Checked the whether graph data is correct"
   ]
  },
  {
   "cell_type": "markdown",
   "id": "77f1ac51",
   "metadata": {},
   "source": [
    "### Q4.Display Data By splitting age in 4 quartiles and labeling the quartiles"
   ]
  },
  {
   "cell_type": "code",
   "execution_count": 52,
   "id": "ed1456cd",
   "metadata": {},
   "outputs": [],
   "source": [
    "patients_df =  pd.read_excel('HospitalDatabase.xlsx','Patients')"
   ]
  },
  {
   "cell_type": "code",
   "execution_count": 72,
   "id": "5dc052c9",
   "metadata": {},
   "outputs": [],
   "source": [
    "patients_df['Converted_dob']=patients_df['DateOfBirth'].dt.strftime(\"%d/%m/%Y\")"
   ]
  },
  {
   "cell_type": "code",
   "execution_count": null,
   "id": "ff2d3116",
   "metadata": {},
   "outputs": [],
   "source": [
    "from datetime import datetime, date"
   ]
  },
  {
   "cell_type": "code",
   "execution_count": 77,
   "id": "ac79b316",
   "metadata": {},
   "outputs": [
    {
     "data": {
      "text/plain": [
       "0      62\n",
       "1      36\n",
       "2      46\n",
       "3      53\n",
       "4      60\n",
       "       ..\n",
       "940    35\n",
       "941    51\n",
       "942    39\n",
       "943    58\n",
       "944    49\n",
       "Name: Age, Length: 945, dtype: int64"
      ]
     },
     "execution_count": 77,
     "metadata": {},
     "output_type": "execute_result"
    }
   ],
   "source": [
    "def age(born):\n",
    "    born = datetime.strptime(born, \"%d/%m/%Y\").date()\n",
    "    today = date.today()\n",
    "    return today.year - born.year - ((today.month, \n",
    "                                      today.day) < (born.month, \n",
    "                                                    born.day))\n",
    "  \n",
    "patients_df['Age'] = patients_df['Converted_dob'].apply(age)\n",
    "  \n",
    "patients_df['Age']"
   ]
  },
  {
   "cell_type": "code",
   "execution_count": 115,
   "id": "4ab84519",
   "metadata": {},
   "outputs": [
    {
     "data": {
      "text/plain": [
       "0.25    42.0\n",
       "0.50    48.0\n",
       "0.75    55.0\n",
       "1.00    62.0\n",
       "Name: Age, dtype: float64"
      ]
     },
     "execution_count": 115,
     "metadata": {},
     "output_type": "execute_result"
    }
   ],
   "source": [
    "Quartile_Age =patients_df['Age'].quantile([ 0.25,  0.5, 0.75,1])\n",
    "Quartile_Age"
   ]
  },
  {
   "cell_type": "code",
   "execution_count": 126,
   "id": "4fd3c520",
   "metadata": {},
   "outputs": [],
   "source": [
    "index_Label = (['1st Quantile','2nd Quantile','3rd Quantile','4th Quantile']) \n",
    "Quartile_Age.index =index_Label"
   ]
  },
  {
   "cell_type": "code",
   "execution_count": 127,
   "id": "79f466d7",
   "metadata": {},
   "outputs": [
    {
     "data": {
      "text/plain": [
       "1st Quantile    42.0\n",
       "2nd Quantile    48.0\n",
       "3rd Quantile    55.0\n",
       "4th Quantile    62.0\n",
       "Name: Age, dtype: float64"
      ]
     },
     "execution_count": 127,
     "metadata": {},
     "output_type": "execute_result"
    }
   ],
   "source": [
    "Quartile_Age"
   ]
  },
  {
   "cell_type": "markdown",
   "id": "ba083d65",
   "metadata": {},
   "source": [
    "### Q12.Connect to sql and Write a query to get list of Provider names whose Providername is starting with letter T\n"
   ]
  },
  {
   "cell_type": "code",
   "execution_count": 129,
   "id": "fde05664",
   "metadata": {},
   "outputs": [
    {
     "name": "stdout",
     "output_type": "stream",
     "text": [
      "Collecting psycopg2Note: you may need to restart the kernel to use updated packages.\n",
      "\n",
      "  Downloading psycopg2-2.9.3-cp39-cp39-win_amd64.whl (1.2 MB)\n",
      "Installing collected packages: psycopg2\n",
      "Successfully installed psycopg2-2.9.3\n"
     ]
    }
   ],
   "source": [
    "pip install psycopg2"
   ]
  },
  {
   "cell_type": "code",
   "execution_count": 130,
   "id": "bb6ad6c9",
   "metadata": {},
   "outputs": [],
   "source": [
    "import psycopg2 as pst\n"
   ]
  },
  {
   "cell_type": "markdown",
   "id": "f5de1eea",
   "metadata": {},
   "source": [
    "## conn=pst.connect(\"dbname='Hospital Database' user=postgres password =admin\")"
   ]
  },
  {
   "cell_type": "markdown",
   "id": "67bb0e9a",
   "metadata": {},
   "source": [
    "sqldata_df = pd.read_sql(\"\"\"select * from \"Providers\" where ProviderName like 'T%'\"\"\",conn )\n",
    "sqldata_df"
   ]
  },
  {
   "cell_type": "markdown",
   "id": "e5485bc2",
   "metadata": {},
   "source": [
    "### Since we didnt get a chance to attend classes we are not aware of conneting to postgress. We dont have local postgress. So gave the sql query, We are aware of how to do it."
   ]
  },
  {
   "cell_type": "markdown",
   "id": "4276d7b0",
   "metadata": {},
   "source": [
    "## Q24. Get the count of number of patients based on ReasonForVisit and EDDisposition. Use stack/unstack functions\n"
   ]
  },
  {
   "cell_type": "code",
   "execution_count": 166,
   "id": "d5468195",
   "metadata": {},
   "outputs": [],
   "source": [
    " data = edvisits_df.groupby(['EDDisposition','ReasonForVisit'],as_index=False)['PatientID'].count()\n"
   ]
  },
  {
   "cell_type": "code",
   "execution_count": 194,
   "id": "1dcc959e",
   "metadata": {},
   "outputs": [
    {
     "data": {
      "text/html": [
       "<div>\n",
       "<style scoped>\n",
       "    .dataframe tbody tr th:only-of-type {\n",
       "        vertical-align: middle;\n",
       "    }\n",
       "\n",
       "    .dataframe tbody tr th {\n",
       "        vertical-align: top;\n",
       "    }\n",
       "\n",
       "    .dataframe thead th {\n",
       "        text-align: right;\n",
       "    }\n",
       "</style>\n",
       "<table border=\"1\" class=\"dataframe\">\n",
       "  <thead>\n",
       "    <tr style=\"text-align: right;\">\n",
       "      <th>ReasonForVisit</th>\n",
       "      <th>Accident</th>\n",
       "      <th>Bleeding</th>\n",
       "      <th>Car Accident</th>\n",
       "      <th>Chest Pain</th>\n",
       "      <th>Cough</th>\n",
       "      <th>Fever</th>\n",
       "      <th>Gun Shot</th>\n",
       "      <th>Intoxication</th>\n",
       "      <th>Laceration</th>\n",
       "      <th>Migraine</th>\n",
       "      <th>Pneumonia</th>\n",
       "      <th>Shortness of Breath</th>\n",
       "      <th>Stomach Ache</th>\n",
       "    </tr>\n",
       "    <tr>\n",
       "      <th>EDDisposition</th>\n",
       "      <th></th>\n",
       "      <th></th>\n",
       "      <th></th>\n",
       "      <th></th>\n",
       "      <th></th>\n",
       "      <th></th>\n",
       "      <th></th>\n",
       "      <th></th>\n",
       "      <th></th>\n",
       "      <th></th>\n",
       "      <th></th>\n",
       "      <th></th>\n",
       "      <th></th>\n",
       "    </tr>\n",
       "  </thead>\n",
       "  <tbody>\n",
       "    <tr>\n",
       "      <th>Admitted</th>\n",
       "      <td>39.0</td>\n",
       "      <td>16.0</td>\n",
       "      <td>17.0</td>\n",
       "      <td>94.0</td>\n",
       "      <td>NaN</td>\n",
       "      <td>46.0</td>\n",
       "      <td>16.0</td>\n",
       "      <td>NaN</td>\n",
       "      <td>NaN</td>\n",
       "      <td>47.0</td>\n",
       "      <td>136.0</td>\n",
       "      <td>72.0</td>\n",
       "      <td>32.0</td>\n",
       "    </tr>\n",
       "    <tr>\n",
       "      <th>Discharged</th>\n",
       "      <td>NaN</td>\n",
       "      <td>15.0</td>\n",
       "      <td>NaN</td>\n",
       "      <td>15.0</td>\n",
       "      <td>1.0</td>\n",
       "      <td>188.0</td>\n",
       "      <td>NaN</td>\n",
       "      <td>30.0</td>\n",
       "      <td>30.0</td>\n",
       "      <td>109.0</td>\n",
       "      <td>65.0</td>\n",
       "      <td>77.0</td>\n",
       "      <td>154.0</td>\n",
       "    </tr>\n",
       "  </tbody>\n",
       "</table>\n",
       "</div>"
      ],
      "text/plain": [
       "ReasonForVisit  Accident  Bleeding  Car Accident  Chest Pain  Cough  Fever  \\\n",
       "EDDisposition                                                                \n",
       "Admitted            39.0      16.0          17.0        94.0    NaN   46.0   \n",
       "Discharged           NaN      15.0           NaN        15.0    1.0  188.0   \n",
       "\n",
       "ReasonForVisit  Gun Shot  Intoxication  Laceration  Migraine  Pneumonia  \\\n",
       "EDDisposition                                                             \n",
       "Admitted            16.0           NaN         NaN      47.0      136.0   \n",
       "Discharged           NaN          30.0        30.0     109.0       65.0   \n",
       "\n",
       "ReasonForVisit  Shortness of Breath  Stomach Ache  \n",
       "EDDisposition                                      \n",
       "Admitted                       72.0          32.0  \n",
       "Discharged                     77.0         154.0  "
      ]
     },
     "execution_count": 194,
     "metadata": {},
     "output_type": "execute_result"
    }
   ],
   "source": [
    "stack_df = pd.DataFrame(data)\n",
    "\n",
    "Stack_pivot_df =stack_df.pivot(index='EDDisposition',columns = ['ReasonForVisit'],values='PatientID')\n",
    "Stack_pivot_df"
   ]
  },
  {
   "cell_type": "code",
   "execution_count": null,
   "id": "02d0bb29",
   "metadata": {},
   "outputs": [],
   "source": []
  },
  {
   "cell_type": "code",
   "execution_count": 195,
   "id": "545f852a",
   "metadata": {},
   "outputs": [
    {
     "data": {
      "text/plain": [
       "EDDisposition  ReasonForVisit     \n",
       "Admitted       Accident                39.0\n",
       "               Bleeding                16.0\n",
       "               Car Accident            17.0\n",
       "               Chest Pain              94.0\n",
       "               Fever                   46.0\n",
       "               Gun Shot                16.0\n",
       "               Migraine                47.0\n",
       "               Pneumonia              136.0\n",
       "               Shortness of Breath     72.0\n",
       "               Stomach Ache            32.0\n",
       "Discharged     Bleeding                15.0\n",
       "               Chest Pain              15.0\n",
       "               Cough                    1.0\n",
       "               Fever                  188.0\n",
       "               Intoxication            30.0\n",
       "               Laceration              30.0\n",
       "               Migraine               109.0\n",
       "               Pneumonia               65.0\n",
       "               Shortness of Breath     77.0\n",
       "               Stomach Ache           154.0\n",
       "dtype: float64"
      ]
     },
     "execution_count": 195,
     "metadata": {},
     "output_type": "execute_result"
    }
   ],
   "source": [
    "Stack_pivot_df.stack()"
   ]
  },
  {
   "cell_type": "code",
   "execution_count": 196,
   "id": "f83e0e5e",
   "metadata": {},
   "outputs": [
    {
     "data": {
      "text/html": [
       "<div>\n",
       "<style scoped>\n",
       "    .dataframe tbody tr th:only-of-type {\n",
       "        vertical-align: middle;\n",
       "    }\n",
       "\n",
       "    .dataframe tbody tr th {\n",
       "        vertical-align: top;\n",
       "    }\n",
       "\n",
       "    .dataframe thead th {\n",
       "        text-align: right;\n",
       "    }\n",
       "</style>\n",
       "<table border=\"1\" class=\"dataframe\">\n",
       "  <thead>\n",
       "    <tr style=\"text-align: right;\">\n",
       "      <th>ReasonForVisit</th>\n",
       "      <th>Accident</th>\n",
       "      <th>Bleeding</th>\n",
       "      <th>Car Accident</th>\n",
       "      <th>Chest Pain</th>\n",
       "      <th>Cough</th>\n",
       "      <th>Fever</th>\n",
       "      <th>Gun Shot</th>\n",
       "      <th>Intoxication</th>\n",
       "      <th>Laceration</th>\n",
       "      <th>Migraine</th>\n",
       "      <th>Pneumonia</th>\n",
       "      <th>Shortness of Breath</th>\n",
       "      <th>Stomach Ache</th>\n",
       "    </tr>\n",
       "    <tr>\n",
       "      <th>EDDisposition</th>\n",
       "      <th></th>\n",
       "      <th></th>\n",
       "      <th></th>\n",
       "      <th></th>\n",
       "      <th></th>\n",
       "      <th></th>\n",
       "      <th></th>\n",
       "      <th></th>\n",
       "      <th></th>\n",
       "      <th></th>\n",
       "      <th></th>\n",
       "      <th></th>\n",
       "      <th></th>\n",
       "    </tr>\n",
       "  </thead>\n",
       "  <tbody>\n",
       "    <tr>\n",
       "      <th>Admitted</th>\n",
       "      <td>39.0</td>\n",
       "      <td>16.0</td>\n",
       "      <td>17.0</td>\n",
       "      <td>94.0</td>\n",
       "      <td>NaN</td>\n",
       "      <td>46.0</td>\n",
       "      <td>16.0</td>\n",
       "      <td>NaN</td>\n",
       "      <td>NaN</td>\n",
       "      <td>47.0</td>\n",
       "      <td>136.0</td>\n",
       "      <td>72.0</td>\n",
       "      <td>32.0</td>\n",
       "    </tr>\n",
       "    <tr>\n",
       "      <th>Discharged</th>\n",
       "      <td>NaN</td>\n",
       "      <td>15.0</td>\n",
       "      <td>NaN</td>\n",
       "      <td>15.0</td>\n",
       "      <td>1.0</td>\n",
       "      <td>188.0</td>\n",
       "      <td>NaN</td>\n",
       "      <td>30.0</td>\n",
       "      <td>30.0</td>\n",
       "      <td>109.0</td>\n",
       "      <td>65.0</td>\n",
       "      <td>77.0</td>\n",
       "      <td>154.0</td>\n",
       "    </tr>\n",
       "  </tbody>\n",
       "</table>\n",
       "</div>"
      ],
      "text/plain": [
       "ReasonForVisit  Accident  Bleeding  Car Accident  Chest Pain  Cough  Fever  \\\n",
       "EDDisposition                                                                \n",
       "Admitted            39.0      16.0          17.0        94.0    NaN   46.0   \n",
       "Discharged           NaN      15.0           NaN        15.0    1.0  188.0   \n",
       "\n",
       "ReasonForVisit  Gun Shot  Intoxication  Laceration  Migraine  Pneumonia  \\\n",
       "EDDisposition                                                             \n",
       "Admitted            16.0           NaN         NaN      47.0      136.0   \n",
       "Discharged           NaN          30.0        30.0     109.0       65.0   \n",
       "\n",
       "ReasonForVisit  Shortness of Breath  Stomach Ache  \n",
       "EDDisposition                                      \n",
       "Admitted                       72.0          32.0  \n",
       "Discharged                     77.0         154.0  "
      ]
     },
     "execution_count": 196,
     "metadata": {},
     "output_type": "execute_result"
    }
   ],
   "source": [
    "stacked_df = Stack_pivot_df.stack()\n",
    "stacked_df.unstack()"
   ]
  },
  {
   "cell_type": "code",
   "execution_count": null,
   "id": "4392a2ba",
   "metadata": {},
   "outputs": [],
   "source": []
  },
  {
   "cell_type": "markdown",
   "id": "a2c07efb",
   "metadata": {},
   "source": [
    "### Q28.Which reason of visit has maximum mortality rate\n"
   ]
  },
  {
   "cell_type": "code",
   "execution_count": 197,
   "id": "3fe23d80",
   "metadata": {},
   "outputs": [],
   "source": [
    "discarges_df =  pd.read_excel('HospitalDatabase.xlsx','Discharges')"
   ]
  },
  {
   "cell_type": "code",
   "execution_count": 229,
   "id": "e405e1b4",
   "metadata": {},
   "outputs": [
    {
     "data": {
      "text/html": [
       "<div>\n",
       "<style scoped>\n",
       "    .dataframe tbody tr th:only-of-type {\n",
       "        vertical-align: middle;\n",
       "    }\n",
       "\n",
       "    .dataframe tbody tr th {\n",
       "        vertical-align: top;\n",
       "    }\n",
       "\n",
       "    .dataframe thead th {\n",
       "        text-align: right;\n",
       "    }\n",
       "</style>\n",
       "<table border=\"1\" class=\"dataframe\">\n",
       "  <thead>\n",
       "    <tr style=\"text-align: right;\">\n",
       "      <th></th>\n",
       "      <th>PrimaryDiagnosis</th>\n",
       "      <th>PatientID</th>\n",
       "    </tr>\n",
       "  </thead>\n",
       "  <tbody>\n",
       "    <tr>\n",
       "      <th>0</th>\n",
       "      <td>AMI</td>\n",
       "      <td>48</td>\n",
       "    </tr>\n",
       "    <tr>\n",
       "      <th>1</th>\n",
       "      <td>Afib</td>\n",
       "      <td>11</td>\n",
       "    </tr>\n",
       "    <tr>\n",
       "      <th>2</th>\n",
       "      <td>Broken Leg</td>\n",
       "      <td>9</td>\n",
       "    </tr>\n",
       "    <tr>\n",
       "      <th>3</th>\n",
       "      <td>Diabetes</td>\n",
       "      <td>64</td>\n",
       "    </tr>\n",
       "    <tr>\n",
       "      <th>4</th>\n",
       "      <td>Fever</td>\n",
       "      <td>19</td>\n",
       "    </tr>\n",
       "    <tr>\n",
       "      <th>5</th>\n",
       "      <td>Flu</td>\n",
       "      <td>80</td>\n",
       "    </tr>\n",
       "    <tr>\n",
       "      <th>6</th>\n",
       "      <td>Heart Failure</td>\n",
       "      <td>78</td>\n",
       "    </tr>\n",
       "    <tr>\n",
       "      <th>7</th>\n",
       "      <td>Hip Fracture</td>\n",
       "      <td>23</td>\n",
       "    </tr>\n",
       "    <tr>\n",
       "      <th>8</th>\n",
       "      <td>Hypertension</td>\n",
       "      <td>50</td>\n",
       "    </tr>\n",
       "    <tr>\n",
       "      <th>9</th>\n",
       "      <td>Kidney Failure</td>\n",
       "      <td>20</td>\n",
       "    </tr>\n",
       "    <tr>\n",
       "      <th>10</th>\n",
       "      <td>Knee Replacement</td>\n",
       "      <td>23</td>\n",
       "    </tr>\n",
       "    <tr>\n",
       "      <th>11</th>\n",
       "      <td>Laceration</td>\n",
       "      <td>29</td>\n",
       "    </tr>\n",
       "    <tr>\n",
       "      <th>12</th>\n",
       "      <td>Migraine</td>\n",
       "      <td>12</td>\n",
       "    </tr>\n",
       "    <tr>\n",
       "      <th>13</th>\n",
       "      <td>Pain</td>\n",
       "      <td>7</td>\n",
       "    </tr>\n",
       "    <tr>\n",
       "      <th>14</th>\n",
       "      <td>Pneumonia</td>\n",
       "      <td>177</td>\n",
       "    </tr>\n",
       "    <tr>\n",
       "      <th>15</th>\n",
       "      <td>Spinal Cord Injury</td>\n",
       "      <td>2</td>\n",
       "    </tr>\n",
       "    <tr>\n",
       "      <th>16</th>\n",
       "      <td>Stroke</td>\n",
       "      <td>68</td>\n",
       "    </tr>\n",
       "  </tbody>\n",
       "</table>\n",
       "</div>"
      ],
      "text/plain": [
       "      PrimaryDiagnosis  PatientID\n",
       "0                  AMI         48\n",
       "1                 Afib         11\n",
       "2           Broken Leg          9\n",
       "3             Diabetes         64\n",
       "4                Fever         19\n",
       "5                  Flu         80\n",
       "6        Heart Failure         78\n",
       "7         Hip Fracture         23\n",
       "8         Hypertension         50\n",
       "9       Kidney Failure         20\n",
       "10    Knee Replacement         23\n",
       "11          Laceration         29\n",
       "12            Migraine         12\n",
       "13                Pain          7\n",
       "14           Pneumonia        177\n",
       "15  Spinal Cord Injury          2\n",
       "16              Stroke         68"
      ]
     },
     "execution_count": 229,
     "metadata": {},
     "output_type": "execute_result"
    }
   ],
   "source": [
    "Patient_count= discarges_df.groupby(['PrimaryDiagnosis'],as_index=False)['PatientID'].count()\n",
    "# this is to get total number of patients for each PrimaryDiagnosis\n",
    "Patient_count"
   ]
  },
  {
   "cell_type": "code",
   "execution_count": 214,
   "id": "0717bf09",
   "metadata": {},
   "outputs": [],
   "source": [
    "Expired_patient_count = discarges_df[(discarges_df.DischargeDisposition=='Expired')].groupby(['PrimaryDiagnosis'])['PatientID'].count()"
   ]
  },
  {
   "cell_type": "code",
   "execution_count": 215,
   "id": "180dfc88",
   "metadata": {},
   "outputs": [
    {
     "data": {
      "text/plain": [
       "PrimaryDiagnosis\n",
       "AMI                    6\n",
       "Afib                   4\n",
       "Broken Leg             3\n",
       "Diabetes               9\n",
       "Fever                  4\n",
       "Flu                   11\n",
       "Heart Failure         16\n",
       "Hip Fracture           3\n",
       "Hypertension          16\n",
       "Kidney Failure         2\n",
       "Knee Replacement       2\n",
       "Laceration             2\n",
       "Pain                   1\n",
       "Pneumonia             16\n",
       "Spinal Cord Injury     2\n",
       "Stroke                 7\n",
       "Name: PatientID, dtype: int64"
      ]
     },
     "execution_count": 215,
     "metadata": {},
     "output_type": "execute_result"
    }
   ],
   "source": [
    "Expired_patient_count"
   ]
  },
  {
   "cell_type": "code",
   "execution_count": 232,
   "id": "f9db5248",
   "metadata": {},
   "outputs": [],
   "source": [
    "Patient_count_df = pd.DataFrame(list(zip(Patient_count['PrimaryDiagnosis'],Patient_count['PatientID'],Expired_patient_count)),columns=['PrimaryDiagnosis','Total_count','Expired_count'])"
   ]
  },
  {
   "cell_type": "code",
   "execution_count": 233,
   "id": "ba791abc",
   "metadata": {},
   "outputs": [
    {
     "data": {
      "text/html": [
       "<div>\n",
       "<style scoped>\n",
       "    .dataframe tbody tr th:only-of-type {\n",
       "        vertical-align: middle;\n",
       "    }\n",
       "\n",
       "    .dataframe tbody tr th {\n",
       "        vertical-align: top;\n",
       "    }\n",
       "\n",
       "    .dataframe thead th {\n",
       "        text-align: right;\n",
       "    }\n",
       "</style>\n",
       "<table border=\"1\" class=\"dataframe\">\n",
       "  <thead>\n",
       "    <tr style=\"text-align: right;\">\n",
       "      <th></th>\n",
       "      <th>PrimaryDiagnosis</th>\n",
       "      <th>Total_count</th>\n",
       "      <th>Expired_count</th>\n",
       "    </tr>\n",
       "  </thead>\n",
       "  <tbody>\n",
       "    <tr>\n",
       "      <th>0</th>\n",
       "      <td>AMI</td>\n",
       "      <td>48</td>\n",
       "      <td>6</td>\n",
       "    </tr>\n",
       "    <tr>\n",
       "      <th>1</th>\n",
       "      <td>Afib</td>\n",
       "      <td>11</td>\n",
       "      <td>4</td>\n",
       "    </tr>\n",
       "    <tr>\n",
       "      <th>2</th>\n",
       "      <td>Broken Leg</td>\n",
       "      <td>9</td>\n",
       "      <td>3</td>\n",
       "    </tr>\n",
       "    <tr>\n",
       "      <th>3</th>\n",
       "      <td>Diabetes</td>\n",
       "      <td>64</td>\n",
       "      <td>9</td>\n",
       "    </tr>\n",
       "    <tr>\n",
       "      <th>4</th>\n",
       "      <td>Fever</td>\n",
       "      <td>19</td>\n",
       "      <td>4</td>\n",
       "    </tr>\n",
       "    <tr>\n",
       "      <th>5</th>\n",
       "      <td>Flu</td>\n",
       "      <td>80</td>\n",
       "      <td>11</td>\n",
       "    </tr>\n",
       "    <tr>\n",
       "      <th>6</th>\n",
       "      <td>Heart Failure</td>\n",
       "      <td>78</td>\n",
       "      <td>16</td>\n",
       "    </tr>\n",
       "    <tr>\n",
       "      <th>7</th>\n",
       "      <td>Hip Fracture</td>\n",
       "      <td>23</td>\n",
       "      <td>3</td>\n",
       "    </tr>\n",
       "    <tr>\n",
       "      <th>8</th>\n",
       "      <td>Hypertension</td>\n",
       "      <td>50</td>\n",
       "      <td>16</td>\n",
       "    </tr>\n",
       "    <tr>\n",
       "      <th>9</th>\n",
       "      <td>Kidney Failure</td>\n",
       "      <td>20</td>\n",
       "      <td>2</td>\n",
       "    </tr>\n",
       "    <tr>\n",
       "      <th>10</th>\n",
       "      <td>Knee Replacement</td>\n",
       "      <td>23</td>\n",
       "      <td>2</td>\n",
       "    </tr>\n",
       "    <tr>\n",
       "      <th>11</th>\n",
       "      <td>Laceration</td>\n",
       "      <td>29</td>\n",
       "      <td>2</td>\n",
       "    </tr>\n",
       "    <tr>\n",
       "      <th>12</th>\n",
       "      <td>Migraine</td>\n",
       "      <td>12</td>\n",
       "      <td>1</td>\n",
       "    </tr>\n",
       "    <tr>\n",
       "      <th>13</th>\n",
       "      <td>Pain</td>\n",
       "      <td>7</td>\n",
       "      <td>16</td>\n",
       "    </tr>\n",
       "    <tr>\n",
       "      <th>14</th>\n",
       "      <td>Pneumonia</td>\n",
       "      <td>177</td>\n",
       "      <td>2</td>\n",
       "    </tr>\n",
       "    <tr>\n",
       "      <th>15</th>\n",
       "      <td>Spinal Cord Injury</td>\n",
       "      <td>2</td>\n",
       "      <td>7</td>\n",
       "    </tr>\n",
       "  </tbody>\n",
       "</table>\n",
       "</div>"
      ],
      "text/plain": [
       "      PrimaryDiagnosis  Total_count  Expired_count\n",
       "0                  AMI           48              6\n",
       "1                 Afib           11              4\n",
       "2           Broken Leg            9              3\n",
       "3             Diabetes           64              9\n",
       "4                Fever           19              4\n",
       "5                  Flu           80             11\n",
       "6        Heart Failure           78             16\n",
       "7         Hip Fracture           23              3\n",
       "8         Hypertension           50             16\n",
       "9       Kidney Failure           20              2\n",
       "10    Knee Replacement           23              2\n",
       "11          Laceration           29              2\n",
       "12            Migraine           12              1\n",
       "13                Pain            7             16\n",
       "14           Pneumonia          177              2\n",
       "15  Spinal Cord Injury            2              7"
      ]
     },
     "execution_count": 233,
     "metadata": {},
     "output_type": "execute_result"
    }
   ],
   "source": [
    "Patient_count_df"
   ]
  },
  {
   "cell_type": "code",
   "execution_count": 239,
   "id": "11f9b01f",
   "metadata": {},
   "outputs": [],
   "source": [
    "Patient_count_df['Mortality_rate']=Patient_count_df['Expired_count']/Patient_count_df['Total_count']"
   ]
  },
  {
   "cell_type": "code",
   "execution_count": 240,
   "id": "b66147d8",
   "metadata": {},
   "outputs": [
    {
     "data": {
      "text/html": [
       "<div>\n",
       "<style scoped>\n",
       "    .dataframe tbody tr th:only-of-type {\n",
       "        vertical-align: middle;\n",
       "    }\n",
       "\n",
       "    .dataframe tbody tr th {\n",
       "        vertical-align: top;\n",
       "    }\n",
       "\n",
       "    .dataframe thead th {\n",
       "        text-align: right;\n",
       "    }\n",
       "</style>\n",
       "<table border=\"1\" class=\"dataframe\">\n",
       "  <thead>\n",
       "    <tr style=\"text-align: right;\">\n",
       "      <th></th>\n",
       "      <th>PrimaryDiagnosis</th>\n",
       "      <th>Total_count</th>\n",
       "      <th>Expired_count</th>\n",
       "      <th>Morality_rate</th>\n",
       "      <th>Mortality_rate</th>\n",
       "    </tr>\n",
       "  </thead>\n",
       "  <tbody>\n",
       "    <tr>\n",
       "      <th>0</th>\n",
       "      <td>AMI</td>\n",
       "      <td>48</td>\n",
       "      <td>6</td>\n",
       "      <td>0.125000</td>\n",
       "      <td>0.125000</td>\n",
       "    </tr>\n",
       "    <tr>\n",
       "      <th>1</th>\n",
       "      <td>Afib</td>\n",
       "      <td>11</td>\n",
       "      <td>4</td>\n",
       "      <td>0.363636</td>\n",
       "      <td>0.363636</td>\n",
       "    </tr>\n",
       "    <tr>\n",
       "      <th>2</th>\n",
       "      <td>Broken Leg</td>\n",
       "      <td>9</td>\n",
       "      <td>3</td>\n",
       "      <td>0.333333</td>\n",
       "      <td>0.333333</td>\n",
       "    </tr>\n",
       "    <tr>\n",
       "      <th>3</th>\n",
       "      <td>Diabetes</td>\n",
       "      <td>64</td>\n",
       "      <td>9</td>\n",
       "      <td>0.140625</td>\n",
       "      <td>0.140625</td>\n",
       "    </tr>\n",
       "    <tr>\n",
       "      <th>4</th>\n",
       "      <td>Fever</td>\n",
       "      <td>19</td>\n",
       "      <td>4</td>\n",
       "      <td>0.210526</td>\n",
       "      <td>0.210526</td>\n",
       "    </tr>\n",
       "    <tr>\n",
       "      <th>5</th>\n",
       "      <td>Flu</td>\n",
       "      <td>80</td>\n",
       "      <td>11</td>\n",
       "      <td>0.137500</td>\n",
       "      <td>0.137500</td>\n",
       "    </tr>\n",
       "    <tr>\n",
       "      <th>6</th>\n",
       "      <td>Heart Failure</td>\n",
       "      <td>78</td>\n",
       "      <td>16</td>\n",
       "      <td>0.205128</td>\n",
       "      <td>0.205128</td>\n",
       "    </tr>\n",
       "    <tr>\n",
       "      <th>7</th>\n",
       "      <td>Hip Fracture</td>\n",
       "      <td>23</td>\n",
       "      <td>3</td>\n",
       "      <td>0.130435</td>\n",
       "      <td>0.130435</td>\n",
       "    </tr>\n",
       "    <tr>\n",
       "      <th>8</th>\n",
       "      <td>Hypertension</td>\n",
       "      <td>50</td>\n",
       "      <td>16</td>\n",
       "      <td>0.320000</td>\n",
       "      <td>0.320000</td>\n",
       "    </tr>\n",
       "    <tr>\n",
       "      <th>9</th>\n",
       "      <td>Kidney Failure</td>\n",
       "      <td>20</td>\n",
       "      <td>2</td>\n",
       "      <td>0.100000</td>\n",
       "      <td>0.100000</td>\n",
       "    </tr>\n",
       "    <tr>\n",
       "      <th>10</th>\n",
       "      <td>Knee Replacement</td>\n",
       "      <td>23</td>\n",
       "      <td>2</td>\n",
       "      <td>0.086957</td>\n",
       "      <td>0.086957</td>\n",
       "    </tr>\n",
       "    <tr>\n",
       "      <th>11</th>\n",
       "      <td>Laceration</td>\n",
       "      <td>29</td>\n",
       "      <td>2</td>\n",
       "      <td>0.068966</td>\n",
       "      <td>0.068966</td>\n",
       "    </tr>\n",
       "    <tr>\n",
       "      <th>12</th>\n",
       "      <td>Migraine</td>\n",
       "      <td>12</td>\n",
       "      <td>1</td>\n",
       "      <td>0.083333</td>\n",
       "      <td>0.083333</td>\n",
       "    </tr>\n",
       "    <tr>\n",
       "      <th>13</th>\n",
       "      <td>Pain</td>\n",
       "      <td>7</td>\n",
       "      <td>16</td>\n",
       "      <td>2.285714</td>\n",
       "      <td>2.285714</td>\n",
       "    </tr>\n",
       "    <tr>\n",
       "      <th>14</th>\n",
       "      <td>Pneumonia</td>\n",
       "      <td>177</td>\n",
       "      <td>2</td>\n",
       "      <td>0.011299</td>\n",
       "      <td>0.011299</td>\n",
       "    </tr>\n",
       "    <tr>\n",
       "      <th>15</th>\n",
       "      <td>Spinal Cord Injury</td>\n",
       "      <td>2</td>\n",
       "      <td>7</td>\n",
       "      <td>3.500000</td>\n",
       "      <td>3.500000</td>\n",
       "    </tr>\n",
       "  </tbody>\n",
       "</table>\n",
       "</div>"
      ],
      "text/plain": [
       "      PrimaryDiagnosis  Total_count  Expired_count  Morality_rate  \\\n",
       "0                  AMI           48              6       0.125000   \n",
       "1                 Afib           11              4       0.363636   \n",
       "2           Broken Leg            9              3       0.333333   \n",
       "3             Diabetes           64              9       0.140625   \n",
       "4                Fever           19              4       0.210526   \n",
       "5                  Flu           80             11       0.137500   \n",
       "6        Heart Failure           78             16       0.205128   \n",
       "7         Hip Fracture           23              3       0.130435   \n",
       "8         Hypertension           50             16       0.320000   \n",
       "9       Kidney Failure           20              2       0.100000   \n",
       "10    Knee Replacement           23              2       0.086957   \n",
       "11          Laceration           29              2       0.068966   \n",
       "12            Migraine           12              1       0.083333   \n",
       "13                Pain            7             16       2.285714   \n",
       "14           Pneumonia          177              2       0.011299   \n",
       "15  Spinal Cord Injury            2              7       3.500000   \n",
       "\n",
       "    Mortality_rate  \n",
       "0         0.125000  \n",
       "1         0.363636  \n",
       "2         0.333333  \n",
       "3         0.140625  \n",
       "4         0.210526  \n",
       "5         0.137500  \n",
       "6         0.205128  \n",
       "7         0.130435  \n",
       "8         0.320000  \n",
       "9         0.100000  \n",
       "10        0.086957  \n",
       "11        0.068966  \n",
       "12        0.083333  \n",
       "13        2.285714  \n",
       "14        0.011299  \n",
       "15        3.500000  "
      ]
     },
     "execution_count": 240,
     "metadata": {},
     "output_type": "execute_result"
    }
   ],
   "source": [
    "Patient_count_df"
   ]
  },
  {
   "cell_type": "code",
   "execution_count": 241,
   "id": "aadf0659",
   "metadata": {},
   "outputs": [
    {
     "data": {
      "text/plain": [
       "<AxesSubplot:xlabel='PrimaryDiagnosis', ylabel='Mortality_rate'>"
      ]
     },
     "execution_count": 241,
     "metadata": {},
     "output_type": "execute_result"
    },
    {
     "data": {
      "image/png": "[encoded data removed]",
      "text/plain": [
       "<Figure size 1800x576 with 1 Axes>"
      ]
     },
     "metadata": {
      "needs_background": "light"
     },
     "output_type": "display_data"
    }
   ],
   "source": [
    "plt.figure(figsize = (25,8))\n",
    "sns.barplot(x='PrimaryDiagnosis',y='Mortality_rate',data = Patient_count_df)"
   ]
  },
  {
   "cell_type": "markdown",
   "id": "52b1615c",
   "metadata": {},
   "source": [
    "### Spinal Cord Injury has high Mortality rate"
   ]
  },
  {
   "cell_type": "code",
   "execution_count": null,
   "id": "7fe59b9c",
   "metadata": {},
   "outputs": [],
   "source": []
  },
  {
   "cell_type": "code",
   "execution_count": null,
   "id": "0f0e5c41",
   "metadata": {},
   "outputs": [],
   "source": []
  },
  {
   "cell_type": "code",
   "execution_count": null,
   "id": "ea12e656",
   "metadata": {},
   "outputs": [],
   "source": []
  },
  {
   "cell_type": "code",
   "execution_count": null,
   "id": "8d406b1b",
   "metadata": {},
   "outputs": [],
   "source": []
  },
  {
   "cell_type": "code",
   "execution_count": null,
   "id": "0cc51413",
   "metadata": {},
   "outputs": [],
   "source": []
  },
  {
   "cell_type": "code",
   "execution_count": null,
   "id": "21caea98",
   "metadata": {},
   "outputs": [],
   "source": []
  },
  {
   "cell_type": "code",
   "execution_count": null,
   "id": "afd4ec1c",
   "metadata": {},
   "outputs": [],
   "source": []
  },
  {
   "cell_type": "code",
   "execution_count": null,
   "id": "5fedaccf",
   "metadata": {},
   "outputs": [],
   "source": []
  },
  {
   "cell_type": "code",
   "execution_count": null,
   "id": "239feabc",
   "metadata": {},
   "outputs": [],
   "source": []
  },
  {
   "cell_type": "code",
   "execution_count": null,
   "id": "25abbc91",
   "metadata": {},
   "outputs": [],
   "source": []
  },
  {
   "cell_type": "code",
   "execution_count": null,
   "id": "ccb43a50",
   "metadata": {},
   "outputs": [],
   "source": []
  },
  {
   "cell_type": "code",
   "execution_count": null,
   "id": "bc4fe5c3",
   "metadata": {},
   "outputs": [],
   "source": []
  },
  {
   "cell_type": "code",
   "execution_count": null,
   "id": "de57c766",
   "metadata": {},
   "outputs": [],
   "source": []
  },
  {
   "cell_type": "code",
   "execution_count": null,
   "id": "c505f4dc",
   "metadata": {},
   "outputs": [],
   "source": []
  },
  {
   "cell_type": "code",
   "execution_count": null,
   "id": "33c0d26d",
   "metadata": {},
   "outputs": [],
   "source": []
  },
  {
   "cell_type": "code",
   "execution_count": null,
   "id": "f45c23b6",
   "metadata": {},
   "outputs": [],
   "source": []
  },
  {
   "cell_type": "code",
   "execution_count": null,
   "id": "db5be7e2",
   "metadata": {},
   "outputs": [],
   "source": []
  },
  {
   "cell_type": "code",
   "execution_count": null,
   "id": "f8ffaca9",
   "metadata": {},
   "outputs": [],
   "source": []
  },
  {
   "cell_type": "code",
   "execution_count": null,
   "id": "bb375a8e",
   "metadata": {},
   "outputs": [],
   "source": []
  },
  {
   "cell_type": "code",
   "execution_count": null,
   "id": "d16b5935",
   "metadata": {},
   "outputs": [],
   "source": []
  },
  {
   "cell_type": "code",
   "execution_count": null,
   "id": "8510dbba",
   "metadata": {},
   "outputs": [],
   "source": []
  },
  {
   "cell_type": "code",
   "execution_count": null,
   "id": "f9afc0c8",
   "metadata": {},
   "outputs": [],
   "source": []
  },
  {
   "cell_type": "code",
   "execution_count": null,
   "id": "6a12fbf9",
   "metadata": {},
   "outputs": [],
   "source": []
  },
  {
   "cell_type": "code",
   "execution_count": null,
   "id": "781d2125",
   "metadata": {},
   "outputs": [],
   "source": []
  },
  {
   "cell_type": "code",
   "execution_count": null,
   "id": "a1aa420d",
   "metadata": {},
   "outputs": [],
   "source": []
  },
  {
   "cell_type": "code",
   "execution_count": null,
   "id": "152b59de",
   "metadata": {},
   "outputs": [],
   "source": []
  },
  {
   "cell_type": "code",
   "execution_count": null,
   "id": "7a59595a",
   "metadata": {},
   "outputs": [],
   "source": []
  },
  {
   "cell_type": "code",
   "execution_count": null,
   "id": "07d3cd12",
   "metadata": {},
   "outputs": [],
   "source": []
  },
  {
   "cell_type": "code",
   "execution_count": null,
   "id": "ee69b0c5",
   "metadata": {},
   "outputs": [],
   "source": []
  },
  {
   "cell_type": "code",
   "execution_count": null,
   "id": "0e7ae31a",
   "metadata": {},
   "outputs": [],
   "source": []
  },
  {
   "cell_type": "code",
   "execution_count": null,
   "id": "7046b0c1",
   "metadata": {},
   "outputs": [],
   "source": []
  },
  {
   "cell_type": "code",
   "execution_count": null,
   "id": "71e45261",
   "metadata": {},
   "outputs": [],
   "source": []
  },
  {
   "cell_type": "code",
   "execution_count": null,
   "id": "f480abd9",
   "metadata": {},
   "outputs": [],
   "source": []
  },
  {
   "cell_type": "code",
   "execution_count": null,
   "id": "64849eaf",
   "metadata": {},
   "outputs": [],
   "source": []
  },
  {
   "cell_type": "code",
   "execution_count": null,
   "id": "90f242df",
   "metadata": {},
   "outputs": [],
   "source": []
  },
  {
   "cell_type": "code",
   "execution_count": null,
   "id": "c2de9c61",
   "metadata": {},
   "outputs": [],
   "source": []
  },
  {
   "cell_type": "code",
   "execution_count": null,
   "id": "d953dfec",
   "metadata": {},
   "outputs": [],
   "source": []
  },
  {
   "cell_type": "code",
   "execution_count": null,
   "id": "c3f32834",
   "metadata": {},
   "outputs": [],
   "source": []
  },
  {
   "cell_type": "code",
   "execution_count": null,
   "id": "844a4f83",
   "metadata": {},
   "outputs": [],
   "source": []
  },
  {
   "cell_type": "code",
   "execution_count": null,
   "id": "555c9d8d",
   "metadata": {},
   "outputs": [],
   "source": []
  },
  {
   "cell_type": "code",
   "execution_count": null,
   "id": "baeb9f59",
   "metadata": {},
   "outputs": [],
   "source": []
  },
  {
   "cell_type": "code",
   "execution_count": null,
   "id": "feb6c116",
   "metadata": {},
   "outputs": [],
   "source": []
  },
  {
   "cell_type": "code",
   "execution_count": null,
   "id": "6b248245",
   "metadata": {},
   "outputs": [],
   "source": []
  },
  {
   "cell_type": "code",
   "execution_count": null,
   "id": "111daded",
   "metadata": {},
   "outputs": [],
   "source": []
  },
  {
   "cell_type": "code",
   "execution_count": null,
   "id": "f850a1fa",
   "metadata": {},
   "outputs": [],
   "source": []
  },
  {
   "cell_type": "code",
   "execution_count": null,
   "id": "91904169",
   "metadata": {},
   "outputs": [],
   "source": []
  },
  {
   "cell_type": "code",
   "execution_count": null,
   "id": "b3fbe5d8",
   "metadata": {},
   "outputs": [],
   "source": []
  },
  {
   "cell_type": "code",
   "execution_count": null,
   "id": "45932ad7",
   "metadata": {},
   "outputs": [],
   "source": []
  },
  {
   "cell_type": "code",
   "execution_count": null,
   "id": "2d40a481",
   "metadata": {},
   "outputs": [],
   "source": []
  },
  {
   "cell_type": "code",
   "execution_count": null,
   "id": "6cef6345",
   "metadata": {},
   "outputs": [],
   "source": []
  },
  {
   "cell_type": "code",
   "execution_count": null,
   "id": "8a339cc8",
   "metadata": {},
   "outputs": [],
   "source": []
  },
  {
   "cell_type": "code",
   "execution_count": null,
   "id": "12c5cee8",
   "metadata": {},
   "outputs": [],
   "source": []
  },
  {
   "cell_type": "code",
   "execution_count": null,
   "id": "c1c5a026",
   "metadata": {},
   "outputs": [],
   "source": []
  },
  {
   "cell_type": "code",
   "execution_count": null,
   "id": "bb71313e",
   "metadata": {},
   "outputs": [],
   "source": []
  },
  {
   "cell_type": "code",
   "execution_count": null,
   "id": "6e077537",
   "metadata": {},
   "outputs": [],
   "source": []
  },
  {
   "cell_type": "code",
   "execution_count": null,
   "id": "1056d015",
   "metadata": {},
   "outputs": [],
   "source": []
  },
  {
   "cell_type": "code",
   "execution_count": null,
   "id": "1fd1c1da",
   "metadata": {},
   "outputs": [],
   "source": []
  },
  {
   "cell_type": "code",
   "execution_count": null,
   "id": "1d311fd4",
   "metadata": {},
   "outputs": [],
   "source": []
  },
  {
   "cell_type": "code",
   "execution_count": null,
   "id": "dcf82e23",
   "metadata": {},
   "outputs": [],
   "source": []
  },
  {
   "cell_type": "code",
   "execution_count": null,
   "id": "d56e8e7b",
   "metadata": {},
   "outputs": [],
   "source": []
  },
  {
   "cell_type": "code",
   "execution_count": null,
   "id": "ba1221f1",
   "metadata": {},
   "outputs": [],
   "source": []
  },
  {
   "cell_type": "code",
   "execution_count": null,
   "id": "73705130",
   "metadata": {},
   "outputs": [],
   "source": []
  },
  {
   "cell_type": "code",
   "execution_count": null,
   "id": "40508e91",
   "metadata": {},
   "outputs": [],
   "source": []
  },
  {
   "cell_type": "code",
   "execution_count": null,
   "id": "988b8dd2",
   "metadata": {},
   "outputs": [],
   "source": []
  },
  {
   "cell_type": "code",
   "execution_count": null,
   "id": "07576dde",
   "metadata": {},
   "outputs": [],
   "source": []
  },
  {
   "cell_type": "code",
   "execution_count": null,
   "id": "bdaa14ef",
   "metadata": {},
   "outputs": [],
   "source": []
  },
  {
   "cell_type": "code",
   "execution_count": null,
   "id": "706fa0ad",
   "metadata": {},
   "outputs": [],
   "source": []
  },
  {
   "cell_type": "code",
   "execution_count": null,
   "id": "eb13a4f7",
   "metadata": {},
   "outputs": [],
   "source": []
  },
  {
   "cell_type": "code",
   "execution_count": null,
   "id": "e7f260cb",
   "metadata": {},
   "outputs": [],
   "source": []
  },
  {
   "cell_type": "code",
   "execution_count": null,
   "id": "b5f3a9ff",
   "metadata": {},
   "outputs": [],
   "source": []
  },
  {
   "cell_type": "code",
   "execution_count": null,
   "id": "f89f975d",
   "metadata": {},
   "outputs": [],
   "source": []
  },
  {
   "cell_type": "code",
   "execution_count": null,
   "id": "8cf4eac4",
   "metadata": {},
   "outputs": [],
   "source": []
  },
  {
   "cell_type": "code",
   "execution_count": null,
   "id": "19928ab6",
   "metadata": {},
   "outputs": [],
   "source": []
  },
  {
   "cell_type": "code",
   "execution_count": null,
   "id": "fbea9c00",
   "metadata": {},
   "outputs": [],
   "source": []
  },
  {
   "cell_type": "code",
   "execution_count": null,
   "id": "fba1527d",
   "metadata": {},
   "outputs": [],
   "source": []
  },
  {
   "cell_type": "code",
   "execution_count": null,
   "id": "a409bf0b",
   "metadata": {},
   "outputs": [],
   "source": []
  },
  {
   "cell_type": "code",
   "execution_count": null,
   "id": "1eb06817",
   "metadata": {},
   "outputs": [],
   "source": []
  },
  {
   "cell_type": "code",
   "execution_count": null,
   "id": "f42345da",
   "metadata": {},
   "outputs": [],
   "source": []
  },
  {
   "cell_type": "code",
   "execution_count": null,
   "id": "226a7144",
   "metadata": {},
   "outputs": [],
   "source": []
  },
  {
   "cell_type": "code",
   "execution_count": null,
   "id": "952db60c",
   "metadata": {},
   "outputs": [],
   "source": []
  },
  {
   "cell_type": "code",
   "execution_count": null,
   "id": "03218d2d",
   "metadata": {},
   "outputs": [],
   "source": []
  },
  {
   "cell_type": "code",
   "execution_count": null,
   "id": "09f6e8b3",
   "metadata": {},
   "outputs": [],
   "source": []
  },
  {
   "cell_type": "code",
   "execution_count": null,
   "id": "e448439d",
   "metadata": {},
   "outputs": [],
   "source": []
  },
  {
   "cell_type": "code",
   "execution_count": null,
   "id": "c458e004",
   "metadata": {},
   "outputs": [],
   "source": []
  },
  {
   "cell_type": "code",
   "execution_count": null,
   "id": "dce48f8d",
   "metadata": {},
   "outputs": [],
   "source": []
  },
  {
   "cell_type": "code",
   "execution_count": null,
   "id": "1bfad00f",
   "metadata": {},
   "outputs": [],
   "source": []
  },
  {
   "cell_type": "code",
   "execution_count": null,
   "id": "090596b0",
   "metadata": {},
   "outputs": [],
   "source": []
  },
  {
   "cell_type": "code",
   "execution_count": null,
   "id": "bc5378c3",
   "metadata": {},
   "outputs": [],
   "source": []
  },
  {
   "cell_type": "code",
   "execution_count": null,
   "id": "117bd320",
   "metadata": {},
   "outputs": [],
   "source": []
  },
  {
   "cell_type": "code",
   "execution_count": null,
   "id": "1b88e4a0",
   "metadata": {},
   "outputs": [],
   "source": []
  },
  {
   "cell_type": "code",
   "execution_count": null,
   "id": "ccc22e26",
   "metadata": {},
   "outputs": [],
   "source": []
  },
  {
   "cell_type": "code",
   "execution_count": null,
   "id": "c3529747",
   "metadata": {},
   "outputs": [],
   "source": []
  },
  {
   "cell_type": "code",
   "execution_count": null,
   "id": "bca59f5b",
   "metadata": {},
   "outputs": [],
   "source": []
  },
  {
   "cell_type": "code",
   "execution_count": null,
   "id": "2ab6144e",
   "metadata": {},
   "outputs": [],
   "source": []
  },
  {
   "cell_type": "code",
   "execution_count": null,
   "id": "47ab33b7",
   "metadata": {},
   "outputs": [],
   "source": []
  },
  {
   "cell_type": "code",
   "execution_count": null,
   "id": "c62461c2",
   "metadata": {},
   "outputs": [],
   "source": []
  },
  {
   "cell_type": "code",
   "execution_count": null,
   "id": "700491cb",
   "metadata": {},
   "outputs": [],
   "source": []
  },
  {
   "cell_type": "code",
   "execution_count": null,
   "id": "4395091c",
   "metadata": {},
   "outputs": [],
   "source": []
  },
  {
   "cell_type": "code",
   "execution_count": null,
   "id": "b11ca0a1",
   "metadata": {},
   "outputs": [],
   "source": []
  },
  {
   "cell_type": "code",
   "execution_count": null,
   "id": "47bc480a",
   "metadata": {},
   "outputs": [],
   "source": []
  },
  {
   "cell_type": "code",
   "execution_count": null,
   "id": "5b28b886",
   "metadata": {},
   "outputs": [],
   "source": []
  },
  {
   "cell_type": "code",
   "execution_count": null,
   "id": "a6beccce",
   "metadata": {},
   "outputs": [],
   "source": []
  },
  {
   "cell_type": "code",
   "execution_count": null,
   "id": "834f86d5",
   "metadata": {},
   "outputs": [],
   "source": []
  },
  {
   "cell_type": "code",
   "execution_count": null,
   "id": "fbb43033",
   "metadata": {},
   "outputs": [],
   "source": []
  },
  {
   "cell_type": "code",
   "execution_count": null,
   "id": "6ec13f9b",
   "metadata": {},
   "outputs": [],
   "source": []
  },
  {
   "cell_type": "code",
   "execution_count": null,
   "id": "2cc2672d",
   "metadata": {},
   "outputs": [],
   "source": []
  },
  {
   "cell_type": "code",
   "execution_count": null,
   "id": "2ba89cc2",
   "metadata": {},
   "outputs": [],
   "source": []
  },
  {
   "cell_type": "code",
   "execution_count": null,
   "id": "4d4fdf43",
   "metadata": {},
   "outputs": [],
   "source": []
  },
  {
   "cell_type": "code",
   "execution_count": null,
   "id": "022ffbb4",
   "metadata": {},
   "outputs": [],
   "source": []
  },
  {
   "cell_type": "code",
   "execution_count": null,
   "id": "a5216390",
   "metadata": {},
   "outputs": [],
   "source": []
  },
  {
   "cell_type": "code",
   "execution_count": null,
   "id": "dd49b1d9",
   "metadata": {},
   "outputs": [],
   "source": []
  },
  {
   "cell_type": "code",
   "execution_count": null,
   "id": "2c6f885a",
   "metadata": {},
   "outputs": [],
   "source": []
  },
  {
   "cell_type": "code",
   "execution_count": null,
   "id": "6cca19c0",
   "metadata": {},
   "outputs": [],
   "source": []
  },
  {
   "cell_type": "code",
   "execution_count": null,
   "id": "91431bd9",
   "metadata": {},
   "outputs": [],
   "source": []
  },
  {
   "cell_type": "code",
   "execution_count": null,
   "id": "acc4d71a",
   "metadata": {},
   "outputs": [],
   "source": []
  },
  {
   "cell_type": "code",
   "execution_count": null,
   "id": "34343968",
   "metadata": {},
   "outputs": [],
   "source": []
  },
  {
   "cell_type": "code",
   "execution_count": null,
   "id": "4706e7c5",
   "metadata": {},
   "outputs": [],
   "source": []
  },
  {
   "cell_type": "code",
   "execution_count": null,
   "id": "b116d71a",
   "metadata": {},
   "outputs": [],
   "source": []
  },
  {
   "cell_type": "code",
   "execution_count": null,
   "id": "a3dac55b",
   "metadata": {},
   "outputs": [],
   "source": []
  },
  {
   "cell_type": "code",
   "execution_count": null,
   "id": "6b10f662",
   "metadata": {},
   "outputs": [],
   "source": []
  },
  {
   "cell_type": "code",
   "execution_count": null,
   "id": "54421c1e",
   "metadata": {},
   "outputs": [],
   "source": []
  },
  {
   "cell_type": "code",
   "execution_count": null,
   "id": "2a342eaf",
   "metadata": {},
   "outputs": [],
   "source": []
  },
  {
   "cell_type": "code",
   "execution_count": null,
   "id": "31555fc3",
   "metadata": {},
   "outputs": [],
   "source": []
  },
  {
   "cell_type": "code",
   "execution_count": null,
   "id": "5e9118a5",
   "metadata": {},
   "outputs": [],
   "source": []
  },
  {
   "cell_type": "code",
   "execution_count": null,
   "id": "8f6f4014",
   "metadata": {},
   "outputs": [],
   "source": []
  },
  {
   "cell_type": "code",
   "execution_count": null,
   "id": "a22de5a5",
   "metadata": {},
   "outputs": [],
   "source": []
  },
  {
   "cell_type": "code",
   "execution_count": null,
   "id": "88780e32",
   "metadata": {},
   "outputs": [],
   "source": []
  },
  {
   "cell_type": "code",
   "execution_count": null,
   "id": "b0a1fe00",
   "metadata": {},
   "outputs": [],
   "source": []
  },
  {
   "cell_type": "code",
   "execution_count": null,
   "id": "b39bab3a",
   "metadata": {},
   "outputs": [],
   "source": []
  },
  {
   "cell_type": "code",
   "execution_count": null,
   "id": "8cf5bc12",
   "metadata": {},
   "outputs": [],
   "source": []
  },
  {
   "cell_type": "code",
   "execution_count": null,
   "id": "35a2fd37",
   "metadata": {},
   "outputs": [],
   "source": []
  },
  {
   "cell_type": "code",
   "execution_count": null,
   "id": "1cc1c71e",
   "metadata": {},
   "outputs": [],
   "source": []
  },
  {
   "cell_type": "code",
   "execution_count": null,
   "id": "6dc96daa",
   "metadata": {},
   "outputs": [],
   "source": []
  },
  {
   "cell_type": "code",
   "execution_count": null,
   "id": "417f83f0",
   "metadata": {},
   "outputs": [],
   "source": []
  },
  {
   "cell_type": "code",
   "execution_count": null,
   "id": "5fdb2b91",
   "metadata": {},
   "outputs": [],
   "source": []
  },
  {
   "cell_type": "code",
   "execution_count": null,
   "id": "b49274a3",
   "metadata": {},
   "outputs": [],
   "source": []
  },
  {
   "cell_type": "code",
   "execution_count": null,
   "id": "5d090103",
   "metadata": {},
   "outputs": [],
   "source": []
  },
  {
   "cell_type": "code",
   "execution_count": null,
   "id": "fcf52d58",
   "metadata": {},
   "outputs": [],
   "source": []
  },
  {
   "cell_type": "code",
   "execution_count": null,
   "id": "ee55dffd",
   "metadata": {},
   "outputs": [],
   "source": []
  },
  {
   "cell_type": "code",
   "execution_count": null,
   "id": "b06ed750",
   "metadata": {},
   "outputs": [],
   "source": []
  },
  {
   "cell_type": "code",
   "execution_count": null,
   "id": "38130d6b",
   "metadata": {},
   "outputs": [],
   "source": []
  },
  {
   "cell_type": "code",
   "execution_count": null,
   "id": "36585625",
   "metadata": {},
   "outputs": [],
   "source": []
  },
  {
   "cell_type": "code",
   "execution_count": null,
   "id": "668ee9d6",
   "metadata": {},
   "outputs": [],
   "source": []
  },
  {
   "cell_type": "code",
   "execution_count": null,
   "id": "0145d122",
   "metadata": {},
   "outputs": [],
   "source": []
  },
  {
   "cell_type": "code",
   "execution_count": null,
   "id": "ca41690b",
   "metadata": {},
   "outputs": [],
   "source": []
  },
  {
   "cell_type": "code",
   "execution_count": null,
   "id": "94fc2882",
   "metadata": {},
   "outputs": [],
   "source": []
  },
  {
   "cell_type": "code",
   "execution_count": null,
   "id": "8d9e9ff6",
   "metadata": {},
   "outputs": [],
   "source": []
  },
  {
   "cell_type": "code",
   "execution_count": null,
   "id": "7e125d41",
   "metadata": {},
   "outputs": [],
   "source": []
  },
  {
   "cell_type": "code",
   "execution_count": null,
   "id": "e13905bb",
   "metadata": {},
   "outputs": [],
   "source": []
  },
  {
   "cell_type": "code",
   "execution_count": null,
   "id": "d8b285d4",
   "metadata": {},
   "outputs": [],
   "source": []
  },
  {
   "cell_type": "code",
   "execution_count": null,
   "id": "207df96f",
   "metadata": {},
   "outputs": [],
   "source": []
  },
  {
   "cell_type": "code",
   "execution_count": null,
   "id": "5d560c0b",
   "metadata": {},
   "outputs": [],
   "source": []
  },
  {
   "cell_type": "code",
   "execution_count": null,
   "id": "2b9fc58a",
   "metadata": {},
   "outputs": [],
   "source": []
  },
  {
   "cell_type": "code",
   "execution_count": null,
   "id": "f87b7625",
   "metadata": {},
   "outputs": [],
   "source": []
  },
  {
   "cell_type": "code",
   "execution_count": null,
   "id": "733058c7",
   "metadata": {},
   "outputs": [],
   "source": []
  },
  {
   "cell_type": "code",
   "execution_count": null,
   "id": "6d666613",
   "metadata": {},
   "outputs": [],
   "source": []
  },
  {
   "cell_type": "code",
   "execution_count": null,
   "id": "44db5250",
   "metadata": {},
   "outputs": [],
   "source": []
  },
  {
   "cell_type": "code",
   "execution_count": null,
   "id": "6b9e4eec",
   "metadata": {},
   "outputs": [],
   "source": []
  },
  {
   "cell_type": "code",
   "execution_count": null,
   "id": "633e8be8",
   "metadata": {},
   "outputs": [],
   "source": []
  },
  {
   "cell_type": "code",
   "execution_count": null,
   "id": "19335192",
   "metadata": {},
   "outputs": [],
   "source": []
  },
  {
   "cell_type": "code",
   "execution_count": null,
   "id": "360c393f",
   "metadata": {},
   "outputs": [],
   "source": []
  },
  {
   "cell_type": "code",
   "execution_count": null,
   "id": "b2d3d2c6",
   "metadata": {},
   "outputs": [],
   "source": []
  },
  {
   "cell_type": "code",
   "execution_count": null,
   "id": "b076b337",
   "metadata": {},
   "outputs": [],
   "source": []
  },
  {
   "cell_type": "code",
   "execution_count": null,
   "id": "adbc46c3",
   "metadata": {},
   "outputs": [],
   "source": []
  },
  {
   "cell_type": "code",
   "execution_count": null,
   "id": "9526546b",
   "metadata": {},
   "outputs": [],
   "source": []
  },
  {
   "cell_type": "code",
   "execution_count": null,
   "id": "3295ffa1",
   "metadata": {},
   "outputs": [],
   "source": []
  },
  {
   "cell_type": "code",
   "execution_count": null,
   "id": "4918f50e",
   "metadata": {},
   "outputs": [],
   "source": []
  },
  {
   "cell_type": "code",
   "execution_count": null,
   "id": "901967e0",
   "metadata": {},
   "outputs": [],
   "source": []
  },
  {
   "cell_type": "code",
   "execution_count": null,
   "id": "4e931c97",
   "metadata": {},
   "outputs": [],
   "source": []
  },
  {
   "cell_type": "code",
   "execution_count": null,
   "id": "bb084e87",
   "metadata": {},
   "outputs": [],
   "source": []
  },
  {
   "cell_type": "code",
   "execution_count": null,
   "id": "d38418b5",
   "metadata": {},
   "outputs": [],
   "source": []
  },
  {
   "cell_type": "code",
   "execution_count": null,
   "id": "be6d6bfd",
   "metadata": {},
   "outputs": [],
   "source": []
  },
  {
   "cell_type": "code",
   "execution_count": null,
   "id": "1b9600d3",
   "metadata": {},
   "outputs": [],
   "source": []
  },
  {
   "cell_type": "code",
   "execution_count": null,
   "id": "b85edc28",
   "metadata": {},
   "outputs": [],
   "source": []
  },
  {
   "cell_type": "code",
   "execution_count": null,
   "id": "77ddf338",
   "metadata": {},
   "outputs": [],
   "source": []
  },
  {
   "cell_type": "code",
   "execution_count": null,
   "id": "ec17c309",
   "metadata": {},
   "outputs": [],
   "source": []
  },
  {
   "cell_type": "code",
   "execution_count": null,
   "id": "0a53e4d3",
   "metadata": {},
   "outputs": [],
   "source": []
  },
  {
   "cell_type": "code",
   "execution_count": null,
   "id": "f61f3376",
   "metadata": {},
   "outputs": [],
   "source": []
  },
  {
   "cell_type": "code",
   "execution_count": null,
   "id": "67e9c6ef",
   "metadata": {},
   "outputs": [],
   "source": []
  },
  {
   "cell_type": "code",
   "execution_count": null,
   "id": "0cf791cb",
   "metadata": {},
   "outputs": [],
   "source": []
  },
  {
   "cell_type": "code",
   "execution_count": null,
   "id": "3f37cec9",
   "metadata": {},
   "outputs": [],
   "source": []
  },
  {
   "cell_type": "code",
   "execution_count": null,
   "id": "974ad6fe",
   "metadata": {},
   "outputs": [],
   "source": []
  }
 ],
 "metadata": {
  "kernelspec": {
   "display_name": "Python 3 (ipykernel)",
   "language": "python",
   "name": "python3"
  },
  "language_info": {
   "codemirror_mode": {
    "name": "ipython",
    "version": 3
   },
   "file_extension": ".py",
   "mimetype": "text/x-python",
   "name": "python",
   "nbconvert_exporter": "python",
   "pygments_lexer": "ipython3",
   "version": "3.9.12"
  }
 },
 "nbformat": 4,
 "nbformat_minor": 5
}